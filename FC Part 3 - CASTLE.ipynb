{
 "cells": [
  {
   "cell_type": "code",
   "execution_count": 1,
   "metadata": {},
   "outputs": [
    {
     "output_type": "stream",
     "name": "stderr",
     "text": [
      "/homes/fr920/.local/lib/python3.6/site-packages/tensorflow/python/framework/dtypes.py:516: FutureWarning: Passing (type, 1) or '1type' as a synonym of type is deprecated; in a future version of numpy, it will be understood as (type, (1,)) / '(1,)type'.\n",
      "  _np_qint8 = np.dtype([(\"qint8\", np.int8, 1)])\n",
      "/homes/fr920/.local/lib/python3.6/site-packages/tensorflow/python/framework/dtypes.py:517: FutureWarning: Passing (type, 1) or '1type' as a synonym of type is deprecated; in a future version of numpy, it will be understood as (type, (1,)) / '(1,)type'.\n",
      "  _np_quint8 = np.dtype([(\"quint8\", np.uint8, 1)])\n",
      "/homes/fr920/.local/lib/python3.6/site-packages/tensorflow/python/framework/dtypes.py:518: FutureWarning: Passing (type, 1) or '1type' as a synonym of type is deprecated; in a future version of numpy, it will be understood as (type, (1,)) / '(1,)type'.\n",
      "  _np_qint16 = np.dtype([(\"qint16\", np.int16, 1)])\n",
      "/homes/fr920/.local/lib/python3.6/site-packages/tensorflow/python/framework/dtypes.py:519: FutureWarning: Passing (type, 1) or '1type' as a synonym of type is deprecated; in a future version of numpy, it will be understood as (type, (1,)) / '(1,)type'.\n",
      "  _np_quint16 = np.dtype([(\"quint16\", np.uint16, 1)])\n",
      "/homes/fr920/.local/lib/python3.6/site-packages/tensorflow/python/framework/dtypes.py:520: FutureWarning: Passing (type, 1) or '1type' as a synonym of type is deprecated; in a future version of numpy, it will be understood as (type, (1,)) / '(1,)type'.\n",
      "  _np_qint32 = np.dtype([(\"qint32\", np.int32, 1)])\n",
      "/homes/fr920/.local/lib/python3.6/site-packages/tensorflow/python/framework/dtypes.py:525: FutureWarning: Passing (type, 1) or '1type' as a synonym of type is deprecated; in a future version of numpy, it will be understood as (type, (1,)) / '(1,)type'.\n",
      "  np_resource = np.dtype([(\"resource\", np.ubyte, 1)])\n",
      "/homes/fr920/.local/lib/python3.6/site-packages/tensorboard/compat/tensorflow_stub/dtypes.py:541: FutureWarning: Passing (type, 1) or '1type' as a synonym of type is deprecated; in a future version of numpy, it will be understood as (type, (1,)) / '(1,)type'.\n",
      "  _np_qint8 = np.dtype([(\"qint8\", np.int8, 1)])\n",
      "/homes/fr920/.local/lib/python3.6/site-packages/tensorboard/compat/tensorflow_stub/dtypes.py:542: FutureWarning: Passing (type, 1) or '1type' as a synonym of type is deprecated; in a future version of numpy, it will be understood as (type, (1,)) / '(1,)type'.\n",
      "  _np_quint8 = np.dtype([(\"quint8\", np.uint8, 1)])\n",
      "/homes/fr920/.local/lib/python3.6/site-packages/tensorboard/compat/tensorflow_stub/dtypes.py:543: FutureWarning: Passing (type, 1) or '1type' as a synonym of type is deprecated; in a future version of numpy, it will be understood as (type, (1,)) / '(1,)type'.\n",
      "  _np_qint16 = np.dtype([(\"qint16\", np.int16, 1)])\n",
      "/homes/fr920/.local/lib/python3.6/site-packages/tensorboard/compat/tensorflow_stub/dtypes.py:544: FutureWarning: Passing (type, 1) or '1type' as a synonym of type is deprecated; in a future version of numpy, it will be understood as (type, (1,)) / '(1,)type'.\n",
      "  _np_quint16 = np.dtype([(\"quint16\", np.uint16, 1)])\n",
      "/homes/fr920/.local/lib/python3.6/site-packages/tensorboard/compat/tensorflow_stub/dtypes.py:545: FutureWarning: Passing (type, 1) or '1type' as a synonym of type is deprecated; in a future version of numpy, it will be understood as (type, (1,)) / '(1,)type'.\n",
      "  _np_qint32 = np.dtype([(\"qint32\", np.int32, 1)])\n",
      "/homes/fr920/.local/lib/python3.6/site-packages/tensorboard/compat/tensorflow_stub/dtypes.py:550: FutureWarning: Passing (type, 1) or '1type' as a synonym of type is deprecated; in a future version of numpy, it will be understood as (type, (1,)) / '(1,)type'.\n",
      "  np_resource = np.dtype([(\"resource\", np.ubyte, 1)])\n",
      "WARNING:tensorflow:From /homes/fr920/.local/lib/python3.6/site-packages/tensorflow/python/compat/v2_compat.py:61: disable_resource_variables (from tensorflow.python.ops.variable_scope) is deprecated and will be removed in a future version.\n",
      "Instructions for updating:\n",
      "non-resource variables are not supported in the long term\n",
      "1.14.0\n"
     ]
    }
   ],
   "source": [
    "import numpy as np\n",
    "np.set_printoptions(suppress=True)\n",
    "import networkx as nx\n",
    "import random\n",
    "import pandas as pd\n",
    "#import tensorflow as tf\n",
    "#Disable TensorFlow 2 behaviour\n",
    "from sklearn.model_selection import KFold  \n",
    "from sklearn.preprocessing import StandardScaler \n",
    "from sklearn import preprocessing\n",
    "import tensorflow.compat.v1 as tf\n",
    "tf.disable_v2_behavior() \n",
    "import os\n",
    "from sklearn.metrics import mean_squared_error\n",
    "from CASTLE_class import CASTLE\n",
    "from signal import signal, SIGINT\n",
    "from sys import exit\n",
    "import argparse\n",
    "import datetime\n",
    "\n",
    "from modules.utils import *\n",
    "\n",
    "from sklearn.metrics import classification_report,accuracy_score, roc_auc_score\n",
    "from sklearn.model_selection import cross_val_score, train_test_split\n",
    "\n",
    "print(tf.__version__)"
   ]
  },
  {
   "cell_type": "code",
   "execution_count": 2,
   "metadata": {},
   "outputs": [
    {
     "output_type": "stream",
     "name": "stdout",
     "text": [
      "Random seed 0 set for:\n",
      " - PYTHONHASHSEED (env)\n",
      " - random\n",
      " - NumPy\n",
      "WARNING:tensorflow:From /vol/bitbucket/fr920/FICOchallenge/modules/utils.py:82: The name tf.set_random_seed is deprecated. Please use tf.compat.v1.set_random_seed instead.\n",
      "\n",
      " - TensorFlow\n",
      "WARNING:tensorflow:From /vol/bitbucket/fr920/FICOchallenge/modules/utils.py:88: The name tf.ConfigProto is deprecated. Please use tf.compat.v1.ConfigProto instead.\n",
      "\n",
      "WARNING:tensorflow:From /vol/bitbucket/fr920/FICOchallenge/modules/utils.py:92: The name tf.Session is deprecated. Please use tf.compat.v1.Session instead.\n",
      "\n",
      "WARNING:tensorflow:From /vol/bitbucket/fr920/FICOchallenge/modules/utils.py:92: The name tf.get_default_graph is deprecated. Please use tf.compat.v1.get_default_graph instead.\n",
      "\n",
      " - Keras\n",
      "   -> deterministic\n",
      "Using TensorFlow backend.\n",
      " - PyTorch\n",
      "   -> deterministic\n"
     ]
    }
   ],
   "source": [
    "random_stability()"
   ]
  },
  {
   "cell_type": "code",
   "execution_count": 3,
   "metadata": {},
   "outputs": [
    {
     "output_type": "stream",
     "name": "stdout",
     "text": [
      "(7844, 24) (2615, 24) (7844,) (2615,)\n"
     ]
    }
   ],
   "source": [
    "csv = \"../data/fico/WOE_Rud_data.csv\"\n",
    "# csv = \"synth_nonlinear.csv\"\n",
    "df = pd.read_csv(csv)\n",
    "\n",
    "dataset_sz = 5000\n",
    "# df_test = df.iloc[-1000:]\n",
    "# df = df.iloc[:dataset_sz]\n",
    "\n",
    "y = pd.read_csv(\"../data/fico/y_data.csv\")\n",
    "CLASS = 'RiskPerformance'\n",
    "df.insert(loc=0, column=CLASS, value=pd.get_dummies(y[CLASS])[['Bad']]  )    \n",
    "\n",
    "X_train, X_test, y_train, y_test = train_test_split(df, df[CLASS], test_size = .25, random_state = 2020, shuffle = True)\n",
    "print(X_train.shape, X_test.shape, y_train.shape, y_test.shape)"
   ]
  },
  {
   "cell_type": "code",
   "execution_count": 4,
   "metadata": {},
   "outputs": [],
   "source": [
    "# for col in df.columns:\n",
    "#        print(df[col].unique()) \n",
    "        \n",
    "# df_string =  df.copy()\n",
    "# df_string = df_string - df_string.min()\n",
    "# df_string = df_string.astype(str)\n",
    "\n",
    "# for col in df_string.columns:\n",
    "#     print(sorted(list(df_string[col].unique())))"
   ]
  },
  {
   "cell_type": "code",
   "execution_count": 5,
   "metadata": {},
   "outputs": [],
   "source": [
    "# df['0'] = [int(i > .5) for i in preprocessing.scale(df['0'])]"
   ]
  },
  {
   "cell_type": "code",
   "execution_count": 6,
   "metadata": {},
   "outputs": [],
   "source": [
    "# df['0'].describe()"
   ]
  },
  {
   "cell_type": "code",
   "execution_count": 7,
   "metadata": {
    "scrolled": true
   },
   "outputs": [],
   "source": [
    "run_kf = False\n",
    "if run_kf:\n",
    "    scaler = StandardScaler()\n",
    "#     X_train_scaled = scaler.fit_transform(X_train)\n",
    "#     X_test_scaled = scaler.transform(X_test)\n",
    "    X_train_scaled = X_train.to_numpy()\n",
    "    X_test_scaled = X_test.to_numpy()\n",
    "\n",
    "    X_DAG = X_train_scaled\n",
    "\n",
    "    n_folds = 5\n",
    "    kf = KFold(n_splits = n_folds, random_state = 1, shuffle = True)\n",
    "\n",
    "    print(\"Dataset limits are\", np.ptp(X_DAG), np.ptp(X_test), np.ptp(y_test))\n",
    "\n",
    "    reg_lambda = 1\n",
    "    reg_beta = 5\n",
    "\n",
    "    fold = 0\n",
    "    CLASS_castle = []\n",
    "    print(\"Dataset limits are\", np.ptp(X_DAG), np.ptp(X_test), np.ptp(y_test))\n",
    "    for train_idx, val_idx in kf.split(X_DAG):\n",
    "        fold += 1\n",
    "        print(\"fold = \", fold)\n",
    "        print(\"******* Doing dataset size = \", X_DAG.shape[0] , \"****************\")\n",
    "        X_train = X_DAG[train_idx]\n",
    "        y_train = np.expand_dims(X_DAG[train_idx][:,0], -1)\n",
    "        X_val = X_DAG[val_idx]\n",
    "        y_val = X_DAG[val_idx][:,0]\n",
    "\n",
    "        w_threshold = 0.3\n",
    "        castle = CASTLE(num_train = X_DAG.shape[0], num_inputs = X_DAG.shape[1], \n",
    "                        reg_lambda = reg_lambda, reg_beta = reg_beta,\n",
    "                        w_threshold = w_threshold)\n",
    "        \n",
    "        num_nodes = np.shape(X_DAG)[1]\n",
    "        \n",
    "        castle.fit(X_train, y_train, num_nodes, X_val, y_val, X_test, y_test)\n",
    "        \n",
    "        W_est = castle.pred_W(X_DAG, np.expand_dims(X_DAG[:,0], -1))\n",
    "        print(W_est)\n",
    "\n",
    "#         REG_castle.append(mean_squared_error(castle.pred(X_test), y_test))\n",
    "#         print(\"MSE = \", mean_squared_error(castle.pred(X_test), y_test))\n",
    "\n",
    "        y_pred = np.array([int(i > .5) for i in castle.pred(X_test_scaled)])\n",
    "        CLASS_castle.append([accuracy_score(y_test, y_pred),roc_auc_score(y_test, castle.pred(X_test_scaled))])\n",
    "        print(\"Accuracy = \"+\"{:.4f}\".format(accuracy_score(y_test, y_pred)) + \", AUC = \"+\"{:.4f}\".format(roc_auc_score(y_test, castle.pred(X_test_scaled))))\n",
    "\n",
    "        if fold > 1:\n",
    "            print(np.mean(CLASS_castle,axis=0), np.std(CLASS_castle,axis=0))\n",
    "\n",
    "    print(\"Mean Accuracy= \",\"{:.3}\".format(np.mean(CLASS_castle,axis=0)[0]),\", Sd= \",\"{:.3}\".format(np.std(CLASS_castle,axis=0)[0]))\n",
    "    print(\"Mean AUC= \",\"{:.3}\".format(np.mean(CLASS_castle,axis=0)[1]),\", Sd= \",\"{:.3}\".format(np.std(CLASS_castle, axis=0)[1]))\n",
    "    \n",
    "# Original Data    \n",
    "\n",
    "# RUDIN WOE variables\n",
    "\n",
    "# Mean Accuracy=  0.715 , Sd=  0.0028\n",
    "# Mean AUC=  0.78 , Sd=  0.002\n",
    "\n",
    "# [[0.7135755258126195, 0.7764289456496714],\n",
    "#  [0.718546845124283, 0.7821402644451023],\n",
    "#  [0.710133843212237, 0.7795818003693209],\n",
    "#  [0.7147227533460803, 0.7812821570037072],\n",
    "#  [0.7162523900573614, 0.7809262274284263]]"
   ]
  },
  {
   "cell_type": "code",
   "execution_count": 8,
   "metadata": {},
   "outputs": [
    {
     "output_type": "stream",
     "name": "stdout",
     "text": [
      "/vol/bitbucket/fr920/FICOchallenge\n./results/castle/\n"
     ]
    }
   ],
   "source": [
    "cwd = os.getcwd()\n",
    "print(cwd)\n",
    "os.chdir(cwd)\n",
    "\n",
    "RESULT_PATH = './results/castle/'\n",
    "if not os.path.exists(RESULT_PATH):\n",
    "        os.mkdir(RESULT_PATH)\n",
    "print(RESULT_PATH)"
   ]
  },
  {
   "cell_type": "code",
   "execution_count": 9,
   "metadata": {
    "scrolled": true
   },
   "outputs": [
    {
     "output_type": "stream",
     "name": "stdout",
     "text": [
      "WARNING:tensorflow:From /homes/fr920/.local/lib/python3.6/site-packages/tensorflow/python/ops/nn_impl.py:180: add_dispatch_support.<locals>.wrapper (from tensorflow.python.ops.array_ops) is deprecated and will be removed in a future version.\n",
      "Instructions for updating:\n",
      "Use tf.where in 2.0, which has the same broadcast rule as np.where\n",
      "WARNING:tensorflow:From /homes/fr920/.local/lib/python3.6/site-packages/tensorflow/python/training/saver.py:1276: checkpoint_exists (from tensorflow.python.training.checkpoint_management) is deprecated and will be removed in a future version.\n",
      "Instructions for updating:\n",
      "Use standard file APIs to check for files with this prefix.\n",
      "INFO:tensorflow:Restoring parameters from ./results/castle/castle_net_mixed\n",
      "Model Loaded from  ./results/castle/castle_net_mixed\n",
      "0:00:01\n"
     ]
    }
   ],
   "source": [
    "model_name = \"castle_net_mixed\"\n",
    "saved_model_path = os.path.join(RESULT_PATH, model_name)\n",
    "scale_inputs=False\n",
    "\n",
    "if scale_inputs:\n",
    "    scaler = StandardScaler()\n",
    "    X_train_scaled = scaler.fit_transform(X_train)\n",
    "    X_test_scaled = scaler.transform(X_test)\n",
    "else:\n",
    "## Turn off scaling\n",
    "    X_train_scaled = X_train.to_numpy()\n",
    "    X_test_scaled = X_test.to_numpy()\n",
    "\n",
    "X_DAG = X_train_scaled\n",
    "y_DAG = np.expand_dims(X_train_scaled[:,0], -1)\n",
    "\n",
    "castle = CASTLE(num_train = X_DAG.shape[0], \n",
    "                num_inputs = X_DAG.shape[1], \n",
    "                reg_lambda = 1, \n",
    "                reg_beta = 5,\n",
    "                w_threshold = 0.3, \n",
    "                n_hidden=10, \n",
    "                lr=0.0005, \n",
    "                ckpt_file=saved_model_path\n",
    "               )\n",
    "num_nodes = np.shape(X_DAG)[1]\n",
    "\n",
    "start_time = datetime.datetime.now().time().strftime('%H:%M:%S')\n",
    "castle.fit(X_DAG, y_DAG, num_nodes, X_test_scaled, y_test, X_test_scaled, y_test, overwrite=False)\n",
    "end_time = datetime.datetime.now().time().strftime('%H:%M:%S')\n",
    "total_time=(datetime.datetime.strptime(end_time,'%H:%M:%S') - datetime.datetime.strptime(start_time,'%H:%M:%S'))\n",
    "print(total_time)"
   ]
  },
  {
   "cell_type": "code",
   "execution_count": 10,
   "metadata": {},
   "outputs": [
    {
     "output_type": "stream",
     "name": "stdout",
     "text": [
      "              precision    recall  f1-score   support\n",
      "\n",
      "           0       0.74      0.64      0.68      1224\n",
      "           1       0.72      0.80      0.75      1391\n",
      "\n",
      "    accuracy                           0.72      2615\n",
      "   macro avg       0.73      0.72      0.72      2615\n",
      "weighted avg       0.73      0.72      0.72      2615\n",
      "\n",
      "Accuracy: 0.7239005736137667\n",
      "AUC: 0.7852669824220126\n"
     ]
    }
   ],
   "source": [
    "from sklearn.metrics import classification_report,accuracy_score, roc_auc_score\n",
    "\n",
    "y_pred = np.array([int(i > .5) for i in castle.pred(X_test_scaled)])\n",
    "print(classification_report(y_test,y_pred))\n",
    "print('Accuracy:',accuracy_score(y_test, y_pred))\n",
    "print('AUC:',roc_auc_score(y_test, castle.pred(X_test_scaled)))"
   ]
  },
  {
   "cell_type": "code",
   "execution_count": 11,
   "metadata": {},
   "outputs": [
    {
     "output_type": "display_data",
     "data": {
      "text/plain": "<pandas.io.formats.style.Styler at 0x7f15b4f07f98>",
      "text/html": "<style  type=\"text/css\" >\n#T_ffd597ce_8286_11eb_9137_0c9d92c473d6row0_col0,#T_ffd597ce_8286_11eb_9137_0c9d92c473d6row0_col1,#T_ffd597ce_8286_11eb_9137_0c9d92c473d6row0_col2,#T_ffd597ce_8286_11eb_9137_0c9d92c473d6row0_col3,#T_ffd597ce_8286_11eb_9137_0c9d92c473d6row0_col4,#T_ffd597ce_8286_11eb_9137_0c9d92c473d6row0_col5,#T_ffd597ce_8286_11eb_9137_0c9d92c473d6row0_col6,#T_ffd597ce_8286_11eb_9137_0c9d92c473d6row0_col7,#T_ffd597ce_8286_11eb_9137_0c9d92c473d6row0_col8,#T_ffd597ce_8286_11eb_9137_0c9d92c473d6row0_col9,#T_ffd597ce_8286_11eb_9137_0c9d92c473d6row0_col10,#T_ffd597ce_8286_11eb_9137_0c9d92c473d6row0_col11,#T_ffd597ce_8286_11eb_9137_0c9d92c473d6row0_col12,#T_ffd597ce_8286_11eb_9137_0c9d92c473d6row0_col13,#T_ffd597ce_8286_11eb_9137_0c9d92c473d6row0_col15,#T_ffd597ce_8286_11eb_9137_0c9d92c473d6row0_col16,#T_ffd597ce_8286_11eb_9137_0c9d92c473d6row0_col18,#T_ffd597ce_8286_11eb_9137_0c9d92c473d6row0_col19,#T_ffd597ce_8286_11eb_9137_0c9d92c473d6row0_col20,#T_ffd597ce_8286_11eb_9137_0c9d92c473d6row0_col21,#T_ffd597ce_8286_11eb_9137_0c9d92c473d6row0_col22,#T_ffd597ce_8286_11eb_9137_0c9d92c473d6row0_col23,#T_ffd597ce_8286_11eb_9137_0c9d92c473d6row1_col1,#T_ffd597ce_8286_11eb_9137_0c9d92c473d6row1_col2,#T_ffd597ce_8286_11eb_9137_0c9d92c473d6row1_col3,#T_ffd597ce_8286_11eb_9137_0c9d92c473d6row1_col4,#T_ffd597ce_8286_11eb_9137_0c9d92c473d6row1_col5,#T_ffd597ce_8286_11eb_9137_0c9d92c473d6row1_col7,#T_ffd597ce_8286_11eb_9137_0c9d92c473d6row1_col8,#T_ffd597ce_8286_11eb_9137_0c9d92c473d6row1_col11,#T_ffd597ce_8286_11eb_9137_0c9d92c473d6row1_col14,#T_ffd597ce_8286_11eb_9137_0c9d92c473d6row1_col15,#T_ffd597ce_8286_11eb_9137_0c9d92c473d6row1_col19,#T_ffd597ce_8286_11eb_9137_0c9d92c473d6row1_col23,#T_ffd597ce_8286_11eb_9137_0c9d92c473d6row2_col0,#T_ffd597ce_8286_11eb_9137_0c9d92c473d6row2_col1,#T_ffd597ce_8286_11eb_9137_0c9d92c473d6row2_col2,#T_ffd597ce_8286_11eb_9137_0c9d92c473d6row2_col3,#T_ffd597ce_8286_11eb_9137_0c9d92c473d6row2_col5,#T_ffd597ce_8286_11eb_9137_0c9d92c473d6row2_col6,#T_ffd597ce_8286_11eb_9137_0c9d92c473d6row2_col7,#T_ffd597ce_8286_11eb_9137_0c9d92c473d6row2_col9,#T_ffd597ce_8286_11eb_9137_0c9d92c473d6row2_col10,#T_ffd597ce_8286_11eb_9137_0c9d92c473d6row2_col11,#T_ffd597ce_8286_11eb_9137_0c9d92c473d6row2_col12,#T_ffd597ce_8286_11eb_9137_0c9d92c473d6row2_col13,#T_ffd597ce_8286_11eb_9137_0c9d92c473d6row2_col14,#T_ffd597ce_8286_11eb_9137_0c9d92c473d6row2_col15,#T_ffd597ce_8286_11eb_9137_0c9d92c473d6row2_col16,#T_ffd597ce_8286_11eb_9137_0c9d92c473d6row2_col17,#T_ffd597ce_8286_11eb_9137_0c9d92c473d6row2_col18,#T_ffd597ce_8286_11eb_9137_0c9d92c473d6row2_col19,#T_ffd597ce_8286_11eb_9137_0c9d92c473d6row2_col20,#T_ffd597ce_8286_11eb_9137_0c9d92c473d6row2_col22,#T_ffd597ce_8286_11eb_9137_0c9d92c473d6row2_col23,#T_ffd597ce_8286_11eb_9137_0c9d92c473d6row3_col0,#T_ffd597ce_8286_11eb_9137_0c9d92c473d6row3_col1,#T_ffd597ce_8286_11eb_9137_0c9d92c473d6row3_col2,#T_ffd597ce_8286_11eb_9137_0c9d92c473d6row3_col3,#T_ffd597ce_8286_11eb_9137_0c9d92c473d6row3_col4,#T_ffd597ce_8286_11eb_9137_0c9d92c473d6row3_col5,#T_ffd597ce_8286_11eb_9137_0c9d92c473d6row3_col6,#T_ffd597ce_8286_11eb_9137_0c9d92c473d6row3_col7,#T_ffd597ce_8286_11eb_9137_0c9d92c473d6row3_col8,#T_ffd597ce_8286_11eb_9137_0c9d92c473d6row3_col9,#T_ffd597ce_8286_11eb_9137_0c9d92c473d6row3_col10,#T_ffd597ce_8286_11eb_9137_0c9d92c473d6row3_col11,#T_ffd597ce_8286_11eb_9137_0c9d92c473d6row3_col12,#T_ffd597ce_8286_11eb_9137_0c9d92c473d6row3_col13,#T_ffd597ce_8286_11eb_9137_0c9d92c473d6row3_col14,#T_ffd597ce_8286_11eb_9137_0c9d92c473d6row3_col15,#T_ffd597ce_8286_11eb_9137_0c9d92c473d6row3_col16,#T_ffd597ce_8286_11eb_9137_0c9d92c473d6row3_col17,#T_ffd597ce_8286_11eb_9137_0c9d92c473d6row3_col18,#T_ffd597ce_8286_11eb_9137_0c9d92c473d6row3_col19,#T_ffd597ce_8286_11eb_9137_0c9d92c473d6row3_col20,#T_ffd597ce_8286_11eb_9137_0c9d92c473d6row3_col21,#T_ffd597ce_8286_11eb_9137_0c9d92c473d6row3_col22,#T_ffd597ce_8286_11eb_9137_0c9d92c473d6row3_col23,#T_ffd597ce_8286_11eb_9137_0c9d92c473d6row4_col3,#T_ffd597ce_8286_11eb_9137_0c9d92c473d6row4_col4,#T_ffd597ce_8286_11eb_9137_0c9d92c473d6row4_col7,#T_ffd597ce_8286_11eb_9137_0c9d92c473d6row4_col8,#T_ffd597ce_8286_11eb_9137_0c9d92c473d6row4_col11,#T_ffd597ce_8286_11eb_9137_0c9d92c473d6row4_col12,#T_ffd597ce_8286_11eb_9137_0c9d92c473d6row4_col13,#T_ffd597ce_8286_11eb_9137_0c9d92c473d6row4_col14,#T_ffd597ce_8286_11eb_9137_0c9d92c473d6row4_col16,#T_ffd597ce_8286_11eb_9137_0c9d92c473d6row4_col19,#T_ffd597ce_8286_11eb_9137_0c9d92c473d6row4_col20,#T_ffd597ce_8286_11eb_9137_0c9d92c473d6row4_col21,#T_ffd597ce_8286_11eb_9137_0c9d92c473d6row4_col23,#T_ffd597ce_8286_11eb_9137_0c9d92c473d6row5_col2,#T_ffd597ce_8286_11eb_9137_0c9d92c473d6row5_col3,#T_ffd597ce_8286_11eb_9137_0c9d92c473d6row5_col5,#T_ffd597ce_8286_11eb_9137_0c9d92c473d6row5_col7,#T_ffd597ce_8286_11eb_9137_0c9d92c473d6row5_col11,#T_ffd597ce_8286_11eb_9137_0c9d92c473d6row5_col12,#T_ffd597ce_8286_11eb_9137_0c9d92c473d6row5_col13,#T_ffd597ce_8286_11eb_9137_0c9d92c473d6row5_col15,#T_ffd597ce_8286_11eb_9137_0c9d92c473d6row5_col16,#T_ffd597ce_8286_11eb_9137_0c9d92c473d6row5_col18,#T_ffd597ce_8286_11eb_9137_0c9d92c473d6row5_col19,#T_ffd597ce_8286_11eb_9137_0c9d92c473d6row6_col0,#T_ffd597ce_8286_11eb_9137_0c9d92c473d6row6_col2,#T_ffd597ce_8286_11eb_9137_0c9d92c473d6row6_col3,#T_ffd597ce_8286_11eb_9137_0c9d92c473d6row6_col5,#T_ffd597ce_8286_11eb_9137_0c9d92c473d6row6_col6,#T_ffd597ce_8286_11eb_9137_0c9d92c473d6row6_col7,#T_ffd597ce_8286_11eb_9137_0c9d92c473d6row6_col8,#T_ffd597ce_8286_11eb_9137_0c9d92c473d6row6_col9,#T_ffd597ce_8286_11eb_9137_0c9d92c473d6row6_col11,#T_ffd597ce_8286_11eb_9137_0c9d92c473d6row6_col12,#T_ffd597ce_8286_11eb_9137_0c9d92c473d6row6_col13,#T_ffd597ce_8286_11eb_9137_0c9d92c473d6row6_col14,#T_ffd597ce_8286_11eb_9137_0c9d92c473d6row6_col15,#T_ffd597ce_8286_11eb_9137_0c9d92c473d6row6_col16,#T_ffd597ce_8286_11eb_9137_0c9d92c473d6row6_col18,#T_ffd597ce_8286_11eb_9137_0c9d92c473d6row6_col19,#T_ffd597ce_8286_11eb_9137_0c9d92c473d6row6_col21,#T_ffd597ce_8286_11eb_9137_0c9d92c473d6row6_col22,#T_ffd597ce_8286_11eb_9137_0c9d92c473d6row6_col23,#T_ffd597ce_8286_11eb_9137_0c9d92c473d6row7_col0,#T_ffd597ce_8286_11eb_9137_0c9d92c473d6row7_col1,#T_ffd597ce_8286_11eb_9137_0c9d92c473d6row7_col2,#T_ffd597ce_8286_11eb_9137_0c9d92c473d6row7_col3,#T_ffd597ce_8286_11eb_9137_0c9d92c473d6row7_col4,#T_ffd597ce_8286_11eb_9137_0c9d92c473d6row7_col5,#T_ffd597ce_8286_11eb_9137_0c9d92c473d6row7_col6,#T_ffd597ce_8286_11eb_9137_0c9d92c473d6row7_col7,#T_ffd597ce_8286_11eb_9137_0c9d92c473d6row7_col8,#T_ffd597ce_8286_11eb_9137_0c9d92c473d6row7_col9,#T_ffd597ce_8286_11eb_9137_0c9d92c473d6row7_col10,#T_ffd597ce_8286_11eb_9137_0c9d92c473d6row7_col11,#T_ffd597ce_8286_11eb_9137_0c9d92c473d6row7_col12,#T_ffd597ce_8286_11eb_9137_0c9d92c473d6row7_col13,#T_ffd597ce_8286_11eb_9137_0c9d92c473d6row7_col14,#T_ffd597ce_8286_11eb_9137_0c9d92c473d6row7_col15,#T_ffd597ce_8286_11eb_9137_0c9d92c473d6row7_col16,#T_ffd597ce_8286_11eb_9137_0c9d92c473d6row7_col17,#T_ffd597ce_8286_11eb_9137_0c9d92c473d6row7_col18,#T_ffd597ce_8286_11eb_9137_0c9d92c473d6row7_col19,#T_ffd597ce_8286_11eb_9137_0c9d92c473d6row7_col20,#T_ffd597ce_8286_11eb_9137_0c9d92c473d6row7_col21,#T_ffd597ce_8286_11eb_9137_0c9d92c473d6row7_col22,#T_ffd597ce_8286_11eb_9137_0c9d92c473d6row7_col23,#T_ffd597ce_8286_11eb_9137_0c9d92c473d6row8_col1,#T_ffd597ce_8286_11eb_9137_0c9d92c473d6row8_col3,#T_ffd597ce_8286_11eb_9137_0c9d92c473d6row8_col4,#T_ffd597ce_8286_11eb_9137_0c9d92c473d6row8_col6,#T_ffd597ce_8286_11eb_9137_0c9d92c473d6row8_col7,#T_ffd597ce_8286_11eb_9137_0c9d92c473d6row8_col8,#T_ffd597ce_8286_11eb_9137_0c9d92c473d6row8_col9,#T_ffd597ce_8286_11eb_9137_0c9d92c473d6row8_col11,#T_ffd597ce_8286_11eb_9137_0c9d92c473d6row8_col12,#T_ffd597ce_8286_11eb_9137_0c9d92c473d6row8_col13,#T_ffd597ce_8286_11eb_9137_0c9d92c473d6row8_col16,#T_ffd597ce_8286_11eb_9137_0c9d92c473d6row8_col19,#T_ffd597ce_8286_11eb_9137_0c9d92c473d6row8_col20,#T_ffd597ce_8286_11eb_9137_0c9d92c473d6row8_col22,#T_ffd597ce_8286_11eb_9137_0c9d92c473d6row9_col0,#T_ffd597ce_8286_11eb_9137_0c9d92c473d6row9_col2,#T_ffd597ce_8286_11eb_9137_0c9d92c473d6row9_col3,#T_ffd597ce_8286_11eb_9137_0c9d92c473d6row9_col6,#T_ffd597ce_8286_11eb_9137_0c9d92c473d6row9_col7,#T_ffd597ce_8286_11eb_9137_0c9d92c473d6row9_col8,#T_ffd597ce_8286_11eb_9137_0c9d92c473d6row9_col9,#T_ffd597ce_8286_11eb_9137_0c9d92c473d6row9_col11,#T_ffd597ce_8286_11eb_9137_0c9d92c473d6row9_col12,#T_ffd597ce_8286_11eb_9137_0c9d92c473d6row9_col13,#T_ffd597ce_8286_11eb_9137_0c9d92c473d6row9_col14,#T_ffd597ce_8286_11eb_9137_0c9d92c473d6row9_col16,#T_ffd597ce_8286_11eb_9137_0c9d92c473d6row9_col17,#T_ffd597ce_8286_11eb_9137_0c9d92c473d6row9_col19,#T_ffd597ce_8286_11eb_9137_0c9d92c473d6row9_col20,#T_ffd597ce_8286_11eb_9137_0c9d92c473d6row9_col21,#T_ffd597ce_8286_11eb_9137_0c9d92c473d6row9_col22,#T_ffd597ce_8286_11eb_9137_0c9d92c473d6row9_col23,#T_ffd597ce_8286_11eb_9137_0c9d92c473d6row10_col2,#T_ffd597ce_8286_11eb_9137_0c9d92c473d6row10_col3,#T_ffd597ce_8286_11eb_9137_0c9d92c473d6row10_col7,#T_ffd597ce_8286_11eb_9137_0c9d92c473d6row10_col8,#T_ffd597ce_8286_11eb_9137_0c9d92c473d6row10_col10,#T_ffd597ce_8286_11eb_9137_0c9d92c473d6row10_col13,#T_ffd597ce_8286_11eb_9137_0c9d92c473d6row10_col14,#T_ffd597ce_8286_11eb_9137_0c9d92c473d6row10_col15,#T_ffd597ce_8286_11eb_9137_0c9d92c473d6row10_col16,#T_ffd597ce_8286_11eb_9137_0c9d92c473d6row10_col19,#T_ffd597ce_8286_11eb_9137_0c9d92c473d6row10_col23,#T_ffd597ce_8286_11eb_9137_0c9d92c473d6row11_col0,#T_ffd597ce_8286_11eb_9137_0c9d92c473d6row11_col2,#T_ffd597ce_8286_11eb_9137_0c9d92c473d6row11_col3,#T_ffd597ce_8286_11eb_9137_0c9d92c473d6row11_col4,#T_ffd597ce_8286_11eb_9137_0c9d92c473d6row11_col5,#T_ffd597ce_8286_11eb_9137_0c9d92c473d6row11_col6,#T_ffd597ce_8286_11eb_9137_0c9d92c473d6row11_col7,#T_ffd597ce_8286_11eb_9137_0c9d92c473d6row11_col8,#T_ffd597ce_8286_11eb_9137_0c9d92c473d6row11_col9,#T_ffd597ce_8286_11eb_9137_0c9d92c473d6row11_col11,#T_ffd597ce_8286_11eb_9137_0c9d92c473d6row11_col13,#T_ffd597ce_8286_11eb_9137_0c9d92c473d6row11_col14,#T_ffd597ce_8286_11eb_9137_0c9d92c473d6row11_col15,#T_ffd597ce_8286_11eb_9137_0c9d92c473d6row11_col16,#T_ffd597ce_8286_11eb_9137_0c9d92c473d6row11_col18,#T_ffd597ce_8286_11eb_9137_0c9d92c473d6row11_col19,#T_ffd597ce_8286_11eb_9137_0c9d92c473d6row11_col21,#T_ffd597ce_8286_11eb_9137_0c9d92c473d6row11_col22,#T_ffd597ce_8286_11eb_9137_0c9d92c473d6row11_col23,#T_ffd597ce_8286_11eb_9137_0c9d92c473d6row12_col0,#T_ffd597ce_8286_11eb_9137_0c9d92c473d6row12_col2,#T_ffd597ce_8286_11eb_9137_0c9d92c473d6row12_col3,#T_ffd597ce_8286_11eb_9137_0c9d92c473d6row12_col4,#T_ffd597ce_8286_11eb_9137_0c9d92c473d6row12_col5,#T_ffd597ce_8286_11eb_9137_0c9d92c473d6row12_col6,#T_ffd597ce_8286_11eb_9137_0c9d92c473d6row12_col7,#T_ffd597ce_8286_11eb_9137_0c9d92c473d6row12_col9,#T_ffd597ce_8286_11eb_9137_0c9d92c473d6row12_col12,#T_ffd597ce_8286_11eb_9137_0c9d92c473d6row12_col13,#T_ffd597ce_8286_11eb_9137_0c9d92c473d6row12_col14,#T_ffd597ce_8286_11eb_9137_0c9d92c473d6row12_col15,#T_ffd597ce_8286_11eb_9137_0c9d92c473d6row12_col16,#T_ffd597ce_8286_11eb_9137_0c9d92c473d6row12_col18,#T_ffd597ce_8286_11eb_9137_0c9d92c473d6row12_col19,#T_ffd597ce_8286_11eb_9137_0c9d92c473d6row12_col21,#T_ffd597ce_8286_11eb_9137_0c9d92c473d6row12_col23,#T_ffd597ce_8286_11eb_9137_0c9d92c473d6row13_col0,#T_ffd597ce_8286_11eb_9137_0c9d92c473d6row13_col2,#T_ffd597ce_8286_11eb_9137_0c9d92c473d6row13_col3,#T_ffd597ce_8286_11eb_9137_0c9d92c473d6row13_col4,#T_ffd597ce_8286_11eb_9137_0c9d92c473d6row13_col5,#T_ffd597ce_8286_11eb_9137_0c9d92c473d6row13_col7,#T_ffd597ce_8286_11eb_9137_0c9d92c473d6row13_col8,#T_ffd597ce_8286_11eb_9137_0c9d92c473d6row13_col9,#T_ffd597ce_8286_11eb_9137_0c9d92c473d6row13_col10,#T_ffd597ce_8286_11eb_9137_0c9d92c473d6row13_col11,#T_ffd597ce_8286_11eb_9137_0c9d92c473d6row13_col12,#T_ffd597ce_8286_11eb_9137_0c9d92c473d6row13_col13,#T_ffd597ce_8286_11eb_9137_0c9d92c473d6row13_col14,#T_ffd597ce_8286_11eb_9137_0c9d92c473d6row13_col15,#T_ffd597ce_8286_11eb_9137_0c9d92c473d6row13_col16,#T_ffd597ce_8286_11eb_9137_0c9d92c473d6row13_col17,#T_ffd597ce_8286_11eb_9137_0c9d92c473d6row13_col18,#T_ffd597ce_8286_11eb_9137_0c9d92c473d6row13_col19,#T_ffd597ce_8286_11eb_9137_0c9d92c473d6row13_col20,#T_ffd597ce_8286_11eb_9137_0c9d92c473d6row13_col21,#T_ffd597ce_8286_11eb_9137_0c9d92c473d6row13_col22,#T_ffd597ce_8286_11eb_9137_0c9d92c473d6row13_col23,#T_ffd597ce_8286_11eb_9137_0c9d92c473d6row14_col1,#T_ffd597ce_8286_11eb_9137_0c9d92c473d6row14_col2,#T_ffd597ce_8286_11eb_9137_0c9d92c473d6row14_col3,#T_ffd597ce_8286_11eb_9137_0c9d92c473d6row14_col4,#T_ffd597ce_8286_11eb_9137_0c9d92c473d6row14_col6,#T_ffd597ce_8286_11eb_9137_0c9d92c473d6row14_col7,#T_ffd597ce_8286_11eb_9137_0c9d92c473d6row14_col8,#T_ffd597ce_8286_11eb_9137_0c9d92c473d6row14_col9,#T_ffd597ce_8286_11eb_9137_0c9d92c473d6row14_col10,#T_ffd597ce_8286_11eb_9137_0c9d92c473d6row14_col11,#T_ffd597ce_8286_11eb_9137_0c9d92c473d6row14_col12,#T_ffd597ce_8286_11eb_9137_0c9d92c473d6row14_col13,#T_ffd597ce_8286_11eb_9137_0c9d92c473d6row14_col14,#T_ffd597ce_8286_11eb_9137_0c9d92c473d6row14_col15,#T_ffd597ce_8286_11eb_9137_0c9d92c473d6row14_col16,#T_ffd597ce_8286_11eb_9137_0c9d92c473d6row14_col18,#T_ffd597ce_8286_11eb_9137_0c9d92c473d6row14_col19,#T_ffd597ce_8286_11eb_9137_0c9d92c473d6row15_col0,#T_ffd597ce_8286_11eb_9137_0c9d92c473d6row15_col1,#T_ffd597ce_8286_11eb_9137_0c9d92c473d6row15_col2,#T_ffd597ce_8286_11eb_9137_0c9d92c473d6row15_col3,#T_ffd597ce_8286_11eb_9137_0c9d92c473d6row15_col6,#T_ffd597ce_8286_11eb_9137_0c9d92c473d6row15_col7,#T_ffd597ce_8286_11eb_9137_0c9d92c473d6row15_col8,#T_ffd597ce_8286_11eb_9137_0c9d92c473d6row15_col10,#T_ffd597ce_8286_11eb_9137_0c9d92c473d6row15_col11,#T_ffd597ce_8286_11eb_9137_0c9d92c473d6row15_col12,#T_ffd597ce_8286_11eb_9137_0c9d92c473d6row15_col13,#T_ffd597ce_8286_11eb_9137_0c9d92c473d6row15_col14,#T_ffd597ce_8286_11eb_9137_0c9d92c473d6row15_col15,#T_ffd597ce_8286_11eb_9137_0c9d92c473d6row15_col16,#T_ffd597ce_8286_11eb_9137_0c9d92c473d6row15_col18,#T_ffd597ce_8286_11eb_9137_0c9d92c473d6row15_col19,#T_ffd597ce_8286_11eb_9137_0c9d92c473d6row15_col20,#T_ffd597ce_8286_11eb_9137_0c9d92c473d6row15_col21,#T_ffd597ce_8286_11eb_9137_0c9d92c473d6row15_col22,#T_ffd597ce_8286_11eb_9137_0c9d92c473d6row15_col23,#T_ffd597ce_8286_11eb_9137_0c9d92c473d6row16_col0,#T_ffd597ce_8286_11eb_9137_0c9d92c473d6row16_col2,#T_ffd597ce_8286_11eb_9137_0c9d92c473d6row16_col3,#T_ffd597ce_8286_11eb_9137_0c9d92c473d6row16_col4,#T_ffd597ce_8286_11eb_9137_0c9d92c473d6row16_col5,#T_ffd597ce_8286_11eb_9137_0c9d92c473d6row16_col6,#T_ffd597ce_8286_11eb_9137_0c9d92c473d6row16_col7,#T_ffd597ce_8286_11eb_9137_0c9d92c473d6row16_col8,#T_ffd597ce_8286_11eb_9137_0c9d92c473d6row16_col9,#T_ffd597ce_8286_11eb_9137_0c9d92c473d6row16_col10,#T_ffd597ce_8286_11eb_9137_0c9d92c473d6row16_col11,#T_ffd597ce_8286_11eb_9137_0c9d92c473d6row16_col13,#T_ffd597ce_8286_11eb_9137_0c9d92c473d6row16_col14,#T_ffd597ce_8286_11eb_9137_0c9d92c473d6row16_col16,#T_ffd597ce_8286_11eb_9137_0c9d92c473d6row16_col18,#T_ffd597ce_8286_11eb_9137_0c9d92c473d6row16_col19,#T_ffd597ce_8286_11eb_9137_0c9d92c473d6row16_col21,#T_ffd597ce_8286_11eb_9137_0c9d92c473d6row16_col22,#T_ffd597ce_8286_11eb_9137_0c9d92c473d6row16_col23,#T_ffd597ce_8286_11eb_9137_0c9d92c473d6row17_col1,#T_ffd597ce_8286_11eb_9137_0c9d92c473d6row17_col2,#T_ffd597ce_8286_11eb_9137_0c9d92c473d6row17_col3,#T_ffd597ce_8286_11eb_9137_0c9d92c473d6row17_col4,#T_ffd597ce_8286_11eb_9137_0c9d92c473d6row17_col5,#T_ffd597ce_8286_11eb_9137_0c9d92c473d6row17_col6,#T_ffd597ce_8286_11eb_9137_0c9d92c473d6row17_col7,#T_ffd597ce_8286_11eb_9137_0c9d92c473d6row17_col8,#T_ffd597ce_8286_11eb_9137_0c9d92c473d6row17_col9,#T_ffd597ce_8286_11eb_9137_0c9d92c473d6row17_col10,#T_ffd597ce_8286_11eb_9137_0c9d92c473d6row17_col11,#T_ffd597ce_8286_11eb_9137_0c9d92c473d6row17_col12,#T_ffd597ce_8286_11eb_9137_0c9d92c473d6row17_col13,#T_ffd597ce_8286_11eb_9137_0c9d92c473d6row17_col17,#T_ffd597ce_8286_11eb_9137_0c9d92c473d6row17_col19,#T_ffd597ce_8286_11eb_9137_0c9d92c473d6row17_col22,#T_ffd597ce_8286_11eb_9137_0c9d92c473d6row17_col23,#T_ffd597ce_8286_11eb_9137_0c9d92c473d6row18_col0,#T_ffd597ce_8286_11eb_9137_0c9d92c473d6row18_col2,#T_ffd597ce_8286_11eb_9137_0c9d92c473d6row18_col3,#T_ffd597ce_8286_11eb_9137_0c9d92c473d6row18_col4,#T_ffd597ce_8286_11eb_9137_0c9d92c473d6row18_col5,#T_ffd597ce_8286_11eb_9137_0c9d92c473d6row18_col6,#T_ffd597ce_8286_11eb_9137_0c9d92c473d6row18_col7,#T_ffd597ce_8286_11eb_9137_0c9d92c473d6row18_col8,#T_ffd597ce_8286_11eb_9137_0c9d92c473d6row18_col10,#T_ffd597ce_8286_11eb_9137_0c9d92c473d6row18_col11,#T_ffd597ce_8286_11eb_9137_0c9d92c473d6row18_col12,#T_ffd597ce_8286_11eb_9137_0c9d92c473d6row18_col13,#T_ffd597ce_8286_11eb_9137_0c9d92c473d6row18_col14,#T_ffd597ce_8286_11eb_9137_0c9d92c473d6row18_col15,#T_ffd597ce_8286_11eb_9137_0c9d92c473d6row18_col16,#T_ffd597ce_8286_11eb_9137_0c9d92c473d6row18_col18,#T_ffd597ce_8286_11eb_9137_0c9d92c473d6row18_col19,#T_ffd597ce_8286_11eb_9137_0c9d92c473d6row18_col20,#T_ffd597ce_8286_11eb_9137_0c9d92c473d6row18_col21,#T_ffd597ce_8286_11eb_9137_0c9d92c473d6row18_col22,#T_ffd597ce_8286_11eb_9137_0c9d92c473d6row18_col23,#T_ffd597ce_8286_11eb_9137_0c9d92c473d6row19_col0,#T_ffd597ce_8286_11eb_9137_0c9d92c473d6row19_col1,#T_ffd597ce_8286_11eb_9137_0c9d92c473d6row19_col2,#T_ffd597ce_8286_11eb_9137_0c9d92c473d6row19_col3,#T_ffd597ce_8286_11eb_9137_0c9d92c473d6row19_col4,#T_ffd597ce_8286_11eb_9137_0c9d92c473d6row19_col5,#T_ffd597ce_8286_11eb_9137_0c9d92c473d6row19_col6,#T_ffd597ce_8286_11eb_9137_0c9d92c473d6row19_col7,#T_ffd597ce_8286_11eb_9137_0c9d92c473d6row19_col8,#T_ffd597ce_8286_11eb_9137_0c9d92c473d6row19_col9,#T_ffd597ce_8286_11eb_9137_0c9d92c473d6row19_col10,#T_ffd597ce_8286_11eb_9137_0c9d92c473d6row19_col11,#T_ffd597ce_8286_11eb_9137_0c9d92c473d6row19_col12,#T_ffd597ce_8286_11eb_9137_0c9d92c473d6row19_col13,#T_ffd597ce_8286_11eb_9137_0c9d92c473d6row19_col14,#T_ffd597ce_8286_11eb_9137_0c9d92c473d6row19_col15,#T_ffd597ce_8286_11eb_9137_0c9d92c473d6row19_col16,#T_ffd597ce_8286_11eb_9137_0c9d92c473d6row19_col17,#T_ffd597ce_8286_11eb_9137_0c9d92c473d6row19_col18,#T_ffd597ce_8286_11eb_9137_0c9d92c473d6row19_col19,#T_ffd597ce_8286_11eb_9137_0c9d92c473d6row19_col20,#T_ffd597ce_8286_11eb_9137_0c9d92c473d6row19_col21,#T_ffd597ce_8286_11eb_9137_0c9d92c473d6row19_col22,#T_ffd597ce_8286_11eb_9137_0c9d92c473d6row19_col23,#T_ffd597ce_8286_11eb_9137_0c9d92c473d6row20_col2,#T_ffd597ce_8286_11eb_9137_0c9d92c473d6row20_col3,#T_ffd597ce_8286_11eb_9137_0c9d92c473d6row20_col4,#T_ffd597ce_8286_11eb_9137_0c9d92c473d6row20_col5,#T_ffd597ce_8286_11eb_9137_0c9d92c473d6row20_col7,#T_ffd597ce_8286_11eb_9137_0c9d92c473d6row20_col8,#T_ffd597ce_8286_11eb_9137_0c9d92c473d6row20_col9,#T_ffd597ce_8286_11eb_9137_0c9d92c473d6row20_col10,#T_ffd597ce_8286_11eb_9137_0c9d92c473d6row20_col11,#T_ffd597ce_8286_11eb_9137_0c9d92c473d6row20_col12,#T_ffd597ce_8286_11eb_9137_0c9d92c473d6row20_col13,#T_ffd597ce_8286_11eb_9137_0c9d92c473d6row20_col16,#T_ffd597ce_8286_11eb_9137_0c9d92c473d6row20_col17,#T_ffd597ce_8286_11eb_9137_0c9d92c473d6row20_col18,#T_ffd597ce_8286_11eb_9137_0c9d92c473d6row20_col19,#T_ffd597ce_8286_11eb_9137_0c9d92c473d6row20_col20,#T_ffd597ce_8286_11eb_9137_0c9d92c473d6row21_col0,#T_ffd597ce_8286_11eb_9137_0c9d92c473d6row21_col2,#T_ffd597ce_8286_11eb_9137_0c9d92c473d6row21_col3,#T_ffd597ce_8286_11eb_9137_0c9d92c473d6row21_col4,#T_ffd597ce_8286_11eb_9137_0c9d92c473d6row21_col5,#T_ffd597ce_8286_11eb_9137_0c9d92c473d6row21_col6,#T_ffd597ce_8286_11eb_9137_0c9d92c473d6row21_col7,#T_ffd597ce_8286_11eb_9137_0c9d92c473d6row21_col8,#T_ffd597ce_8286_11eb_9137_0c9d92c473d6row21_col9,#T_ffd597ce_8286_11eb_9137_0c9d92c473d6row21_col10,#T_ffd597ce_8286_11eb_9137_0c9d92c473d6row21_col11,#T_ffd597ce_8286_11eb_9137_0c9d92c473d6row21_col12,#T_ffd597ce_8286_11eb_9137_0c9d92c473d6row21_col13,#T_ffd597ce_8286_11eb_9137_0c9d92c473d6row21_col15,#T_ffd597ce_8286_11eb_9137_0c9d92c473d6row21_col16,#T_ffd597ce_8286_11eb_9137_0c9d92c473d6row21_col17,#T_ffd597ce_8286_11eb_9137_0c9d92c473d6row21_col18,#T_ffd597ce_8286_11eb_9137_0c9d92c473d6row21_col19,#T_ffd597ce_8286_11eb_9137_0c9d92c473d6row21_col20,#T_ffd597ce_8286_11eb_9137_0c9d92c473d6row21_col21,#T_ffd597ce_8286_11eb_9137_0c9d92c473d6row22_col2,#T_ffd597ce_8286_11eb_9137_0c9d92c473d6row22_col3,#T_ffd597ce_8286_11eb_9137_0c9d92c473d6row22_col4,#T_ffd597ce_8286_11eb_9137_0c9d92c473d6row22_col5,#T_ffd597ce_8286_11eb_9137_0c9d92c473d6row22_col6,#T_ffd597ce_8286_11eb_9137_0c9d92c473d6row22_col7,#T_ffd597ce_8286_11eb_9137_0c9d92c473d6row22_col8,#T_ffd597ce_8286_11eb_9137_0c9d92c473d6row22_col9,#T_ffd597ce_8286_11eb_9137_0c9d92c473d6row22_col11,#T_ffd597ce_8286_11eb_9137_0c9d92c473d6row22_col12,#T_ffd597ce_8286_11eb_9137_0c9d92c473d6row22_col13,#T_ffd597ce_8286_11eb_9137_0c9d92c473d6row22_col15,#T_ffd597ce_8286_11eb_9137_0c9d92c473d6row22_col16,#T_ffd597ce_8286_11eb_9137_0c9d92c473d6row22_col17,#T_ffd597ce_8286_11eb_9137_0c9d92c473d6row22_col19,#T_ffd597ce_8286_11eb_9137_0c9d92c473d6row22_col22,#T_ffd597ce_8286_11eb_9137_0c9d92c473d6row22_col23,#T_ffd597ce_8286_11eb_9137_0c9d92c473d6row23_col1,#T_ffd597ce_8286_11eb_9137_0c9d92c473d6row23_col2,#T_ffd597ce_8286_11eb_9137_0c9d92c473d6row23_col3,#T_ffd597ce_8286_11eb_9137_0c9d92c473d6row23_col4,#T_ffd597ce_8286_11eb_9137_0c9d92c473d6row23_col5,#T_ffd597ce_8286_11eb_9137_0c9d92c473d6row23_col6,#T_ffd597ce_8286_11eb_9137_0c9d92c473d6row23_col7,#T_ffd597ce_8286_11eb_9137_0c9d92c473d6row23_col8,#T_ffd597ce_8286_11eb_9137_0c9d92c473d6row23_col9,#T_ffd597ce_8286_11eb_9137_0c9d92c473d6row23_col10,#T_ffd597ce_8286_11eb_9137_0c9d92c473d6row23_col11,#T_ffd597ce_8286_11eb_9137_0c9d92c473d6row23_col12,#T_ffd597ce_8286_11eb_9137_0c9d92c473d6row23_col13,#T_ffd597ce_8286_11eb_9137_0c9d92c473d6row23_col16,#T_ffd597ce_8286_11eb_9137_0c9d92c473d6row23_col17,#T_ffd597ce_8286_11eb_9137_0c9d92c473d6row23_col18,#T_ffd597ce_8286_11eb_9137_0c9d92c473d6row23_col19,#T_ffd597ce_8286_11eb_9137_0c9d92c473d6row23_col22,#T_ffd597ce_8286_11eb_9137_0c9d92c473d6row23_col23{\n            background-color:  #f0f1f3;\n            color:  #000000;\n        }#T_ffd597ce_8286_11eb_9137_0c9d92c473d6row0_col14,#T_ffd597ce_8286_11eb_9137_0c9d92c473d6row8_col14,#T_ffd597ce_8286_11eb_9137_0c9d92c473d6row8_col15,#T_ffd597ce_8286_11eb_9137_0c9d92c473d6row16_col15,#T_ffd597ce_8286_11eb_9137_0c9d92c473d6row17_col14,#T_ffd597ce_8286_11eb_9137_0c9d92c473d6row17_col15,#T_ffd597ce_8286_11eb_9137_0c9d92c473d6row20_col15,#T_ffd597ce_8286_11eb_9137_0c9d92c473d6row21_col14,#T_ffd597ce_8286_11eb_9137_0c9d92c473d6row22_col14,#T_ffd597ce_8286_11eb_9137_0c9d92c473d6row23_col15{\n            background-color:  #dfe4ea;\n            color:  #000000;\n        }#T_ffd597ce_8286_11eb_9137_0c9d92c473d6row0_col17,#T_ffd597ce_8286_11eb_9137_0c9d92c473d6row12_col17,#T_ffd597ce_8286_11eb_9137_0c9d92c473d6row14_col0{\n            background-color:  #9eb4c8;\n            color:  #000000;\n        }#T_ffd597ce_8286_11eb_9137_0c9d92c473d6row1_col0,#T_ffd597ce_8286_11eb_9137_0c9d92c473d6row1_col13,#T_ffd597ce_8286_11eb_9137_0c9d92c473d6row1_col16,#T_ffd597ce_8286_11eb_9137_0c9d92c473d6row2_col4,#T_ffd597ce_8286_11eb_9137_0c9d92c473d6row4_col2,#T_ffd597ce_8286_11eb_9137_0c9d92c473d6row4_col9,#T_ffd597ce_8286_11eb_9137_0c9d92c473d6row4_col15,#T_ffd597ce_8286_11eb_9137_0c9d92c473d6row5_col8,#T_ffd597ce_8286_11eb_9137_0c9d92c473d6row8_col5,#T_ffd597ce_8286_11eb_9137_0c9d92c473d6row10_col6,#T_ffd597ce_8286_11eb_9137_0c9d92c473d6row11_col12,#T_ffd597ce_8286_11eb_9137_0c9d92c473d6row12_col10,#T_ffd597ce_8286_11eb_9137_0c9d92c473d6row12_col11,#T_ffd597ce_8286_11eb_9137_0c9d92c473d6row13_col1,#T_ffd597ce_8286_11eb_9137_0c9d92c473d6row14_col23,#T_ffd597ce_8286_11eb_9137_0c9d92c473d6row17_col16,#T_ffd597ce_8286_11eb_9137_0c9d92c473d6row17_col18,#T_ffd597ce_8286_11eb_9137_0c9d92c473d6row18_col17,#T_ffd597ce_8286_11eb_9137_0c9d92c473d6row21_col22,#T_ffd597ce_8286_11eb_9137_0c9d92c473d6row22_col21,#T_ffd597ce_8286_11eb_9137_0c9d92c473d6row23_col14,#T_ffd597ce_8286_11eb_9137_0c9d92c473d6row23_col20{\n            background-color:  #023f75;\n            color:  #f1f1f1;\n        }#T_ffd597ce_8286_11eb_9137_0c9d92c473d6row1_col6{\n            background-color:  #c5d1dc;\n            color:  #000000;\n        }#T_ffd597ce_8286_11eb_9137_0c9d92c473d6row1_col9,#T_ffd597ce_8286_11eb_9137_0c9d92c473d6row5_col9,#T_ffd597ce_8286_11eb_9137_0c9d92c473d6row15_col9,#T_ffd597ce_8286_11eb_9137_0c9d92c473d6row18_col9{\n            background-color:  #bbc9d7;\n            color:  #000000;\n        }#T_ffd597ce_8286_11eb_9137_0c9d92c473d6row1_col10,#T_ffd597ce_8286_11eb_9137_0c9d92c473d6row15_col4{\n            background-color:  #dae1e7;\n            color:  #000000;\n        }#T_ffd597ce_8286_11eb_9137_0c9d92c473d6row1_col12{\n            background-color:  #e9ecef;\n            color:  #000000;\n        }#T_ffd597ce_8286_11eb_9137_0c9d92c473d6row1_col17,#T_ffd597ce_8286_11eb_9137_0c9d92c473d6row8_col17,#T_ffd597ce_8286_11eb_9137_0c9d92c473d6row10_col1,#T_ffd597ce_8286_11eb_9137_0c9d92c473d6row10_col17{\n            background-color:  #d4dce4;\n            color:  #000000;\n        }#T_ffd597ce_8286_11eb_9137_0c9d92c473d6row1_col18,#T_ffd597ce_8286_11eb_9137_0c9d92c473d6row4_col18,#T_ffd597ce_8286_11eb_9137_0c9d92c473d6row9_col18{\n            background-color:  #5a81a4;\n            color:  #000000;\n        }#T_ffd597ce_8286_11eb_9137_0c9d92c473d6row1_col20{\n            background-color:  #6c8fad;\n            color:  #000000;\n        }#T_ffd597ce_8286_11eb_9137_0c9d92c473d6row1_col21,#T_ffd597ce_8286_11eb_9137_0c9d92c473d6row2_col21,#T_ffd597ce_8286_11eb_9137_0c9d92c473d6row5_col21,#T_ffd597ce_8286_11eb_9137_0c9d92c473d6row8_col21,#T_ffd597ce_8286_11eb_9137_0c9d92c473d6row10_col21,#T_ffd597ce_8286_11eb_9137_0c9d92c473d6row11_col20,#T_ffd597ce_8286_11eb_9137_0c9d92c473d6row14_col21,#T_ffd597ce_8286_11eb_9137_0c9d92c473d6row17_col21,#T_ffd597ce_8286_11eb_9137_0c9d92c473d6row18_col1,#T_ffd597ce_8286_11eb_9137_0c9d92c473d6row20_col21{\n            background-color:  #e4e8ed;\n            color:  #000000;\n        }#T_ffd597ce_8286_11eb_9137_0c9d92c473d6row1_col22,#T_ffd597ce_8286_11eb_9137_0c9d92c473d6row10_col20,#T_ffd597ce_8286_11eb_9137_0c9d92c473d6row12_col22,#T_ffd597ce_8286_11eb_9137_0c9d92c473d6row17_col20{\n            background-color:  #dde3e9;\n            color:  #000000;\n        }#T_ffd597ce_8286_11eb_9137_0c9d92c473d6row2_col8,#T_ffd597ce_8286_11eb_9137_0c9d92c473d6row9_col10{\n            background-color:  #d0d9e2;\n            color:  #000000;\n        }#T_ffd597ce_8286_11eb_9137_0c9d92c473d6row4_col0{\n            background-color:  #6085a7;\n            color:  #000000;\n        }#T_ffd597ce_8286_11eb_9137_0c9d92c473d6row4_col1,#T_ffd597ce_8286_11eb_9137_0c9d92c473d6row6_col1,#T_ffd597ce_8286_11eb_9137_0c9d92c473d6row14_col5{\n            background-color:  #d7dee6;\n            color:  #000000;\n        }#T_ffd597ce_8286_11eb_9137_0c9d92c473d6row4_col5,#T_ffd597ce_8286_11eb_9137_0c9d92c473d6row9_col5{\n            background-color:  #e0e5ea;\n            color:  #000000;\n        }#T_ffd597ce_8286_11eb_9137_0c9d92c473d6row4_col6,#T_ffd597ce_8286_11eb_9137_0c9d92c473d6row6_col4,#T_ffd597ce_8286_11eb_9137_0c9d92c473d6row9_col1,#T_ffd597ce_8286_11eb_9137_0c9d92c473d6row13_col6,#T_ffd597ce_8286_11eb_9137_0c9d92c473d6row20_col6{\n            background-color:  #eff0f2;\n            color:  #000000;\n        }#T_ffd597ce_8286_11eb_9137_0c9d92c473d6row4_col10,#T_ffd597ce_8286_11eb_9137_0c9d92c473d6row6_col17,#T_ffd597ce_8286_11eb_9137_0c9d92c473d6row11_col17{\n            background-color:  #e4e8ec;\n            color:  #000000;\n        }#T_ffd597ce_8286_11eb_9137_0c9d92c473d6row4_col17{\n            background-color:  #86a2bb;\n            color:  #000000;\n        }#T_ffd597ce_8286_11eb_9137_0c9d92c473d6row4_col22,#T_ffd597ce_8286_11eb_9137_0c9d92c473d6row10_col4,#T_ffd597ce_8286_11eb_9137_0c9d92c473d6row15_col5,#T_ffd597ce_8286_11eb_9137_0c9d92c473d6row22_col1{\n            background-color:  #e8ebef;\n            color:  #000000;\n        }#T_ffd597ce_8286_11eb_9137_0c9d92c473d6row5_col0{\n            background-color:  #7f9db7;\n            color:  #000000;\n        }#T_ffd597ce_8286_11eb_9137_0c9d92c473d6row5_col1,#T_ffd597ce_8286_11eb_9137_0c9d92c473d6row5_col17,#T_ffd597ce_8286_11eb_9137_0c9d92c473d6row5_col20{\n            background-color:  #eceef1;\n            color:  #000000;\n        }#T_ffd597ce_8286_11eb_9137_0c9d92c473d6row5_col4,#T_ffd597ce_8286_11eb_9137_0c9d92c473d6row5_col6{\n            background-color:  #e1e5eb;\n            color:  #000000;\n        }#T_ffd597ce_8286_11eb_9137_0c9d92c473d6row5_col10,#T_ffd597ce_8286_11eb_9137_0c9d92c473d6row6_col10{\n            background-color:  #829fb9;\n            color:  #000000;\n        }#T_ffd597ce_8286_11eb_9137_0c9d92c473d6row5_col14{\n            background-color:  #457198;\n            color:  #000000;\n        }#T_ffd597ce_8286_11eb_9137_0c9d92c473d6row5_col22{\n            background-color:  #bac9d6;\n            color:  #000000;\n        }#T_ffd597ce_8286_11eb_9137_0c9d92c473d6row5_col23{\n            background-color:  #95adc3;\n            color:  #000000;\n        }#T_ffd597ce_8286_11eb_9137_0c9d92c473d6row6_col20,#T_ffd597ce_8286_11eb_9137_0c9d92c473d6row10_col9,#T_ffd597ce_8286_11eb_9137_0c9d92c473d6row16_col20{\n            background-color:  #d5dde5;\n            color:  #000000;\n        }#T_ffd597ce_8286_11eb_9137_0c9d92c473d6row8_col0,#T_ffd597ce_8286_11eb_9137_0c9d92c473d6row10_col0{\n            background-color:  #ccd6e0;\n            color:  #000000;\n        }#T_ffd597ce_8286_11eb_9137_0c9d92c473d6row8_col2{\n            background-color:  #c1ceda;\n            color:  #000000;\n        }#T_ffd597ce_8286_11eb_9137_0c9d92c473d6row8_col10,#T_ffd597ce_8286_11eb_9137_0c9d92c473d6row12_col8,#T_ffd597ce_8286_11eb_9137_0c9d92c473d6row22_col10{\n            background-color:  #edeff1;\n            color:  #000000;\n        }#T_ffd597ce_8286_11eb_9137_0c9d92c473d6row8_col18,#T_ffd597ce_8286_11eb_9137_0c9d92c473d6row9_col15,#T_ffd597ce_8286_11eb_9137_0c9d92c473d6row10_col18,#T_ffd597ce_8286_11eb_9137_0c9d92c473d6row20_col14,#T_ffd597ce_8286_11eb_9137_0c9d92c473d6row22_col18{\n            background-color:  #b3c3d2;\n            color:  #000000;\n        }#T_ffd597ce_8286_11eb_9137_0c9d92c473d6row8_col23,#T_ffd597ce_8286_11eb_9137_0c9d92c473d6row14_col22{\n            background-color:  #cbd5df;\n            color:  #000000;\n        }#T_ffd597ce_8286_11eb_9137_0c9d92c473d6row9_col4,#T_ffd597ce_8286_11eb_9137_0c9d92c473d6row10_col5{\n            background-color:  #becbd8;\n            color:  #000000;\n        }#T_ffd597ce_8286_11eb_9137_0c9d92c473d6row10_col11{\n            background-color:  #aabdce;\n            color:  #000000;\n        }#T_ffd597ce_8286_11eb_9137_0c9d92c473d6row10_col12{\n            background-color:  #668aaa;\n            color:  #000000;\n        }#T_ffd597ce_8286_11eb_9137_0c9d92c473d6row10_col22{\n            background-color:  #e3e7ec;\n            color:  #000000;\n        }#T_ffd597ce_8286_11eb_9137_0c9d92c473d6row11_col1,#T_ffd597ce_8286_11eb_9137_0c9d92c473d6row20_col1{\n            background-color:  #d1d9e2;\n            color:  #000000;\n        }#T_ffd597ce_8286_11eb_9137_0c9d92c473d6row11_col10{\n            background-color:  #8ba6be;\n            color:  #000000;\n        }#T_ffd597ce_8286_11eb_9137_0c9d92c473d6row12_col1,#T_ffd597ce_8286_11eb_9137_0c9d92c473d6row16_col1{\n            background-color:  #b2c2d2;\n            color:  #000000;\n        }#T_ffd597ce_8286_11eb_9137_0c9d92c473d6row12_col20,#T_ffd597ce_8286_11eb_9137_0c9d92c473d6row14_col20{\n            background-color:  #b0c1d1;\n            color:  #000000;\n        }#T_ffd597ce_8286_11eb_9137_0c9d92c473d6row14_col17,#T_ffd597ce_8286_11eb_9137_0c9d92c473d6row15_col17{\n            background-color:  #c5d0dc;\n            color:  #000000;\n        }#T_ffd597ce_8286_11eb_9137_0c9d92c473d6row16_col12{\n            background-color:  #e2e6eb;\n            color:  #000000;\n        }#T_ffd597ce_8286_11eb_9137_0c9d92c473d6row16_col17{\n            background-color:  #a5b9cb;\n            color:  #000000;\n        }#T_ffd597ce_8286_11eb_9137_0c9d92c473d6row17_col0{\n            background-color:  #507a9e;\n            color:  #000000;\n        }#T_ffd597ce_8286_11eb_9137_0c9d92c473d6row20_col0,#T_ffd597ce_8286_11eb_9137_0c9d92c473d6row22_col0{\n            background-color:  #dce2e8;\n            color:  #000000;\n        }#T_ffd597ce_8286_11eb_9137_0c9d92c473d6row20_col22{\n            background-color:  #b5c4d3;\n            color:  #000000;\n        }#T_ffd597ce_8286_11eb_9137_0c9d92c473d6row20_col23{\n            background-color:  #396992;\n            color:  #f1f1f1;\n        }#T_ffd597ce_8286_11eb_9137_0c9d92c473d6row21_col1{\n            background-color:  #96adc3;\n            color:  #000000;\n        }#T_ffd597ce_8286_11eb_9137_0c9d92c473d6row21_col23{\n            background-color:  #9db3c7;\n            color:  #000000;\n        }#T_ffd597ce_8286_11eb_9137_0c9d92c473d6row22_col20{\n            background-color:  #92abc1;\n            color:  #000000;\n        }#T_ffd597ce_8286_11eb_9137_0c9d92c473d6row23_col0{\n            background-color:  #bdcbd8;\n            color:  #000000;\n        }#T_ffd597ce_8286_11eb_9137_0c9d92c473d6row23_col21{\n            background-color:  #bfccd9;\n            color:  #000000;\n        }</style><table id=\"T_ffd597ce_8286_11eb_9137_0c9d92c473d6\" ><thead>    <tr>        <th class=\"blank level0\" ></th>        <th class=\"col_heading level0 col0\" >RiskPerformance</th>        <th class=\"col_heading level0 col1\" >ExternalRiskEstimate_bin_WOE</th>        <th class=\"col_heading level0 col2\" >MSinceOldestTradeOpen_bin_WOE</th>        <th class=\"col_heading level0 col3\" >MSinceMostRecentTradeOpen_bin_WOE</th>        <th class=\"col_heading level0 col4\" >AverageMInFile_bin_WOE</th>        <th class=\"col_heading level0 col5\" >NumSatisfactoryTrades_bin_WOE</th>        <th class=\"col_heading level0 col6\" >NumTrades60Ever2DerogPubRec_bin_WOE</th>        <th class=\"col_heading level0 col7\" >NumTrades90Ever2DerogPubRec_bin_WOE</th>        <th class=\"col_heading level0 col8\" >NumTotalTrades_bin_WOE</th>        <th class=\"col_heading level0 col9\" >NumTradesOpeninLast12M_bin_WOE</th>        <th class=\"col_heading level0 col10\" >PercentTradesNeverDelq_bin_WOE</th>        <th class=\"col_heading level0 col11\" >MSinceMostRecentDelq_bin_WOE</th>        <th class=\"col_heading level0 col12\" >MaxDelq2PublicRecLast12M_bin_WOE</th>        <th class=\"col_heading level0 col13\" >MaxDelqEver_bin_WOE</th>        <th class=\"col_heading level0 col14\" >PercentInstallTrades_bin_WOE</th>        <th class=\"col_heading level0 col15\" >NetFractionInstallBurden_bin_WOE</th>        <th class=\"col_heading level0 col16\" >NumInstallTradesWBalance_bin_WOE</th>        <th class=\"col_heading level0 col17\" >MSinceMostRecentInqexcl7days_bin_WOE</th>        <th class=\"col_heading level0 col18\" >NumInqLast6M_bin_WOE</th>        <th class=\"col_heading level0 col19\" >NumInqLast6Mexcl7days_bin_WOE</th>        <th class=\"col_heading level0 col20\" >NetFractionRevolvingBurden_bin_WOE</th>        <th class=\"col_heading level0 col21\" >NumRevolvingTradesWBalance_bin_WOE</th>        <th class=\"col_heading level0 col22\" >NumBank2NatlTradesWHighUtilization_bin_WOE</th>        <th class=\"col_heading level0 col23\" >PercentTradesWBalance_bin_WOE</th>    </tr></thead><tbody>\n                <tr>\n                        <th id=\"T_ffd597ce_8286_11eb_9137_0c9d92c473d6level0_row0\" class=\"row_heading level0 row0\" >RiskPerformance</th>\n                        <td id=\"T_ffd597ce_8286_11eb_9137_0c9d92c473d6row0_col0\" class=\"data row0 col0\" >0.0</td>\n                        <td id=\"T_ffd597ce_8286_11eb_9137_0c9d92c473d6row0_col1\" class=\"data row0 col1\" >0.005</td>\n                        <td id=\"T_ffd597ce_8286_11eb_9137_0c9d92c473d6row0_col2\" class=\"data row0 col2\" >0.001</td>\n                        <td id=\"T_ffd597ce_8286_11eb_9137_0c9d92c473d6row0_col3\" class=\"data row0 col3\" >0.0</td>\n                        <td id=\"T_ffd597ce_8286_11eb_9137_0c9d92c473d6row0_col4\" class=\"data row0 col4\" >0.002</td>\n                        <td id=\"T_ffd597ce_8286_11eb_9137_0c9d92c473d6row0_col5\" class=\"data row0 col5\" >0.001</td>\n                        <td id=\"T_ffd597ce_8286_11eb_9137_0c9d92c473d6row0_col6\" class=\"data row0 col6\" >0.0</td>\n                        <td id=\"T_ffd597ce_8286_11eb_9137_0c9d92c473d6row0_col7\" class=\"data row0 col7\" >0.0</td>\n                        <td id=\"T_ffd597ce_8286_11eb_9137_0c9d92c473d6row0_col8\" class=\"data row0 col8\" >0.001</td>\n                        <td id=\"T_ffd597ce_8286_11eb_9137_0c9d92c473d6row0_col9\" class=\"data row0 col9\" >0.001</td>\n                        <td id=\"T_ffd597ce_8286_11eb_9137_0c9d92c473d6row0_col10\" class=\"data row0 col10\" >0.001</td>\n                        <td id=\"T_ffd597ce_8286_11eb_9137_0c9d92c473d6row0_col11\" class=\"data row0 col11\" >0.0</td>\n                        <td id=\"T_ffd597ce_8286_11eb_9137_0c9d92c473d6row0_col12\" class=\"data row0 col12\" >0.001</td>\n                        <td id=\"T_ffd597ce_8286_11eb_9137_0c9d92c473d6row0_col13\" class=\"data row0 col13\" >0.0</td>\n                        <td id=\"T_ffd597ce_8286_11eb_9137_0c9d92c473d6row0_col14\" class=\"data row0 col14\" >0.002</td>\n                        <td id=\"T_ffd597ce_8286_11eb_9137_0c9d92c473d6row0_col15\" class=\"data row0 col15\" >0.0</td>\n                        <td id=\"T_ffd597ce_8286_11eb_9137_0c9d92c473d6row0_col16\" class=\"data row0 col16\" >0.0</td>\n                        <td id=\"T_ffd597ce_8286_11eb_9137_0c9d92c473d6row0_col17\" class=\"data row0 col17\" >0.014</td>\n                        <td id=\"T_ffd597ce_8286_11eb_9137_0c9d92c473d6row0_col18\" class=\"data row0 col18\" >0.0</td>\n                        <td id=\"T_ffd597ce_8286_11eb_9137_0c9d92c473d6row0_col19\" class=\"data row0 col19\" >0.0</td>\n                        <td id=\"T_ffd597ce_8286_11eb_9137_0c9d92c473d6row0_col20\" class=\"data row0 col20\" >0.002</td>\n                        <td id=\"T_ffd597ce_8286_11eb_9137_0c9d92c473d6row0_col21\" class=\"data row0 col21\" >0.0</td>\n                        <td id=\"T_ffd597ce_8286_11eb_9137_0c9d92c473d6row0_col22\" class=\"data row0 col22\" >0.001</td>\n                        <td id=\"T_ffd597ce_8286_11eb_9137_0c9d92c473d6row0_col23\" class=\"data row0 col23\" >0.002</td>\n            </tr>\n            <tr>\n                        <th id=\"T_ffd597ce_8286_11eb_9137_0c9d92c473d6level0_row1\" class=\"row_heading level0 row1\" >ExternalRiskEstimate_bin_WOE</th>\n                        <td id=\"T_ffd597ce_8286_11eb_9137_0c9d92c473d6row1_col0\" class=\"data row1 col0\" >0.017</td>\n                        <td id=\"T_ffd597ce_8286_11eb_9137_0c9d92c473d6row1_col1\" class=\"data row1 col1\" >0.0</td>\n                        <td id=\"T_ffd597ce_8286_11eb_9137_0c9d92c473d6row1_col2\" class=\"data row1 col2\" >0.001</td>\n                        <td id=\"T_ffd597ce_8286_11eb_9137_0c9d92c473d6row1_col3\" class=\"data row1 col3\" >0.0</td>\n                        <td id=\"T_ffd597ce_8286_11eb_9137_0c9d92c473d6row1_col4\" class=\"data row1 col4\" >0.003</td>\n                        <td id=\"T_ffd597ce_8286_11eb_9137_0c9d92c473d6row1_col5\" class=\"data row1 col5\" >0.002</td>\n                        <td id=\"T_ffd597ce_8286_11eb_9137_0c9d92c473d6row1_col6\" class=\"data row1 col6\" >0.005</td>\n                        <td id=\"T_ffd597ce_8286_11eb_9137_0c9d92c473d6row1_col7\" class=\"data row1 col7\" >0.0</td>\n                        <td id=\"T_ffd597ce_8286_11eb_9137_0c9d92c473d6row1_col8\" class=\"data row1 col8\" >0.001</td>\n                        <td id=\"T_ffd597ce_8286_11eb_9137_0c9d92c473d6row1_col9\" class=\"data row1 col9\" >0.003</td>\n                        <td id=\"T_ffd597ce_8286_11eb_9137_0c9d92c473d6row1_col10\" class=\"data row1 col10\" >0.005</td>\n                        <td id=\"T_ffd597ce_8286_11eb_9137_0c9d92c473d6row1_col11\" class=\"data row1 col11\" >0.002</td>\n                        <td id=\"T_ffd597ce_8286_11eb_9137_0c9d92c473d6row1_col12\" class=\"data row1 col12\" >0.004</td>\n                        <td id=\"T_ffd597ce_8286_11eb_9137_0c9d92c473d6row1_col13\" class=\"data row1 col13\" >0.001</td>\n                        <td id=\"T_ffd597ce_8286_11eb_9137_0c9d92c473d6row1_col14\" class=\"data row1 col14\" >0.001</td>\n                        <td id=\"T_ffd597ce_8286_11eb_9137_0c9d92c473d6row1_col15\" class=\"data row1 col15\" >0.0</td>\n                        <td id=\"T_ffd597ce_8286_11eb_9137_0c9d92c473d6row1_col16\" class=\"data row1 col16\" >0.001</td>\n                        <td id=\"T_ffd597ce_8286_11eb_9137_0c9d92c473d6row1_col17\" class=\"data row1 col17\" >0.007</td>\n                        <td id=\"T_ffd597ce_8286_11eb_9137_0c9d92c473d6row1_col18\" class=\"data row1 col18\" >0.002</td>\n                        <td id=\"T_ffd597ce_8286_11eb_9137_0c9d92c473d6row1_col19\" class=\"data row1 col19\" >0.0</td>\n                        <td id=\"T_ffd597ce_8286_11eb_9137_0c9d92c473d6row1_col20\" class=\"data row1 col20\" >0.021</td>\n                        <td id=\"T_ffd597ce_8286_11eb_9137_0c9d92c473d6row1_col21\" class=\"data row1 col21\" >0.001</td>\n                        <td id=\"T_ffd597ce_8286_11eb_9137_0c9d92c473d6row1_col22\" class=\"data row1 col22\" >0.008</td>\n                        <td id=\"T_ffd597ce_8286_11eb_9137_0c9d92c473d6row1_col23\" class=\"data row1 col23\" >0.001</td>\n            </tr>\n            <tr>\n                        <th id=\"T_ffd597ce_8286_11eb_9137_0c9d92c473d6level0_row2\" class=\"row_heading level0 row2\" >MSinceOldestTradeOpen_bin_WOE</th>\n                        <td id=\"T_ffd597ce_8286_11eb_9137_0c9d92c473d6row2_col0\" class=\"data row2 col0\" >0.001</td>\n                        <td id=\"T_ffd597ce_8286_11eb_9137_0c9d92c473d6row2_col1\" class=\"data row2 col1\" >0.003</td>\n                        <td id=\"T_ffd597ce_8286_11eb_9137_0c9d92c473d6row2_col2\" class=\"data row2 col2\" >0.0</td>\n                        <td id=\"T_ffd597ce_8286_11eb_9137_0c9d92c473d6row2_col3\" class=\"data row2 col3\" >0.0</td>\n                        <td id=\"T_ffd597ce_8286_11eb_9137_0c9d92c473d6row2_col4\" class=\"data row2 col4\" >0.038</td>\n                        <td id=\"T_ffd597ce_8286_11eb_9137_0c9d92c473d6row2_col5\" class=\"data row2 col5\" >0.001</td>\n                        <td id=\"T_ffd597ce_8286_11eb_9137_0c9d92c473d6row2_col6\" class=\"data row2 col6\" >0.0</td>\n                        <td id=\"T_ffd597ce_8286_11eb_9137_0c9d92c473d6row2_col7\" class=\"data row2 col7\" >0.0</td>\n                        <td id=\"T_ffd597ce_8286_11eb_9137_0c9d92c473d6row2_col8\" class=\"data row2 col8\" >0.006</td>\n                        <td id=\"T_ffd597ce_8286_11eb_9137_0c9d92c473d6row2_col9\" class=\"data row2 col9\" >0.0</td>\n                        <td id=\"T_ffd597ce_8286_11eb_9137_0c9d92c473d6row2_col10\" class=\"data row2 col10\" >0.002</td>\n                        <td id=\"T_ffd597ce_8286_11eb_9137_0c9d92c473d6row2_col11\" class=\"data row2 col11\" >0.0</td>\n                        <td id=\"T_ffd597ce_8286_11eb_9137_0c9d92c473d6row2_col12\" class=\"data row2 col12\" >0.002</td>\n                        <td id=\"T_ffd597ce_8286_11eb_9137_0c9d92c473d6row2_col13\" class=\"data row2 col13\" >0.0</td>\n                        <td id=\"T_ffd597ce_8286_11eb_9137_0c9d92c473d6row2_col14\" class=\"data row2 col14\" >0.0</td>\n                        <td id=\"T_ffd597ce_8286_11eb_9137_0c9d92c473d6row2_col15\" class=\"data row2 col15\" >0.0</td>\n                        <td id=\"T_ffd597ce_8286_11eb_9137_0c9d92c473d6row2_col16\" class=\"data row2 col16\" >0.0</td>\n                        <td id=\"T_ffd597ce_8286_11eb_9137_0c9d92c473d6row2_col17\" class=\"data row2 col17\" >0.0</td>\n                        <td id=\"T_ffd597ce_8286_11eb_9137_0c9d92c473d6row2_col18\" class=\"data row2 col18\" >0.0</td>\n                        <td id=\"T_ffd597ce_8286_11eb_9137_0c9d92c473d6row2_col19\" class=\"data row2 col19\" >0.0</td>\n                        <td id=\"T_ffd597ce_8286_11eb_9137_0c9d92c473d6row2_col20\" class=\"data row2 col20\" >0.001</td>\n                        <td id=\"T_ffd597ce_8286_11eb_9137_0c9d92c473d6row2_col21\" class=\"data row2 col21\" >0.001</td>\n                        <td id=\"T_ffd597ce_8286_11eb_9137_0c9d92c473d6row2_col22\" class=\"data row2 col22\" >0.001</td>\n                        <td id=\"T_ffd597ce_8286_11eb_9137_0c9d92c473d6row2_col23\" class=\"data row2 col23\" >0.003</td>\n            </tr>\n            <tr>\n                        <th id=\"T_ffd597ce_8286_11eb_9137_0c9d92c473d6level0_row3\" class=\"row_heading level0 row3\" >MSinceMostRecentTradeOpen_bin_WOE</th>\n                        <td id=\"T_ffd597ce_8286_11eb_9137_0c9d92c473d6row3_col0\" class=\"data row3 col0\" >0.001</td>\n                        <td id=\"T_ffd597ce_8286_11eb_9137_0c9d92c473d6row3_col1\" class=\"data row3 col1\" >0.001</td>\n                        <td id=\"T_ffd597ce_8286_11eb_9137_0c9d92c473d6row3_col2\" class=\"data row3 col2\" >0.0</td>\n                        <td id=\"T_ffd597ce_8286_11eb_9137_0c9d92c473d6row3_col3\" class=\"data row3 col3\" >0.0</td>\n                        <td id=\"T_ffd597ce_8286_11eb_9137_0c9d92c473d6row3_col4\" class=\"data row3 col4\" >0.001</td>\n                        <td id=\"T_ffd597ce_8286_11eb_9137_0c9d92c473d6row3_col5\" class=\"data row3 col5\" >0.0</td>\n                        <td id=\"T_ffd597ce_8286_11eb_9137_0c9d92c473d6row3_col6\" class=\"data row3 col6\" >0.001</td>\n                        <td id=\"T_ffd597ce_8286_11eb_9137_0c9d92c473d6row3_col7\" class=\"data row3 col7\" >0.0</td>\n                        <td id=\"T_ffd597ce_8286_11eb_9137_0c9d92c473d6row3_col8\" class=\"data row3 col8\" >0.001</td>\n                        <td id=\"T_ffd597ce_8286_11eb_9137_0c9d92c473d6row3_col9\" class=\"data row3 col9\" >0.001</td>\n                        <td id=\"T_ffd597ce_8286_11eb_9137_0c9d92c473d6row3_col10\" class=\"data row3 col10\" >0.001</td>\n                        <td id=\"T_ffd597ce_8286_11eb_9137_0c9d92c473d6row3_col11\" class=\"data row3 col11\" >0.0</td>\n                        <td id=\"T_ffd597ce_8286_11eb_9137_0c9d92c473d6row3_col12\" class=\"data row3 col12\" >0.0</td>\n                        <td id=\"T_ffd597ce_8286_11eb_9137_0c9d92c473d6row3_col13\" class=\"data row3 col13\" >0.0</td>\n                        <td id=\"T_ffd597ce_8286_11eb_9137_0c9d92c473d6row3_col14\" class=\"data row3 col14\" >0.001</td>\n                        <td id=\"T_ffd597ce_8286_11eb_9137_0c9d92c473d6row3_col15\" class=\"data row3 col15\" >0.0</td>\n                        <td id=\"T_ffd597ce_8286_11eb_9137_0c9d92c473d6row3_col16\" class=\"data row3 col16\" >0.0</td>\n                        <td id=\"T_ffd597ce_8286_11eb_9137_0c9d92c473d6row3_col17\" class=\"data row3 col17\" >0.001</td>\n                        <td id=\"T_ffd597ce_8286_11eb_9137_0c9d92c473d6row3_col18\" class=\"data row3 col18\" >0.0</td>\n                        <td id=\"T_ffd597ce_8286_11eb_9137_0c9d92c473d6row3_col19\" class=\"data row3 col19\" >0.0</td>\n                        <td id=\"T_ffd597ce_8286_11eb_9137_0c9d92c473d6row3_col20\" class=\"data row3 col20\" >0.0</td>\n                        <td id=\"T_ffd597ce_8286_11eb_9137_0c9d92c473d6row3_col21\" class=\"data row3 col21\" >0.0</td>\n                        <td id=\"T_ffd597ce_8286_11eb_9137_0c9d92c473d6row3_col22\" class=\"data row3 col22\" >0.001</td>\n                        <td id=\"T_ffd597ce_8286_11eb_9137_0c9d92c473d6row3_col23\" class=\"data row3 col23\" >0.001</td>\n            </tr>\n            <tr>\n                        <th id=\"T_ffd597ce_8286_11eb_9137_0c9d92c473d6level0_row4\" class=\"row_heading level0 row4\" >AverageMInFile_bin_WOE</th>\n                        <td id=\"T_ffd597ce_8286_11eb_9137_0c9d92c473d6row4_col0\" class=\"data row4 col0\" >0.011</td>\n                        <td id=\"T_ffd597ce_8286_11eb_9137_0c9d92c473d6row4_col1\" class=\"data row4 col1\" >0.015</td>\n                        <td id=\"T_ffd597ce_8286_11eb_9137_0c9d92c473d6row4_col2\" class=\"data row4 col2\" >0.018</td>\n                        <td id=\"T_ffd597ce_8286_11eb_9137_0c9d92c473d6row4_col3\" class=\"data row4 col3\" >0.0</td>\n                        <td id=\"T_ffd597ce_8286_11eb_9137_0c9d92c473d6row4_col4\" class=\"data row4 col4\" >0.0</td>\n                        <td id=\"T_ffd597ce_8286_11eb_9137_0c9d92c473d6row4_col5\" class=\"data row4 col5\" >0.005</td>\n                        <td id=\"T_ffd597ce_8286_11eb_9137_0c9d92c473d6row4_col6\" class=\"data row4 col6\" >0.002</td>\n                        <td id=\"T_ffd597ce_8286_11eb_9137_0c9d92c473d6row4_col7\" class=\"data row4 col7\" >0.0</td>\n                        <td id=\"T_ffd597ce_8286_11eb_9137_0c9d92c473d6row4_col8\" class=\"data row4 col8\" >0.0</td>\n                        <td id=\"T_ffd597ce_8286_11eb_9137_0c9d92c473d6row4_col9\" class=\"data row4 col9\" >0.01</td>\n                        <td id=\"T_ffd597ce_8286_11eb_9137_0c9d92c473d6row4_col10\" class=\"data row4 col10\" >0.004</td>\n                        <td id=\"T_ffd597ce_8286_11eb_9137_0c9d92c473d6row4_col11\" class=\"data row4 col11\" >0.001</td>\n                        <td id=\"T_ffd597ce_8286_11eb_9137_0c9d92c473d6row4_col12\" class=\"data row4 col12\" >0.001</td>\n                        <td id=\"T_ffd597ce_8286_11eb_9137_0c9d92c473d6row4_col13\" class=\"data row4 col13\" >0.0</td>\n                        <td id=\"T_ffd597ce_8286_11eb_9137_0c9d92c473d6row4_col14\" class=\"data row4 col14\" >0.001</td>\n                        <td id=\"T_ffd597ce_8286_11eb_9137_0c9d92c473d6row4_col15\" class=\"data row4 col15\" >0.006</td>\n                        <td id=\"T_ffd597ce_8286_11eb_9137_0c9d92c473d6row4_col16\" class=\"data row4 col16\" >0.0</td>\n                        <td id=\"T_ffd597ce_8286_11eb_9137_0c9d92c473d6row4_col17\" class=\"data row4 col17\" >0.017</td>\n                        <td id=\"T_ffd597ce_8286_11eb_9137_0c9d92c473d6row4_col18\" class=\"data row4 col18\" >0.002</td>\n                        <td id=\"T_ffd597ce_8286_11eb_9137_0c9d92c473d6row4_col19\" class=\"data row4 col19\" >0.0</td>\n                        <td id=\"T_ffd597ce_8286_11eb_9137_0c9d92c473d6row4_col20\" class=\"data row4 col20\" >0.001</td>\n                        <td id=\"T_ffd597ce_8286_11eb_9137_0c9d92c473d6row4_col21\" class=\"data row4 col21\" >0.0</td>\n                        <td id=\"T_ffd597ce_8286_11eb_9137_0c9d92c473d6row4_col22\" class=\"data row4 col22\" >0.006</td>\n                        <td id=\"T_ffd597ce_8286_11eb_9137_0c9d92c473d6row4_col23\" class=\"data row4 col23\" >0.002</td>\n            </tr>\n            <tr>\n                        <th id=\"T_ffd597ce_8286_11eb_9137_0c9d92c473d6level0_row5\" class=\"row_heading level0 row5\" >NumSatisfactoryTrades_bin_WOE</th>\n                        <td id=\"T_ffd597ce_8286_11eb_9137_0c9d92c473d6row5_col0\" class=\"data row5 col0\" >0.009</td>\n                        <td id=\"T_ffd597ce_8286_11eb_9137_0c9d92c473d6row5_col1\" class=\"data row5 col1\" >0.009</td>\n                        <td id=\"T_ffd597ce_8286_11eb_9137_0c9d92c473d6row5_col2\" class=\"data row5 col2\" >0.001</td>\n                        <td id=\"T_ffd597ce_8286_11eb_9137_0c9d92c473d6row5_col3\" class=\"data row5 col3\" >0.0</td>\n                        <td id=\"T_ffd597ce_8286_11eb_9137_0c9d92c473d6row5_col4\" class=\"data row5 col4\" >0.006</td>\n                        <td id=\"T_ffd597ce_8286_11eb_9137_0c9d92c473d6row5_col5\" class=\"data row5 col5\" >0.0</td>\n                        <td id=\"T_ffd597ce_8286_11eb_9137_0c9d92c473d6row5_col6\" class=\"data row5 col6\" >0.003</td>\n                        <td id=\"T_ffd597ce_8286_11eb_9137_0c9d92c473d6row5_col7\" class=\"data row5 col7\" >0.0</td>\n                        <td id=\"T_ffd597ce_8286_11eb_9137_0c9d92c473d6row5_col8\" class=\"data row5 col8\" >0.027</td>\n                        <td id=\"T_ffd597ce_8286_11eb_9137_0c9d92c473d6row5_col9\" class=\"data row5 col9\" >0.003</td>\n                        <td id=\"T_ffd597ce_8286_11eb_9137_0c9d92c473d6row5_col10\" class=\"data row5 col10\" >0.014</td>\n                        <td id=\"T_ffd597ce_8286_11eb_9137_0c9d92c473d6row5_col11\" class=\"data row5 col11\" >0.0</td>\n                        <td id=\"T_ffd597ce_8286_11eb_9137_0c9d92c473d6row5_col12\" class=\"data row5 col12\" >0.002</td>\n                        <td id=\"T_ffd597ce_8286_11eb_9137_0c9d92c473d6row5_col13\" class=\"data row5 col13\" >0.0</td>\n                        <td id=\"T_ffd597ce_8286_11eb_9137_0c9d92c473d6row5_col14\" class=\"data row5 col14\" >0.009</td>\n                        <td id=\"T_ffd597ce_8286_11eb_9137_0c9d92c473d6row5_col15\" class=\"data row5 col15\" >0.0</td>\n                        <td id=\"T_ffd597ce_8286_11eb_9137_0c9d92c473d6row5_col16\" class=\"data row5 col16\" >0.0</td>\n                        <td id=\"T_ffd597ce_8286_11eb_9137_0c9d92c473d6row5_col17\" class=\"data row5 col17\" >0.004</td>\n                        <td id=\"T_ffd597ce_8286_11eb_9137_0c9d92c473d6row5_col18\" class=\"data row5 col18\" >0.0</td>\n                        <td id=\"T_ffd597ce_8286_11eb_9137_0c9d92c473d6row5_col19\" class=\"data row5 col19\" >0.0</td>\n                        <td id=\"T_ffd597ce_8286_11eb_9137_0c9d92c473d6row5_col20\" class=\"data row5 col20\" >0.004</td>\n                        <td id=\"T_ffd597ce_8286_11eb_9137_0c9d92c473d6row5_col21\" class=\"data row5 col21\" >0.001</td>\n                        <td id=\"T_ffd597ce_8286_11eb_9137_0c9d92c473d6row5_col22\" class=\"data row5 col22\" >0.014</td>\n                        <td id=\"T_ffd597ce_8286_11eb_9137_0c9d92c473d6row5_col23\" class=\"data row5 col23\" >0.013</td>\n            </tr>\n            <tr>\n                        <th id=\"T_ffd597ce_8286_11eb_9137_0c9d92c473d6level0_row6\" class=\"row_heading level0 row6\" >NumTrades60Ever2DerogPubRec_bin_WOE</th>\n                        <td id=\"T_ffd597ce_8286_11eb_9137_0c9d92c473d6row6_col0\" class=\"data row6 col0\" >0.0</td>\n                        <td id=\"T_ffd597ce_8286_11eb_9137_0c9d92c473d6row6_col1\" class=\"data row6 col1\" >0.015</td>\n                        <td id=\"T_ffd597ce_8286_11eb_9137_0c9d92c473d6row6_col2\" class=\"data row6 col2\" >0.0</td>\n                        <td id=\"T_ffd597ce_8286_11eb_9137_0c9d92c473d6row6_col3\" class=\"data row6 col3\" >0.0</td>\n                        <td id=\"T_ffd597ce_8286_11eb_9137_0c9d92c473d6row6_col4\" class=\"data row6 col4\" >0.004</td>\n                        <td id=\"T_ffd597ce_8286_11eb_9137_0c9d92c473d6row6_col5\" class=\"data row6 col5\" >0.003</td>\n                        <td id=\"T_ffd597ce_8286_11eb_9137_0c9d92c473d6row6_col6\" class=\"data row6 col6\" >0.0</td>\n                        <td id=\"T_ffd597ce_8286_11eb_9137_0c9d92c473d6row6_col7\" class=\"data row6 col7\" >0.0</td>\n                        <td id=\"T_ffd597ce_8286_11eb_9137_0c9d92c473d6row6_col8\" class=\"data row6 col8\" >0.001</td>\n                        <td id=\"T_ffd597ce_8286_11eb_9137_0c9d92c473d6row6_col9\" class=\"data row6 col9\" >0.0</td>\n                        <td id=\"T_ffd597ce_8286_11eb_9137_0c9d92c473d6row6_col10\" class=\"data row6 col10\" >0.014</td>\n                        <td id=\"T_ffd597ce_8286_11eb_9137_0c9d92c473d6row6_col11\" class=\"data row6 col11\" >0.0</td>\n                        <td id=\"T_ffd597ce_8286_11eb_9137_0c9d92c473d6row6_col12\" class=\"data row6 col12\" >0.003</td>\n                        <td id=\"T_ffd597ce_8286_11eb_9137_0c9d92c473d6row6_col13\" class=\"data row6 col13\" >0.0</td>\n                        <td id=\"T_ffd597ce_8286_11eb_9137_0c9d92c473d6row6_col14\" class=\"data row6 col14\" >0.0</td>\n                        <td id=\"T_ffd597ce_8286_11eb_9137_0c9d92c473d6row6_col15\" class=\"data row6 col15\" >0.0</td>\n                        <td id=\"T_ffd597ce_8286_11eb_9137_0c9d92c473d6row6_col16\" class=\"data row6 col16\" >0.0</td>\n                        <td id=\"T_ffd597ce_8286_11eb_9137_0c9d92c473d6row6_col17\" class=\"data row6 col17\" >0.005</td>\n                        <td id=\"T_ffd597ce_8286_11eb_9137_0c9d92c473d6row6_col18\" class=\"data row6 col18\" >0.0</td>\n                        <td id=\"T_ffd597ce_8286_11eb_9137_0c9d92c473d6row6_col19\" class=\"data row6 col19\" >0.0</td>\n                        <td id=\"T_ffd597ce_8286_11eb_9137_0c9d92c473d6row6_col20\" class=\"data row6 col20\" >0.007</td>\n                        <td id=\"T_ffd597ce_8286_11eb_9137_0c9d92c473d6row6_col21\" class=\"data row6 col21\" >0.0</td>\n                        <td id=\"T_ffd597ce_8286_11eb_9137_0c9d92c473d6row6_col22\" class=\"data row6 col22\" >0.002</td>\n                        <td id=\"T_ffd597ce_8286_11eb_9137_0c9d92c473d6row6_col23\" class=\"data row6 col23\" >0.0</td>\n            </tr>\n            <tr>\n                        <th id=\"T_ffd597ce_8286_11eb_9137_0c9d92c473d6level0_row7\" class=\"row_heading level0 row7\" >NumTrades90Ever2DerogPubRec_bin_WOE</th>\n                        <td id=\"T_ffd597ce_8286_11eb_9137_0c9d92c473d6row7_col0\" class=\"data row7 col0\" >0.0</td>\n                        <td id=\"T_ffd597ce_8286_11eb_9137_0c9d92c473d6row7_col1\" class=\"data row7 col1\" >0.001</td>\n                        <td id=\"T_ffd597ce_8286_11eb_9137_0c9d92c473d6row7_col2\" class=\"data row7 col2\" >0.0</td>\n                        <td id=\"T_ffd597ce_8286_11eb_9137_0c9d92c473d6row7_col3\" class=\"data row7 col3\" >0.0</td>\n                        <td id=\"T_ffd597ce_8286_11eb_9137_0c9d92c473d6row7_col4\" class=\"data row7 col4\" >0.0</td>\n                        <td id=\"T_ffd597ce_8286_11eb_9137_0c9d92c473d6row7_col5\" class=\"data row7 col5\" >0.0</td>\n                        <td id=\"T_ffd597ce_8286_11eb_9137_0c9d92c473d6row7_col6\" class=\"data row7 col6\" >0.0</td>\n                        <td id=\"T_ffd597ce_8286_11eb_9137_0c9d92c473d6row7_col7\" class=\"data row7 col7\" >0.0</td>\n                        <td id=\"T_ffd597ce_8286_11eb_9137_0c9d92c473d6row7_col8\" class=\"data row7 col8\" >0.0</td>\n                        <td id=\"T_ffd597ce_8286_11eb_9137_0c9d92c473d6row7_col9\" class=\"data row7 col9\" >0.0</td>\n                        <td id=\"T_ffd597ce_8286_11eb_9137_0c9d92c473d6row7_col10\" class=\"data row7 col10\" >0.0</td>\n                        <td id=\"T_ffd597ce_8286_11eb_9137_0c9d92c473d6row7_col11\" class=\"data row7 col11\" >0.0</td>\n                        <td id=\"T_ffd597ce_8286_11eb_9137_0c9d92c473d6row7_col12\" class=\"data row7 col12\" >0.0</td>\n                        <td id=\"T_ffd597ce_8286_11eb_9137_0c9d92c473d6row7_col13\" class=\"data row7 col13\" >0.0</td>\n                        <td id=\"T_ffd597ce_8286_11eb_9137_0c9d92c473d6row7_col14\" class=\"data row7 col14\" >0.0</td>\n                        <td id=\"T_ffd597ce_8286_11eb_9137_0c9d92c473d6row7_col15\" class=\"data row7 col15\" >0.0</td>\n                        <td id=\"T_ffd597ce_8286_11eb_9137_0c9d92c473d6row7_col16\" class=\"data row7 col16\" >0.0</td>\n                        <td id=\"T_ffd597ce_8286_11eb_9137_0c9d92c473d6row7_col17\" class=\"data row7 col17\" >0.001</td>\n                        <td id=\"T_ffd597ce_8286_11eb_9137_0c9d92c473d6row7_col18\" class=\"data row7 col18\" >0.0</td>\n                        <td id=\"T_ffd597ce_8286_11eb_9137_0c9d92c473d6row7_col19\" class=\"data row7 col19\" >0.0</td>\n                        <td id=\"T_ffd597ce_8286_11eb_9137_0c9d92c473d6row7_col20\" class=\"data row7 col20\" >0.0</td>\n                        <td id=\"T_ffd597ce_8286_11eb_9137_0c9d92c473d6row7_col21\" class=\"data row7 col21\" >0.0</td>\n                        <td id=\"T_ffd597ce_8286_11eb_9137_0c9d92c473d6row7_col22\" class=\"data row7 col22\" >0.0</td>\n                        <td id=\"T_ffd597ce_8286_11eb_9137_0c9d92c473d6row7_col23\" class=\"data row7 col23\" >0.0</td>\n            </tr>\n            <tr>\n                        <th id=\"T_ffd597ce_8286_11eb_9137_0c9d92c473d6level0_row8\" class=\"row_heading level0 row8\" >NumTotalTrades_bin_WOE</th>\n                        <td id=\"T_ffd597ce_8286_11eb_9137_0c9d92c473d6row8_col0\" class=\"data row8 col0\" >0.004</td>\n                        <td id=\"T_ffd597ce_8286_11eb_9137_0c9d92c473d6row8_col1\" class=\"data row8 col1\" >0.003</td>\n                        <td id=\"T_ffd597ce_8286_11eb_9137_0c9d92c473d6row8_col2\" class=\"data row8 col2\" >0.005</td>\n                        <td id=\"T_ffd597ce_8286_11eb_9137_0c9d92c473d6row8_col3\" class=\"data row8 col3\" >0.0</td>\n                        <td id=\"T_ffd597ce_8286_11eb_9137_0c9d92c473d6row8_col4\" class=\"data row8 col4\" >0.001</td>\n                        <td id=\"T_ffd597ce_8286_11eb_9137_0c9d92c473d6row8_col5\" class=\"data row8 col5\" >0.031</td>\n                        <td id=\"T_ffd597ce_8286_11eb_9137_0c9d92c473d6row8_col6\" class=\"data row8 col6\" >0.001</td>\n                        <td id=\"T_ffd597ce_8286_11eb_9137_0c9d92c473d6row8_col7\" class=\"data row8 col7\" >0.0</td>\n                        <td id=\"T_ffd597ce_8286_11eb_9137_0c9d92c473d6row8_col8\" class=\"data row8 col8\" >0.0</td>\n                        <td id=\"T_ffd597ce_8286_11eb_9137_0c9d92c473d6row8_col9\" class=\"data row8 col9\" >0.001</td>\n                        <td id=\"T_ffd597ce_8286_11eb_9137_0c9d92c473d6row8_col10\" class=\"data row8 col10\" >0.003</td>\n                        <td id=\"T_ffd597ce_8286_11eb_9137_0c9d92c473d6row8_col11\" class=\"data row8 col11\" >0.0</td>\n                        <td id=\"T_ffd597ce_8286_11eb_9137_0c9d92c473d6row8_col12\" class=\"data row8 col12\" >0.002</td>\n                        <td id=\"T_ffd597ce_8286_11eb_9137_0c9d92c473d6row8_col13\" class=\"data row8 col13\" >0.0</td>\n                        <td id=\"T_ffd597ce_8286_11eb_9137_0c9d92c473d6row8_col14\" class=\"data row8 col14\" >0.002</td>\n                        <td id=\"T_ffd597ce_8286_11eb_9137_0c9d92c473d6row8_col15\" class=\"data row8 col15\" >0.001</td>\n                        <td id=\"T_ffd597ce_8286_11eb_9137_0c9d92c473d6row8_col16\" class=\"data row8 col16\" >0.0</td>\n                        <td id=\"T_ffd597ce_8286_11eb_9137_0c9d92c473d6row8_col17\" class=\"data row8 col17\" >0.007</td>\n                        <td id=\"T_ffd597ce_8286_11eb_9137_0c9d92c473d6row8_col18\" class=\"data row8 col18\" >0.001</td>\n                        <td id=\"T_ffd597ce_8286_11eb_9137_0c9d92c473d6row8_col19\" class=\"data row8 col19\" >0.0</td>\n                        <td id=\"T_ffd597ce_8286_11eb_9137_0c9d92c473d6row8_col20\" class=\"data row8 col20\" >0.002</td>\n                        <td id=\"T_ffd597ce_8286_11eb_9137_0c9d92c473d6row8_col21\" class=\"data row8 col21\" >0.001</td>\n                        <td id=\"T_ffd597ce_8286_11eb_9137_0c9d92c473d6row8_col22\" class=\"data row8 col22\" >0.002</td>\n                        <td id=\"T_ffd597ce_8286_11eb_9137_0c9d92c473d6row8_col23\" class=\"data row8 col23\" >0.007</td>\n            </tr>\n            <tr>\n                        <th id=\"T_ffd597ce_8286_11eb_9137_0c9d92c473d6level0_row9\" class=\"row_heading level0 row9\" >NumTradesOpeninLast12M_bin_WOE</th>\n                        <td id=\"T_ffd597ce_8286_11eb_9137_0c9d92c473d6row9_col0\" class=\"data row9 col0\" >0.0</td>\n                        <td id=\"T_ffd597ce_8286_11eb_9137_0c9d92c473d6row9_col1\" class=\"data row9 col1\" >0.008</td>\n                        <td id=\"T_ffd597ce_8286_11eb_9137_0c9d92c473d6row9_col2\" class=\"data row9 col2\" >0.001</td>\n                        <td id=\"T_ffd597ce_8286_11eb_9137_0c9d92c473d6row9_col3\" class=\"data row9 col3\" >0.0</td>\n                        <td id=\"T_ffd597ce_8286_11eb_9137_0c9d92c473d6row9_col4\" class=\"data row9 col4\" >0.011</td>\n                        <td id=\"T_ffd597ce_8286_11eb_9137_0c9d92c473d6row9_col5\" class=\"data row9 col5\" >0.005</td>\n                        <td id=\"T_ffd597ce_8286_11eb_9137_0c9d92c473d6row9_col6\" class=\"data row9 col6\" >0.0</td>\n                        <td id=\"T_ffd597ce_8286_11eb_9137_0c9d92c473d6row9_col7\" class=\"data row9 col7\" >0.0</td>\n                        <td id=\"T_ffd597ce_8286_11eb_9137_0c9d92c473d6row9_col8\" class=\"data row9 col8\" >0.002</td>\n                        <td id=\"T_ffd597ce_8286_11eb_9137_0c9d92c473d6row9_col9\" class=\"data row9 col9\" >0.0</td>\n                        <td id=\"T_ffd597ce_8286_11eb_9137_0c9d92c473d6row9_col10\" class=\"data row9 col10\" >0.006</td>\n                        <td id=\"T_ffd597ce_8286_11eb_9137_0c9d92c473d6row9_col11\" class=\"data row9 col11\" >0.0</td>\n                        <td id=\"T_ffd597ce_8286_11eb_9137_0c9d92c473d6row9_col12\" class=\"data row9 col12\" >0.001</td>\n                        <td id=\"T_ffd597ce_8286_11eb_9137_0c9d92c473d6row9_col13\" class=\"data row9 col13\" >0.0</td>\n                        <td id=\"T_ffd597ce_8286_11eb_9137_0c9d92c473d6row9_col14\" class=\"data row9 col14\" >0.0</td>\n                        <td id=\"T_ffd597ce_8286_11eb_9137_0c9d92c473d6row9_col15\" class=\"data row9 col15\" >0.002</td>\n                        <td id=\"T_ffd597ce_8286_11eb_9137_0c9d92c473d6row9_col16\" class=\"data row9 col16\" >0.0</td>\n                        <td id=\"T_ffd597ce_8286_11eb_9137_0c9d92c473d6row9_col17\" class=\"data row9 col17\" >0.001</td>\n                        <td id=\"T_ffd597ce_8286_11eb_9137_0c9d92c473d6row9_col18\" class=\"data row9 col18\" >0.002</td>\n                        <td id=\"T_ffd597ce_8286_11eb_9137_0c9d92c473d6row9_col19\" class=\"data row9 col19\" >0.0</td>\n                        <td id=\"T_ffd597ce_8286_11eb_9137_0c9d92c473d6row9_col20\" class=\"data row9 col20\" >0.001</td>\n                        <td id=\"T_ffd597ce_8286_11eb_9137_0c9d92c473d6row9_col21\" class=\"data row9 col21\" >0.0</td>\n                        <td id=\"T_ffd597ce_8286_11eb_9137_0c9d92c473d6row9_col22\" class=\"data row9 col22\" >0.001</td>\n                        <td id=\"T_ffd597ce_8286_11eb_9137_0c9d92c473d6row9_col23\" class=\"data row9 col23\" >0.002</td>\n            </tr>\n            <tr>\n                        <th id=\"T_ffd597ce_8286_11eb_9137_0c9d92c473d6level0_row10\" class=\"row_heading level0 row10\" >PercentTradesNeverDelq_bin_WOE</th>\n                        <td id=\"T_ffd597ce_8286_11eb_9137_0c9d92c473d6row10_col0\" class=\"data row10 col0\" >0.004</td>\n                        <td id=\"T_ffd597ce_8286_11eb_9137_0c9d92c473d6row10_col1\" class=\"data row10 col1\" >0.016</td>\n                        <td id=\"T_ffd597ce_8286_11eb_9137_0c9d92c473d6row10_col2\" class=\"data row10 col2\" >0.001</td>\n                        <td id=\"T_ffd597ce_8286_11eb_9137_0c9d92c473d6row10_col3\" class=\"data row10 col3\" >0.0</td>\n                        <td id=\"T_ffd597ce_8286_11eb_9137_0c9d92c473d6row10_col4\" class=\"data row10 col4\" >0.005</td>\n                        <td id=\"T_ffd597ce_8286_11eb_9137_0c9d92c473d6row10_col5\" class=\"data row10 col5\" >0.009</td>\n                        <td id=\"T_ffd597ce_8286_11eb_9137_0c9d92c473d6row10_col6\" class=\"data row10 col6\" >0.019</td>\n                        <td id=\"T_ffd597ce_8286_11eb_9137_0c9d92c473d6row10_col7\" class=\"data row10 col7\" >0.0</td>\n                        <td id=\"T_ffd597ce_8286_11eb_9137_0c9d92c473d6row10_col8\" class=\"data row10 col8\" >0.0</td>\n                        <td id=\"T_ffd597ce_8286_11eb_9137_0c9d92c473d6row10_col9\" class=\"data row10 col9\" >0.002</td>\n                        <td id=\"T_ffd597ce_8286_11eb_9137_0c9d92c473d6row10_col10\" class=\"data row10 col10\" >0.0</td>\n                        <td id=\"T_ffd597ce_8286_11eb_9137_0c9d92c473d6row10_col11\" class=\"data row10 col11\" >0.008</td>\n                        <td id=\"T_ffd597ce_8286_11eb_9137_0c9d92c473d6row10_col12\" class=\"data row10 col12\" >0.02</td>\n                        <td id=\"T_ffd597ce_8286_11eb_9137_0c9d92c473d6row10_col13\" class=\"data row10 col13\" >0.0</td>\n                        <td id=\"T_ffd597ce_8286_11eb_9137_0c9d92c473d6row10_col14\" class=\"data row10 col14\" >0.0</td>\n                        <td id=\"T_ffd597ce_8286_11eb_9137_0c9d92c473d6row10_col15\" class=\"data row10 col15\" >0.0</td>\n                        <td id=\"T_ffd597ce_8286_11eb_9137_0c9d92c473d6row10_col16\" class=\"data row10 col16\" >0.0</td>\n                        <td id=\"T_ffd597ce_8286_11eb_9137_0c9d92c473d6row10_col17\" class=\"data row10 col17\" >0.007</td>\n                        <td id=\"T_ffd597ce_8286_11eb_9137_0c9d92c473d6row10_col18\" class=\"data row10 col18\" >0.001</td>\n                        <td id=\"T_ffd597ce_8286_11eb_9137_0c9d92c473d6row10_col19\" class=\"data row10 col19\" >0.0</td>\n                        <td id=\"T_ffd597ce_8286_11eb_9137_0c9d92c473d6row10_col20\" class=\"data row10 col20\" >0.006</td>\n                        <td id=\"T_ffd597ce_8286_11eb_9137_0c9d92c473d6row10_col21\" class=\"data row10 col21\" >0.001</td>\n                        <td id=\"T_ffd597ce_8286_11eb_9137_0c9d92c473d6row10_col22\" class=\"data row10 col22\" >0.007</td>\n                        <td id=\"T_ffd597ce_8286_11eb_9137_0c9d92c473d6row10_col23\" class=\"data row10 col23\" >0.002</td>\n            </tr>\n            <tr>\n                        <th id=\"T_ffd597ce_8286_11eb_9137_0c9d92c473d6level0_row11\" class=\"row_heading level0 row11\" >MSinceMostRecentDelq_bin_WOE</th>\n                        <td id=\"T_ffd597ce_8286_11eb_9137_0c9d92c473d6row11_col0\" class=\"data row11 col0\" >0.0</td>\n                        <td id=\"T_ffd597ce_8286_11eb_9137_0c9d92c473d6row11_col1\" class=\"data row11 col1\" >0.017</td>\n                        <td id=\"T_ffd597ce_8286_11eb_9137_0c9d92c473d6row11_col2\" class=\"data row11 col2\" >0.001</td>\n                        <td id=\"T_ffd597ce_8286_11eb_9137_0c9d92c473d6row11_col3\" class=\"data row11 col3\" >0.0</td>\n                        <td id=\"T_ffd597ce_8286_11eb_9137_0c9d92c473d6row11_col4\" class=\"data row11 col4\" >0.002</td>\n                        <td id=\"T_ffd597ce_8286_11eb_9137_0c9d92c473d6row11_col5\" class=\"data row11 col5\" >0.002</td>\n                        <td id=\"T_ffd597ce_8286_11eb_9137_0c9d92c473d6row11_col6\" class=\"data row11 col6\" >0.001</td>\n                        <td id=\"T_ffd597ce_8286_11eb_9137_0c9d92c473d6row11_col7\" class=\"data row11 col7\" >0.0</td>\n                        <td id=\"T_ffd597ce_8286_11eb_9137_0c9d92c473d6row11_col8\" class=\"data row11 col8\" >0.001</td>\n                        <td id=\"T_ffd597ce_8286_11eb_9137_0c9d92c473d6row11_col9\" class=\"data row11 col9\" >0.0</td>\n                        <td id=\"T_ffd597ce_8286_11eb_9137_0c9d92c473d6row11_col10\" class=\"data row11 col10\" >0.013</td>\n                        <td id=\"T_ffd597ce_8286_11eb_9137_0c9d92c473d6row11_col11\" class=\"data row11 col11\" >0.0</td>\n                        <td id=\"T_ffd597ce_8286_11eb_9137_0c9d92c473d6row11_col12\" class=\"data row11 col12\" >0.032</td>\n                        <td id=\"T_ffd597ce_8286_11eb_9137_0c9d92c473d6row11_col13\" class=\"data row11 col13\" >0.0</td>\n                        <td id=\"T_ffd597ce_8286_11eb_9137_0c9d92c473d6row11_col14\" class=\"data row11 col14\" >0.001</td>\n                        <td id=\"T_ffd597ce_8286_11eb_9137_0c9d92c473d6row11_col15\" class=\"data row11 col15\" >0.0</td>\n                        <td id=\"T_ffd597ce_8286_11eb_9137_0c9d92c473d6row11_col16\" class=\"data row11 col16\" >0.0</td>\n                        <td id=\"T_ffd597ce_8286_11eb_9137_0c9d92c473d6row11_col17\" class=\"data row11 col17\" >0.005</td>\n                        <td id=\"T_ffd597ce_8286_11eb_9137_0c9d92c473d6row11_col18\" class=\"data row11 col18\" >0.0</td>\n                        <td id=\"T_ffd597ce_8286_11eb_9137_0c9d92c473d6row11_col19\" class=\"data row11 col19\" >0.0</td>\n                        <td id=\"T_ffd597ce_8286_11eb_9137_0c9d92c473d6row11_col20\" class=\"data row11 col20\" >0.005</td>\n                        <td id=\"T_ffd597ce_8286_11eb_9137_0c9d92c473d6row11_col21\" class=\"data row11 col21\" >0.0</td>\n                        <td id=\"T_ffd597ce_8286_11eb_9137_0c9d92c473d6row11_col22\" class=\"data row11 col22\" >0.002</td>\n                        <td id=\"T_ffd597ce_8286_11eb_9137_0c9d92c473d6row11_col23\" class=\"data row11 col23\" >0.001</td>\n            </tr>\n            <tr>\n                        <th id=\"T_ffd597ce_8286_11eb_9137_0c9d92c473d6level0_row12\" class=\"row_heading level0 row12\" >MaxDelq2PublicRecLast12M_bin_WOE</th>\n                        <td id=\"T_ffd597ce_8286_11eb_9137_0c9d92c473d6row12_col0\" class=\"data row12 col0\" >0.001</td>\n                        <td id=\"T_ffd597ce_8286_11eb_9137_0c9d92c473d6row12_col1\" class=\"data row12 col1\" >0.026</td>\n                        <td id=\"T_ffd597ce_8286_11eb_9137_0c9d92c473d6row12_col2\" class=\"data row12 col2\" >0.001</td>\n                        <td id=\"T_ffd597ce_8286_11eb_9137_0c9d92c473d6row12_col3\" class=\"data row12 col3\" >0.0</td>\n                        <td id=\"T_ffd597ce_8286_11eb_9137_0c9d92c473d6row12_col4\" class=\"data row12 col4\" >0.001</td>\n                        <td id=\"T_ffd597ce_8286_11eb_9137_0c9d92c473d6row12_col5\" class=\"data row12 col5\" >0.002</td>\n                        <td id=\"T_ffd597ce_8286_11eb_9137_0c9d92c473d6row12_col6\" class=\"data row12 col6\" >0.001</td>\n                        <td id=\"T_ffd597ce_8286_11eb_9137_0c9d92c473d6row12_col7\" class=\"data row12 col7\" >0.0</td>\n                        <td id=\"T_ffd597ce_8286_11eb_9137_0c9d92c473d6row12_col8\" class=\"data row12 col8\" >0.003</td>\n                        <td id=\"T_ffd597ce_8286_11eb_9137_0c9d92c473d6row12_col9\" class=\"data row12 col9\" >0.0</td>\n                        <td id=\"T_ffd597ce_8286_11eb_9137_0c9d92c473d6row12_col10\" class=\"data row12 col10\" >0.027</td>\n                        <td id=\"T_ffd597ce_8286_11eb_9137_0c9d92c473d6row12_col11\" class=\"data row12 col11\" >0.022</td>\n                        <td id=\"T_ffd597ce_8286_11eb_9137_0c9d92c473d6row12_col12\" class=\"data row12 col12\" >0.0</td>\n                        <td id=\"T_ffd597ce_8286_11eb_9137_0c9d92c473d6row12_col13\" class=\"data row12 col13\" >0.0</td>\n                        <td id=\"T_ffd597ce_8286_11eb_9137_0c9d92c473d6row12_col14\" class=\"data row12 col14\" >0.0</td>\n                        <td id=\"T_ffd597ce_8286_11eb_9137_0c9d92c473d6row12_col15\" class=\"data row12 col15\" >0.0</td>\n                        <td id=\"T_ffd597ce_8286_11eb_9137_0c9d92c473d6row12_col16\" class=\"data row12 col16\" >0.0</td>\n                        <td id=\"T_ffd597ce_8286_11eb_9137_0c9d92c473d6row12_col17\" class=\"data row12 col17\" >0.014</td>\n                        <td id=\"T_ffd597ce_8286_11eb_9137_0c9d92c473d6row12_col18\" class=\"data row12 col18\" >0.0</td>\n                        <td id=\"T_ffd597ce_8286_11eb_9137_0c9d92c473d6row12_col19\" class=\"data row12 col19\" >0.0</td>\n                        <td id=\"T_ffd597ce_8286_11eb_9137_0c9d92c473d6row12_col20\" class=\"data row12 col20\" >0.012</td>\n                        <td id=\"T_ffd597ce_8286_11eb_9137_0c9d92c473d6row12_col21\" class=\"data row12 col21\" >0.0</td>\n                        <td id=\"T_ffd597ce_8286_11eb_9137_0c9d92c473d6row12_col22\" class=\"data row12 col22\" >0.008</td>\n                        <td id=\"T_ffd597ce_8286_11eb_9137_0c9d92c473d6row12_col23\" class=\"data row12 col23\" >0.001</td>\n            </tr>\n            <tr>\n                        <th id=\"T_ffd597ce_8286_11eb_9137_0c9d92c473d6level0_row13\" class=\"row_heading level0 row13\" >MaxDelqEver_bin_WOE</th>\n                        <td id=\"T_ffd597ce_8286_11eb_9137_0c9d92c473d6row13_col0\" class=\"data row13 col0\" >0.001</td>\n                        <td id=\"T_ffd597ce_8286_11eb_9137_0c9d92c473d6row13_col1\" class=\"data row13 col1\" >0.077</td>\n                        <td id=\"T_ffd597ce_8286_11eb_9137_0c9d92c473d6row13_col2\" class=\"data row13 col2\" >0.0</td>\n                        <td id=\"T_ffd597ce_8286_11eb_9137_0c9d92c473d6row13_col3\" class=\"data row13 col3\" >0.0</td>\n                        <td id=\"T_ffd597ce_8286_11eb_9137_0c9d92c473d6row13_col4\" class=\"data row13 col4\" >0.001</td>\n                        <td id=\"T_ffd597ce_8286_11eb_9137_0c9d92c473d6row13_col5\" class=\"data row13 col5\" >0.0</td>\n                        <td id=\"T_ffd597ce_8286_11eb_9137_0c9d92c473d6row13_col6\" class=\"data row13 col6\" >0.002</td>\n                        <td id=\"T_ffd597ce_8286_11eb_9137_0c9d92c473d6row13_col7\" class=\"data row13 col7\" >0.0</td>\n                        <td id=\"T_ffd597ce_8286_11eb_9137_0c9d92c473d6row13_col8\" class=\"data row13 col8\" >0.001</td>\n                        <td id=\"T_ffd597ce_8286_11eb_9137_0c9d92c473d6row13_col9\" class=\"data row13 col9\" >0.001</td>\n                        <td id=\"T_ffd597ce_8286_11eb_9137_0c9d92c473d6row13_col10\" class=\"data row13 col10\" >0.001</td>\n                        <td id=\"T_ffd597ce_8286_11eb_9137_0c9d92c473d6row13_col11\" class=\"data row13 col11\" >0.0</td>\n                        <td id=\"T_ffd597ce_8286_11eb_9137_0c9d92c473d6row13_col12\" class=\"data row13 col12\" >0.0</td>\n                        <td id=\"T_ffd597ce_8286_11eb_9137_0c9d92c473d6row13_col13\" class=\"data row13 col13\" >0.0</td>\n                        <td id=\"T_ffd597ce_8286_11eb_9137_0c9d92c473d6row13_col14\" class=\"data row13 col14\" >0.001</td>\n                        <td id=\"T_ffd597ce_8286_11eb_9137_0c9d92c473d6row13_col15\" class=\"data row13 col15\" >0.0</td>\n                        <td id=\"T_ffd597ce_8286_11eb_9137_0c9d92c473d6row13_col16\" class=\"data row13 col16\" >0.0</td>\n                        <td id=\"T_ffd597ce_8286_11eb_9137_0c9d92c473d6row13_col17\" class=\"data row13 col17\" >0.001</td>\n                        <td id=\"T_ffd597ce_8286_11eb_9137_0c9d92c473d6row13_col18\" class=\"data row13 col18\" >0.0</td>\n                        <td id=\"T_ffd597ce_8286_11eb_9137_0c9d92c473d6row13_col19\" class=\"data row13 col19\" >0.0</td>\n                        <td id=\"T_ffd597ce_8286_11eb_9137_0c9d92c473d6row13_col20\" class=\"data row13 col20\" >0.002</td>\n                        <td id=\"T_ffd597ce_8286_11eb_9137_0c9d92c473d6row13_col21\" class=\"data row13 col21\" >0.0</td>\n                        <td id=\"T_ffd597ce_8286_11eb_9137_0c9d92c473d6row13_col22\" class=\"data row13 col22\" >0.001</td>\n                        <td id=\"T_ffd597ce_8286_11eb_9137_0c9d92c473d6row13_col23\" class=\"data row13 col23\" >0.001</td>\n            </tr>\n            <tr>\n                        <th id=\"T_ffd597ce_8286_11eb_9137_0c9d92c473d6level0_row14\" class=\"row_heading level0 row14\" >PercentInstallTrades_bin_WOE</th>\n                        <td id=\"T_ffd597ce_8286_11eb_9137_0c9d92c473d6row14_col0\" class=\"data row14 col0\" >0.007</td>\n                        <td id=\"T_ffd597ce_8286_11eb_9137_0c9d92c473d6row14_col1\" class=\"data row14 col1\" >0.005</td>\n                        <td id=\"T_ffd597ce_8286_11eb_9137_0c9d92c473d6row14_col2\" class=\"data row14 col2\" >0.001</td>\n                        <td id=\"T_ffd597ce_8286_11eb_9137_0c9d92c473d6row14_col3\" class=\"data row14 col3\" >0.0</td>\n                        <td id=\"T_ffd597ce_8286_11eb_9137_0c9d92c473d6row14_col4\" class=\"data row14 col4\" >0.002</td>\n                        <td id=\"T_ffd597ce_8286_11eb_9137_0c9d92c473d6row14_col5\" class=\"data row14 col5\" >0.006</td>\n                        <td id=\"T_ffd597ce_8286_11eb_9137_0c9d92c473d6row14_col6\" class=\"data row14 col6\" >0.001</td>\n                        <td id=\"T_ffd597ce_8286_11eb_9137_0c9d92c473d6row14_col7\" class=\"data row14 col7\" >0.0</td>\n                        <td id=\"T_ffd597ce_8286_11eb_9137_0c9d92c473d6row14_col8\" class=\"data row14 col8\" >0.001</td>\n                        <td id=\"T_ffd597ce_8286_11eb_9137_0c9d92c473d6row14_col9\" class=\"data row14 col9\" >0.001</td>\n                        <td id=\"T_ffd597ce_8286_11eb_9137_0c9d92c473d6row14_col10\" class=\"data row14 col10\" >0.001</td>\n                        <td id=\"T_ffd597ce_8286_11eb_9137_0c9d92c473d6row14_col11\" class=\"data row14 col11\" >0.0</td>\n                        <td id=\"T_ffd597ce_8286_11eb_9137_0c9d92c473d6row14_col12\" class=\"data row14 col12\" >0.001</td>\n                        <td id=\"T_ffd597ce_8286_11eb_9137_0c9d92c473d6row14_col13\" class=\"data row14 col13\" >0.0</td>\n                        <td id=\"T_ffd597ce_8286_11eb_9137_0c9d92c473d6row14_col14\" class=\"data row14 col14\" >0.0</td>\n                        <td id=\"T_ffd597ce_8286_11eb_9137_0c9d92c473d6row14_col15\" class=\"data row14 col15\" >0.0</td>\n                        <td id=\"T_ffd597ce_8286_11eb_9137_0c9d92c473d6row14_col16\" class=\"data row14 col16\" >0.0</td>\n                        <td id=\"T_ffd597ce_8286_11eb_9137_0c9d92c473d6row14_col17\" class=\"data row14 col17\" >0.009</td>\n                        <td id=\"T_ffd597ce_8286_11eb_9137_0c9d92c473d6row14_col18\" class=\"data row14 col18\" >0.0</td>\n                        <td id=\"T_ffd597ce_8286_11eb_9137_0c9d92c473d6row14_col19\" class=\"data row14 col19\" >0.0</td>\n                        <td id=\"T_ffd597ce_8286_11eb_9137_0c9d92c473d6row14_col20\" class=\"data row14 col20\" >0.012</td>\n                        <td id=\"T_ffd597ce_8286_11eb_9137_0c9d92c473d6row14_col21\" class=\"data row14 col21\" >0.001</td>\n                        <td id=\"T_ffd597ce_8286_11eb_9137_0c9d92c473d6row14_col22\" class=\"data row14 col22\" >0.011</td>\n                        <td id=\"T_ffd597ce_8286_11eb_9137_0c9d92c473d6row14_col23\" class=\"data row14 col23\" >0.029</td>\n            </tr>\n            <tr>\n                        <th id=\"T_ffd597ce_8286_11eb_9137_0c9d92c473d6level0_row15\" class=\"row_heading level0 row15\" >NetFractionInstallBurden_bin_WOE</th>\n                        <td id=\"T_ffd597ce_8286_11eb_9137_0c9d92c473d6row15_col0\" class=\"data row15 col0\" >0.0</td>\n                        <td id=\"T_ffd597ce_8286_11eb_9137_0c9d92c473d6row15_col1\" class=\"data row15 col1\" >0.0</td>\n                        <td id=\"T_ffd597ce_8286_11eb_9137_0c9d92c473d6row15_col2\" class=\"data row15 col2\" >0.0</td>\n                        <td id=\"T_ffd597ce_8286_11eb_9137_0c9d92c473d6row15_col3\" class=\"data row15 col3\" >0.0</td>\n                        <td id=\"T_ffd597ce_8286_11eb_9137_0c9d92c473d6row15_col4\" class=\"data row15 col4\" >0.007</td>\n                        <td id=\"T_ffd597ce_8286_11eb_9137_0c9d92c473d6row15_col5\" class=\"data row15 col5\" >0.004</td>\n                        <td id=\"T_ffd597ce_8286_11eb_9137_0c9d92c473d6row15_col6\" class=\"data row15 col6\" >0.001</td>\n                        <td id=\"T_ffd597ce_8286_11eb_9137_0c9d92c473d6row15_col7\" class=\"data row15 col7\" >0.0</td>\n                        <td id=\"T_ffd597ce_8286_11eb_9137_0c9d92c473d6row15_col8\" class=\"data row15 col8\" >0.002</td>\n                        <td id=\"T_ffd597ce_8286_11eb_9137_0c9d92c473d6row15_col9\" class=\"data row15 col9\" >0.003</td>\n                        <td id=\"T_ffd597ce_8286_11eb_9137_0c9d92c473d6row15_col10\" class=\"data row15 col10\" >0.001</td>\n                        <td id=\"T_ffd597ce_8286_11eb_9137_0c9d92c473d6row15_col11\" class=\"data row15 col11\" >0.0</td>\n                        <td id=\"T_ffd597ce_8286_11eb_9137_0c9d92c473d6row15_col12\" class=\"data row15 col12\" >0.001</td>\n                        <td id=\"T_ffd597ce_8286_11eb_9137_0c9d92c473d6row15_col13\" class=\"data row15 col13\" >0.0</td>\n                        <td id=\"T_ffd597ce_8286_11eb_9137_0c9d92c473d6row15_col14\" class=\"data row15 col14\" >0.0</td>\n                        <td id=\"T_ffd597ce_8286_11eb_9137_0c9d92c473d6row15_col15\" class=\"data row15 col15\" >0.0</td>\n                        <td id=\"T_ffd597ce_8286_11eb_9137_0c9d92c473d6row15_col16\" class=\"data row15 col16\" >0.0</td>\n                        <td id=\"T_ffd597ce_8286_11eb_9137_0c9d92c473d6row15_col17\" class=\"data row15 col17\" >0.009</td>\n                        <td id=\"T_ffd597ce_8286_11eb_9137_0c9d92c473d6row15_col18\" class=\"data row15 col18\" >0.0</td>\n                        <td id=\"T_ffd597ce_8286_11eb_9137_0c9d92c473d6row15_col19\" class=\"data row15 col19\" >0.0</td>\n                        <td id=\"T_ffd597ce_8286_11eb_9137_0c9d92c473d6row15_col20\" class=\"data row15 col20\" >0.002</td>\n                        <td id=\"T_ffd597ce_8286_11eb_9137_0c9d92c473d6row15_col21\" class=\"data row15 col21\" >0.0</td>\n                        <td id=\"T_ffd597ce_8286_11eb_9137_0c9d92c473d6row15_col22\" class=\"data row15 col22\" >0.001</td>\n                        <td id=\"T_ffd597ce_8286_11eb_9137_0c9d92c473d6row15_col23\" class=\"data row15 col23\" >0.002</td>\n            </tr>\n            <tr>\n                        <th id=\"T_ffd597ce_8286_11eb_9137_0c9d92c473d6level0_row16\" class=\"row_heading level0 row16\" >NumInstallTradesWBalance_bin_WOE</th>\n                        <td id=\"T_ffd597ce_8286_11eb_9137_0c9d92c473d6row16_col0\" class=\"data row16 col0\" >0.001</td>\n                        <td id=\"T_ffd597ce_8286_11eb_9137_0c9d92c473d6row16_col1\" class=\"data row16 col1\" >0.026</td>\n                        <td id=\"T_ffd597ce_8286_11eb_9137_0c9d92c473d6row16_col2\" class=\"data row16 col2\" >0.0</td>\n                        <td id=\"T_ffd597ce_8286_11eb_9137_0c9d92c473d6row16_col3\" class=\"data row16 col3\" >0.0</td>\n                        <td id=\"T_ffd597ce_8286_11eb_9137_0c9d92c473d6row16_col4\" class=\"data row16 col4\" >0.001</td>\n                        <td id=\"T_ffd597ce_8286_11eb_9137_0c9d92c473d6row16_col5\" class=\"data row16 col5\" >0.001</td>\n                        <td id=\"T_ffd597ce_8286_11eb_9137_0c9d92c473d6row16_col6\" class=\"data row16 col6\" >0.001</td>\n                        <td id=\"T_ffd597ce_8286_11eb_9137_0c9d92c473d6row16_col7\" class=\"data row16 col7\" >0.0</td>\n                        <td id=\"T_ffd597ce_8286_11eb_9137_0c9d92c473d6row16_col8\" class=\"data row16 col8\" >0.001</td>\n                        <td id=\"T_ffd597ce_8286_11eb_9137_0c9d92c473d6row16_col9\" class=\"data row16 col9\" >0.001</td>\n                        <td id=\"T_ffd597ce_8286_11eb_9137_0c9d92c473d6row16_col10\" class=\"data row16 col10\" >0.002</td>\n                        <td id=\"T_ffd597ce_8286_11eb_9137_0c9d92c473d6row16_col11\" class=\"data row16 col11\" >0.001</td>\n                        <td id=\"T_ffd597ce_8286_11eb_9137_0c9d92c473d6row16_col12\" class=\"data row16 col12\" >0.005</td>\n                        <td id=\"T_ffd597ce_8286_11eb_9137_0c9d92c473d6row16_col13\" class=\"data row16 col13\" >0.0</td>\n                        <td id=\"T_ffd597ce_8286_11eb_9137_0c9d92c473d6row16_col14\" class=\"data row16 col14\" >0.001</td>\n                        <td id=\"T_ffd597ce_8286_11eb_9137_0c9d92c473d6row16_col15\" class=\"data row16 col15\" >0.001</td>\n                        <td id=\"T_ffd597ce_8286_11eb_9137_0c9d92c473d6row16_col16\" class=\"data row16 col16\" >0.0</td>\n                        <td id=\"T_ffd597ce_8286_11eb_9137_0c9d92c473d6row16_col17\" class=\"data row16 col17\" >0.013</td>\n                        <td id=\"T_ffd597ce_8286_11eb_9137_0c9d92c473d6row16_col18\" class=\"data row16 col18\" >0.0</td>\n                        <td id=\"T_ffd597ce_8286_11eb_9137_0c9d92c473d6row16_col19\" class=\"data row16 col19\" >0.0</td>\n                        <td id=\"T_ffd597ce_8286_11eb_9137_0c9d92c473d6row16_col20\" class=\"data row16 col20\" >0.007</td>\n                        <td id=\"T_ffd597ce_8286_11eb_9137_0c9d92c473d6row16_col21\" class=\"data row16 col21\" >0.0</td>\n                        <td id=\"T_ffd597ce_8286_11eb_9137_0c9d92c473d6row16_col22\" class=\"data row16 col22\" >0.001</td>\n                        <td id=\"T_ffd597ce_8286_11eb_9137_0c9d92c473d6row16_col23\" class=\"data row16 col23\" >0.001</td>\n            </tr>\n            <tr>\n                        <th id=\"T_ffd597ce_8286_11eb_9137_0c9d92c473d6level0_row17\" class=\"row_heading level0 row17\" >MSinceMostRecentInqexcl7days_bin_WOE</th>\n                        <td id=\"T_ffd597ce_8286_11eb_9137_0c9d92c473d6row17_col0\" class=\"data row17 col0\" >0.012</td>\n                        <td id=\"T_ffd597ce_8286_11eb_9137_0c9d92c473d6row17_col1\" class=\"data row17 col1\" >0.001</td>\n                        <td id=\"T_ffd597ce_8286_11eb_9137_0c9d92c473d6row17_col2\" class=\"data row17 col2\" >0.0</td>\n                        <td id=\"T_ffd597ce_8286_11eb_9137_0c9d92c473d6row17_col3\" class=\"data row17 col3\" >0.0</td>\n                        <td id=\"T_ffd597ce_8286_11eb_9137_0c9d92c473d6row17_col4\" class=\"data row17 col4\" >0.002</td>\n                        <td id=\"T_ffd597ce_8286_11eb_9137_0c9d92c473d6row17_col5\" class=\"data row17 col5\" >0.0</td>\n                        <td id=\"T_ffd597ce_8286_11eb_9137_0c9d92c473d6row17_col6\" class=\"data row17 col6\" >0.001</td>\n                        <td id=\"T_ffd597ce_8286_11eb_9137_0c9d92c473d6row17_col7\" class=\"data row17 col7\" >0.0</td>\n                        <td id=\"T_ffd597ce_8286_11eb_9137_0c9d92c473d6row17_col8\" class=\"data row17 col8\" >0.001</td>\n                        <td id=\"T_ffd597ce_8286_11eb_9137_0c9d92c473d6row17_col9\" class=\"data row17 col9\" >0.001</td>\n                        <td id=\"T_ffd597ce_8286_11eb_9137_0c9d92c473d6row17_col10\" class=\"data row17 col10\" >0.001</td>\n                        <td id=\"T_ffd597ce_8286_11eb_9137_0c9d92c473d6row17_col11\" class=\"data row17 col11\" >0.0</td>\n                        <td id=\"T_ffd597ce_8286_11eb_9137_0c9d92c473d6row17_col12\" class=\"data row17 col12\" >0.001</td>\n                        <td id=\"T_ffd597ce_8286_11eb_9137_0c9d92c473d6row17_col13\" class=\"data row17 col13\" >0.0</td>\n                        <td id=\"T_ffd597ce_8286_11eb_9137_0c9d92c473d6row17_col14\" class=\"data row17 col14\" >0.002</td>\n                        <td id=\"T_ffd597ce_8286_11eb_9137_0c9d92c473d6row17_col15\" class=\"data row17 col15\" >0.001</td>\n                        <td id=\"T_ffd597ce_8286_11eb_9137_0c9d92c473d6row17_col16\" class=\"data row17 col16\" >0.001</td>\n                        <td id=\"T_ffd597ce_8286_11eb_9137_0c9d92c473d6row17_col17\" class=\"data row17 col17\" >0.0</td>\n                        <td id=\"T_ffd597ce_8286_11eb_9137_0c9d92c473d6row17_col18\" class=\"data row17 col18\" >0.003</td>\n                        <td id=\"T_ffd597ce_8286_11eb_9137_0c9d92c473d6row17_col19\" class=\"data row17 col19\" >0.0</td>\n                        <td id=\"T_ffd597ce_8286_11eb_9137_0c9d92c473d6row17_col20\" class=\"data row17 col20\" >0.006</td>\n                        <td id=\"T_ffd597ce_8286_11eb_9137_0c9d92c473d6row17_col21\" class=\"data row17 col21\" >0.001</td>\n                        <td id=\"T_ffd597ce_8286_11eb_9137_0c9d92c473d6row17_col22\" class=\"data row17 col22\" >0.001</td>\n                        <td id=\"T_ffd597ce_8286_11eb_9137_0c9d92c473d6row17_col23\" class=\"data row17 col23\" >0.001</td>\n            </tr>\n            <tr>\n                        <th id=\"T_ffd597ce_8286_11eb_9137_0c9d92c473d6level0_row18\" class=\"row_heading level0 row18\" >NumInqLast6M_bin_WOE</th>\n                        <td id=\"T_ffd597ce_8286_11eb_9137_0c9d92c473d6row18_col0\" class=\"data row18 col0\" >0.001</td>\n                        <td id=\"T_ffd597ce_8286_11eb_9137_0c9d92c473d6row18_col1\" class=\"data row18 col1\" >0.011</td>\n                        <td id=\"T_ffd597ce_8286_11eb_9137_0c9d92c473d6row18_col2\" class=\"data row18 col2\" >0.0</td>\n                        <td id=\"T_ffd597ce_8286_11eb_9137_0c9d92c473d6row18_col3\" class=\"data row18 col3\" >0.0</td>\n                        <td id=\"T_ffd597ce_8286_11eb_9137_0c9d92c473d6row18_col4\" class=\"data row18 col4\" >0.001</td>\n                        <td id=\"T_ffd597ce_8286_11eb_9137_0c9d92c473d6row18_col5\" class=\"data row18 col5\" >0.0</td>\n                        <td id=\"T_ffd597ce_8286_11eb_9137_0c9d92c473d6row18_col6\" class=\"data row18 col6\" >0.0</td>\n                        <td id=\"T_ffd597ce_8286_11eb_9137_0c9d92c473d6row18_col7\" class=\"data row18 col7\" >0.0</td>\n                        <td id=\"T_ffd597ce_8286_11eb_9137_0c9d92c473d6row18_col8\" class=\"data row18 col8\" >0.0</td>\n                        <td id=\"T_ffd597ce_8286_11eb_9137_0c9d92c473d6row18_col9\" class=\"data row18 col9\" >0.003</td>\n                        <td id=\"T_ffd597ce_8286_11eb_9137_0c9d92c473d6row18_col10\" class=\"data row18 col10\" >0.001</td>\n                        <td id=\"T_ffd597ce_8286_11eb_9137_0c9d92c473d6row18_col11\" class=\"data row18 col11\" >0.001</td>\n                        <td id=\"T_ffd597ce_8286_11eb_9137_0c9d92c473d6row18_col12\" class=\"data row18 col12\" >0.001</td>\n                        <td id=\"T_ffd597ce_8286_11eb_9137_0c9d92c473d6row18_col13\" class=\"data row18 col13\" >0.0</td>\n                        <td id=\"T_ffd597ce_8286_11eb_9137_0c9d92c473d6row18_col14\" class=\"data row18 col14\" >0.0</td>\n                        <td id=\"T_ffd597ce_8286_11eb_9137_0c9d92c473d6row18_col15\" class=\"data row18 col15\" >0.0</td>\n                        <td id=\"T_ffd597ce_8286_11eb_9137_0c9d92c473d6row18_col16\" class=\"data row18 col16\" >0.0</td>\n                        <td id=\"T_ffd597ce_8286_11eb_9137_0c9d92c473d6row18_col17\" class=\"data row18 col17\" >0.034</td>\n                        <td id=\"T_ffd597ce_8286_11eb_9137_0c9d92c473d6row18_col18\" class=\"data row18 col18\" >0.0</td>\n                        <td id=\"T_ffd597ce_8286_11eb_9137_0c9d92c473d6row18_col19\" class=\"data row18 col19\" >0.0</td>\n                        <td id=\"T_ffd597ce_8286_11eb_9137_0c9d92c473d6row18_col20\" class=\"data row18 col20\" >0.002</td>\n                        <td id=\"T_ffd597ce_8286_11eb_9137_0c9d92c473d6row18_col21\" class=\"data row18 col21\" >0.0</td>\n                        <td id=\"T_ffd597ce_8286_11eb_9137_0c9d92c473d6row18_col22\" class=\"data row18 col22\" >0.002</td>\n                        <td id=\"T_ffd597ce_8286_11eb_9137_0c9d92c473d6row18_col23\" class=\"data row18 col23\" >0.001</td>\n            </tr>\n            <tr>\n                        <th id=\"T_ffd597ce_8286_11eb_9137_0c9d92c473d6level0_row19\" class=\"row_heading level0 row19\" >NumInqLast6Mexcl7days_bin_WOE</th>\n                        <td id=\"T_ffd597ce_8286_11eb_9137_0c9d92c473d6row19_col0\" class=\"data row19 col0\" >0.0</td>\n                        <td id=\"T_ffd597ce_8286_11eb_9137_0c9d92c473d6row19_col1\" class=\"data row19 col1\" >0.001</td>\n                        <td id=\"T_ffd597ce_8286_11eb_9137_0c9d92c473d6row19_col2\" class=\"data row19 col2\" >0.0</td>\n                        <td id=\"T_ffd597ce_8286_11eb_9137_0c9d92c473d6row19_col3\" class=\"data row19 col3\" >0.0</td>\n                        <td id=\"T_ffd597ce_8286_11eb_9137_0c9d92c473d6row19_col4\" class=\"data row19 col4\" >0.0</td>\n                        <td id=\"T_ffd597ce_8286_11eb_9137_0c9d92c473d6row19_col5\" class=\"data row19 col5\" >0.0</td>\n                        <td id=\"T_ffd597ce_8286_11eb_9137_0c9d92c473d6row19_col6\" class=\"data row19 col6\" >0.0</td>\n                        <td id=\"T_ffd597ce_8286_11eb_9137_0c9d92c473d6row19_col7\" class=\"data row19 col7\" >0.0</td>\n                        <td id=\"T_ffd597ce_8286_11eb_9137_0c9d92c473d6row19_col8\" class=\"data row19 col8\" >0.001</td>\n                        <td id=\"T_ffd597ce_8286_11eb_9137_0c9d92c473d6row19_col9\" class=\"data row19 col9\" >0.001</td>\n                        <td id=\"T_ffd597ce_8286_11eb_9137_0c9d92c473d6row19_col10\" class=\"data row19 col10\" >0.0</td>\n                        <td id=\"T_ffd597ce_8286_11eb_9137_0c9d92c473d6row19_col11\" class=\"data row19 col11\" >0.0</td>\n                        <td id=\"T_ffd597ce_8286_11eb_9137_0c9d92c473d6row19_col12\" class=\"data row19 col12\" >0.0</td>\n                        <td id=\"T_ffd597ce_8286_11eb_9137_0c9d92c473d6row19_col13\" class=\"data row19 col13\" >0.0</td>\n                        <td id=\"T_ffd597ce_8286_11eb_9137_0c9d92c473d6row19_col14\" class=\"data row19 col14\" >0.0</td>\n                        <td id=\"T_ffd597ce_8286_11eb_9137_0c9d92c473d6row19_col15\" class=\"data row19 col15\" >0.0</td>\n                        <td id=\"T_ffd597ce_8286_11eb_9137_0c9d92c473d6row19_col16\" class=\"data row19 col16\" >0.0</td>\n                        <td id=\"T_ffd597ce_8286_11eb_9137_0c9d92c473d6row19_col17\" class=\"data row19 col17\" >0.001</td>\n                        <td id=\"T_ffd597ce_8286_11eb_9137_0c9d92c473d6row19_col18\" class=\"data row19 col18\" >0.0</td>\n                        <td id=\"T_ffd597ce_8286_11eb_9137_0c9d92c473d6row19_col19\" class=\"data row19 col19\" >0.0</td>\n                        <td id=\"T_ffd597ce_8286_11eb_9137_0c9d92c473d6row19_col20\" class=\"data row19 col20\" >0.0</td>\n                        <td id=\"T_ffd597ce_8286_11eb_9137_0c9d92c473d6row19_col21\" class=\"data row19 col21\" >0.0</td>\n                        <td id=\"T_ffd597ce_8286_11eb_9137_0c9d92c473d6row19_col22\" class=\"data row19 col22\" >0.0</td>\n                        <td id=\"T_ffd597ce_8286_11eb_9137_0c9d92c473d6row19_col23\" class=\"data row19 col23\" >0.0</td>\n            </tr>\n            <tr>\n                        <th id=\"T_ffd597ce_8286_11eb_9137_0c9d92c473d6level0_row20\" class=\"row_heading level0 row20\" >NetFractionRevolvingBurden_bin_WOE</th>\n                        <td id=\"T_ffd597ce_8286_11eb_9137_0c9d92c473d6row20_col0\" class=\"data row20 col0\" >0.003</td>\n                        <td id=\"T_ffd597ce_8286_11eb_9137_0c9d92c473d6row20_col1\" class=\"data row20 col1\" >0.017</td>\n                        <td id=\"T_ffd597ce_8286_11eb_9137_0c9d92c473d6row20_col2\" class=\"data row20 col2\" >0.001</td>\n                        <td id=\"T_ffd597ce_8286_11eb_9137_0c9d92c473d6row20_col3\" class=\"data row20 col3\" >0.0</td>\n                        <td id=\"T_ffd597ce_8286_11eb_9137_0c9d92c473d6row20_col4\" class=\"data row20 col4\" >0.0</td>\n                        <td id=\"T_ffd597ce_8286_11eb_9137_0c9d92c473d6row20_col5\" class=\"data row20 col5\" >0.001</td>\n                        <td id=\"T_ffd597ce_8286_11eb_9137_0c9d92c473d6row20_col6\" class=\"data row20 col6\" >0.002</td>\n                        <td id=\"T_ffd597ce_8286_11eb_9137_0c9d92c473d6row20_col7\" class=\"data row20 col7\" >0.0</td>\n                        <td id=\"T_ffd597ce_8286_11eb_9137_0c9d92c473d6row20_col8\" class=\"data row20 col8\" >0.001</td>\n                        <td id=\"T_ffd597ce_8286_11eb_9137_0c9d92c473d6row20_col9\" class=\"data row20 col9\" >0.0</td>\n                        <td id=\"T_ffd597ce_8286_11eb_9137_0c9d92c473d6row20_col10\" class=\"data row20 col10\" >0.002</td>\n                        <td id=\"T_ffd597ce_8286_11eb_9137_0c9d92c473d6row20_col11\" class=\"data row20 col11\" >0.001</td>\n                        <td id=\"T_ffd597ce_8286_11eb_9137_0c9d92c473d6row20_col12\" class=\"data row20 col12\" >0.002</td>\n                        <td id=\"T_ffd597ce_8286_11eb_9137_0c9d92c473d6row20_col13\" class=\"data row20 col13\" >0.0</td>\n                        <td id=\"T_ffd597ce_8286_11eb_9137_0c9d92c473d6row20_col14\" class=\"data row20 col14\" >0.004</td>\n                        <td id=\"T_ffd597ce_8286_11eb_9137_0c9d92c473d6row20_col15\" class=\"data row20 col15\" >0.001</td>\n                        <td id=\"T_ffd597ce_8286_11eb_9137_0c9d92c473d6row20_col16\" class=\"data row20 col16\" >0.0</td>\n                        <td id=\"T_ffd597ce_8286_11eb_9137_0c9d92c473d6row20_col17\" class=\"data row20 col17\" >0.002</td>\n                        <td id=\"T_ffd597ce_8286_11eb_9137_0c9d92c473d6row20_col18\" class=\"data row20 col18\" >0.0</td>\n                        <td id=\"T_ffd597ce_8286_11eb_9137_0c9d92c473d6row20_col19\" class=\"data row20 col19\" >0.0</td>\n                        <td id=\"T_ffd597ce_8286_11eb_9137_0c9d92c473d6row20_col20\" class=\"data row20 col20\" >0.0</td>\n                        <td id=\"T_ffd597ce_8286_11eb_9137_0c9d92c473d6row20_col21\" class=\"data row20 col21\" >0.001</td>\n                        <td id=\"T_ffd597ce_8286_11eb_9137_0c9d92c473d6row20_col22\" class=\"data row20 col22\" >0.015</td>\n                        <td id=\"T_ffd597ce_8286_11eb_9137_0c9d92c473d6row20_col23\" class=\"data row20 col23\" >0.023</td>\n            </tr>\n            <tr>\n                        <th id=\"T_ffd597ce_8286_11eb_9137_0c9d92c473d6level0_row21\" class=\"row_heading level0 row21\" >NumRevolvingTradesWBalance_bin_WOE</th>\n                        <td id=\"T_ffd597ce_8286_11eb_9137_0c9d92c473d6row21_col0\" class=\"data row21 col0\" >0.0</td>\n                        <td id=\"T_ffd597ce_8286_11eb_9137_0c9d92c473d6row21_col1\" class=\"data row21 col1\" >0.034</td>\n                        <td id=\"T_ffd597ce_8286_11eb_9137_0c9d92c473d6row21_col2\" class=\"data row21 col2\" >0.0</td>\n                        <td id=\"T_ffd597ce_8286_11eb_9137_0c9d92c473d6row21_col3\" class=\"data row21 col3\" >0.0</td>\n                        <td id=\"T_ffd597ce_8286_11eb_9137_0c9d92c473d6row21_col4\" class=\"data row21 col4\" >0.003</td>\n                        <td id=\"T_ffd597ce_8286_11eb_9137_0c9d92c473d6row21_col5\" class=\"data row21 col5\" >0.002</td>\n                        <td id=\"T_ffd597ce_8286_11eb_9137_0c9d92c473d6row21_col6\" class=\"data row21 col6\" >0.001</td>\n                        <td id=\"T_ffd597ce_8286_11eb_9137_0c9d92c473d6row21_col7\" class=\"data row21 col7\" >0.0</td>\n                        <td id=\"T_ffd597ce_8286_11eb_9137_0c9d92c473d6row21_col8\" class=\"data row21 col8\" >0.001</td>\n                        <td id=\"T_ffd597ce_8286_11eb_9137_0c9d92c473d6row21_col9\" class=\"data row21 col9\" >0.001</td>\n                        <td id=\"T_ffd597ce_8286_11eb_9137_0c9d92c473d6row21_col10\" class=\"data row21 col10\" >0.002</td>\n                        <td id=\"T_ffd597ce_8286_11eb_9137_0c9d92c473d6row21_col11\" class=\"data row21 col11\" >0.0</td>\n                        <td id=\"T_ffd597ce_8286_11eb_9137_0c9d92c473d6row21_col12\" class=\"data row21 col12\" >0.0</td>\n                        <td id=\"T_ffd597ce_8286_11eb_9137_0c9d92c473d6row21_col13\" class=\"data row21 col13\" >0.0</td>\n                        <td id=\"T_ffd597ce_8286_11eb_9137_0c9d92c473d6row21_col14\" class=\"data row21 col14\" >0.002</td>\n                        <td id=\"T_ffd597ce_8286_11eb_9137_0c9d92c473d6row21_col15\" class=\"data row21 col15\" >0.0</td>\n                        <td id=\"T_ffd597ce_8286_11eb_9137_0c9d92c473d6row21_col16\" class=\"data row21 col16\" >0.0</td>\n                        <td id=\"T_ffd597ce_8286_11eb_9137_0c9d92c473d6row21_col17\" class=\"data row21 col17\" >0.003</td>\n                        <td id=\"T_ffd597ce_8286_11eb_9137_0c9d92c473d6row21_col18\" class=\"data row21 col18\" >0.0</td>\n                        <td id=\"T_ffd597ce_8286_11eb_9137_0c9d92c473d6row21_col19\" class=\"data row21 col19\" >0.0</td>\n                        <td id=\"T_ffd597ce_8286_11eb_9137_0c9d92c473d6row21_col20\" class=\"data row21 col20\" >0.001</td>\n                        <td id=\"T_ffd597ce_8286_11eb_9137_0c9d92c473d6row21_col21\" class=\"data row21 col21\" >0.0</td>\n                        <td id=\"T_ffd597ce_8286_11eb_9137_0c9d92c473d6row21_col22\" class=\"data row21 col22\" >0.046</td>\n                        <td id=\"T_ffd597ce_8286_11eb_9137_0c9d92c473d6row21_col23\" class=\"data row21 col23\" >0.012</td>\n            </tr>\n            <tr>\n                        <th id=\"T_ffd597ce_8286_11eb_9137_0c9d92c473d6level0_row22\" class=\"row_heading level0 row22\" >NumBank2NatlTradesWHighUtilization_bin_WOE</th>\n                        <td id=\"T_ffd597ce_8286_11eb_9137_0c9d92c473d6row22_col0\" class=\"data row22 col0\" >0.003</td>\n                        <td id=\"T_ffd597ce_8286_11eb_9137_0c9d92c473d6row22_col1\" class=\"data row22 col1\" >0.01</td>\n                        <td id=\"T_ffd597ce_8286_11eb_9137_0c9d92c473d6row22_col2\" class=\"data row22 col2\" >0.001</td>\n                        <td id=\"T_ffd597ce_8286_11eb_9137_0c9d92c473d6row22_col3\" class=\"data row22 col3\" >0.0</td>\n                        <td id=\"T_ffd597ce_8286_11eb_9137_0c9d92c473d6row22_col4\" class=\"data row22 col4\" >0.003</td>\n                        <td id=\"T_ffd597ce_8286_11eb_9137_0c9d92c473d6row22_col5\" class=\"data row22 col5\" >0.001</td>\n                        <td id=\"T_ffd597ce_8286_11eb_9137_0c9d92c473d6row22_col6\" class=\"data row22 col6\" >0.001</td>\n                        <td id=\"T_ffd597ce_8286_11eb_9137_0c9d92c473d6row22_col7\" class=\"data row22 col7\" >0.0</td>\n                        <td id=\"T_ffd597ce_8286_11eb_9137_0c9d92c473d6row22_col8\" class=\"data row22 col8\" >0.0</td>\n                        <td id=\"T_ffd597ce_8286_11eb_9137_0c9d92c473d6row22_col9\" class=\"data row22 col9\" >0.0</td>\n                        <td id=\"T_ffd597ce_8286_11eb_9137_0c9d92c473d6row22_col10\" class=\"data row22 col10\" >0.003</td>\n                        <td id=\"T_ffd597ce_8286_11eb_9137_0c9d92c473d6row22_col11\" class=\"data row22 col11\" >0.001</td>\n                        <td id=\"T_ffd597ce_8286_11eb_9137_0c9d92c473d6row22_col12\" class=\"data row22 col12\" >0.002</td>\n                        <td id=\"T_ffd597ce_8286_11eb_9137_0c9d92c473d6row22_col13\" class=\"data row22 col13\" >0.0</td>\n                        <td id=\"T_ffd597ce_8286_11eb_9137_0c9d92c473d6row22_col14\" class=\"data row22 col14\" >0.002</td>\n                        <td id=\"T_ffd597ce_8286_11eb_9137_0c9d92c473d6row22_col15\" class=\"data row22 col15\" >0.0</td>\n                        <td id=\"T_ffd597ce_8286_11eb_9137_0c9d92c473d6row22_col16\" class=\"data row22 col16\" >0.0</td>\n                        <td id=\"T_ffd597ce_8286_11eb_9137_0c9d92c473d6row22_col17\" class=\"data row22 col17\" >0.001</td>\n                        <td id=\"T_ffd597ce_8286_11eb_9137_0c9d92c473d6row22_col18\" class=\"data row22 col18\" >0.001</td>\n                        <td id=\"T_ffd597ce_8286_11eb_9137_0c9d92c473d6row22_col19\" class=\"data row22 col19\" >0.0</td>\n                        <td id=\"T_ffd597ce_8286_11eb_9137_0c9d92c473d6row22_col20\" class=\"data row22 col20\" >0.016</td>\n                        <td id=\"T_ffd597ce_8286_11eb_9137_0c9d92c473d6row22_col21\" class=\"data row22 col21\" >0.007</td>\n                        <td id=\"T_ffd597ce_8286_11eb_9137_0c9d92c473d6row22_col22\" class=\"data row22 col22\" >0.0</td>\n                        <td id=\"T_ffd597ce_8286_11eb_9137_0c9d92c473d6row22_col23\" class=\"data row22 col23\" >0.002</td>\n            </tr>\n            <tr>\n                        <th id=\"T_ffd597ce_8286_11eb_9137_0c9d92c473d6level0_row23\" class=\"row_heading level0 row23\" >PercentTradesWBalance_bin_WOE</th>\n                        <td id=\"T_ffd597ce_8286_11eb_9137_0c9d92c473d6row23_col0\" class=\"data row23 col0\" >0.005</td>\n                        <td id=\"T_ffd597ce_8286_11eb_9137_0c9d92c473d6row23_col1\" class=\"data row23 col1\" >0.002</td>\n                        <td id=\"T_ffd597ce_8286_11eb_9137_0c9d92c473d6row23_col2\" class=\"data row23 col2\" >0.001</td>\n                        <td id=\"T_ffd597ce_8286_11eb_9137_0c9d92c473d6row23_col3\" class=\"data row23 col3\" >0.0</td>\n                        <td id=\"T_ffd597ce_8286_11eb_9137_0c9d92c473d6row23_col4\" class=\"data row23 col4\" >0.001</td>\n                        <td id=\"T_ffd597ce_8286_11eb_9137_0c9d92c473d6row23_col5\" class=\"data row23 col5\" >0.002</td>\n                        <td id=\"T_ffd597ce_8286_11eb_9137_0c9d92c473d6row23_col6\" class=\"data row23 col6\" >0.001</td>\n                        <td id=\"T_ffd597ce_8286_11eb_9137_0c9d92c473d6row23_col7\" class=\"data row23 col7\" >0.0</td>\n                        <td id=\"T_ffd597ce_8286_11eb_9137_0c9d92c473d6row23_col8\" class=\"data row23 col8\" >0.001</td>\n                        <td id=\"T_ffd597ce_8286_11eb_9137_0c9d92c473d6row23_col9\" class=\"data row23 col9\" >0.001</td>\n                        <td id=\"T_ffd597ce_8286_11eb_9137_0c9d92c473d6row23_col10\" class=\"data row23 col10\" >0.001</td>\n                        <td id=\"T_ffd597ce_8286_11eb_9137_0c9d92c473d6row23_col11\" class=\"data row23 col11\" >0.001</td>\n                        <td id=\"T_ffd597ce_8286_11eb_9137_0c9d92c473d6row23_col12\" class=\"data row23 col12\" >0.001</td>\n                        <td id=\"T_ffd597ce_8286_11eb_9137_0c9d92c473d6row23_col13\" class=\"data row23 col13\" >0.0</td>\n                        <td id=\"T_ffd597ce_8286_11eb_9137_0c9d92c473d6row23_col14\" class=\"data row23 col14\" >0.012</td>\n                        <td id=\"T_ffd597ce_8286_11eb_9137_0c9d92c473d6row23_col15\" class=\"data row23 col15\" >0.001</td>\n                        <td id=\"T_ffd597ce_8286_11eb_9137_0c9d92c473d6row23_col16\" class=\"data row23 col16\" >0.0</td>\n                        <td id=\"T_ffd597ce_8286_11eb_9137_0c9d92c473d6row23_col17\" class=\"data row23 col17\" >0.003</td>\n                        <td id=\"T_ffd597ce_8286_11eb_9137_0c9d92c473d6row23_col18\" class=\"data row23 col18\" >0.0</td>\n                        <td id=\"T_ffd597ce_8286_11eb_9137_0c9d92c473d6row23_col19\" class=\"data row23 col19\" >0.0</td>\n                        <td id=\"T_ffd597ce_8286_11eb_9137_0c9d92c473d6row23_col20\" class=\"data row23 col20\" >0.035</td>\n                        <td id=\"T_ffd597ce_8286_11eb_9137_0c9d92c473d6row23_col21\" class=\"data row23 col21\" >0.002</td>\n                        <td id=\"T_ffd597ce_8286_11eb_9137_0c9d92c473d6row23_col22\" class=\"data row23 col22\" >0.002</td>\n                        <td id=\"T_ffd597ce_8286_11eb_9137_0c9d92c473d6row23_col23\" class=\"data row23 col23\" >0.0</td>\n            </tr>\n    </tbody></table>"
     },
     "metadata": {}
    }
   ],
   "source": [
    "import numpy as np\n",
    "import seaborn as sns\n",
    "import pandas as pd\n",
    "\n",
    "intersection_matrix = castle.get_weights(X_DAG, y_DAG)\n",
    "cm = sns.light_palette(\"#003E74\", as_cmap=True)\n",
    "x=pd.DataFrame(intersection_matrix).round(3)\n",
    "x.columns = list(df.columns.values)\n",
    "x.index = list(df.columns.values)\n",
    "x=x.style.background_gradient(cmap=cm, low=-0.1, high=0.01).format(\"{:.3}\")\n",
    "# x.index = list(df.columns.values)\n",
    "display(x)"
   ]
  },
  {
   "source": [
    "# import plotly.express as px\n",
    "# feature_idx = 0\n",
    "# fig = px.histogram([item[feature_idx] for item in intersection_matrix], marginal=\"box\", nbins=5)\n",
    "# fig.show()\n",
    "# intersection_matrix"
   ],
   "cell_type": "code",
   "metadata": {},
   "execution_count": 12,
   "outputs": []
  },
  {
   "cell_type": "code",
   "execution_count": 13,
   "metadata": {},
   "outputs": [],
   "source": [
    "def max_over_diag(mat):\n",
    "    up_tri = np.triu(mat)\n",
    "    low_tri = np.tril(mat)\n",
    "    \n",
    "    up_mask = (up_tri==np.maximum(up_tri, low_tri.T)).astype(int)\n",
    "    low_mask = (low_tri.T==np.maximum(up_tri, low_tri.T)).astype(int)\n",
    "\n",
    "    maxed_adj = (up_tri*up_mask)+(low_tri.T*low_mask).T\n",
    "\n",
    "    return maxed_adj\n",
    "\n",
    "def zero_under_t(mat, threshold):\n",
    "    mask = (mat>threshold).astype(int)\n",
    "    thresholded_mat=mat*mask\n",
    "    return thresholded_mat\n",
    "\n",
    "def castle_influence_graph(threshold):\n",
    "\n",
    "    maxed_adj = zero_under_t(max_over_diag(intersection_matrix),threshold)\n",
    "    G1 = nx.from_numpy_matrix(maxed_adj,create_using=nx.DiGraph, parallel_edges=False)\n",
    "\n",
    "    return G1\n",
    "\n",
    "def plot_influence_graph(G, out_name):\n",
    "\n",
    "    from pyvis import network as net\n",
    "    g=net.Network(notebook=True, width='100%', height='800px', directed=True)\n",
    "    g.from_nx(G)\n",
    "    for n in g.nodes:\n",
    "        n.update({'physics': False})\n",
    "    return g.show(out_name)"
   ]
  },
  {
   "cell_type": "code",
   "execution_count": 14,
   "metadata": {},
   "outputs": [],
   "source": [
    "G1 = castle_influence_graph(0.008)\n",
    "\n",
    "## add feature names\n",
    "mapping = dict(zip(G1, x.columns))\n",
    "G2 = nx.relabel_nodes(G1, mapping) \n",
    "\n",
    "# plot_influence_graph(G2, 'c.html')\n",
    "\n"
   ]
  },
  {
   "cell_type": "code",
   "execution_count": 15,
   "metadata": {},
   "outputs": [],
   "source": [
    "# nx.write_graphml(G2,\"graph_fico\")"
   ]
  },
  {
   "cell_type": "code",
   "execution_count": 16,
   "metadata": {},
   "outputs": [
    {
     "output_type": "display_data",
     "data": {
      "text/plain": "<pandas.io.formats.style.Styler at 0x7f15b5f03828>",
      "text/html": "<style  type=\"text/css\" >\n#T_ffd597cf_8286_11eb_9137_0c9d92c473d6row0_col0,#T_ffd597cf_8286_11eb_9137_0c9d92c473d6row0_col1,#T_ffd597cf_8286_11eb_9137_0c9d92c473d6row0_col2,#T_ffd597cf_8286_11eb_9137_0c9d92c473d6row0_col3,#T_ffd597cf_8286_11eb_9137_0c9d92c473d6row0_col4,#T_ffd597cf_8286_11eb_9137_0c9d92c473d6row0_col5,#T_ffd597cf_8286_11eb_9137_0c9d92c473d6row0_col6,#T_ffd597cf_8286_11eb_9137_0c9d92c473d6row0_col7,#T_ffd597cf_8286_11eb_9137_0c9d92c473d6row0_col8,#T_ffd597cf_8286_11eb_9137_0c9d92c473d6row0_col9,#T_ffd597cf_8286_11eb_9137_0c9d92c473d6row0_col10,#T_ffd597cf_8286_11eb_9137_0c9d92c473d6row0_col11,#T_ffd597cf_8286_11eb_9137_0c9d92c473d6row0_col12,#T_ffd597cf_8286_11eb_9137_0c9d92c473d6row0_col13,#T_ffd597cf_8286_11eb_9137_0c9d92c473d6row0_col14,#T_ffd597cf_8286_11eb_9137_0c9d92c473d6row0_col15,#T_ffd597cf_8286_11eb_9137_0c9d92c473d6row0_col16,#T_ffd597cf_8286_11eb_9137_0c9d92c473d6row0_col18,#T_ffd597cf_8286_11eb_9137_0c9d92c473d6row0_col19,#T_ffd597cf_8286_11eb_9137_0c9d92c473d6row0_col20,#T_ffd597cf_8286_11eb_9137_0c9d92c473d6row0_col21,#T_ffd597cf_8286_11eb_9137_0c9d92c473d6row0_col22,#T_ffd597cf_8286_11eb_9137_0c9d92c473d6row0_col23,#T_ffd597cf_8286_11eb_9137_0c9d92c473d6row1_col1,#T_ffd597cf_8286_11eb_9137_0c9d92c473d6row1_col2,#T_ffd597cf_8286_11eb_9137_0c9d92c473d6row1_col3,#T_ffd597cf_8286_11eb_9137_0c9d92c473d6row1_col4,#T_ffd597cf_8286_11eb_9137_0c9d92c473d6row1_col5,#T_ffd597cf_8286_11eb_9137_0c9d92c473d6row1_col6,#T_ffd597cf_8286_11eb_9137_0c9d92c473d6row1_col7,#T_ffd597cf_8286_11eb_9137_0c9d92c473d6row1_col8,#T_ffd597cf_8286_11eb_9137_0c9d92c473d6row1_col9,#T_ffd597cf_8286_11eb_9137_0c9d92c473d6row1_col10,#T_ffd597cf_8286_11eb_9137_0c9d92c473d6row1_col11,#T_ffd597cf_8286_11eb_9137_0c9d92c473d6row1_col12,#T_ffd597cf_8286_11eb_9137_0c9d92c473d6row1_col13,#T_ffd597cf_8286_11eb_9137_0c9d92c473d6row1_col14,#T_ffd597cf_8286_11eb_9137_0c9d92c473d6row1_col15,#T_ffd597cf_8286_11eb_9137_0c9d92c473d6row1_col16,#T_ffd597cf_8286_11eb_9137_0c9d92c473d6row1_col17,#T_ffd597cf_8286_11eb_9137_0c9d92c473d6row1_col18,#T_ffd597cf_8286_11eb_9137_0c9d92c473d6row1_col19,#T_ffd597cf_8286_11eb_9137_0c9d92c473d6row1_col21,#T_ffd597cf_8286_11eb_9137_0c9d92c473d6row1_col22,#T_ffd597cf_8286_11eb_9137_0c9d92c473d6row1_col23,#T_ffd597cf_8286_11eb_9137_0c9d92c473d6row2_col0,#T_ffd597cf_8286_11eb_9137_0c9d92c473d6row2_col1,#T_ffd597cf_8286_11eb_9137_0c9d92c473d6row2_col2,#T_ffd597cf_8286_11eb_9137_0c9d92c473d6row2_col3,#T_ffd597cf_8286_11eb_9137_0c9d92c473d6row2_col5,#T_ffd597cf_8286_11eb_9137_0c9d92c473d6row2_col6,#T_ffd597cf_8286_11eb_9137_0c9d92c473d6row2_col7,#T_ffd597cf_8286_11eb_9137_0c9d92c473d6row2_col8,#T_ffd597cf_8286_11eb_9137_0c9d92c473d6row2_col9,#T_ffd597cf_8286_11eb_9137_0c9d92c473d6row2_col10,#T_ffd597cf_8286_11eb_9137_0c9d92c473d6row2_col11,#T_ffd597cf_8286_11eb_9137_0c9d92c473d6row2_col12,#T_ffd597cf_8286_11eb_9137_0c9d92c473d6row2_col13,#T_ffd597cf_8286_11eb_9137_0c9d92c473d6row2_col14,#T_ffd597cf_8286_11eb_9137_0c9d92c473d6row2_col15,#T_ffd597cf_8286_11eb_9137_0c9d92c473d6row2_col16,#T_ffd597cf_8286_11eb_9137_0c9d92c473d6row2_col17,#T_ffd597cf_8286_11eb_9137_0c9d92c473d6row2_col18,#T_ffd597cf_8286_11eb_9137_0c9d92c473d6row2_col19,#T_ffd597cf_8286_11eb_9137_0c9d92c473d6row2_col20,#T_ffd597cf_8286_11eb_9137_0c9d92c473d6row2_col21,#T_ffd597cf_8286_11eb_9137_0c9d92c473d6row2_col22,#T_ffd597cf_8286_11eb_9137_0c9d92c473d6row2_col23,#T_ffd597cf_8286_11eb_9137_0c9d92c473d6row3_col0,#T_ffd597cf_8286_11eb_9137_0c9d92c473d6row3_col1,#T_ffd597cf_8286_11eb_9137_0c9d92c473d6row3_col2,#T_ffd597cf_8286_11eb_9137_0c9d92c473d6row3_col3,#T_ffd597cf_8286_11eb_9137_0c9d92c473d6row3_col4,#T_ffd597cf_8286_11eb_9137_0c9d92c473d6row3_col5,#T_ffd597cf_8286_11eb_9137_0c9d92c473d6row3_col6,#T_ffd597cf_8286_11eb_9137_0c9d92c473d6row3_col7,#T_ffd597cf_8286_11eb_9137_0c9d92c473d6row3_col8,#T_ffd597cf_8286_11eb_9137_0c9d92c473d6row3_col9,#T_ffd597cf_8286_11eb_9137_0c9d92c473d6row3_col10,#T_ffd597cf_8286_11eb_9137_0c9d92c473d6row3_col11,#T_ffd597cf_8286_11eb_9137_0c9d92c473d6row3_col12,#T_ffd597cf_8286_11eb_9137_0c9d92c473d6row3_col13,#T_ffd597cf_8286_11eb_9137_0c9d92c473d6row3_col14,#T_ffd597cf_8286_11eb_9137_0c9d92c473d6row3_col15,#T_ffd597cf_8286_11eb_9137_0c9d92c473d6row3_col16,#T_ffd597cf_8286_11eb_9137_0c9d92c473d6row3_col17,#T_ffd597cf_8286_11eb_9137_0c9d92c473d6row3_col18,#T_ffd597cf_8286_11eb_9137_0c9d92c473d6row3_col19,#T_ffd597cf_8286_11eb_9137_0c9d92c473d6row3_col20,#T_ffd597cf_8286_11eb_9137_0c9d92c473d6row3_col21,#T_ffd597cf_8286_11eb_9137_0c9d92c473d6row3_col22,#T_ffd597cf_8286_11eb_9137_0c9d92c473d6row3_col23,#T_ffd597cf_8286_11eb_9137_0c9d92c473d6row4_col2,#T_ffd597cf_8286_11eb_9137_0c9d92c473d6row4_col3,#T_ffd597cf_8286_11eb_9137_0c9d92c473d6row4_col4,#T_ffd597cf_8286_11eb_9137_0c9d92c473d6row4_col5,#T_ffd597cf_8286_11eb_9137_0c9d92c473d6row4_col6,#T_ffd597cf_8286_11eb_9137_0c9d92c473d6row4_col7,#T_ffd597cf_8286_11eb_9137_0c9d92c473d6row4_col8,#T_ffd597cf_8286_11eb_9137_0c9d92c473d6row4_col9,#T_ffd597cf_8286_11eb_9137_0c9d92c473d6row4_col10,#T_ffd597cf_8286_11eb_9137_0c9d92c473d6row4_col11,#T_ffd597cf_8286_11eb_9137_0c9d92c473d6row4_col12,#T_ffd597cf_8286_11eb_9137_0c9d92c473d6row4_col13,#T_ffd597cf_8286_11eb_9137_0c9d92c473d6row4_col14,#T_ffd597cf_8286_11eb_9137_0c9d92c473d6row4_col15,#T_ffd597cf_8286_11eb_9137_0c9d92c473d6row4_col16,#T_ffd597cf_8286_11eb_9137_0c9d92c473d6row4_col18,#T_ffd597cf_8286_11eb_9137_0c9d92c473d6row4_col19,#T_ffd597cf_8286_11eb_9137_0c9d92c473d6row4_col20,#T_ffd597cf_8286_11eb_9137_0c9d92c473d6row4_col21,#T_ffd597cf_8286_11eb_9137_0c9d92c473d6row4_col22,#T_ffd597cf_8286_11eb_9137_0c9d92c473d6row4_col23,#T_ffd597cf_8286_11eb_9137_0c9d92c473d6row5_col2,#T_ffd597cf_8286_11eb_9137_0c9d92c473d6row5_col3,#T_ffd597cf_8286_11eb_9137_0c9d92c473d6row5_col4,#T_ffd597cf_8286_11eb_9137_0c9d92c473d6row5_col5,#T_ffd597cf_8286_11eb_9137_0c9d92c473d6row5_col6,#T_ffd597cf_8286_11eb_9137_0c9d92c473d6row5_col7,#T_ffd597cf_8286_11eb_9137_0c9d92c473d6row5_col8,#T_ffd597cf_8286_11eb_9137_0c9d92c473d6row5_col9,#T_ffd597cf_8286_11eb_9137_0c9d92c473d6row5_col11,#T_ffd597cf_8286_11eb_9137_0c9d92c473d6row5_col12,#T_ffd597cf_8286_11eb_9137_0c9d92c473d6row5_col13,#T_ffd597cf_8286_11eb_9137_0c9d92c473d6row5_col15,#T_ffd597cf_8286_11eb_9137_0c9d92c473d6row5_col16,#T_ffd597cf_8286_11eb_9137_0c9d92c473d6row5_col17,#T_ffd597cf_8286_11eb_9137_0c9d92c473d6row5_col18,#T_ffd597cf_8286_11eb_9137_0c9d92c473d6row5_col19,#T_ffd597cf_8286_11eb_9137_0c9d92c473d6row5_col20,#T_ffd597cf_8286_11eb_9137_0c9d92c473d6row5_col21,#T_ffd597cf_8286_11eb_9137_0c9d92c473d6row6_col0,#T_ffd597cf_8286_11eb_9137_0c9d92c473d6row6_col2,#T_ffd597cf_8286_11eb_9137_0c9d92c473d6row6_col3,#T_ffd597cf_8286_11eb_9137_0c9d92c473d6row6_col4,#T_ffd597cf_8286_11eb_9137_0c9d92c473d6row6_col5,#T_ffd597cf_8286_11eb_9137_0c9d92c473d6row6_col6,#T_ffd597cf_8286_11eb_9137_0c9d92c473d6row6_col7,#T_ffd597cf_8286_11eb_9137_0c9d92c473d6row6_col8,#T_ffd597cf_8286_11eb_9137_0c9d92c473d6row6_col9,#T_ffd597cf_8286_11eb_9137_0c9d92c473d6row6_col10,#T_ffd597cf_8286_11eb_9137_0c9d92c473d6row6_col11,#T_ffd597cf_8286_11eb_9137_0c9d92c473d6row6_col12,#T_ffd597cf_8286_11eb_9137_0c9d92c473d6row6_col13,#T_ffd597cf_8286_11eb_9137_0c9d92c473d6row6_col14,#T_ffd597cf_8286_11eb_9137_0c9d92c473d6row6_col15,#T_ffd597cf_8286_11eb_9137_0c9d92c473d6row6_col16,#T_ffd597cf_8286_11eb_9137_0c9d92c473d6row6_col17,#T_ffd597cf_8286_11eb_9137_0c9d92c473d6row6_col18,#T_ffd597cf_8286_11eb_9137_0c9d92c473d6row6_col19,#T_ffd597cf_8286_11eb_9137_0c9d92c473d6row6_col20,#T_ffd597cf_8286_11eb_9137_0c9d92c473d6row6_col21,#T_ffd597cf_8286_11eb_9137_0c9d92c473d6row6_col22,#T_ffd597cf_8286_11eb_9137_0c9d92c473d6row6_col23,#T_ffd597cf_8286_11eb_9137_0c9d92c473d6row7_col0,#T_ffd597cf_8286_11eb_9137_0c9d92c473d6row7_col1,#T_ffd597cf_8286_11eb_9137_0c9d92c473d6row7_col2,#T_ffd597cf_8286_11eb_9137_0c9d92c473d6row7_col3,#T_ffd597cf_8286_11eb_9137_0c9d92c473d6row7_col4,#T_ffd597cf_8286_11eb_9137_0c9d92c473d6row7_col5,#T_ffd597cf_8286_11eb_9137_0c9d92c473d6row7_col6,#T_ffd597cf_8286_11eb_9137_0c9d92c473d6row7_col7,#T_ffd597cf_8286_11eb_9137_0c9d92c473d6row7_col8,#T_ffd597cf_8286_11eb_9137_0c9d92c473d6row7_col9,#T_ffd597cf_8286_11eb_9137_0c9d92c473d6row7_col10,#T_ffd597cf_8286_11eb_9137_0c9d92c473d6row7_col11,#T_ffd597cf_8286_11eb_9137_0c9d92c473d6row7_col12,#T_ffd597cf_8286_11eb_9137_0c9d92c473d6row7_col13,#T_ffd597cf_8286_11eb_9137_0c9d92c473d6row7_col14,#T_ffd597cf_8286_11eb_9137_0c9d92c473d6row7_col15,#T_ffd597cf_8286_11eb_9137_0c9d92c473d6row7_col16,#T_ffd597cf_8286_11eb_9137_0c9d92c473d6row7_col17,#T_ffd597cf_8286_11eb_9137_0c9d92c473d6row7_col18,#T_ffd597cf_8286_11eb_9137_0c9d92c473d6row7_col19,#T_ffd597cf_8286_11eb_9137_0c9d92c473d6row7_col20,#T_ffd597cf_8286_11eb_9137_0c9d92c473d6row7_col21,#T_ffd597cf_8286_11eb_9137_0c9d92c473d6row7_col22,#T_ffd597cf_8286_11eb_9137_0c9d92c473d6row7_col23,#T_ffd597cf_8286_11eb_9137_0c9d92c473d6row8_col0,#T_ffd597cf_8286_11eb_9137_0c9d92c473d6row8_col1,#T_ffd597cf_8286_11eb_9137_0c9d92c473d6row8_col2,#T_ffd597cf_8286_11eb_9137_0c9d92c473d6row8_col3,#T_ffd597cf_8286_11eb_9137_0c9d92c473d6row8_col4,#T_ffd597cf_8286_11eb_9137_0c9d92c473d6row8_col6,#T_ffd597cf_8286_11eb_9137_0c9d92c473d6row8_col7,#T_ffd597cf_8286_11eb_9137_0c9d92c473d6row8_col8,#T_ffd597cf_8286_11eb_9137_0c9d92c473d6row8_col9,#T_ffd597cf_8286_11eb_9137_0c9d92c473d6row8_col10,#T_ffd597cf_8286_11eb_9137_0c9d92c473d6row8_col11,#T_ffd597cf_8286_11eb_9137_0c9d92c473d6row8_col12,#T_ffd597cf_8286_11eb_9137_0c9d92c473d6row8_col13,#T_ffd597cf_8286_11eb_9137_0c9d92c473d6row8_col14,#T_ffd597cf_8286_11eb_9137_0c9d92c473d6row8_col15,#T_ffd597cf_8286_11eb_9137_0c9d92c473d6row8_col16,#T_ffd597cf_8286_11eb_9137_0c9d92c473d6row8_col17,#T_ffd597cf_8286_11eb_9137_0c9d92c473d6row8_col18,#T_ffd597cf_8286_11eb_9137_0c9d92c473d6row8_col19,#T_ffd597cf_8286_11eb_9137_0c9d92c473d6row8_col20,#T_ffd597cf_8286_11eb_9137_0c9d92c473d6row8_col21,#T_ffd597cf_8286_11eb_9137_0c9d92c473d6row8_col22,#T_ffd597cf_8286_11eb_9137_0c9d92c473d6row8_col23,#T_ffd597cf_8286_11eb_9137_0c9d92c473d6row9_col0,#T_ffd597cf_8286_11eb_9137_0c9d92c473d6row9_col2,#T_ffd597cf_8286_11eb_9137_0c9d92c473d6row9_col3,#T_ffd597cf_8286_11eb_9137_0c9d92c473d6row9_col5,#T_ffd597cf_8286_11eb_9137_0c9d92c473d6row9_col6,#T_ffd597cf_8286_11eb_9137_0c9d92c473d6row9_col7,#T_ffd597cf_8286_11eb_9137_0c9d92c473d6row9_col8,#T_ffd597cf_8286_11eb_9137_0c9d92c473d6row9_col9,#T_ffd597cf_8286_11eb_9137_0c9d92c473d6row9_col10,#T_ffd597cf_8286_11eb_9137_0c9d92c473d6row9_col11,#T_ffd597cf_8286_11eb_9137_0c9d92c473d6row9_col12,#T_ffd597cf_8286_11eb_9137_0c9d92c473d6row9_col13,#T_ffd597cf_8286_11eb_9137_0c9d92c473d6row9_col14,#T_ffd597cf_8286_11eb_9137_0c9d92c473d6row9_col15,#T_ffd597cf_8286_11eb_9137_0c9d92c473d6row9_col16,#T_ffd597cf_8286_11eb_9137_0c9d92c473d6row9_col17,#T_ffd597cf_8286_11eb_9137_0c9d92c473d6row9_col18,#T_ffd597cf_8286_11eb_9137_0c9d92c473d6row9_col19,#T_ffd597cf_8286_11eb_9137_0c9d92c473d6row9_col20,#T_ffd597cf_8286_11eb_9137_0c9d92c473d6row9_col21,#T_ffd597cf_8286_11eb_9137_0c9d92c473d6row9_col22,#T_ffd597cf_8286_11eb_9137_0c9d92c473d6row9_col23,#T_ffd597cf_8286_11eb_9137_0c9d92c473d6row10_col0,#T_ffd597cf_8286_11eb_9137_0c9d92c473d6row10_col2,#T_ffd597cf_8286_11eb_9137_0c9d92c473d6row10_col3,#T_ffd597cf_8286_11eb_9137_0c9d92c473d6row10_col4,#T_ffd597cf_8286_11eb_9137_0c9d92c473d6row10_col5,#T_ffd597cf_8286_11eb_9137_0c9d92c473d6row10_col7,#T_ffd597cf_8286_11eb_9137_0c9d92c473d6row10_col8,#T_ffd597cf_8286_11eb_9137_0c9d92c473d6row10_col9,#T_ffd597cf_8286_11eb_9137_0c9d92c473d6row10_col10,#T_ffd597cf_8286_11eb_9137_0c9d92c473d6row10_col11,#T_ffd597cf_8286_11eb_9137_0c9d92c473d6row10_col12,#T_ffd597cf_8286_11eb_9137_0c9d92c473d6row10_col13,#T_ffd597cf_8286_11eb_9137_0c9d92c473d6row10_col14,#T_ffd597cf_8286_11eb_9137_0c9d92c473d6row10_col15,#T_ffd597cf_8286_11eb_9137_0c9d92c473d6row10_col16,#T_ffd597cf_8286_11eb_9137_0c9d92c473d6row10_col17,#T_ffd597cf_8286_11eb_9137_0c9d92c473d6row10_col18,#T_ffd597cf_8286_11eb_9137_0c9d92c473d6row10_col19,#T_ffd597cf_8286_11eb_9137_0c9d92c473d6row10_col20,#T_ffd597cf_8286_11eb_9137_0c9d92c473d6row10_col21,#T_ffd597cf_8286_11eb_9137_0c9d92c473d6row10_col22,#T_ffd597cf_8286_11eb_9137_0c9d92c473d6row10_col23,#T_ffd597cf_8286_11eb_9137_0c9d92c473d6row11_col0,#T_ffd597cf_8286_11eb_9137_0c9d92c473d6row11_col2,#T_ffd597cf_8286_11eb_9137_0c9d92c473d6row11_col3,#T_ffd597cf_8286_11eb_9137_0c9d92c473d6row11_col4,#T_ffd597cf_8286_11eb_9137_0c9d92c473d6row11_col5,#T_ffd597cf_8286_11eb_9137_0c9d92c473d6row11_col6,#T_ffd597cf_8286_11eb_9137_0c9d92c473d6row11_col7,#T_ffd597cf_8286_11eb_9137_0c9d92c473d6row11_col8,#T_ffd597cf_8286_11eb_9137_0c9d92c473d6row11_col9,#T_ffd597cf_8286_11eb_9137_0c9d92c473d6row11_col11,#T_ffd597cf_8286_11eb_9137_0c9d92c473d6row11_col13,#T_ffd597cf_8286_11eb_9137_0c9d92c473d6row11_col14,#T_ffd597cf_8286_11eb_9137_0c9d92c473d6row11_col15,#T_ffd597cf_8286_11eb_9137_0c9d92c473d6row11_col16,#T_ffd597cf_8286_11eb_9137_0c9d92c473d6row11_col17,#T_ffd597cf_8286_11eb_9137_0c9d92c473d6row11_col18,#T_ffd597cf_8286_11eb_9137_0c9d92c473d6row11_col19,#T_ffd597cf_8286_11eb_9137_0c9d92c473d6row11_col20,#T_ffd597cf_8286_11eb_9137_0c9d92c473d6row11_col21,#T_ffd597cf_8286_11eb_9137_0c9d92c473d6row11_col22,#T_ffd597cf_8286_11eb_9137_0c9d92c473d6row11_col23,#T_ffd597cf_8286_11eb_9137_0c9d92c473d6row12_col0,#T_ffd597cf_8286_11eb_9137_0c9d92c473d6row12_col2,#T_ffd597cf_8286_11eb_9137_0c9d92c473d6row12_col3,#T_ffd597cf_8286_11eb_9137_0c9d92c473d6row12_col4,#T_ffd597cf_8286_11eb_9137_0c9d92c473d6row12_col5,#T_ffd597cf_8286_11eb_9137_0c9d92c473d6row12_col6,#T_ffd597cf_8286_11eb_9137_0c9d92c473d6row12_col7,#T_ffd597cf_8286_11eb_9137_0c9d92c473d6row12_col8,#T_ffd597cf_8286_11eb_9137_0c9d92c473d6row12_col9,#T_ffd597cf_8286_11eb_9137_0c9d92c473d6row12_col11,#T_ffd597cf_8286_11eb_9137_0c9d92c473d6row12_col12,#T_ffd597cf_8286_11eb_9137_0c9d92c473d6row12_col13,#T_ffd597cf_8286_11eb_9137_0c9d92c473d6row12_col14,#T_ffd597cf_8286_11eb_9137_0c9d92c473d6row12_col15,#T_ffd597cf_8286_11eb_9137_0c9d92c473d6row12_col16,#T_ffd597cf_8286_11eb_9137_0c9d92c473d6row12_col18,#T_ffd597cf_8286_11eb_9137_0c9d92c473d6row12_col19,#T_ffd597cf_8286_11eb_9137_0c9d92c473d6row12_col21,#T_ffd597cf_8286_11eb_9137_0c9d92c473d6row12_col22,#T_ffd597cf_8286_11eb_9137_0c9d92c473d6row12_col23,#T_ffd597cf_8286_11eb_9137_0c9d92c473d6row13_col0,#T_ffd597cf_8286_11eb_9137_0c9d92c473d6row13_col2,#T_ffd597cf_8286_11eb_9137_0c9d92c473d6row13_col3,#T_ffd597cf_8286_11eb_9137_0c9d92c473d6row13_col4,#T_ffd597cf_8286_11eb_9137_0c9d92c473d6row13_col5,#T_ffd597cf_8286_11eb_9137_0c9d92c473d6row13_col6,#T_ffd597cf_8286_11eb_9137_0c9d92c473d6row13_col7,#T_ffd597cf_8286_11eb_9137_0c9d92c473d6row13_col8,#T_ffd597cf_8286_11eb_9137_0c9d92c473d6row13_col9,#T_ffd597cf_8286_11eb_9137_0c9d92c473d6row13_col10,#T_ffd597cf_8286_11eb_9137_0c9d92c473d6row13_col11,#T_ffd597cf_8286_11eb_9137_0c9d92c473d6row13_col12,#T_ffd597cf_8286_11eb_9137_0c9d92c473d6row13_col13,#T_ffd597cf_8286_11eb_9137_0c9d92c473d6row13_col14,#T_ffd597cf_8286_11eb_9137_0c9d92c473d6row13_col15,#T_ffd597cf_8286_11eb_9137_0c9d92c473d6row13_col16,#T_ffd597cf_8286_11eb_9137_0c9d92c473d6row13_col17,#T_ffd597cf_8286_11eb_9137_0c9d92c473d6row13_col18,#T_ffd597cf_8286_11eb_9137_0c9d92c473d6row13_col19,#T_ffd597cf_8286_11eb_9137_0c9d92c473d6row13_col20,#T_ffd597cf_8286_11eb_9137_0c9d92c473d6row13_col21,#T_ffd597cf_8286_11eb_9137_0c9d92c473d6row13_col22,#T_ffd597cf_8286_11eb_9137_0c9d92c473d6row13_col23,#T_ffd597cf_8286_11eb_9137_0c9d92c473d6row14_col0,#T_ffd597cf_8286_11eb_9137_0c9d92c473d6row14_col1,#T_ffd597cf_8286_11eb_9137_0c9d92c473d6row14_col2,#T_ffd597cf_8286_11eb_9137_0c9d92c473d6row14_col3,#T_ffd597cf_8286_11eb_9137_0c9d92c473d6row14_col4,#T_ffd597cf_8286_11eb_9137_0c9d92c473d6row14_col5,#T_ffd597cf_8286_11eb_9137_0c9d92c473d6row14_col6,#T_ffd597cf_8286_11eb_9137_0c9d92c473d6row14_col7,#T_ffd597cf_8286_11eb_9137_0c9d92c473d6row14_col8,#T_ffd597cf_8286_11eb_9137_0c9d92c473d6row14_col9,#T_ffd597cf_8286_11eb_9137_0c9d92c473d6row14_col10,#T_ffd597cf_8286_11eb_9137_0c9d92c473d6row14_col11,#T_ffd597cf_8286_11eb_9137_0c9d92c473d6row14_col12,#T_ffd597cf_8286_11eb_9137_0c9d92c473d6row14_col13,#T_ffd597cf_8286_11eb_9137_0c9d92c473d6row14_col14,#T_ffd597cf_8286_11eb_9137_0c9d92c473d6row14_col15,#T_ffd597cf_8286_11eb_9137_0c9d92c473d6row14_col16,#T_ffd597cf_8286_11eb_9137_0c9d92c473d6row14_col18,#T_ffd597cf_8286_11eb_9137_0c9d92c473d6row14_col19,#T_ffd597cf_8286_11eb_9137_0c9d92c473d6row14_col21,#T_ffd597cf_8286_11eb_9137_0c9d92c473d6row15_col0,#T_ffd597cf_8286_11eb_9137_0c9d92c473d6row15_col1,#T_ffd597cf_8286_11eb_9137_0c9d92c473d6row15_col2,#T_ffd597cf_8286_11eb_9137_0c9d92c473d6row15_col3,#T_ffd597cf_8286_11eb_9137_0c9d92c473d6row15_col4,#T_ffd597cf_8286_11eb_9137_0c9d92c473d6row15_col5,#T_ffd597cf_8286_11eb_9137_0c9d92c473d6row15_col6,#T_ffd597cf_8286_11eb_9137_0c9d92c473d6row15_col7,#T_ffd597cf_8286_11eb_9137_0c9d92c473d6row15_col8,#T_ffd597cf_8286_11eb_9137_0c9d92c473d6row15_col9,#T_ffd597cf_8286_11eb_9137_0c9d92c473d6row15_col10,#T_ffd597cf_8286_11eb_9137_0c9d92c473d6row15_col11,#T_ffd597cf_8286_11eb_9137_0c9d92c473d6row15_col12,#T_ffd597cf_8286_11eb_9137_0c9d92c473d6row15_col13,#T_ffd597cf_8286_11eb_9137_0c9d92c473d6row15_col14,#T_ffd597cf_8286_11eb_9137_0c9d92c473d6row15_col15,#T_ffd597cf_8286_11eb_9137_0c9d92c473d6row15_col16,#T_ffd597cf_8286_11eb_9137_0c9d92c473d6row15_col18,#T_ffd597cf_8286_11eb_9137_0c9d92c473d6row15_col19,#T_ffd597cf_8286_11eb_9137_0c9d92c473d6row15_col20,#T_ffd597cf_8286_11eb_9137_0c9d92c473d6row15_col21,#T_ffd597cf_8286_11eb_9137_0c9d92c473d6row15_col22,#T_ffd597cf_8286_11eb_9137_0c9d92c473d6row15_col23,#T_ffd597cf_8286_11eb_9137_0c9d92c473d6row16_col0,#T_ffd597cf_8286_11eb_9137_0c9d92c473d6row16_col2,#T_ffd597cf_8286_11eb_9137_0c9d92c473d6row16_col3,#T_ffd597cf_8286_11eb_9137_0c9d92c473d6row16_col4,#T_ffd597cf_8286_11eb_9137_0c9d92c473d6row16_col5,#T_ffd597cf_8286_11eb_9137_0c9d92c473d6row16_col6,#T_ffd597cf_8286_11eb_9137_0c9d92c473d6row16_col7,#T_ffd597cf_8286_11eb_9137_0c9d92c473d6row16_col8,#T_ffd597cf_8286_11eb_9137_0c9d92c473d6row16_col9,#T_ffd597cf_8286_11eb_9137_0c9d92c473d6row16_col10,#T_ffd597cf_8286_11eb_9137_0c9d92c473d6row16_col11,#T_ffd597cf_8286_11eb_9137_0c9d92c473d6row16_col12,#T_ffd597cf_8286_11eb_9137_0c9d92c473d6row16_col13,#T_ffd597cf_8286_11eb_9137_0c9d92c473d6row16_col14,#T_ffd597cf_8286_11eb_9137_0c9d92c473d6row16_col15,#T_ffd597cf_8286_11eb_9137_0c9d92c473d6row16_col16,#T_ffd597cf_8286_11eb_9137_0c9d92c473d6row16_col18,#T_ffd597cf_8286_11eb_9137_0c9d92c473d6row16_col19,#T_ffd597cf_8286_11eb_9137_0c9d92c473d6row16_col20,#T_ffd597cf_8286_11eb_9137_0c9d92c473d6row16_col21,#T_ffd597cf_8286_11eb_9137_0c9d92c473d6row16_col22,#T_ffd597cf_8286_11eb_9137_0c9d92c473d6row16_col23,#T_ffd597cf_8286_11eb_9137_0c9d92c473d6row17_col0,#T_ffd597cf_8286_11eb_9137_0c9d92c473d6row17_col1,#T_ffd597cf_8286_11eb_9137_0c9d92c473d6row17_col2,#T_ffd597cf_8286_11eb_9137_0c9d92c473d6row17_col3,#T_ffd597cf_8286_11eb_9137_0c9d92c473d6row17_col4,#T_ffd597cf_8286_11eb_9137_0c9d92c473d6row17_col5,#T_ffd597cf_8286_11eb_9137_0c9d92c473d6row17_col6,#T_ffd597cf_8286_11eb_9137_0c9d92c473d6row17_col7,#T_ffd597cf_8286_11eb_9137_0c9d92c473d6row17_col8,#T_ffd597cf_8286_11eb_9137_0c9d92c473d6row17_col9,#T_ffd597cf_8286_11eb_9137_0c9d92c473d6row17_col10,#T_ffd597cf_8286_11eb_9137_0c9d92c473d6row17_col11,#T_ffd597cf_8286_11eb_9137_0c9d92c473d6row17_col12,#T_ffd597cf_8286_11eb_9137_0c9d92c473d6row17_col13,#T_ffd597cf_8286_11eb_9137_0c9d92c473d6row17_col14,#T_ffd597cf_8286_11eb_9137_0c9d92c473d6row17_col15,#T_ffd597cf_8286_11eb_9137_0c9d92c473d6row17_col16,#T_ffd597cf_8286_11eb_9137_0c9d92c473d6row17_col17,#T_ffd597cf_8286_11eb_9137_0c9d92c473d6row17_col18,#T_ffd597cf_8286_11eb_9137_0c9d92c473d6row17_col19,#T_ffd597cf_8286_11eb_9137_0c9d92c473d6row17_col20,#T_ffd597cf_8286_11eb_9137_0c9d92c473d6row17_col21,#T_ffd597cf_8286_11eb_9137_0c9d92c473d6row17_col22,#T_ffd597cf_8286_11eb_9137_0c9d92c473d6row17_col23,#T_ffd597cf_8286_11eb_9137_0c9d92c473d6row18_col0,#T_ffd597cf_8286_11eb_9137_0c9d92c473d6row18_col2,#T_ffd597cf_8286_11eb_9137_0c9d92c473d6row18_col3,#T_ffd597cf_8286_11eb_9137_0c9d92c473d6row18_col4,#T_ffd597cf_8286_11eb_9137_0c9d92c473d6row18_col5,#T_ffd597cf_8286_11eb_9137_0c9d92c473d6row18_col6,#T_ffd597cf_8286_11eb_9137_0c9d92c473d6row18_col7,#T_ffd597cf_8286_11eb_9137_0c9d92c473d6row18_col8,#T_ffd597cf_8286_11eb_9137_0c9d92c473d6row18_col9,#T_ffd597cf_8286_11eb_9137_0c9d92c473d6row18_col10,#T_ffd597cf_8286_11eb_9137_0c9d92c473d6row18_col11,#T_ffd597cf_8286_11eb_9137_0c9d92c473d6row18_col12,#T_ffd597cf_8286_11eb_9137_0c9d92c473d6row18_col13,#T_ffd597cf_8286_11eb_9137_0c9d92c473d6row18_col14,#T_ffd597cf_8286_11eb_9137_0c9d92c473d6row18_col15,#T_ffd597cf_8286_11eb_9137_0c9d92c473d6row18_col16,#T_ffd597cf_8286_11eb_9137_0c9d92c473d6row18_col18,#T_ffd597cf_8286_11eb_9137_0c9d92c473d6row18_col19,#T_ffd597cf_8286_11eb_9137_0c9d92c473d6row18_col20,#T_ffd597cf_8286_11eb_9137_0c9d92c473d6row18_col21,#T_ffd597cf_8286_11eb_9137_0c9d92c473d6row18_col22,#T_ffd597cf_8286_11eb_9137_0c9d92c473d6row18_col23,#T_ffd597cf_8286_11eb_9137_0c9d92c473d6row19_col0,#T_ffd597cf_8286_11eb_9137_0c9d92c473d6row19_col1,#T_ffd597cf_8286_11eb_9137_0c9d92c473d6row19_col2,#T_ffd597cf_8286_11eb_9137_0c9d92c473d6row19_col3,#T_ffd597cf_8286_11eb_9137_0c9d92c473d6row19_col4,#T_ffd597cf_8286_11eb_9137_0c9d92c473d6row19_col5,#T_ffd597cf_8286_11eb_9137_0c9d92c473d6row19_col6,#T_ffd597cf_8286_11eb_9137_0c9d92c473d6row19_col7,#T_ffd597cf_8286_11eb_9137_0c9d92c473d6row19_col8,#T_ffd597cf_8286_11eb_9137_0c9d92c473d6row19_col9,#T_ffd597cf_8286_11eb_9137_0c9d92c473d6row19_col10,#T_ffd597cf_8286_11eb_9137_0c9d92c473d6row19_col11,#T_ffd597cf_8286_11eb_9137_0c9d92c473d6row19_col12,#T_ffd597cf_8286_11eb_9137_0c9d92c473d6row19_col13,#T_ffd597cf_8286_11eb_9137_0c9d92c473d6row19_col14,#T_ffd597cf_8286_11eb_9137_0c9d92c473d6row19_col15,#T_ffd597cf_8286_11eb_9137_0c9d92c473d6row19_col16,#T_ffd597cf_8286_11eb_9137_0c9d92c473d6row19_col17,#T_ffd597cf_8286_11eb_9137_0c9d92c473d6row19_col18,#T_ffd597cf_8286_11eb_9137_0c9d92c473d6row19_col19,#T_ffd597cf_8286_11eb_9137_0c9d92c473d6row19_col20,#T_ffd597cf_8286_11eb_9137_0c9d92c473d6row19_col21,#T_ffd597cf_8286_11eb_9137_0c9d92c473d6row19_col22,#T_ffd597cf_8286_11eb_9137_0c9d92c473d6row19_col23,#T_ffd597cf_8286_11eb_9137_0c9d92c473d6row20_col0,#T_ffd597cf_8286_11eb_9137_0c9d92c473d6row20_col1,#T_ffd597cf_8286_11eb_9137_0c9d92c473d6row20_col2,#T_ffd597cf_8286_11eb_9137_0c9d92c473d6row20_col3,#T_ffd597cf_8286_11eb_9137_0c9d92c473d6row20_col4,#T_ffd597cf_8286_11eb_9137_0c9d92c473d6row20_col5,#T_ffd597cf_8286_11eb_9137_0c9d92c473d6row20_col6,#T_ffd597cf_8286_11eb_9137_0c9d92c473d6row20_col7,#T_ffd597cf_8286_11eb_9137_0c9d92c473d6row20_col8,#T_ffd597cf_8286_11eb_9137_0c9d92c473d6row20_col9,#T_ffd597cf_8286_11eb_9137_0c9d92c473d6row20_col10,#T_ffd597cf_8286_11eb_9137_0c9d92c473d6row20_col11,#T_ffd597cf_8286_11eb_9137_0c9d92c473d6row20_col12,#T_ffd597cf_8286_11eb_9137_0c9d92c473d6row20_col13,#T_ffd597cf_8286_11eb_9137_0c9d92c473d6row20_col14,#T_ffd597cf_8286_11eb_9137_0c9d92c473d6row20_col15,#T_ffd597cf_8286_11eb_9137_0c9d92c473d6row20_col16,#T_ffd597cf_8286_11eb_9137_0c9d92c473d6row20_col17,#T_ffd597cf_8286_11eb_9137_0c9d92c473d6row20_col18,#T_ffd597cf_8286_11eb_9137_0c9d92c473d6row20_col19,#T_ffd597cf_8286_11eb_9137_0c9d92c473d6row20_col20,#T_ffd597cf_8286_11eb_9137_0c9d92c473d6row20_col21,#T_ffd597cf_8286_11eb_9137_0c9d92c473d6row20_col22,#T_ffd597cf_8286_11eb_9137_0c9d92c473d6row20_col23,#T_ffd597cf_8286_11eb_9137_0c9d92c473d6row21_col0,#T_ffd597cf_8286_11eb_9137_0c9d92c473d6row21_col2,#T_ffd597cf_8286_11eb_9137_0c9d92c473d6row21_col3,#T_ffd597cf_8286_11eb_9137_0c9d92c473d6row21_col4,#T_ffd597cf_8286_11eb_9137_0c9d92c473d6row21_col5,#T_ffd597cf_8286_11eb_9137_0c9d92c473d6row21_col6,#T_ffd597cf_8286_11eb_9137_0c9d92c473d6row21_col7,#T_ffd597cf_8286_11eb_9137_0c9d92c473d6row21_col8,#T_ffd597cf_8286_11eb_9137_0c9d92c473d6row21_col9,#T_ffd597cf_8286_11eb_9137_0c9d92c473d6row21_col10,#T_ffd597cf_8286_11eb_9137_0c9d92c473d6row21_col11,#T_ffd597cf_8286_11eb_9137_0c9d92c473d6row21_col12,#T_ffd597cf_8286_11eb_9137_0c9d92c473d6row21_col13,#T_ffd597cf_8286_11eb_9137_0c9d92c473d6row21_col14,#T_ffd597cf_8286_11eb_9137_0c9d92c473d6row21_col15,#T_ffd597cf_8286_11eb_9137_0c9d92c473d6row21_col16,#T_ffd597cf_8286_11eb_9137_0c9d92c473d6row21_col17,#T_ffd597cf_8286_11eb_9137_0c9d92c473d6row21_col18,#T_ffd597cf_8286_11eb_9137_0c9d92c473d6row21_col19,#T_ffd597cf_8286_11eb_9137_0c9d92c473d6row21_col20,#T_ffd597cf_8286_11eb_9137_0c9d92c473d6row21_col21,#T_ffd597cf_8286_11eb_9137_0c9d92c473d6row22_col0,#T_ffd597cf_8286_11eb_9137_0c9d92c473d6row22_col2,#T_ffd597cf_8286_11eb_9137_0c9d92c473d6row22_col3,#T_ffd597cf_8286_11eb_9137_0c9d92c473d6row22_col4,#T_ffd597cf_8286_11eb_9137_0c9d92c473d6row22_col5,#T_ffd597cf_8286_11eb_9137_0c9d92c473d6row22_col6,#T_ffd597cf_8286_11eb_9137_0c9d92c473d6row22_col7,#T_ffd597cf_8286_11eb_9137_0c9d92c473d6row22_col8,#T_ffd597cf_8286_11eb_9137_0c9d92c473d6row22_col9,#T_ffd597cf_8286_11eb_9137_0c9d92c473d6row22_col10,#T_ffd597cf_8286_11eb_9137_0c9d92c473d6row22_col11,#T_ffd597cf_8286_11eb_9137_0c9d92c473d6row22_col12,#T_ffd597cf_8286_11eb_9137_0c9d92c473d6row22_col13,#T_ffd597cf_8286_11eb_9137_0c9d92c473d6row22_col14,#T_ffd597cf_8286_11eb_9137_0c9d92c473d6row22_col15,#T_ffd597cf_8286_11eb_9137_0c9d92c473d6row22_col16,#T_ffd597cf_8286_11eb_9137_0c9d92c473d6row22_col17,#T_ffd597cf_8286_11eb_9137_0c9d92c473d6row22_col18,#T_ffd597cf_8286_11eb_9137_0c9d92c473d6row22_col19,#T_ffd597cf_8286_11eb_9137_0c9d92c473d6row22_col21,#T_ffd597cf_8286_11eb_9137_0c9d92c473d6row22_col22,#T_ffd597cf_8286_11eb_9137_0c9d92c473d6row22_col23,#T_ffd597cf_8286_11eb_9137_0c9d92c473d6row23_col0,#T_ffd597cf_8286_11eb_9137_0c9d92c473d6row23_col1,#T_ffd597cf_8286_11eb_9137_0c9d92c473d6row23_col2,#T_ffd597cf_8286_11eb_9137_0c9d92c473d6row23_col3,#T_ffd597cf_8286_11eb_9137_0c9d92c473d6row23_col4,#T_ffd597cf_8286_11eb_9137_0c9d92c473d6row23_col5,#T_ffd597cf_8286_11eb_9137_0c9d92c473d6row23_col6,#T_ffd597cf_8286_11eb_9137_0c9d92c473d6row23_col7,#T_ffd597cf_8286_11eb_9137_0c9d92c473d6row23_col8,#T_ffd597cf_8286_11eb_9137_0c9d92c473d6row23_col9,#T_ffd597cf_8286_11eb_9137_0c9d92c473d6row23_col10,#T_ffd597cf_8286_11eb_9137_0c9d92c473d6row23_col11,#T_ffd597cf_8286_11eb_9137_0c9d92c473d6row23_col12,#T_ffd597cf_8286_11eb_9137_0c9d92c473d6row23_col13,#T_ffd597cf_8286_11eb_9137_0c9d92c473d6row23_col14,#T_ffd597cf_8286_11eb_9137_0c9d92c473d6row23_col15,#T_ffd597cf_8286_11eb_9137_0c9d92c473d6row23_col16,#T_ffd597cf_8286_11eb_9137_0c9d92c473d6row23_col17,#T_ffd597cf_8286_11eb_9137_0c9d92c473d6row23_col18,#T_ffd597cf_8286_11eb_9137_0c9d92c473d6row23_col19,#T_ffd597cf_8286_11eb_9137_0c9d92c473d6row23_col21,#T_ffd597cf_8286_11eb_9137_0c9d92c473d6row23_col22,#T_ffd597cf_8286_11eb_9137_0c9d92c473d6row23_col23{\n            background-color:  #f0f1f3;\n            color:  #000000;\n        }#T_ffd597cf_8286_11eb_9137_0c9d92c473d6row0_col17,#T_ffd597cf_8286_11eb_9137_0c9d92c473d6row12_col17{\n            background-color:  #9eb4c8;\n            color:  #000000;\n        }#T_ffd597cf_8286_11eb_9137_0c9d92c473d6row1_col0,#T_ffd597cf_8286_11eb_9137_0c9d92c473d6row2_col4,#T_ffd597cf_8286_11eb_9137_0c9d92c473d6row5_col14,#T_ffd597cf_8286_11eb_9137_0c9d92c473d6row8_col5,#T_ffd597cf_8286_11eb_9137_0c9d92c473d6row10_col6,#T_ffd597cf_8286_11eb_9137_0c9d92c473d6row11_col12,#T_ffd597cf_8286_11eb_9137_0c9d92c473d6row12_col10,#T_ffd597cf_8286_11eb_9137_0c9d92c473d6row13_col1,#T_ffd597cf_8286_11eb_9137_0c9d92c473d6row14_col23,#T_ffd597cf_8286_11eb_9137_0c9d92c473d6row18_col17,#T_ffd597cf_8286_11eb_9137_0c9d92c473d6row21_col22,#T_ffd597cf_8286_11eb_9137_0c9d92c473d6row23_col20{\n            background-color:  #023f75;\n            color:  #f1f1f1;\n        }#T_ffd597cf_8286_11eb_9137_0c9d92c473d6row1_col20{\n            background-color:  #6c8fad;\n            color:  #000000;\n        }#T_ffd597cf_8286_11eb_9137_0c9d92c473d6row4_col0{\n            background-color:  #6085a7;\n            color:  #000000;\n        }#T_ffd597cf_8286_11eb_9137_0c9d92c473d6row4_col1,#T_ffd597cf_8286_11eb_9137_0c9d92c473d6row6_col1{\n            background-color:  #d7dee6;\n            color:  #000000;\n        }#T_ffd597cf_8286_11eb_9137_0c9d92c473d6row4_col17{\n            background-color:  #86a2bb;\n            color:  #000000;\n        }#T_ffd597cf_8286_11eb_9137_0c9d92c473d6row5_col0{\n            background-color:  #7f9db7;\n            color:  #000000;\n        }#T_ffd597cf_8286_11eb_9137_0c9d92c473d6row5_col1{\n            background-color:  #eceef1;\n            color:  #000000;\n        }#T_ffd597cf_8286_11eb_9137_0c9d92c473d6row5_col10{\n            background-color:  #829fb9;\n            color:  #000000;\n        }#T_ffd597cf_8286_11eb_9137_0c9d92c473d6row5_col22{\n            background-color:  #bac9d6;\n            color:  #000000;\n        }#T_ffd597cf_8286_11eb_9137_0c9d92c473d6row5_col23{\n            background-color:  #95adc3;\n            color:  #000000;\n        }#T_ffd597cf_8286_11eb_9137_0c9d92c473d6row9_col1{\n            background-color:  #eff0f2;\n            color:  #000000;\n        }#T_ffd597cf_8286_11eb_9137_0c9d92c473d6row9_col4{\n            background-color:  #becbd8;\n            color:  #000000;\n        }#T_ffd597cf_8286_11eb_9137_0c9d92c473d6row10_col1{\n            background-color:  #d4dce4;\n            color:  #000000;\n        }#T_ffd597cf_8286_11eb_9137_0c9d92c473d6row11_col1{\n            background-color:  #d1d9e2;\n            color:  #000000;\n        }#T_ffd597cf_8286_11eb_9137_0c9d92c473d6row11_col10{\n            background-color:  #8ba6be;\n            color:  #000000;\n        }#T_ffd597cf_8286_11eb_9137_0c9d92c473d6row12_col1,#T_ffd597cf_8286_11eb_9137_0c9d92c473d6row16_col1{\n            background-color:  #b2c2d2;\n            color:  #000000;\n        }#T_ffd597cf_8286_11eb_9137_0c9d92c473d6row12_col20,#T_ffd597cf_8286_11eb_9137_0c9d92c473d6row14_col20{\n            background-color:  #b0c1d1;\n            color:  #000000;\n        }#T_ffd597cf_8286_11eb_9137_0c9d92c473d6row14_col17,#T_ffd597cf_8286_11eb_9137_0c9d92c473d6row15_col17{\n            background-color:  #c5d0dc;\n            color:  #000000;\n        }#T_ffd597cf_8286_11eb_9137_0c9d92c473d6row14_col22{\n            background-color:  #cbd5df;\n            color:  #000000;\n        }#T_ffd597cf_8286_11eb_9137_0c9d92c473d6row16_col17{\n            background-color:  #a5b9cb;\n            color:  #000000;\n        }#T_ffd597cf_8286_11eb_9137_0c9d92c473d6row18_col1{\n            background-color:  #e4e8ed;\n            color:  #000000;\n        }#T_ffd597cf_8286_11eb_9137_0c9d92c473d6row21_col1{\n            background-color:  #96adc3;\n            color:  #000000;\n        }#T_ffd597cf_8286_11eb_9137_0c9d92c473d6row21_col23{\n            background-color:  #9db3c7;\n            color:  #000000;\n        }#T_ffd597cf_8286_11eb_9137_0c9d92c473d6row22_col1{\n            background-color:  #e8ebef;\n            color:  #000000;\n        }#T_ffd597cf_8286_11eb_9137_0c9d92c473d6row22_col20{\n            background-color:  #92abc1;\n            color:  #000000;\n        }</style><table id=\"T_ffd597cf_8286_11eb_9137_0c9d92c473d6\" ><thead>    <tr>        <th class=\"blank level0\" ></th>        <th class=\"col_heading level0 col0\" >0</th>        <th class=\"col_heading level0 col1\" >1</th>        <th class=\"col_heading level0 col2\" >2</th>        <th class=\"col_heading level0 col3\" >3</th>        <th class=\"col_heading level0 col4\" >4</th>        <th class=\"col_heading level0 col5\" >5</th>        <th class=\"col_heading level0 col6\" >6</th>        <th class=\"col_heading level0 col7\" >7</th>        <th class=\"col_heading level0 col8\" >8</th>        <th class=\"col_heading level0 col9\" >9</th>        <th class=\"col_heading level0 col10\" >10</th>        <th class=\"col_heading level0 col11\" >11</th>        <th class=\"col_heading level0 col12\" >12</th>        <th class=\"col_heading level0 col13\" >13</th>        <th class=\"col_heading level0 col14\" >14</th>        <th class=\"col_heading level0 col15\" >15</th>        <th class=\"col_heading level0 col16\" >16</th>        <th class=\"col_heading level0 col17\" >17</th>        <th class=\"col_heading level0 col18\" >18</th>        <th class=\"col_heading level0 col19\" >19</th>        <th class=\"col_heading level0 col20\" >20</th>        <th class=\"col_heading level0 col21\" >21</th>        <th class=\"col_heading level0 col22\" >22</th>        <th class=\"col_heading level0 col23\" >23</th>    </tr></thead><tbody>\n                <tr>\n                        <th id=\"T_ffd597cf_8286_11eb_9137_0c9d92c473d6level0_row0\" class=\"row_heading level0 row0\" >0</th>\n                        <td id=\"T_ffd597cf_8286_11eb_9137_0c9d92c473d6row0_col0\" class=\"data row0 col0\" >0.0</td>\n                        <td id=\"T_ffd597cf_8286_11eb_9137_0c9d92c473d6row0_col1\" class=\"data row0 col1\" >0.0</td>\n                        <td id=\"T_ffd597cf_8286_11eb_9137_0c9d92c473d6row0_col2\" class=\"data row0 col2\" >0.0</td>\n                        <td id=\"T_ffd597cf_8286_11eb_9137_0c9d92c473d6row0_col3\" class=\"data row0 col3\" >0.0</td>\n                        <td id=\"T_ffd597cf_8286_11eb_9137_0c9d92c473d6row0_col4\" class=\"data row0 col4\" >0.0</td>\n                        <td id=\"T_ffd597cf_8286_11eb_9137_0c9d92c473d6row0_col5\" class=\"data row0 col5\" >0.0</td>\n                        <td id=\"T_ffd597cf_8286_11eb_9137_0c9d92c473d6row0_col6\" class=\"data row0 col6\" >0.0</td>\n                        <td id=\"T_ffd597cf_8286_11eb_9137_0c9d92c473d6row0_col7\" class=\"data row0 col7\" >0.0</td>\n                        <td id=\"T_ffd597cf_8286_11eb_9137_0c9d92c473d6row0_col8\" class=\"data row0 col8\" >0.0</td>\n                        <td id=\"T_ffd597cf_8286_11eb_9137_0c9d92c473d6row0_col9\" class=\"data row0 col9\" >0.0</td>\n                        <td id=\"T_ffd597cf_8286_11eb_9137_0c9d92c473d6row0_col10\" class=\"data row0 col10\" >0.0</td>\n                        <td id=\"T_ffd597cf_8286_11eb_9137_0c9d92c473d6row0_col11\" class=\"data row0 col11\" >0.0</td>\n                        <td id=\"T_ffd597cf_8286_11eb_9137_0c9d92c473d6row0_col12\" class=\"data row0 col12\" >0.0</td>\n                        <td id=\"T_ffd597cf_8286_11eb_9137_0c9d92c473d6row0_col13\" class=\"data row0 col13\" >0.0</td>\n                        <td id=\"T_ffd597cf_8286_11eb_9137_0c9d92c473d6row0_col14\" class=\"data row0 col14\" >0.0</td>\n                        <td id=\"T_ffd597cf_8286_11eb_9137_0c9d92c473d6row0_col15\" class=\"data row0 col15\" >0.0</td>\n                        <td id=\"T_ffd597cf_8286_11eb_9137_0c9d92c473d6row0_col16\" class=\"data row0 col16\" >0.0</td>\n                        <td id=\"T_ffd597cf_8286_11eb_9137_0c9d92c473d6row0_col17\" class=\"data row0 col17\" >0.014</td>\n                        <td id=\"T_ffd597cf_8286_11eb_9137_0c9d92c473d6row0_col18\" class=\"data row0 col18\" >0.0</td>\n                        <td id=\"T_ffd597cf_8286_11eb_9137_0c9d92c473d6row0_col19\" class=\"data row0 col19\" >0.0</td>\n                        <td id=\"T_ffd597cf_8286_11eb_9137_0c9d92c473d6row0_col20\" class=\"data row0 col20\" >0.0</td>\n                        <td id=\"T_ffd597cf_8286_11eb_9137_0c9d92c473d6row0_col21\" class=\"data row0 col21\" >0.0</td>\n                        <td id=\"T_ffd597cf_8286_11eb_9137_0c9d92c473d6row0_col22\" class=\"data row0 col22\" >0.0</td>\n                        <td id=\"T_ffd597cf_8286_11eb_9137_0c9d92c473d6row0_col23\" class=\"data row0 col23\" >0.0</td>\n            </tr>\n            <tr>\n                        <th id=\"T_ffd597cf_8286_11eb_9137_0c9d92c473d6level0_row1\" class=\"row_heading level0 row1\" >1</th>\n                        <td id=\"T_ffd597cf_8286_11eb_9137_0c9d92c473d6row1_col0\" class=\"data row1 col0\" >0.017</td>\n                        <td id=\"T_ffd597cf_8286_11eb_9137_0c9d92c473d6row1_col1\" class=\"data row1 col1\" >0.0</td>\n                        <td id=\"T_ffd597cf_8286_11eb_9137_0c9d92c473d6row1_col2\" class=\"data row1 col2\" >0.0</td>\n                        <td id=\"T_ffd597cf_8286_11eb_9137_0c9d92c473d6row1_col3\" class=\"data row1 col3\" >0.0</td>\n                        <td id=\"T_ffd597cf_8286_11eb_9137_0c9d92c473d6row1_col4\" class=\"data row1 col4\" >0.0</td>\n                        <td id=\"T_ffd597cf_8286_11eb_9137_0c9d92c473d6row1_col5\" class=\"data row1 col5\" >0.0</td>\n                        <td id=\"T_ffd597cf_8286_11eb_9137_0c9d92c473d6row1_col6\" class=\"data row1 col6\" >0.0</td>\n                        <td id=\"T_ffd597cf_8286_11eb_9137_0c9d92c473d6row1_col7\" class=\"data row1 col7\" >0.0</td>\n                        <td id=\"T_ffd597cf_8286_11eb_9137_0c9d92c473d6row1_col8\" class=\"data row1 col8\" >0.0</td>\n                        <td id=\"T_ffd597cf_8286_11eb_9137_0c9d92c473d6row1_col9\" class=\"data row1 col9\" >0.0</td>\n                        <td id=\"T_ffd597cf_8286_11eb_9137_0c9d92c473d6row1_col10\" class=\"data row1 col10\" >0.0</td>\n                        <td id=\"T_ffd597cf_8286_11eb_9137_0c9d92c473d6row1_col11\" class=\"data row1 col11\" >0.0</td>\n                        <td id=\"T_ffd597cf_8286_11eb_9137_0c9d92c473d6row1_col12\" class=\"data row1 col12\" >0.0</td>\n                        <td id=\"T_ffd597cf_8286_11eb_9137_0c9d92c473d6row1_col13\" class=\"data row1 col13\" >0.0</td>\n                        <td id=\"T_ffd597cf_8286_11eb_9137_0c9d92c473d6row1_col14\" class=\"data row1 col14\" >0.0</td>\n                        <td id=\"T_ffd597cf_8286_11eb_9137_0c9d92c473d6row1_col15\" class=\"data row1 col15\" >0.0</td>\n                        <td id=\"T_ffd597cf_8286_11eb_9137_0c9d92c473d6row1_col16\" class=\"data row1 col16\" >0.0</td>\n                        <td id=\"T_ffd597cf_8286_11eb_9137_0c9d92c473d6row1_col17\" class=\"data row1 col17\" >0.0</td>\n                        <td id=\"T_ffd597cf_8286_11eb_9137_0c9d92c473d6row1_col18\" class=\"data row1 col18\" >0.0</td>\n                        <td id=\"T_ffd597cf_8286_11eb_9137_0c9d92c473d6row1_col19\" class=\"data row1 col19\" >0.0</td>\n                        <td id=\"T_ffd597cf_8286_11eb_9137_0c9d92c473d6row1_col20\" class=\"data row1 col20\" >0.021</td>\n                        <td id=\"T_ffd597cf_8286_11eb_9137_0c9d92c473d6row1_col21\" class=\"data row1 col21\" >0.0</td>\n                        <td id=\"T_ffd597cf_8286_11eb_9137_0c9d92c473d6row1_col22\" class=\"data row1 col22\" >0.0</td>\n                        <td id=\"T_ffd597cf_8286_11eb_9137_0c9d92c473d6row1_col23\" class=\"data row1 col23\" >0.0</td>\n            </tr>\n            <tr>\n                        <th id=\"T_ffd597cf_8286_11eb_9137_0c9d92c473d6level0_row2\" class=\"row_heading level0 row2\" >2</th>\n                        <td id=\"T_ffd597cf_8286_11eb_9137_0c9d92c473d6row2_col0\" class=\"data row2 col0\" >0.0</td>\n                        <td id=\"T_ffd597cf_8286_11eb_9137_0c9d92c473d6row2_col1\" class=\"data row2 col1\" >0.0</td>\n                        <td id=\"T_ffd597cf_8286_11eb_9137_0c9d92c473d6row2_col2\" class=\"data row2 col2\" >0.0</td>\n                        <td id=\"T_ffd597cf_8286_11eb_9137_0c9d92c473d6row2_col3\" class=\"data row2 col3\" >0.0</td>\n                        <td id=\"T_ffd597cf_8286_11eb_9137_0c9d92c473d6row2_col4\" class=\"data row2 col4\" >0.038</td>\n                        <td id=\"T_ffd597cf_8286_11eb_9137_0c9d92c473d6row2_col5\" class=\"data row2 col5\" >0.0</td>\n                        <td id=\"T_ffd597cf_8286_11eb_9137_0c9d92c473d6row2_col6\" class=\"data row2 col6\" >0.0</td>\n                        <td id=\"T_ffd597cf_8286_11eb_9137_0c9d92c473d6row2_col7\" class=\"data row2 col7\" >0.0</td>\n                        <td id=\"T_ffd597cf_8286_11eb_9137_0c9d92c473d6row2_col8\" class=\"data row2 col8\" >0.0</td>\n                        <td id=\"T_ffd597cf_8286_11eb_9137_0c9d92c473d6row2_col9\" class=\"data row2 col9\" >0.0</td>\n                        <td id=\"T_ffd597cf_8286_11eb_9137_0c9d92c473d6row2_col10\" class=\"data row2 col10\" >0.0</td>\n                        <td id=\"T_ffd597cf_8286_11eb_9137_0c9d92c473d6row2_col11\" class=\"data row2 col11\" >0.0</td>\n                        <td id=\"T_ffd597cf_8286_11eb_9137_0c9d92c473d6row2_col12\" class=\"data row2 col12\" >0.0</td>\n                        <td id=\"T_ffd597cf_8286_11eb_9137_0c9d92c473d6row2_col13\" class=\"data row2 col13\" >0.0</td>\n                        <td id=\"T_ffd597cf_8286_11eb_9137_0c9d92c473d6row2_col14\" class=\"data row2 col14\" >0.0</td>\n                        <td id=\"T_ffd597cf_8286_11eb_9137_0c9d92c473d6row2_col15\" class=\"data row2 col15\" >0.0</td>\n                        <td id=\"T_ffd597cf_8286_11eb_9137_0c9d92c473d6row2_col16\" class=\"data row2 col16\" >0.0</td>\n                        <td id=\"T_ffd597cf_8286_11eb_9137_0c9d92c473d6row2_col17\" class=\"data row2 col17\" >0.0</td>\n                        <td id=\"T_ffd597cf_8286_11eb_9137_0c9d92c473d6row2_col18\" class=\"data row2 col18\" >0.0</td>\n                        <td id=\"T_ffd597cf_8286_11eb_9137_0c9d92c473d6row2_col19\" class=\"data row2 col19\" >0.0</td>\n                        <td id=\"T_ffd597cf_8286_11eb_9137_0c9d92c473d6row2_col20\" class=\"data row2 col20\" >0.0</td>\n                        <td id=\"T_ffd597cf_8286_11eb_9137_0c9d92c473d6row2_col21\" class=\"data row2 col21\" >0.0</td>\n                        <td id=\"T_ffd597cf_8286_11eb_9137_0c9d92c473d6row2_col22\" class=\"data row2 col22\" >0.0</td>\n                        <td id=\"T_ffd597cf_8286_11eb_9137_0c9d92c473d6row2_col23\" class=\"data row2 col23\" >0.0</td>\n            </tr>\n            <tr>\n                        <th id=\"T_ffd597cf_8286_11eb_9137_0c9d92c473d6level0_row3\" class=\"row_heading level0 row3\" >3</th>\n                        <td id=\"T_ffd597cf_8286_11eb_9137_0c9d92c473d6row3_col0\" class=\"data row3 col0\" >0.0</td>\n                        <td id=\"T_ffd597cf_8286_11eb_9137_0c9d92c473d6row3_col1\" class=\"data row3 col1\" >0.0</td>\n                        <td id=\"T_ffd597cf_8286_11eb_9137_0c9d92c473d6row3_col2\" class=\"data row3 col2\" >0.0</td>\n                        <td id=\"T_ffd597cf_8286_11eb_9137_0c9d92c473d6row3_col3\" class=\"data row3 col3\" >0.0</td>\n                        <td id=\"T_ffd597cf_8286_11eb_9137_0c9d92c473d6row3_col4\" class=\"data row3 col4\" >0.0</td>\n                        <td id=\"T_ffd597cf_8286_11eb_9137_0c9d92c473d6row3_col5\" class=\"data row3 col5\" >0.0</td>\n                        <td id=\"T_ffd597cf_8286_11eb_9137_0c9d92c473d6row3_col6\" class=\"data row3 col6\" >0.0</td>\n                        <td id=\"T_ffd597cf_8286_11eb_9137_0c9d92c473d6row3_col7\" class=\"data row3 col7\" >0.0</td>\n                        <td id=\"T_ffd597cf_8286_11eb_9137_0c9d92c473d6row3_col8\" class=\"data row3 col8\" >0.0</td>\n                        <td id=\"T_ffd597cf_8286_11eb_9137_0c9d92c473d6row3_col9\" class=\"data row3 col9\" >0.0</td>\n                        <td id=\"T_ffd597cf_8286_11eb_9137_0c9d92c473d6row3_col10\" class=\"data row3 col10\" >0.0</td>\n                        <td id=\"T_ffd597cf_8286_11eb_9137_0c9d92c473d6row3_col11\" class=\"data row3 col11\" >0.0</td>\n                        <td id=\"T_ffd597cf_8286_11eb_9137_0c9d92c473d6row3_col12\" class=\"data row3 col12\" >0.0</td>\n                        <td id=\"T_ffd597cf_8286_11eb_9137_0c9d92c473d6row3_col13\" class=\"data row3 col13\" >0.0</td>\n                        <td id=\"T_ffd597cf_8286_11eb_9137_0c9d92c473d6row3_col14\" class=\"data row3 col14\" >0.0</td>\n                        <td id=\"T_ffd597cf_8286_11eb_9137_0c9d92c473d6row3_col15\" class=\"data row3 col15\" >0.0</td>\n                        <td id=\"T_ffd597cf_8286_11eb_9137_0c9d92c473d6row3_col16\" class=\"data row3 col16\" >0.0</td>\n                        <td id=\"T_ffd597cf_8286_11eb_9137_0c9d92c473d6row3_col17\" class=\"data row3 col17\" >0.0</td>\n                        <td id=\"T_ffd597cf_8286_11eb_9137_0c9d92c473d6row3_col18\" class=\"data row3 col18\" >0.0</td>\n                        <td id=\"T_ffd597cf_8286_11eb_9137_0c9d92c473d6row3_col19\" class=\"data row3 col19\" >0.0</td>\n                        <td id=\"T_ffd597cf_8286_11eb_9137_0c9d92c473d6row3_col20\" class=\"data row3 col20\" >0.0</td>\n                        <td id=\"T_ffd597cf_8286_11eb_9137_0c9d92c473d6row3_col21\" class=\"data row3 col21\" >0.0</td>\n                        <td id=\"T_ffd597cf_8286_11eb_9137_0c9d92c473d6row3_col22\" class=\"data row3 col22\" >0.0</td>\n                        <td id=\"T_ffd597cf_8286_11eb_9137_0c9d92c473d6row3_col23\" class=\"data row3 col23\" >0.0</td>\n            </tr>\n            <tr>\n                        <th id=\"T_ffd597cf_8286_11eb_9137_0c9d92c473d6level0_row4\" class=\"row_heading level0 row4\" >4</th>\n                        <td id=\"T_ffd597cf_8286_11eb_9137_0c9d92c473d6row4_col0\" class=\"data row4 col0\" >0.011</td>\n                        <td id=\"T_ffd597cf_8286_11eb_9137_0c9d92c473d6row4_col1\" class=\"data row4 col1\" >0.015</td>\n                        <td id=\"T_ffd597cf_8286_11eb_9137_0c9d92c473d6row4_col2\" class=\"data row4 col2\" >0.0</td>\n                        <td id=\"T_ffd597cf_8286_11eb_9137_0c9d92c473d6row4_col3\" class=\"data row4 col3\" >0.0</td>\n                        <td id=\"T_ffd597cf_8286_11eb_9137_0c9d92c473d6row4_col4\" class=\"data row4 col4\" >0.0</td>\n                        <td id=\"T_ffd597cf_8286_11eb_9137_0c9d92c473d6row4_col5\" class=\"data row4 col5\" >0.0</td>\n                        <td id=\"T_ffd597cf_8286_11eb_9137_0c9d92c473d6row4_col6\" class=\"data row4 col6\" >0.0</td>\n                        <td id=\"T_ffd597cf_8286_11eb_9137_0c9d92c473d6row4_col7\" class=\"data row4 col7\" >0.0</td>\n                        <td id=\"T_ffd597cf_8286_11eb_9137_0c9d92c473d6row4_col8\" class=\"data row4 col8\" >0.0</td>\n                        <td id=\"T_ffd597cf_8286_11eb_9137_0c9d92c473d6row4_col9\" class=\"data row4 col9\" >0.0</td>\n                        <td id=\"T_ffd597cf_8286_11eb_9137_0c9d92c473d6row4_col10\" class=\"data row4 col10\" >0.0</td>\n                        <td id=\"T_ffd597cf_8286_11eb_9137_0c9d92c473d6row4_col11\" class=\"data row4 col11\" >0.0</td>\n                        <td id=\"T_ffd597cf_8286_11eb_9137_0c9d92c473d6row4_col12\" class=\"data row4 col12\" >0.0</td>\n                        <td id=\"T_ffd597cf_8286_11eb_9137_0c9d92c473d6row4_col13\" class=\"data row4 col13\" >0.0</td>\n                        <td id=\"T_ffd597cf_8286_11eb_9137_0c9d92c473d6row4_col14\" class=\"data row4 col14\" >0.0</td>\n                        <td id=\"T_ffd597cf_8286_11eb_9137_0c9d92c473d6row4_col15\" class=\"data row4 col15\" >0.0</td>\n                        <td id=\"T_ffd597cf_8286_11eb_9137_0c9d92c473d6row4_col16\" class=\"data row4 col16\" >0.0</td>\n                        <td id=\"T_ffd597cf_8286_11eb_9137_0c9d92c473d6row4_col17\" class=\"data row4 col17\" >0.017</td>\n                        <td id=\"T_ffd597cf_8286_11eb_9137_0c9d92c473d6row4_col18\" class=\"data row4 col18\" >0.0</td>\n                        <td id=\"T_ffd597cf_8286_11eb_9137_0c9d92c473d6row4_col19\" class=\"data row4 col19\" >0.0</td>\n                        <td id=\"T_ffd597cf_8286_11eb_9137_0c9d92c473d6row4_col20\" class=\"data row4 col20\" >0.0</td>\n                        <td id=\"T_ffd597cf_8286_11eb_9137_0c9d92c473d6row4_col21\" class=\"data row4 col21\" >0.0</td>\n                        <td id=\"T_ffd597cf_8286_11eb_9137_0c9d92c473d6row4_col22\" class=\"data row4 col22\" >0.0</td>\n                        <td id=\"T_ffd597cf_8286_11eb_9137_0c9d92c473d6row4_col23\" class=\"data row4 col23\" >0.0</td>\n            </tr>\n            <tr>\n                        <th id=\"T_ffd597cf_8286_11eb_9137_0c9d92c473d6level0_row5\" class=\"row_heading level0 row5\" >5</th>\n                        <td id=\"T_ffd597cf_8286_11eb_9137_0c9d92c473d6row5_col0\" class=\"data row5 col0\" >0.009</td>\n                        <td id=\"T_ffd597cf_8286_11eb_9137_0c9d92c473d6row5_col1\" class=\"data row5 col1\" >0.009</td>\n                        <td id=\"T_ffd597cf_8286_11eb_9137_0c9d92c473d6row5_col2\" class=\"data row5 col2\" >0.0</td>\n                        <td id=\"T_ffd597cf_8286_11eb_9137_0c9d92c473d6row5_col3\" class=\"data row5 col3\" >0.0</td>\n                        <td id=\"T_ffd597cf_8286_11eb_9137_0c9d92c473d6row5_col4\" class=\"data row5 col4\" >0.0</td>\n                        <td id=\"T_ffd597cf_8286_11eb_9137_0c9d92c473d6row5_col5\" class=\"data row5 col5\" >0.0</td>\n                        <td id=\"T_ffd597cf_8286_11eb_9137_0c9d92c473d6row5_col6\" class=\"data row5 col6\" >0.0</td>\n                        <td id=\"T_ffd597cf_8286_11eb_9137_0c9d92c473d6row5_col7\" class=\"data row5 col7\" >0.0</td>\n                        <td id=\"T_ffd597cf_8286_11eb_9137_0c9d92c473d6row5_col8\" class=\"data row5 col8\" >0.0</td>\n                        <td id=\"T_ffd597cf_8286_11eb_9137_0c9d92c473d6row5_col9\" class=\"data row5 col9\" >0.0</td>\n                        <td id=\"T_ffd597cf_8286_11eb_9137_0c9d92c473d6row5_col10\" class=\"data row5 col10\" >0.014</td>\n                        <td id=\"T_ffd597cf_8286_11eb_9137_0c9d92c473d6row5_col11\" class=\"data row5 col11\" >0.0</td>\n                        <td id=\"T_ffd597cf_8286_11eb_9137_0c9d92c473d6row5_col12\" class=\"data row5 col12\" >0.0</td>\n                        <td id=\"T_ffd597cf_8286_11eb_9137_0c9d92c473d6row5_col13\" class=\"data row5 col13\" >0.0</td>\n                        <td id=\"T_ffd597cf_8286_11eb_9137_0c9d92c473d6row5_col14\" class=\"data row5 col14\" >0.009</td>\n                        <td id=\"T_ffd597cf_8286_11eb_9137_0c9d92c473d6row5_col15\" class=\"data row5 col15\" >0.0</td>\n                        <td id=\"T_ffd597cf_8286_11eb_9137_0c9d92c473d6row5_col16\" class=\"data row5 col16\" >0.0</td>\n                        <td id=\"T_ffd597cf_8286_11eb_9137_0c9d92c473d6row5_col17\" class=\"data row5 col17\" >0.0</td>\n                        <td id=\"T_ffd597cf_8286_11eb_9137_0c9d92c473d6row5_col18\" class=\"data row5 col18\" >0.0</td>\n                        <td id=\"T_ffd597cf_8286_11eb_9137_0c9d92c473d6row5_col19\" class=\"data row5 col19\" >0.0</td>\n                        <td id=\"T_ffd597cf_8286_11eb_9137_0c9d92c473d6row5_col20\" class=\"data row5 col20\" >0.0</td>\n                        <td id=\"T_ffd597cf_8286_11eb_9137_0c9d92c473d6row5_col21\" class=\"data row5 col21\" >0.0</td>\n                        <td id=\"T_ffd597cf_8286_11eb_9137_0c9d92c473d6row5_col22\" class=\"data row5 col22\" >0.014</td>\n                        <td id=\"T_ffd597cf_8286_11eb_9137_0c9d92c473d6row5_col23\" class=\"data row5 col23\" >0.013</td>\n            </tr>\n            <tr>\n                        <th id=\"T_ffd597cf_8286_11eb_9137_0c9d92c473d6level0_row6\" class=\"row_heading level0 row6\" >6</th>\n                        <td id=\"T_ffd597cf_8286_11eb_9137_0c9d92c473d6row6_col0\" class=\"data row6 col0\" >0.0</td>\n                        <td id=\"T_ffd597cf_8286_11eb_9137_0c9d92c473d6row6_col1\" class=\"data row6 col1\" >0.015</td>\n                        <td id=\"T_ffd597cf_8286_11eb_9137_0c9d92c473d6row6_col2\" class=\"data row6 col2\" >0.0</td>\n                        <td id=\"T_ffd597cf_8286_11eb_9137_0c9d92c473d6row6_col3\" class=\"data row6 col3\" >0.0</td>\n                        <td id=\"T_ffd597cf_8286_11eb_9137_0c9d92c473d6row6_col4\" class=\"data row6 col4\" >0.0</td>\n                        <td id=\"T_ffd597cf_8286_11eb_9137_0c9d92c473d6row6_col5\" class=\"data row6 col5\" >0.0</td>\n                        <td id=\"T_ffd597cf_8286_11eb_9137_0c9d92c473d6row6_col6\" class=\"data row6 col6\" >0.0</td>\n                        <td id=\"T_ffd597cf_8286_11eb_9137_0c9d92c473d6row6_col7\" class=\"data row6 col7\" >0.0</td>\n                        <td id=\"T_ffd597cf_8286_11eb_9137_0c9d92c473d6row6_col8\" class=\"data row6 col8\" >0.0</td>\n                        <td id=\"T_ffd597cf_8286_11eb_9137_0c9d92c473d6row6_col9\" class=\"data row6 col9\" >0.0</td>\n                        <td id=\"T_ffd597cf_8286_11eb_9137_0c9d92c473d6row6_col10\" class=\"data row6 col10\" >0.0</td>\n                        <td id=\"T_ffd597cf_8286_11eb_9137_0c9d92c473d6row6_col11\" class=\"data row6 col11\" >0.0</td>\n                        <td id=\"T_ffd597cf_8286_11eb_9137_0c9d92c473d6row6_col12\" class=\"data row6 col12\" >0.0</td>\n                        <td id=\"T_ffd597cf_8286_11eb_9137_0c9d92c473d6row6_col13\" class=\"data row6 col13\" >0.0</td>\n                        <td id=\"T_ffd597cf_8286_11eb_9137_0c9d92c473d6row6_col14\" class=\"data row6 col14\" >0.0</td>\n                        <td id=\"T_ffd597cf_8286_11eb_9137_0c9d92c473d6row6_col15\" class=\"data row6 col15\" >0.0</td>\n                        <td id=\"T_ffd597cf_8286_11eb_9137_0c9d92c473d6row6_col16\" class=\"data row6 col16\" >0.0</td>\n                        <td id=\"T_ffd597cf_8286_11eb_9137_0c9d92c473d6row6_col17\" class=\"data row6 col17\" >0.0</td>\n                        <td id=\"T_ffd597cf_8286_11eb_9137_0c9d92c473d6row6_col18\" class=\"data row6 col18\" >0.0</td>\n                        <td id=\"T_ffd597cf_8286_11eb_9137_0c9d92c473d6row6_col19\" class=\"data row6 col19\" >0.0</td>\n                        <td id=\"T_ffd597cf_8286_11eb_9137_0c9d92c473d6row6_col20\" class=\"data row6 col20\" >0.0</td>\n                        <td id=\"T_ffd597cf_8286_11eb_9137_0c9d92c473d6row6_col21\" class=\"data row6 col21\" >0.0</td>\n                        <td id=\"T_ffd597cf_8286_11eb_9137_0c9d92c473d6row6_col22\" class=\"data row6 col22\" >0.0</td>\n                        <td id=\"T_ffd597cf_8286_11eb_9137_0c9d92c473d6row6_col23\" class=\"data row6 col23\" >0.0</td>\n            </tr>\n            <tr>\n                        <th id=\"T_ffd597cf_8286_11eb_9137_0c9d92c473d6level0_row7\" class=\"row_heading level0 row7\" >7</th>\n                        <td id=\"T_ffd597cf_8286_11eb_9137_0c9d92c473d6row7_col0\" class=\"data row7 col0\" >0.0</td>\n                        <td id=\"T_ffd597cf_8286_11eb_9137_0c9d92c473d6row7_col1\" class=\"data row7 col1\" >0.0</td>\n                        <td id=\"T_ffd597cf_8286_11eb_9137_0c9d92c473d6row7_col2\" class=\"data row7 col2\" >0.0</td>\n                        <td id=\"T_ffd597cf_8286_11eb_9137_0c9d92c473d6row7_col3\" class=\"data row7 col3\" >0.0</td>\n                        <td id=\"T_ffd597cf_8286_11eb_9137_0c9d92c473d6row7_col4\" class=\"data row7 col4\" >0.0</td>\n                        <td id=\"T_ffd597cf_8286_11eb_9137_0c9d92c473d6row7_col5\" class=\"data row7 col5\" >0.0</td>\n                        <td id=\"T_ffd597cf_8286_11eb_9137_0c9d92c473d6row7_col6\" class=\"data row7 col6\" >0.0</td>\n                        <td id=\"T_ffd597cf_8286_11eb_9137_0c9d92c473d6row7_col7\" class=\"data row7 col7\" >0.0</td>\n                        <td id=\"T_ffd597cf_8286_11eb_9137_0c9d92c473d6row7_col8\" class=\"data row7 col8\" >0.0</td>\n                        <td id=\"T_ffd597cf_8286_11eb_9137_0c9d92c473d6row7_col9\" class=\"data row7 col9\" >0.0</td>\n                        <td id=\"T_ffd597cf_8286_11eb_9137_0c9d92c473d6row7_col10\" class=\"data row7 col10\" >0.0</td>\n                        <td id=\"T_ffd597cf_8286_11eb_9137_0c9d92c473d6row7_col11\" class=\"data row7 col11\" >0.0</td>\n                        <td id=\"T_ffd597cf_8286_11eb_9137_0c9d92c473d6row7_col12\" class=\"data row7 col12\" >0.0</td>\n                        <td id=\"T_ffd597cf_8286_11eb_9137_0c9d92c473d6row7_col13\" class=\"data row7 col13\" >0.0</td>\n                        <td id=\"T_ffd597cf_8286_11eb_9137_0c9d92c473d6row7_col14\" class=\"data row7 col14\" >0.0</td>\n                        <td id=\"T_ffd597cf_8286_11eb_9137_0c9d92c473d6row7_col15\" class=\"data row7 col15\" >0.0</td>\n                        <td id=\"T_ffd597cf_8286_11eb_9137_0c9d92c473d6row7_col16\" class=\"data row7 col16\" >0.0</td>\n                        <td id=\"T_ffd597cf_8286_11eb_9137_0c9d92c473d6row7_col17\" class=\"data row7 col17\" >0.0</td>\n                        <td id=\"T_ffd597cf_8286_11eb_9137_0c9d92c473d6row7_col18\" class=\"data row7 col18\" >0.0</td>\n                        <td id=\"T_ffd597cf_8286_11eb_9137_0c9d92c473d6row7_col19\" class=\"data row7 col19\" >0.0</td>\n                        <td id=\"T_ffd597cf_8286_11eb_9137_0c9d92c473d6row7_col20\" class=\"data row7 col20\" >0.0</td>\n                        <td id=\"T_ffd597cf_8286_11eb_9137_0c9d92c473d6row7_col21\" class=\"data row7 col21\" >0.0</td>\n                        <td id=\"T_ffd597cf_8286_11eb_9137_0c9d92c473d6row7_col22\" class=\"data row7 col22\" >0.0</td>\n                        <td id=\"T_ffd597cf_8286_11eb_9137_0c9d92c473d6row7_col23\" class=\"data row7 col23\" >0.0</td>\n            </tr>\n            <tr>\n                        <th id=\"T_ffd597cf_8286_11eb_9137_0c9d92c473d6level0_row8\" class=\"row_heading level0 row8\" >8</th>\n                        <td id=\"T_ffd597cf_8286_11eb_9137_0c9d92c473d6row8_col0\" class=\"data row8 col0\" >0.0</td>\n                        <td id=\"T_ffd597cf_8286_11eb_9137_0c9d92c473d6row8_col1\" class=\"data row8 col1\" >0.0</td>\n                        <td id=\"T_ffd597cf_8286_11eb_9137_0c9d92c473d6row8_col2\" class=\"data row8 col2\" >0.0</td>\n                        <td id=\"T_ffd597cf_8286_11eb_9137_0c9d92c473d6row8_col3\" class=\"data row8 col3\" >0.0</td>\n                        <td id=\"T_ffd597cf_8286_11eb_9137_0c9d92c473d6row8_col4\" class=\"data row8 col4\" >0.0</td>\n                        <td id=\"T_ffd597cf_8286_11eb_9137_0c9d92c473d6row8_col5\" class=\"data row8 col5\" >0.031</td>\n                        <td id=\"T_ffd597cf_8286_11eb_9137_0c9d92c473d6row8_col6\" class=\"data row8 col6\" >0.0</td>\n                        <td id=\"T_ffd597cf_8286_11eb_9137_0c9d92c473d6row8_col7\" class=\"data row8 col7\" >0.0</td>\n                        <td id=\"T_ffd597cf_8286_11eb_9137_0c9d92c473d6row8_col8\" class=\"data row8 col8\" >0.0</td>\n                        <td id=\"T_ffd597cf_8286_11eb_9137_0c9d92c473d6row8_col9\" class=\"data row8 col9\" >0.0</td>\n                        <td id=\"T_ffd597cf_8286_11eb_9137_0c9d92c473d6row8_col10\" class=\"data row8 col10\" >0.0</td>\n                        <td id=\"T_ffd597cf_8286_11eb_9137_0c9d92c473d6row8_col11\" class=\"data row8 col11\" >0.0</td>\n                        <td id=\"T_ffd597cf_8286_11eb_9137_0c9d92c473d6row8_col12\" class=\"data row8 col12\" >0.0</td>\n                        <td id=\"T_ffd597cf_8286_11eb_9137_0c9d92c473d6row8_col13\" class=\"data row8 col13\" >0.0</td>\n                        <td id=\"T_ffd597cf_8286_11eb_9137_0c9d92c473d6row8_col14\" class=\"data row8 col14\" >0.0</td>\n                        <td id=\"T_ffd597cf_8286_11eb_9137_0c9d92c473d6row8_col15\" class=\"data row8 col15\" >0.0</td>\n                        <td id=\"T_ffd597cf_8286_11eb_9137_0c9d92c473d6row8_col16\" class=\"data row8 col16\" >0.0</td>\n                        <td id=\"T_ffd597cf_8286_11eb_9137_0c9d92c473d6row8_col17\" class=\"data row8 col17\" >0.0</td>\n                        <td id=\"T_ffd597cf_8286_11eb_9137_0c9d92c473d6row8_col18\" class=\"data row8 col18\" >0.0</td>\n                        <td id=\"T_ffd597cf_8286_11eb_9137_0c9d92c473d6row8_col19\" class=\"data row8 col19\" >0.0</td>\n                        <td id=\"T_ffd597cf_8286_11eb_9137_0c9d92c473d6row8_col20\" class=\"data row8 col20\" >0.0</td>\n                        <td id=\"T_ffd597cf_8286_11eb_9137_0c9d92c473d6row8_col21\" class=\"data row8 col21\" >0.0</td>\n                        <td id=\"T_ffd597cf_8286_11eb_9137_0c9d92c473d6row8_col22\" class=\"data row8 col22\" >0.0</td>\n                        <td id=\"T_ffd597cf_8286_11eb_9137_0c9d92c473d6row8_col23\" class=\"data row8 col23\" >0.0</td>\n            </tr>\n            <tr>\n                        <th id=\"T_ffd597cf_8286_11eb_9137_0c9d92c473d6level0_row9\" class=\"row_heading level0 row9\" >9</th>\n                        <td id=\"T_ffd597cf_8286_11eb_9137_0c9d92c473d6row9_col0\" class=\"data row9 col0\" >0.0</td>\n                        <td id=\"T_ffd597cf_8286_11eb_9137_0c9d92c473d6row9_col1\" class=\"data row9 col1\" >0.008</td>\n                        <td id=\"T_ffd597cf_8286_11eb_9137_0c9d92c473d6row9_col2\" class=\"data row9 col2\" >0.0</td>\n                        <td id=\"T_ffd597cf_8286_11eb_9137_0c9d92c473d6row9_col3\" class=\"data row9 col3\" >0.0</td>\n                        <td id=\"T_ffd597cf_8286_11eb_9137_0c9d92c473d6row9_col4\" class=\"data row9 col4\" >0.011</td>\n                        <td id=\"T_ffd597cf_8286_11eb_9137_0c9d92c473d6row9_col5\" class=\"data row9 col5\" >0.0</td>\n                        <td id=\"T_ffd597cf_8286_11eb_9137_0c9d92c473d6row9_col6\" class=\"data row9 col6\" >0.0</td>\n                        <td id=\"T_ffd597cf_8286_11eb_9137_0c9d92c473d6row9_col7\" class=\"data row9 col7\" >0.0</td>\n                        <td id=\"T_ffd597cf_8286_11eb_9137_0c9d92c473d6row9_col8\" class=\"data row9 col8\" >0.0</td>\n                        <td id=\"T_ffd597cf_8286_11eb_9137_0c9d92c473d6row9_col9\" class=\"data row9 col9\" >0.0</td>\n                        <td id=\"T_ffd597cf_8286_11eb_9137_0c9d92c473d6row9_col10\" class=\"data row9 col10\" >0.0</td>\n                        <td id=\"T_ffd597cf_8286_11eb_9137_0c9d92c473d6row9_col11\" class=\"data row9 col11\" >0.0</td>\n                        <td id=\"T_ffd597cf_8286_11eb_9137_0c9d92c473d6row9_col12\" class=\"data row9 col12\" >0.0</td>\n                        <td id=\"T_ffd597cf_8286_11eb_9137_0c9d92c473d6row9_col13\" class=\"data row9 col13\" >0.0</td>\n                        <td id=\"T_ffd597cf_8286_11eb_9137_0c9d92c473d6row9_col14\" class=\"data row9 col14\" >0.0</td>\n                        <td id=\"T_ffd597cf_8286_11eb_9137_0c9d92c473d6row9_col15\" class=\"data row9 col15\" >0.0</td>\n                        <td id=\"T_ffd597cf_8286_11eb_9137_0c9d92c473d6row9_col16\" class=\"data row9 col16\" >0.0</td>\n                        <td id=\"T_ffd597cf_8286_11eb_9137_0c9d92c473d6row9_col17\" class=\"data row9 col17\" >0.0</td>\n                        <td id=\"T_ffd597cf_8286_11eb_9137_0c9d92c473d6row9_col18\" class=\"data row9 col18\" >0.0</td>\n                        <td id=\"T_ffd597cf_8286_11eb_9137_0c9d92c473d6row9_col19\" class=\"data row9 col19\" >0.0</td>\n                        <td id=\"T_ffd597cf_8286_11eb_9137_0c9d92c473d6row9_col20\" class=\"data row9 col20\" >0.0</td>\n                        <td id=\"T_ffd597cf_8286_11eb_9137_0c9d92c473d6row9_col21\" class=\"data row9 col21\" >0.0</td>\n                        <td id=\"T_ffd597cf_8286_11eb_9137_0c9d92c473d6row9_col22\" class=\"data row9 col22\" >0.0</td>\n                        <td id=\"T_ffd597cf_8286_11eb_9137_0c9d92c473d6row9_col23\" class=\"data row9 col23\" >0.0</td>\n            </tr>\n            <tr>\n                        <th id=\"T_ffd597cf_8286_11eb_9137_0c9d92c473d6level0_row10\" class=\"row_heading level0 row10\" >10</th>\n                        <td id=\"T_ffd597cf_8286_11eb_9137_0c9d92c473d6row10_col0\" class=\"data row10 col0\" >0.0</td>\n                        <td id=\"T_ffd597cf_8286_11eb_9137_0c9d92c473d6row10_col1\" class=\"data row10 col1\" >0.016</td>\n                        <td id=\"T_ffd597cf_8286_11eb_9137_0c9d92c473d6row10_col2\" class=\"data row10 col2\" >0.0</td>\n                        <td id=\"T_ffd597cf_8286_11eb_9137_0c9d92c473d6row10_col3\" class=\"data row10 col3\" >0.0</td>\n                        <td id=\"T_ffd597cf_8286_11eb_9137_0c9d92c473d6row10_col4\" class=\"data row10 col4\" >0.0</td>\n                        <td id=\"T_ffd597cf_8286_11eb_9137_0c9d92c473d6row10_col5\" class=\"data row10 col5\" >0.0</td>\n                        <td id=\"T_ffd597cf_8286_11eb_9137_0c9d92c473d6row10_col6\" class=\"data row10 col6\" >0.019</td>\n                        <td id=\"T_ffd597cf_8286_11eb_9137_0c9d92c473d6row10_col7\" class=\"data row10 col7\" >0.0</td>\n                        <td id=\"T_ffd597cf_8286_11eb_9137_0c9d92c473d6row10_col8\" class=\"data row10 col8\" >0.0</td>\n                        <td id=\"T_ffd597cf_8286_11eb_9137_0c9d92c473d6row10_col9\" class=\"data row10 col9\" >0.0</td>\n                        <td id=\"T_ffd597cf_8286_11eb_9137_0c9d92c473d6row10_col10\" class=\"data row10 col10\" >0.0</td>\n                        <td id=\"T_ffd597cf_8286_11eb_9137_0c9d92c473d6row10_col11\" class=\"data row10 col11\" >0.0</td>\n                        <td id=\"T_ffd597cf_8286_11eb_9137_0c9d92c473d6row10_col12\" class=\"data row10 col12\" >0.0</td>\n                        <td id=\"T_ffd597cf_8286_11eb_9137_0c9d92c473d6row10_col13\" class=\"data row10 col13\" >0.0</td>\n                        <td id=\"T_ffd597cf_8286_11eb_9137_0c9d92c473d6row10_col14\" class=\"data row10 col14\" >0.0</td>\n                        <td id=\"T_ffd597cf_8286_11eb_9137_0c9d92c473d6row10_col15\" class=\"data row10 col15\" >0.0</td>\n                        <td id=\"T_ffd597cf_8286_11eb_9137_0c9d92c473d6row10_col16\" class=\"data row10 col16\" >0.0</td>\n                        <td id=\"T_ffd597cf_8286_11eb_9137_0c9d92c473d6row10_col17\" class=\"data row10 col17\" >0.0</td>\n                        <td id=\"T_ffd597cf_8286_11eb_9137_0c9d92c473d6row10_col18\" class=\"data row10 col18\" >0.0</td>\n                        <td id=\"T_ffd597cf_8286_11eb_9137_0c9d92c473d6row10_col19\" class=\"data row10 col19\" >0.0</td>\n                        <td id=\"T_ffd597cf_8286_11eb_9137_0c9d92c473d6row10_col20\" class=\"data row10 col20\" >0.0</td>\n                        <td id=\"T_ffd597cf_8286_11eb_9137_0c9d92c473d6row10_col21\" class=\"data row10 col21\" >0.0</td>\n                        <td id=\"T_ffd597cf_8286_11eb_9137_0c9d92c473d6row10_col22\" class=\"data row10 col22\" >0.0</td>\n                        <td id=\"T_ffd597cf_8286_11eb_9137_0c9d92c473d6row10_col23\" class=\"data row10 col23\" >0.0</td>\n            </tr>\n            <tr>\n                        <th id=\"T_ffd597cf_8286_11eb_9137_0c9d92c473d6level0_row11\" class=\"row_heading level0 row11\" >11</th>\n                        <td id=\"T_ffd597cf_8286_11eb_9137_0c9d92c473d6row11_col0\" class=\"data row11 col0\" >0.0</td>\n                        <td id=\"T_ffd597cf_8286_11eb_9137_0c9d92c473d6row11_col1\" class=\"data row11 col1\" >0.017</td>\n                        <td id=\"T_ffd597cf_8286_11eb_9137_0c9d92c473d6row11_col2\" class=\"data row11 col2\" >0.0</td>\n                        <td id=\"T_ffd597cf_8286_11eb_9137_0c9d92c473d6row11_col3\" class=\"data row11 col3\" >0.0</td>\n                        <td id=\"T_ffd597cf_8286_11eb_9137_0c9d92c473d6row11_col4\" class=\"data row11 col4\" >0.0</td>\n                        <td id=\"T_ffd597cf_8286_11eb_9137_0c9d92c473d6row11_col5\" class=\"data row11 col5\" >0.0</td>\n                        <td id=\"T_ffd597cf_8286_11eb_9137_0c9d92c473d6row11_col6\" class=\"data row11 col6\" >0.0</td>\n                        <td id=\"T_ffd597cf_8286_11eb_9137_0c9d92c473d6row11_col7\" class=\"data row11 col7\" >0.0</td>\n                        <td id=\"T_ffd597cf_8286_11eb_9137_0c9d92c473d6row11_col8\" class=\"data row11 col8\" >0.0</td>\n                        <td id=\"T_ffd597cf_8286_11eb_9137_0c9d92c473d6row11_col9\" class=\"data row11 col9\" >0.0</td>\n                        <td id=\"T_ffd597cf_8286_11eb_9137_0c9d92c473d6row11_col10\" class=\"data row11 col10\" >0.013</td>\n                        <td id=\"T_ffd597cf_8286_11eb_9137_0c9d92c473d6row11_col11\" class=\"data row11 col11\" >0.0</td>\n                        <td id=\"T_ffd597cf_8286_11eb_9137_0c9d92c473d6row11_col12\" class=\"data row11 col12\" >0.032</td>\n                        <td id=\"T_ffd597cf_8286_11eb_9137_0c9d92c473d6row11_col13\" class=\"data row11 col13\" >0.0</td>\n                        <td id=\"T_ffd597cf_8286_11eb_9137_0c9d92c473d6row11_col14\" class=\"data row11 col14\" >0.0</td>\n                        <td id=\"T_ffd597cf_8286_11eb_9137_0c9d92c473d6row11_col15\" class=\"data row11 col15\" >0.0</td>\n                        <td id=\"T_ffd597cf_8286_11eb_9137_0c9d92c473d6row11_col16\" class=\"data row11 col16\" >0.0</td>\n                        <td id=\"T_ffd597cf_8286_11eb_9137_0c9d92c473d6row11_col17\" class=\"data row11 col17\" >0.0</td>\n                        <td id=\"T_ffd597cf_8286_11eb_9137_0c9d92c473d6row11_col18\" class=\"data row11 col18\" >0.0</td>\n                        <td id=\"T_ffd597cf_8286_11eb_9137_0c9d92c473d6row11_col19\" class=\"data row11 col19\" >0.0</td>\n                        <td id=\"T_ffd597cf_8286_11eb_9137_0c9d92c473d6row11_col20\" class=\"data row11 col20\" >0.0</td>\n                        <td id=\"T_ffd597cf_8286_11eb_9137_0c9d92c473d6row11_col21\" class=\"data row11 col21\" >0.0</td>\n                        <td id=\"T_ffd597cf_8286_11eb_9137_0c9d92c473d6row11_col22\" class=\"data row11 col22\" >0.0</td>\n                        <td id=\"T_ffd597cf_8286_11eb_9137_0c9d92c473d6row11_col23\" class=\"data row11 col23\" >0.0</td>\n            </tr>\n            <tr>\n                        <th id=\"T_ffd597cf_8286_11eb_9137_0c9d92c473d6level0_row12\" class=\"row_heading level0 row12\" >12</th>\n                        <td id=\"T_ffd597cf_8286_11eb_9137_0c9d92c473d6row12_col0\" class=\"data row12 col0\" >0.0</td>\n                        <td id=\"T_ffd597cf_8286_11eb_9137_0c9d92c473d6row12_col1\" class=\"data row12 col1\" >0.026</td>\n                        <td id=\"T_ffd597cf_8286_11eb_9137_0c9d92c473d6row12_col2\" class=\"data row12 col2\" >0.0</td>\n                        <td id=\"T_ffd597cf_8286_11eb_9137_0c9d92c473d6row12_col3\" class=\"data row12 col3\" >0.0</td>\n                        <td id=\"T_ffd597cf_8286_11eb_9137_0c9d92c473d6row12_col4\" class=\"data row12 col4\" >0.0</td>\n                        <td id=\"T_ffd597cf_8286_11eb_9137_0c9d92c473d6row12_col5\" class=\"data row12 col5\" >0.0</td>\n                        <td id=\"T_ffd597cf_8286_11eb_9137_0c9d92c473d6row12_col6\" class=\"data row12 col6\" >0.0</td>\n                        <td id=\"T_ffd597cf_8286_11eb_9137_0c9d92c473d6row12_col7\" class=\"data row12 col7\" >0.0</td>\n                        <td id=\"T_ffd597cf_8286_11eb_9137_0c9d92c473d6row12_col8\" class=\"data row12 col8\" >0.0</td>\n                        <td id=\"T_ffd597cf_8286_11eb_9137_0c9d92c473d6row12_col9\" class=\"data row12 col9\" >0.0</td>\n                        <td id=\"T_ffd597cf_8286_11eb_9137_0c9d92c473d6row12_col10\" class=\"data row12 col10\" >0.027</td>\n                        <td id=\"T_ffd597cf_8286_11eb_9137_0c9d92c473d6row12_col11\" class=\"data row12 col11\" >0.0</td>\n                        <td id=\"T_ffd597cf_8286_11eb_9137_0c9d92c473d6row12_col12\" class=\"data row12 col12\" >0.0</td>\n                        <td id=\"T_ffd597cf_8286_11eb_9137_0c9d92c473d6row12_col13\" class=\"data row12 col13\" >0.0</td>\n                        <td id=\"T_ffd597cf_8286_11eb_9137_0c9d92c473d6row12_col14\" class=\"data row12 col14\" >0.0</td>\n                        <td id=\"T_ffd597cf_8286_11eb_9137_0c9d92c473d6row12_col15\" class=\"data row12 col15\" >0.0</td>\n                        <td id=\"T_ffd597cf_8286_11eb_9137_0c9d92c473d6row12_col16\" class=\"data row12 col16\" >0.0</td>\n                        <td id=\"T_ffd597cf_8286_11eb_9137_0c9d92c473d6row12_col17\" class=\"data row12 col17\" >0.014</td>\n                        <td id=\"T_ffd597cf_8286_11eb_9137_0c9d92c473d6row12_col18\" class=\"data row12 col18\" >0.0</td>\n                        <td id=\"T_ffd597cf_8286_11eb_9137_0c9d92c473d6row12_col19\" class=\"data row12 col19\" >0.0</td>\n                        <td id=\"T_ffd597cf_8286_11eb_9137_0c9d92c473d6row12_col20\" class=\"data row12 col20\" >0.012</td>\n                        <td id=\"T_ffd597cf_8286_11eb_9137_0c9d92c473d6row12_col21\" class=\"data row12 col21\" >0.0</td>\n                        <td id=\"T_ffd597cf_8286_11eb_9137_0c9d92c473d6row12_col22\" class=\"data row12 col22\" >0.0</td>\n                        <td id=\"T_ffd597cf_8286_11eb_9137_0c9d92c473d6row12_col23\" class=\"data row12 col23\" >0.0</td>\n            </tr>\n            <tr>\n                        <th id=\"T_ffd597cf_8286_11eb_9137_0c9d92c473d6level0_row13\" class=\"row_heading level0 row13\" >13</th>\n                        <td id=\"T_ffd597cf_8286_11eb_9137_0c9d92c473d6row13_col0\" class=\"data row13 col0\" >0.0</td>\n                        <td id=\"T_ffd597cf_8286_11eb_9137_0c9d92c473d6row13_col1\" class=\"data row13 col1\" >0.077</td>\n                        <td id=\"T_ffd597cf_8286_11eb_9137_0c9d92c473d6row13_col2\" class=\"data row13 col2\" >0.0</td>\n                        <td id=\"T_ffd597cf_8286_11eb_9137_0c9d92c473d6row13_col3\" class=\"data row13 col3\" >0.0</td>\n                        <td id=\"T_ffd597cf_8286_11eb_9137_0c9d92c473d6row13_col4\" class=\"data row13 col4\" >0.0</td>\n                        <td id=\"T_ffd597cf_8286_11eb_9137_0c9d92c473d6row13_col5\" class=\"data row13 col5\" >0.0</td>\n                        <td id=\"T_ffd597cf_8286_11eb_9137_0c9d92c473d6row13_col6\" class=\"data row13 col6\" >0.0</td>\n                        <td id=\"T_ffd597cf_8286_11eb_9137_0c9d92c473d6row13_col7\" class=\"data row13 col7\" >0.0</td>\n                        <td id=\"T_ffd597cf_8286_11eb_9137_0c9d92c473d6row13_col8\" class=\"data row13 col8\" >0.0</td>\n                        <td id=\"T_ffd597cf_8286_11eb_9137_0c9d92c473d6row13_col9\" class=\"data row13 col9\" >0.0</td>\n                        <td id=\"T_ffd597cf_8286_11eb_9137_0c9d92c473d6row13_col10\" class=\"data row13 col10\" >0.0</td>\n                        <td id=\"T_ffd597cf_8286_11eb_9137_0c9d92c473d6row13_col11\" class=\"data row13 col11\" >0.0</td>\n                        <td id=\"T_ffd597cf_8286_11eb_9137_0c9d92c473d6row13_col12\" class=\"data row13 col12\" >0.0</td>\n                        <td id=\"T_ffd597cf_8286_11eb_9137_0c9d92c473d6row13_col13\" class=\"data row13 col13\" >0.0</td>\n                        <td id=\"T_ffd597cf_8286_11eb_9137_0c9d92c473d6row13_col14\" class=\"data row13 col14\" >0.0</td>\n                        <td id=\"T_ffd597cf_8286_11eb_9137_0c9d92c473d6row13_col15\" class=\"data row13 col15\" >0.0</td>\n                        <td id=\"T_ffd597cf_8286_11eb_9137_0c9d92c473d6row13_col16\" class=\"data row13 col16\" >0.0</td>\n                        <td id=\"T_ffd597cf_8286_11eb_9137_0c9d92c473d6row13_col17\" class=\"data row13 col17\" >0.0</td>\n                        <td id=\"T_ffd597cf_8286_11eb_9137_0c9d92c473d6row13_col18\" class=\"data row13 col18\" >0.0</td>\n                        <td id=\"T_ffd597cf_8286_11eb_9137_0c9d92c473d6row13_col19\" class=\"data row13 col19\" >0.0</td>\n                        <td id=\"T_ffd597cf_8286_11eb_9137_0c9d92c473d6row13_col20\" class=\"data row13 col20\" >0.0</td>\n                        <td id=\"T_ffd597cf_8286_11eb_9137_0c9d92c473d6row13_col21\" class=\"data row13 col21\" >0.0</td>\n                        <td id=\"T_ffd597cf_8286_11eb_9137_0c9d92c473d6row13_col22\" class=\"data row13 col22\" >0.0</td>\n                        <td id=\"T_ffd597cf_8286_11eb_9137_0c9d92c473d6row13_col23\" class=\"data row13 col23\" >0.0</td>\n            </tr>\n            <tr>\n                        <th id=\"T_ffd597cf_8286_11eb_9137_0c9d92c473d6level0_row14\" class=\"row_heading level0 row14\" >14</th>\n                        <td id=\"T_ffd597cf_8286_11eb_9137_0c9d92c473d6row14_col0\" class=\"data row14 col0\" >0.0</td>\n                        <td id=\"T_ffd597cf_8286_11eb_9137_0c9d92c473d6row14_col1\" class=\"data row14 col1\" >0.0</td>\n                        <td id=\"T_ffd597cf_8286_11eb_9137_0c9d92c473d6row14_col2\" class=\"data row14 col2\" >0.0</td>\n                        <td id=\"T_ffd597cf_8286_11eb_9137_0c9d92c473d6row14_col3\" class=\"data row14 col3\" >0.0</td>\n                        <td id=\"T_ffd597cf_8286_11eb_9137_0c9d92c473d6row14_col4\" class=\"data row14 col4\" >0.0</td>\n                        <td id=\"T_ffd597cf_8286_11eb_9137_0c9d92c473d6row14_col5\" class=\"data row14 col5\" >0.0</td>\n                        <td id=\"T_ffd597cf_8286_11eb_9137_0c9d92c473d6row14_col6\" class=\"data row14 col6\" >0.0</td>\n                        <td id=\"T_ffd597cf_8286_11eb_9137_0c9d92c473d6row14_col7\" class=\"data row14 col7\" >0.0</td>\n                        <td id=\"T_ffd597cf_8286_11eb_9137_0c9d92c473d6row14_col8\" class=\"data row14 col8\" >0.0</td>\n                        <td id=\"T_ffd597cf_8286_11eb_9137_0c9d92c473d6row14_col9\" class=\"data row14 col9\" >0.0</td>\n                        <td id=\"T_ffd597cf_8286_11eb_9137_0c9d92c473d6row14_col10\" class=\"data row14 col10\" >0.0</td>\n                        <td id=\"T_ffd597cf_8286_11eb_9137_0c9d92c473d6row14_col11\" class=\"data row14 col11\" >0.0</td>\n                        <td id=\"T_ffd597cf_8286_11eb_9137_0c9d92c473d6row14_col12\" class=\"data row14 col12\" >0.0</td>\n                        <td id=\"T_ffd597cf_8286_11eb_9137_0c9d92c473d6row14_col13\" class=\"data row14 col13\" >0.0</td>\n                        <td id=\"T_ffd597cf_8286_11eb_9137_0c9d92c473d6row14_col14\" class=\"data row14 col14\" >0.0</td>\n                        <td id=\"T_ffd597cf_8286_11eb_9137_0c9d92c473d6row14_col15\" class=\"data row14 col15\" >0.0</td>\n                        <td id=\"T_ffd597cf_8286_11eb_9137_0c9d92c473d6row14_col16\" class=\"data row14 col16\" >0.0</td>\n                        <td id=\"T_ffd597cf_8286_11eb_9137_0c9d92c473d6row14_col17\" class=\"data row14 col17\" >0.009</td>\n                        <td id=\"T_ffd597cf_8286_11eb_9137_0c9d92c473d6row14_col18\" class=\"data row14 col18\" >0.0</td>\n                        <td id=\"T_ffd597cf_8286_11eb_9137_0c9d92c473d6row14_col19\" class=\"data row14 col19\" >0.0</td>\n                        <td id=\"T_ffd597cf_8286_11eb_9137_0c9d92c473d6row14_col20\" class=\"data row14 col20\" >0.012</td>\n                        <td id=\"T_ffd597cf_8286_11eb_9137_0c9d92c473d6row14_col21\" class=\"data row14 col21\" >0.0</td>\n                        <td id=\"T_ffd597cf_8286_11eb_9137_0c9d92c473d6row14_col22\" class=\"data row14 col22\" >0.011</td>\n                        <td id=\"T_ffd597cf_8286_11eb_9137_0c9d92c473d6row14_col23\" class=\"data row14 col23\" >0.029</td>\n            </tr>\n            <tr>\n                        <th id=\"T_ffd597cf_8286_11eb_9137_0c9d92c473d6level0_row15\" class=\"row_heading level0 row15\" >15</th>\n                        <td id=\"T_ffd597cf_8286_11eb_9137_0c9d92c473d6row15_col0\" class=\"data row15 col0\" >0.0</td>\n                        <td id=\"T_ffd597cf_8286_11eb_9137_0c9d92c473d6row15_col1\" class=\"data row15 col1\" >0.0</td>\n                        <td id=\"T_ffd597cf_8286_11eb_9137_0c9d92c473d6row15_col2\" class=\"data row15 col2\" >0.0</td>\n                        <td id=\"T_ffd597cf_8286_11eb_9137_0c9d92c473d6row15_col3\" class=\"data row15 col3\" >0.0</td>\n                        <td id=\"T_ffd597cf_8286_11eb_9137_0c9d92c473d6row15_col4\" class=\"data row15 col4\" >0.0</td>\n                        <td id=\"T_ffd597cf_8286_11eb_9137_0c9d92c473d6row15_col5\" class=\"data row15 col5\" >0.0</td>\n                        <td id=\"T_ffd597cf_8286_11eb_9137_0c9d92c473d6row15_col6\" class=\"data row15 col6\" >0.0</td>\n                        <td id=\"T_ffd597cf_8286_11eb_9137_0c9d92c473d6row15_col7\" class=\"data row15 col7\" >0.0</td>\n                        <td id=\"T_ffd597cf_8286_11eb_9137_0c9d92c473d6row15_col8\" class=\"data row15 col8\" >0.0</td>\n                        <td id=\"T_ffd597cf_8286_11eb_9137_0c9d92c473d6row15_col9\" class=\"data row15 col9\" >0.0</td>\n                        <td id=\"T_ffd597cf_8286_11eb_9137_0c9d92c473d6row15_col10\" class=\"data row15 col10\" >0.0</td>\n                        <td id=\"T_ffd597cf_8286_11eb_9137_0c9d92c473d6row15_col11\" class=\"data row15 col11\" >0.0</td>\n                        <td id=\"T_ffd597cf_8286_11eb_9137_0c9d92c473d6row15_col12\" class=\"data row15 col12\" >0.0</td>\n                        <td id=\"T_ffd597cf_8286_11eb_9137_0c9d92c473d6row15_col13\" class=\"data row15 col13\" >0.0</td>\n                        <td id=\"T_ffd597cf_8286_11eb_9137_0c9d92c473d6row15_col14\" class=\"data row15 col14\" >0.0</td>\n                        <td id=\"T_ffd597cf_8286_11eb_9137_0c9d92c473d6row15_col15\" class=\"data row15 col15\" >0.0</td>\n                        <td id=\"T_ffd597cf_8286_11eb_9137_0c9d92c473d6row15_col16\" class=\"data row15 col16\" >0.0</td>\n                        <td id=\"T_ffd597cf_8286_11eb_9137_0c9d92c473d6row15_col17\" class=\"data row15 col17\" >0.009</td>\n                        <td id=\"T_ffd597cf_8286_11eb_9137_0c9d92c473d6row15_col18\" class=\"data row15 col18\" >0.0</td>\n                        <td id=\"T_ffd597cf_8286_11eb_9137_0c9d92c473d6row15_col19\" class=\"data row15 col19\" >0.0</td>\n                        <td id=\"T_ffd597cf_8286_11eb_9137_0c9d92c473d6row15_col20\" class=\"data row15 col20\" >0.0</td>\n                        <td id=\"T_ffd597cf_8286_11eb_9137_0c9d92c473d6row15_col21\" class=\"data row15 col21\" >0.0</td>\n                        <td id=\"T_ffd597cf_8286_11eb_9137_0c9d92c473d6row15_col22\" class=\"data row15 col22\" >0.0</td>\n                        <td id=\"T_ffd597cf_8286_11eb_9137_0c9d92c473d6row15_col23\" class=\"data row15 col23\" >0.0</td>\n            </tr>\n            <tr>\n                        <th id=\"T_ffd597cf_8286_11eb_9137_0c9d92c473d6level0_row16\" class=\"row_heading level0 row16\" >16</th>\n                        <td id=\"T_ffd597cf_8286_11eb_9137_0c9d92c473d6row16_col0\" class=\"data row16 col0\" >0.0</td>\n                        <td id=\"T_ffd597cf_8286_11eb_9137_0c9d92c473d6row16_col1\" class=\"data row16 col1\" >0.026</td>\n                        <td id=\"T_ffd597cf_8286_11eb_9137_0c9d92c473d6row16_col2\" class=\"data row16 col2\" >0.0</td>\n                        <td id=\"T_ffd597cf_8286_11eb_9137_0c9d92c473d6row16_col3\" class=\"data row16 col3\" >0.0</td>\n                        <td id=\"T_ffd597cf_8286_11eb_9137_0c9d92c473d6row16_col4\" class=\"data row16 col4\" >0.0</td>\n                        <td id=\"T_ffd597cf_8286_11eb_9137_0c9d92c473d6row16_col5\" class=\"data row16 col5\" >0.0</td>\n                        <td id=\"T_ffd597cf_8286_11eb_9137_0c9d92c473d6row16_col6\" class=\"data row16 col6\" >0.0</td>\n                        <td id=\"T_ffd597cf_8286_11eb_9137_0c9d92c473d6row16_col7\" class=\"data row16 col7\" >0.0</td>\n                        <td id=\"T_ffd597cf_8286_11eb_9137_0c9d92c473d6row16_col8\" class=\"data row16 col8\" >0.0</td>\n                        <td id=\"T_ffd597cf_8286_11eb_9137_0c9d92c473d6row16_col9\" class=\"data row16 col9\" >0.0</td>\n                        <td id=\"T_ffd597cf_8286_11eb_9137_0c9d92c473d6row16_col10\" class=\"data row16 col10\" >0.0</td>\n                        <td id=\"T_ffd597cf_8286_11eb_9137_0c9d92c473d6row16_col11\" class=\"data row16 col11\" >0.0</td>\n                        <td id=\"T_ffd597cf_8286_11eb_9137_0c9d92c473d6row16_col12\" class=\"data row16 col12\" >0.0</td>\n                        <td id=\"T_ffd597cf_8286_11eb_9137_0c9d92c473d6row16_col13\" class=\"data row16 col13\" >0.0</td>\n                        <td id=\"T_ffd597cf_8286_11eb_9137_0c9d92c473d6row16_col14\" class=\"data row16 col14\" >0.0</td>\n                        <td id=\"T_ffd597cf_8286_11eb_9137_0c9d92c473d6row16_col15\" class=\"data row16 col15\" >0.0</td>\n                        <td id=\"T_ffd597cf_8286_11eb_9137_0c9d92c473d6row16_col16\" class=\"data row16 col16\" >0.0</td>\n                        <td id=\"T_ffd597cf_8286_11eb_9137_0c9d92c473d6row16_col17\" class=\"data row16 col17\" >0.013</td>\n                        <td id=\"T_ffd597cf_8286_11eb_9137_0c9d92c473d6row16_col18\" class=\"data row16 col18\" >0.0</td>\n                        <td id=\"T_ffd597cf_8286_11eb_9137_0c9d92c473d6row16_col19\" class=\"data row16 col19\" >0.0</td>\n                        <td id=\"T_ffd597cf_8286_11eb_9137_0c9d92c473d6row16_col20\" class=\"data row16 col20\" >0.0</td>\n                        <td id=\"T_ffd597cf_8286_11eb_9137_0c9d92c473d6row16_col21\" class=\"data row16 col21\" >0.0</td>\n                        <td id=\"T_ffd597cf_8286_11eb_9137_0c9d92c473d6row16_col22\" class=\"data row16 col22\" >0.0</td>\n                        <td id=\"T_ffd597cf_8286_11eb_9137_0c9d92c473d6row16_col23\" class=\"data row16 col23\" >0.0</td>\n            </tr>\n            <tr>\n                        <th id=\"T_ffd597cf_8286_11eb_9137_0c9d92c473d6level0_row17\" class=\"row_heading level0 row17\" >17</th>\n                        <td id=\"T_ffd597cf_8286_11eb_9137_0c9d92c473d6row17_col0\" class=\"data row17 col0\" >0.0</td>\n                        <td id=\"T_ffd597cf_8286_11eb_9137_0c9d92c473d6row17_col1\" class=\"data row17 col1\" >0.0</td>\n                        <td id=\"T_ffd597cf_8286_11eb_9137_0c9d92c473d6row17_col2\" class=\"data row17 col2\" >0.0</td>\n                        <td id=\"T_ffd597cf_8286_11eb_9137_0c9d92c473d6row17_col3\" class=\"data row17 col3\" >0.0</td>\n                        <td id=\"T_ffd597cf_8286_11eb_9137_0c9d92c473d6row17_col4\" class=\"data row17 col4\" >0.0</td>\n                        <td id=\"T_ffd597cf_8286_11eb_9137_0c9d92c473d6row17_col5\" class=\"data row17 col5\" >0.0</td>\n                        <td id=\"T_ffd597cf_8286_11eb_9137_0c9d92c473d6row17_col6\" class=\"data row17 col6\" >0.0</td>\n                        <td id=\"T_ffd597cf_8286_11eb_9137_0c9d92c473d6row17_col7\" class=\"data row17 col7\" >0.0</td>\n                        <td id=\"T_ffd597cf_8286_11eb_9137_0c9d92c473d6row17_col8\" class=\"data row17 col8\" >0.0</td>\n                        <td id=\"T_ffd597cf_8286_11eb_9137_0c9d92c473d6row17_col9\" class=\"data row17 col9\" >0.0</td>\n                        <td id=\"T_ffd597cf_8286_11eb_9137_0c9d92c473d6row17_col10\" class=\"data row17 col10\" >0.0</td>\n                        <td id=\"T_ffd597cf_8286_11eb_9137_0c9d92c473d6row17_col11\" class=\"data row17 col11\" >0.0</td>\n                        <td id=\"T_ffd597cf_8286_11eb_9137_0c9d92c473d6row17_col12\" class=\"data row17 col12\" >0.0</td>\n                        <td id=\"T_ffd597cf_8286_11eb_9137_0c9d92c473d6row17_col13\" class=\"data row17 col13\" >0.0</td>\n                        <td id=\"T_ffd597cf_8286_11eb_9137_0c9d92c473d6row17_col14\" class=\"data row17 col14\" >0.0</td>\n                        <td id=\"T_ffd597cf_8286_11eb_9137_0c9d92c473d6row17_col15\" class=\"data row17 col15\" >0.0</td>\n                        <td id=\"T_ffd597cf_8286_11eb_9137_0c9d92c473d6row17_col16\" class=\"data row17 col16\" >0.0</td>\n                        <td id=\"T_ffd597cf_8286_11eb_9137_0c9d92c473d6row17_col17\" class=\"data row17 col17\" >0.0</td>\n                        <td id=\"T_ffd597cf_8286_11eb_9137_0c9d92c473d6row17_col18\" class=\"data row17 col18\" >0.0</td>\n                        <td id=\"T_ffd597cf_8286_11eb_9137_0c9d92c473d6row17_col19\" class=\"data row17 col19\" >0.0</td>\n                        <td id=\"T_ffd597cf_8286_11eb_9137_0c9d92c473d6row17_col20\" class=\"data row17 col20\" >0.0</td>\n                        <td id=\"T_ffd597cf_8286_11eb_9137_0c9d92c473d6row17_col21\" class=\"data row17 col21\" >0.0</td>\n                        <td id=\"T_ffd597cf_8286_11eb_9137_0c9d92c473d6row17_col22\" class=\"data row17 col22\" >0.0</td>\n                        <td id=\"T_ffd597cf_8286_11eb_9137_0c9d92c473d6row17_col23\" class=\"data row17 col23\" >0.0</td>\n            </tr>\n            <tr>\n                        <th id=\"T_ffd597cf_8286_11eb_9137_0c9d92c473d6level0_row18\" class=\"row_heading level0 row18\" >18</th>\n                        <td id=\"T_ffd597cf_8286_11eb_9137_0c9d92c473d6row18_col0\" class=\"data row18 col0\" >0.0</td>\n                        <td id=\"T_ffd597cf_8286_11eb_9137_0c9d92c473d6row18_col1\" class=\"data row18 col1\" >0.011</td>\n                        <td id=\"T_ffd597cf_8286_11eb_9137_0c9d92c473d6row18_col2\" class=\"data row18 col2\" >0.0</td>\n                        <td id=\"T_ffd597cf_8286_11eb_9137_0c9d92c473d6row18_col3\" class=\"data row18 col3\" >0.0</td>\n                        <td id=\"T_ffd597cf_8286_11eb_9137_0c9d92c473d6row18_col4\" class=\"data row18 col4\" >0.0</td>\n                        <td id=\"T_ffd597cf_8286_11eb_9137_0c9d92c473d6row18_col5\" class=\"data row18 col5\" >0.0</td>\n                        <td id=\"T_ffd597cf_8286_11eb_9137_0c9d92c473d6row18_col6\" class=\"data row18 col6\" >0.0</td>\n                        <td id=\"T_ffd597cf_8286_11eb_9137_0c9d92c473d6row18_col7\" class=\"data row18 col7\" >0.0</td>\n                        <td id=\"T_ffd597cf_8286_11eb_9137_0c9d92c473d6row18_col8\" class=\"data row18 col8\" >0.0</td>\n                        <td id=\"T_ffd597cf_8286_11eb_9137_0c9d92c473d6row18_col9\" class=\"data row18 col9\" >0.0</td>\n                        <td id=\"T_ffd597cf_8286_11eb_9137_0c9d92c473d6row18_col10\" class=\"data row18 col10\" >0.0</td>\n                        <td id=\"T_ffd597cf_8286_11eb_9137_0c9d92c473d6row18_col11\" class=\"data row18 col11\" >0.0</td>\n                        <td id=\"T_ffd597cf_8286_11eb_9137_0c9d92c473d6row18_col12\" class=\"data row18 col12\" >0.0</td>\n                        <td id=\"T_ffd597cf_8286_11eb_9137_0c9d92c473d6row18_col13\" class=\"data row18 col13\" >0.0</td>\n                        <td id=\"T_ffd597cf_8286_11eb_9137_0c9d92c473d6row18_col14\" class=\"data row18 col14\" >0.0</td>\n                        <td id=\"T_ffd597cf_8286_11eb_9137_0c9d92c473d6row18_col15\" class=\"data row18 col15\" >0.0</td>\n                        <td id=\"T_ffd597cf_8286_11eb_9137_0c9d92c473d6row18_col16\" class=\"data row18 col16\" >0.0</td>\n                        <td id=\"T_ffd597cf_8286_11eb_9137_0c9d92c473d6row18_col17\" class=\"data row18 col17\" >0.034</td>\n                        <td id=\"T_ffd597cf_8286_11eb_9137_0c9d92c473d6row18_col18\" class=\"data row18 col18\" >0.0</td>\n                        <td id=\"T_ffd597cf_8286_11eb_9137_0c9d92c473d6row18_col19\" class=\"data row18 col19\" >0.0</td>\n                        <td id=\"T_ffd597cf_8286_11eb_9137_0c9d92c473d6row18_col20\" class=\"data row18 col20\" >0.0</td>\n                        <td id=\"T_ffd597cf_8286_11eb_9137_0c9d92c473d6row18_col21\" class=\"data row18 col21\" >0.0</td>\n                        <td id=\"T_ffd597cf_8286_11eb_9137_0c9d92c473d6row18_col22\" class=\"data row18 col22\" >0.0</td>\n                        <td id=\"T_ffd597cf_8286_11eb_9137_0c9d92c473d6row18_col23\" class=\"data row18 col23\" >0.0</td>\n            </tr>\n            <tr>\n                        <th id=\"T_ffd597cf_8286_11eb_9137_0c9d92c473d6level0_row19\" class=\"row_heading level0 row19\" >19</th>\n                        <td id=\"T_ffd597cf_8286_11eb_9137_0c9d92c473d6row19_col0\" class=\"data row19 col0\" >0.0</td>\n                        <td id=\"T_ffd597cf_8286_11eb_9137_0c9d92c473d6row19_col1\" class=\"data row19 col1\" >0.0</td>\n                        <td id=\"T_ffd597cf_8286_11eb_9137_0c9d92c473d6row19_col2\" class=\"data row19 col2\" >0.0</td>\n                        <td id=\"T_ffd597cf_8286_11eb_9137_0c9d92c473d6row19_col3\" class=\"data row19 col3\" >0.0</td>\n                        <td id=\"T_ffd597cf_8286_11eb_9137_0c9d92c473d6row19_col4\" class=\"data row19 col4\" >0.0</td>\n                        <td id=\"T_ffd597cf_8286_11eb_9137_0c9d92c473d6row19_col5\" class=\"data row19 col5\" >0.0</td>\n                        <td id=\"T_ffd597cf_8286_11eb_9137_0c9d92c473d6row19_col6\" class=\"data row19 col6\" >0.0</td>\n                        <td id=\"T_ffd597cf_8286_11eb_9137_0c9d92c473d6row19_col7\" class=\"data row19 col7\" >0.0</td>\n                        <td id=\"T_ffd597cf_8286_11eb_9137_0c9d92c473d6row19_col8\" class=\"data row19 col8\" >0.0</td>\n                        <td id=\"T_ffd597cf_8286_11eb_9137_0c9d92c473d6row19_col9\" class=\"data row19 col9\" >0.0</td>\n                        <td id=\"T_ffd597cf_8286_11eb_9137_0c9d92c473d6row19_col10\" class=\"data row19 col10\" >0.0</td>\n                        <td id=\"T_ffd597cf_8286_11eb_9137_0c9d92c473d6row19_col11\" class=\"data row19 col11\" >0.0</td>\n                        <td id=\"T_ffd597cf_8286_11eb_9137_0c9d92c473d6row19_col12\" class=\"data row19 col12\" >0.0</td>\n                        <td id=\"T_ffd597cf_8286_11eb_9137_0c9d92c473d6row19_col13\" class=\"data row19 col13\" >0.0</td>\n                        <td id=\"T_ffd597cf_8286_11eb_9137_0c9d92c473d6row19_col14\" class=\"data row19 col14\" >0.0</td>\n                        <td id=\"T_ffd597cf_8286_11eb_9137_0c9d92c473d6row19_col15\" class=\"data row19 col15\" >0.0</td>\n                        <td id=\"T_ffd597cf_8286_11eb_9137_0c9d92c473d6row19_col16\" class=\"data row19 col16\" >0.0</td>\n                        <td id=\"T_ffd597cf_8286_11eb_9137_0c9d92c473d6row19_col17\" class=\"data row19 col17\" >0.0</td>\n                        <td id=\"T_ffd597cf_8286_11eb_9137_0c9d92c473d6row19_col18\" class=\"data row19 col18\" >0.0</td>\n                        <td id=\"T_ffd597cf_8286_11eb_9137_0c9d92c473d6row19_col19\" class=\"data row19 col19\" >0.0</td>\n                        <td id=\"T_ffd597cf_8286_11eb_9137_0c9d92c473d6row19_col20\" class=\"data row19 col20\" >0.0</td>\n                        <td id=\"T_ffd597cf_8286_11eb_9137_0c9d92c473d6row19_col21\" class=\"data row19 col21\" >0.0</td>\n                        <td id=\"T_ffd597cf_8286_11eb_9137_0c9d92c473d6row19_col22\" class=\"data row19 col22\" >0.0</td>\n                        <td id=\"T_ffd597cf_8286_11eb_9137_0c9d92c473d6row19_col23\" class=\"data row19 col23\" >0.0</td>\n            </tr>\n            <tr>\n                        <th id=\"T_ffd597cf_8286_11eb_9137_0c9d92c473d6level0_row20\" class=\"row_heading level0 row20\" >20</th>\n                        <td id=\"T_ffd597cf_8286_11eb_9137_0c9d92c473d6row20_col0\" class=\"data row20 col0\" >0.0</td>\n                        <td id=\"T_ffd597cf_8286_11eb_9137_0c9d92c473d6row20_col1\" class=\"data row20 col1\" >0.0</td>\n                        <td id=\"T_ffd597cf_8286_11eb_9137_0c9d92c473d6row20_col2\" class=\"data row20 col2\" >0.0</td>\n                        <td id=\"T_ffd597cf_8286_11eb_9137_0c9d92c473d6row20_col3\" class=\"data row20 col3\" >0.0</td>\n                        <td id=\"T_ffd597cf_8286_11eb_9137_0c9d92c473d6row20_col4\" class=\"data row20 col4\" >0.0</td>\n                        <td id=\"T_ffd597cf_8286_11eb_9137_0c9d92c473d6row20_col5\" class=\"data row20 col5\" >0.0</td>\n                        <td id=\"T_ffd597cf_8286_11eb_9137_0c9d92c473d6row20_col6\" class=\"data row20 col6\" >0.0</td>\n                        <td id=\"T_ffd597cf_8286_11eb_9137_0c9d92c473d6row20_col7\" class=\"data row20 col7\" >0.0</td>\n                        <td id=\"T_ffd597cf_8286_11eb_9137_0c9d92c473d6row20_col8\" class=\"data row20 col8\" >0.0</td>\n                        <td id=\"T_ffd597cf_8286_11eb_9137_0c9d92c473d6row20_col9\" class=\"data row20 col9\" >0.0</td>\n                        <td id=\"T_ffd597cf_8286_11eb_9137_0c9d92c473d6row20_col10\" class=\"data row20 col10\" >0.0</td>\n                        <td id=\"T_ffd597cf_8286_11eb_9137_0c9d92c473d6row20_col11\" class=\"data row20 col11\" >0.0</td>\n                        <td id=\"T_ffd597cf_8286_11eb_9137_0c9d92c473d6row20_col12\" class=\"data row20 col12\" >0.0</td>\n                        <td id=\"T_ffd597cf_8286_11eb_9137_0c9d92c473d6row20_col13\" class=\"data row20 col13\" >0.0</td>\n                        <td id=\"T_ffd597cf_8286_11eb_9137_0c9d92c473d6row20_col14\" class=\"data row20 col14\" >0.0</td>\n                        <td id=\"T_ffd597cf_8286_11eb_9137_0c9d92c473d6row20_col15\" class=\"data row20 col15\" >0.0</td>\n                        <td id=\"T_ffd597cf_8286_11eb_9137_0c9d92c473d6row20_col16\" class=\"data row20 col16\" >0.0</td>\n                        <td id=\"T_ffd597cf_8286_11eb_9137_0c9d92c473d6row20_col17\" class=\"data row20 col17\" >0.0</td>\n                        <td id=\"T_ffd597cf_8286_11eb_9137_0c9d92c473d6row20_col18\" class=\"data row20 col18\" >0.0</td>\n                        <td id=\"T_ffd597cf_8286_11eb_9137_0c9d92c473d6row20_col19\" class=\"data row20 col19\" >0.0</td>\n                        <td id=\"T_ffd597cf_8286_11eb_9137_0c9d92c473d6row20_col20\" class=\"data row20 col20\" >0.0</td>\n                        <td id=\"T_ffd597cf_8286_11eb_9137_0c9d92c473d6row20_col21\" class=\"data row20 col21\" >0.0</td>\n                        <td id=\"T_ffd597cf_8286_11eb_9137_0c9d92c473d6row20_col22\" class=\"data row20 col22\" >0.0</td>\n                        <td id=\"T_ffd597cf_8286_11eb_9137_0c9d92c473d6row20_col23\" class=\"data row20 col23\" >0.0</td>\n            </tr>\n            <tr>\n                        <th id=\"T_ffd597cf_8286_11eb_9137_0c9d92c473d6level0_row21\" class=\"row_heading level0 row21\" >21</th>\n                        <td id=\"T_ffd597cf_8286_11eb_9137_0c9d92c473d6row21_col0\" class=\"data row21 col0\" >0.0</td>\n                        <td id=\"T_ffd597cf_8286_11eb_9137_0c9d92c473d6row21_col1\" class=\"data row21 col1\" >0.034</td>\n                        <td id=\"T_ffd597cf_8286_11eb_9137_0c9d92c473d6row21_col2\" class=\"data row21 col2\" >0.0</td>\n                        <td id=\"T_ffd597cf_8286_11eb_9137_0c9d92c473d6row21_col3\" class=\"data row21 col3\" >0.0</td>\n                        <td id=\"T_ffd597cf_8286_11eb_9137_0c9d92c473d6row21_col4\" class=\"data row21 col4\" >0.0</td>\n                        <td id=\"T_ffd597cf_8286_11eb_9137_0c9d92c473d6row21_col5\" class=\"data row21 col5\" >0.0</td>\n                        <td id=\"T_ffd597cf_8286_11eb_9137_0c9d92c473d6row21_col6\" class=\"data row21 col6\" >0.0</td>\n                        <td id=\"T_ffd597cf_8286_11eb_9137_0c9d92c473d6row21_col7\" class=\"data row21 col7\" >0.0</td>\n                        <td id=\"T_ffd597cf_8286_11eb_9137_0c9d92c473d6row21_col8\" class=\"data row21 col8\" >0.0</td>\n                        <td id=\"T_ffd597cf_8286_11eb_9137_0c9d92c473d6row21_col9\" class=\"data row21 col9\" >0.0</td>\n                        <td id=\"T_ffd597cf_8286_11eb_9137_0c9d92c473d6row21_col10\" class=\"data row21 col10\" >0.0</td>\n                        <td id=\"T_ffd597cf_8286_11eb_9137_0c9d92c473d6row21_col11\" class=\"data row21 col11\" >0.0</td>\n                        <td id=\"T_ffd597cf_8286_11eb_9137_0c9d92c473d6row21_col12\" class=\"data row21 col12\" >0.0</td>\n                        <td id=\"T_ffd597cf_8286_11eb_9137_0c9d92c473d6row21_col13\" class=\"data row21 col13\" >0.0</td>\n                        <td id=\"T_ffd597cf_8286_11eb_9137_0c9d92c473d6row21_col14\" class=\"data row21 col14\" >0.0</td>\n                        <td id=\"T_ffd597cf_8286_11eb_9137_0c9d92c473d6row21_col15\" class=\"data row21 col15\" >0.0</td>\n                        <td id=\"T_ffd597cf_8286_11eb_9137_0c9d92c473d6row21_col16\" class=\"data row21 col16\" >0.0</td>\n                        <td id=\"T_ffd597cf_8286_11eb_9137_0c9d92c473d6row21_col17\" class=\"data row21 col17\" >0.0</td>\n                        <td id=\"T_ffd597cf_8286_11eb_9137_0c9d92c473d6row21_col18\" class=\"data row21 col18\" >0.0</td>\n                        <td id=\"T_ffd597cf_8286_11eb_9137_0c9d92c473d6row21_col19\" class=\"data row21 col19\" >0.0</td>\n                        <td id=\"T_ffd597cf_8286_11eb_9137_0c9d92c473d6row21_col20\" class=\"data row21 col20\" >0.0</td>\n                        <td id=\"T_ffd597cf_8286_11eb_9137_0c9d92c473d6row21_col21\" class=\"data row21 col21\" >0.0</td>\n                        <td id=\"T_ffd597cf_8286_11eb_9137_0c9d92c473d6row21_col22\" class=\"data row21 col22\" >0.046</td>\n                        <td id=\"T_ffd597cf_8286_11eb_9137_0c9d92c473d6row21_col23\" class=\"data row21 col23\" >0.012</td>\n            </tr>\n            <tr>\n                        <th id=\"T_ffd597cf_8286_11eb_9137_0c9d92c473d6level0_row22\" class=\"row_heading level0 row22\" >22</th>\n                        <td id=\"T_ffd597cf_8286_11eb_9137_0c9d92c473d6row22_col0\" class=\"data row22 col0\" >0.0</td>\n                        <td id=\"T_ffd597cf_8286_11eb_9137_0c9d92c473d6row22_col1\" class=\"data row22 col1\" >0.01</td>\n                        <td id=\"T_ffd597cf_8286_11eb_9137_0c9d92c473d6row22_col2\" class=\"data row22 col2\" >0.0</td>\n                        <td id=\"T_ffd597cf_8286_11eb_9137_0c9d92c473d6row22_col3\" class=\"data row22 col3\" >0.0</td>\n                        <td id=\"T_ffd597cf_8286_11eb_9137_0c9d92c473d6row22_col4\" class=\"data row22 col4\" >0.0</td>\n                        <td id=\"T_ffd597cf_8286_11eb_9137_0c9d92c473d6row22_col5\" class=\"data row22 col5\" >0.0</td>\n                        <td id=\"T_ffd597cf_8286_11eb_9137_0c9d92c473d6row22_col6\" class=\"data row22 col6\" >0.0</td>\n                        <td id=\"T_ffd597cf_8286_11eb_9137_0c9d92c473d6row22_col7\" class=\"data row22 col7\" >0.0</td>\n                        <td id=\"T_ffd597cf_8286_11eb_9137_0c9d92c473d6row22_col8\" class=\"data row22 col8\" >0.0</td>\n                        <td id=\"T_ffd597cf_8286_11eb_9137_0c9d92c473d6row22_col9\" class=\"data row22 col9\" >0.0</td>\n                        <td id=\"T_ffd597cf_8286_11eb_9137_0c9d92c473d6row22_col10\" class=\"data row22 col10\" >0.0</td>\n                        <td id=\"T_ffd597cf_8286_11eb_9137_0c9d92c473d6row22_col11\" class=\"data row22 col11\" >0.0</td>\n                        <td id=\"T_ffd597cf_8286_11eb_9137_0c9d92c473d6row22_col12\" class=\"data row22 col12\" >0.0</td>\n                        <td id=\"T_ffd597cf_8286_11eb_9137_0c9d92c473d6row22_col13\" class=\"data row22 col13\" >0.0</td>\n                        <td id=\"T_ffd597cf_8286_11eb_9137_0c9d92c473d6row22_col14\" class=\"data row22 col14\" >0.0</td>\n                        <td id=\"T_ffd597cf_8286_11eb_9137_0c9d92c473d6row22_col15\" class=\"data row22 col15\" >0.0</td>\n                        <td id=\"T_ffd597cf_8286_11eb_9137_0c9d92c473d6row22_col16\" class=\"data row22 col16\" >0.0</td>\n                        <td id=\"T_ffd597cf_8286_11eb_9137_0c9d92c473d6row22_col17\" class=\"data row22 col17\" >0.0</td>\n                        <td id=\"T_ffd597cf_8286_11eb_9137_0c9d92c473d6row22_col18\" class=\"data row22 col18\" >0.0</td>\n                        <td id=\"T_ffd597cf_8286_11eb_9137_0c9d92c473d6row22_col19\" class=\"data row22 col19\" >0.0</td>\n                        <td id=\"T_ffd597cf_8286_11eb_9137_0c9d92c473d6row22_col20\" class=\"data row22 col20\" >0.016</td>\n                        <td id=\"T_ffd597cf_8286_11eb_9137_0c9d92c473d6row22_col21\" class=\"data row22 col21\" >0.0</td>\n                        <td id=\"T_ffd597cf_8286_11eb_9137_0c9d92c473d6row22_col22\" class=\"data row22 col22\" >0.0</td>\n                        <td id=\"T_ffd597cf_8286_11eb_9137_0c9d92c473d6row22_col23\" class=\"data row22 col23\" >0.0</td>\n            </tr>\n            <tr>\n                        <th id=\"T_ffd597cf_8286_11eb_9137_0c9d92c473d6level0_row23\" class=\"row_heading level0 row23\" >23</th>\n                        <td id=\"T_ffd597cf_8286_11eb_9137_0c9d92c473d6row23_col0\" class=\"data row23 col0\" >0.0</td>\n                        <td id=\"T_ffd597cf_8286_11eb_9137_0c9d92c473d6row23_col1\" class=\"data row23 col1\" >0.0</td>\n                        <td id=\"T_ffd597cf_8286_11eb_9137_0c9d92c473d6row23_col2\" class=\"data row23 col2\" >0.0</td>\n                        <td id=\"T_ffd597cf_8286_11eb_9137_0c9d92c473d6row23_col3\" class=\"data row23 col3\" >0.0</td>\n                        <td id=\"T_ffd597cf_8286_11eb_9137_0c9d92c473d6row23_col4\" class=\"data row23 col4\" >0.0</td>\n                        <td id=\"T_ffd597cf_8286_11eb_9137_0c9d92c473d6row23_col5\" class=\"data row23 col5\" >0.0</td>\n                        <td id=\"T_ffd597cf_8286_11eb_9137_0c9d92c473d6row23_col6\" class=\"data row23 col6\" >0.0</td>\n                        <td id=\"T_ffd597cf_8286_11eb_9137_0c9d92c473d6row23_col7\" class=\"data row23 col7\" >0.0</td>\n                        <td id=\"T_ffd597cf_8286_11eb_9137_0c9d92c473d6row23_col8\" class=\"data row23 col8\" >0.0</td>\n                        <td id=\"T_ffd597cf_8286_11eb_9137_0c9d92c473d6row23_col9\" class=\"data row23 col9\" >0.0</td>\n                        <td id=\"T_ffd597cf_8286_11eb_9137_0c9d92c473d6row23_col10\" class=\"data row23 col10\" >0.0</td>\n                        <td id=\"T_ffd597cf_8286_11eb_9137_0c9d92c473d6row23_col11\" class=\"data row23 col11\" >0.0</td>\n                        <td id=\"T_ffd597cf_8286_11eb_9137_0c9d92c473d6row23_col12\" class=\"data row23 col12\" >0.0</td>\n                        <td id=\"T_ffd597cf_8286_11eb_9137_0c9d92c473d6row23_col13\" class=\"data row23 col13\" >0.0</td>\n                        <td id=\"T_ffd597cf_8286_11eb_9137_0c9d92c473d6row23_col14\" class=\"data row23 col14\" >0.0</td>\n                        <td id=\"T_ffd597cf_8286_11eb_9137_0c9d92c473d6row23_col15\" class=\"data row23 col15\" >0.0</td>\n                        <td id=\"T_ffd597cf_8286_11eb_9137_0c9d92c473d6row23_col16\" class=\"data row23 col16\" >0.0</td>\n                        <td id=\"T_ffd597cf_8286_11eb_9137_0c9d92c473d6row23_col17\" class=\"data row23 col17\" >0.0</td>\n                        <td id=\"T_ffd597cf_8286_11eb_9137_0c9d92c473d6row23_col18\" class=\"data row23 col18\" >0.0</td>\n                        <td id=\"T_ffd597cf_8286_11eb_9137_0c9d92c473d6row23_col19\" class=\"data row23 col19\" >0.0</td>\n                        <td id=\"T_ffd597cf_8286_11eb_9137_0c9d92c473d6row23_col20\" class=\"data row23 col20\" >0.035</td>\n                        <td id=\"T_ffd597cf_8286_11eb_9137_0c9d92c473d6row23_col21\" class=\"data row23 col21\" >0.0</td>\n                        <td id=\"T_ffd597cf_8286_11eb_9137_0c9d92c473d6row23_col22\" class=\"data row23 col22\" >0.0</td>\n                        <td id=\"T_ffd597cf_8286_11eb_9137_0c9d92c473d6row23_col23\" class=\"data row23 col23\" >0.0</td>\n            </tr>\n    </tbody></table>"
     },
     "metadata": {}
    }
   ],
   "source": [
    "import seaborn as sns\n",
    "cm = sns.light_palette(\"#003E74\", as_cmap=True)\n",
    "intersection_matrix = castle.get_weights(X_DAG, y_DAG)\n",
    "maxed_adj = zero_under_t(max_over_diag(intersection_matrix),0.008)\n",
    "x=pd.DataFrame(maxed_adj).round(3)\n",
    "x=x.style.background_gradient(cmap=cm, low=-0.1, high=0.01).format(\"{:.3}\")\n",
    "display(x)"
   ]
  },
  {
   "cell_type": "code",
   "execution_count": 25,
   "metadata": {},
   "outputs": [
    {
     "output_type": "execute_result",
     "data": {
      "text/plain": [
       "<IPython.lib.display.IFrame at 0x7f1523b66d68>"
      ],
      "text/html": "\n        <iframe\n            width=\"100%\"\n            height=\"800px\"\n            src=\"c.html\"\n            frameborder=\"0\"\n            allowfullscreen\n        ></iframe>\n        "
     },
     "metadata": {},
     "execution_count": 25
    }
   ],
   "source": [
    "plot_influence_graph(castle.get_influences(X_DAG, y_DAG, 0.01), 'c.html')"
   ]
  },
  {
   "cell_type": "code",
   "execution_count": 26,
   "metadata": {
    "collapsed": true,
    "jupyter": {
     "outputs_hidden": true
    }
   },
   "outputs": [
    {
     "output_type": "stream",
     "name": "stdout",
     "text": [
      "N unique: 2\n[1 0]\nr2_score: 0.2430897210138262\nmean_squared_error: 0.18845582\nmean_absolute_error: 0.37530524\n"
     ]
    },
    {
     "output_type": "execute_result",
     "data": {
      "text/plain": [
       "                        0\n",
       "RiskPerformance          \n",
       "0                0.557562\n",
       "1                0.863154\n",
       "0                0.550696\n",
       "0                0.320882\n",
       "0                0.489504\n",
       "...                   ...\n",
       "0                0.221393\n",
       "1                0.582618\n",
       "0                0.129556\n",
       "0                0.620192\n",
       "0                0.222320\n",
       "\n",
       "[2615 rows x 1 columns]"
      ],
      "text/html": "<div>\n<style scoped>\n    .dataframe tbody tr th:only-of-type {\n        vertical-align: middle;\n    }\n\n    .dataframe tbody tr th {\n        vertical-align: top;\n    }\n\n    .dataframe thead th {\n        text-align: right;\n    }\n</style>\n<table border=\"1\" class=\"dataframe\">\n  <thead>\n    <tr style=\"text-align: right;\">\n      <th></th>\n      <th>0</th>\n    </tr>\n    <tr>\n      <th>RiskPerformance</th>\n      <th></th>\n    </tr>\n  </thead>\n  <tbody>\n    <tr>\n      <th>0</th>\n      <td>0.557562</td>\n    </tr>\n    <tr>\n      <th>1</th>\n      <td>0.863154</td>\n    </tr>\n    <tr>\n      <th>0</th>\n      <td>0.550696</td>\n    </tr>\n    <tr>\n      <th>0</th>\n      <td>0.320882</td>\n    </tr>\n    <tr>\n      <th>0</th>\n      <td>0.489504</td>\n    </tr>\n    <tr>\n      <th>...</th>\n      <td>...</td>\n    </tr>\n    <tr>\n      <th>0</th>\n      <td>0.221393</td>\n    </tr>\n    <tr>\n      <th>1</th>\n      <td>0.582618</td>\n    </tr>\n    <tr>\n      <th>0</th>\n      <td>0.129556</td>\n    </tr>\n    <tr>\n      <th>0</th>\n      <td>0.620192</td>\n    </tr>\n    <tr>\n      <th>0</th>\n      <td>0.222320</td>\n    </tr>\n  </tbody>\n</table>\n<p>2615 rows × 1 columns</p>\n</div>"
     },
     "metadata": {},
     "execution_count": 26
    }
   ],
   "source": [
    "from sklearn.metrics import r2_score, mean_squared_error, mean_absolute_error\n",
    "\n",
    "y_to_pred = X_test.columns[0]\n",
    "print(\"N unique:\" , len(df[y_to_pred].unique()))\n",
    "print(df[y_to_pred].unique()) \n",
    "print('r2_score:',r2_score(X_test[y_to_pred], castle.predict_proba_x(X_test, y_to_pred)))\n",
    "print('mean_squared_error:',mean_squared_error(X_test[y_to_pred], castle.predict_proba_x(X_test, y_to_pred)))\n",
    "print('mean_absolute_error:',mean_absolute_error(X_test[y_to_pred], castle.predict_proba_x(X_test, y_to_pred)))\n",
    "pd.DataFrame(castle.predict_proba_x(X_test, y_to_pred), X_test[y_to_pred])\n"
   ]
  },
  {
   "cell_type": "code",
   "execution_count": 178,
   "metadata": {
    "collapsed": true,
    "jupyter": {
     "outputs_hidden": true
    }
   },
   "outputs": [
    {
     "data": {
      "text/plain": [
       "RiskPerformance                         1\n",
       "ExternalRiskEstimate                   59\n",
       "MSinceOldestTradeOpen                 131\n",
       "MSinceMostRecentTradeOpen               7\n",
       "AverageMInFile                         81\n",
       "NumSatisfactoryTrades                  13\n",
       "NumTrades60Ever2DerogPubRec             1\n",
       "NumTrades90Ever2DerogPubRec             0\n",
       "PercentTradesNeverDelq                 69\n",
       "MSinceMostRecentDelq                    5\n",
       "MaxDelq2PublicRecLast12M                4\n",
       "MaxDelqEver                             5\n",
       "NumTotalTrades                         17\n",
       "NumTradesOpeninLast12M                  1\n",
       "PercentInstallTrades                   50\n",
       "MSinceMostRecentInqexcl7days           -7\n",
       "NumInqLast6M                            2\n",
       "NumInqLast6Mexcl7days                   2\n",
       "NetFractionRevolvingBurden             75\n",
       "NetFractionInstallBurden               -8\n",
       "NumRevolvingTradesWBalance              3\n",
       "NumInstallTradesWBalance                2\n",
       "NumBank2NatlTradesWHighUtilization      1\n",
       "PercentTradesWBalance                 100\n",
       "Name: 131, dtype: int64"
      ]
     },
     "execution_count": 178,
     "metadata": {},
     "output_type": "execute_result"
    }
   ],
   "source": [
    "idx = 131\n",
    "X_test.loc[idx]"
   ]
  },
  {
   "cell_type": "code",
   "execution_count": 179,
   "metadata": {},
   "outputs": [
    {
     "data": {
      "text/plain": [
       "325"
      ]
     },
     "execution_count": 179,
     "metadata": {},
     "output_type": "execute_result"
    }
   ],
   "source": [
    "X_test.index.get_loc(idx)"
   ]
  },
  {
   "cell_type": "code",
   "execution_count": 229,
   "metadata": {},
   "outputs": [
    {
     "data": {
      "text/plain": [
       "0    0.0000\n",
       "1   -0.0216\n",
       "2   -0.0038\n",
       "3    0.0008\n",
       "4    0.0709\n",
       "5   -0.0225\n",
       "6    0.0037\n",
       "7   -0.0166\n",
       "8   -0.0032\n",
       "9   -0.0613\n",
       "dtype: float32"
      ]
     },
     "execution_count": 229,
     "metadata": {},
     "output_type": "execute_result"
    }
   ],
   "source": [
    "pd.DataFrame(castle.pred_W0(X_DAG, y_DAG)[0]).sum().round(4)"
   ]
  },
  {
   "cell_type": "code",
   "execution_count": 187,
   "metadata": {},
   "outputs": [
    {
     "data": {
      "text/html": [
       "<div>\n",
       "<style scoped>\n",
       "    .dataframe tbody tr th:only-of-type {\n",
       "        vertical-align: middle;\n",
       "    }\n",
       "\n",
       "    .dataframe tbody tr th {\n",
       "        vertical-align: top;\n",
       "    }\n",
       "\n",
       "    .dataframe thead th {\n",
       "        text-align: right;\n",
       "    }\n",
       "</style>\n",
       "<table border=\"1\" class=\"dataframe\">\n",
       "  <thead>\n",
       "    <tr style=\"text-align: right;\">\n",
       "      <th></th>\n",
       "      <th>0</th>\n",
       "      <th>1</th>\n",
       "      <th>2</th>\n",
       "      <th>3</th>\n",
       "      <th>4</th>\n",
       "      <th>5</th>\n",
       "      <th>6</th>\n",
       "      <th>7</th>\n",
       "      <th>8</th>\n",
       "      <th>9</th>\n",
       "    </tr>\n",
       "  </thead>\n",
       "  <tbody>\n",
       "    <tr>\n",
       "      <th>0</th>\n",
       "      <td>0.000000e+00</td>\n",
       "      <td>0.000000</td>\n",
       "      <td>0.000000</td>\n",
       "      <td>-0.000000e+00</td>\n",
       "      <td>-0.000000</td>\n",
       "      <td>-0.000000</td>\n",
       "      <td>0.000000</td>\n",
       "      <td>-0.000000</td>\n",
       "      <td>0.000000e+00</td>\n",
       "      <td>-0.000000</td>\n",
       "    </tr>\n",
       "    <tr>\n",
       "      <th>1</th>\n",
       "      <td>-6.127770e-39</td>\n",
       "      <td>-0.003008</td>\n",
       "      <td>-0.003015</td>\n",
       "      <td>5.746723e-39</td>\n",
       "      <td>-0.027375</td>\n",
       "      <td>-0.002384</td>\n",
       "      <td>-0.000399</td>\n",
       "      <td>0.002170</td>\n",
       "      <td>1.297350e-03</td>\n",
       "      <td>-0.001299</td>\n",
       "    </tr>\n",
       "    <tr>\n",
       "      <th>2</th>\n",
       "      <td>-0.000000e+00</td>\n",
       "      <td>-0.000638</td>\n",
       "      <td>-0.000799</td>\n",
       "      <td>-0.000000e+00</td>\n",
       "      <td>-0.003005</td>\n",
       "      <td>-0.000296</td>\n",
       "      <td>0.000056</td>\n",
       "      <td>0.000611</td>\n",
       "      <td>2.342940e-04</td>\n",
       "      <td>-0.002552</td>\n",
       "    </tr>\n",
       "    <tr>\n",
       "      <th>3</th>\n",
       "      <td>-0.000000e+00</td>\n",
       "      <td>-0.000067</td>\n",
       "      <td>-0.000166</td>\n",
       "      <td>-0.000000e+00</td>\n",
       "      <td>0.000270</td>\n",
       "      <td>-0.000060</td>\n",
       "      <td>-0.000153</td>\n",
       "      <td>0.000251</td>\n",
       "      <td>1.365379e-04</td>\n",
       "      <td>0.000815</td>\n",
       "    </tr>\n",
       "    <tr>\n",
       "      <th>4</th>\n",
       "      <td>0.000000e+00</td>\n",
       "      <td>0.000557</td>\n",
       "      <td>0.000605</td>\n",
       "      <td>0.000000e+00</td>\n",
       "      <td>0.002210</td>\n",
       "      <td>0.000450</td>\n",
       "      <td>0.000254</td>\n",
       "      <td>-0.000472</td>\n",
       "      <td>-3.120043e-04</td>\n",
       "      <td>0.001122</td>\n",
       "    </tr>\n",
       "    <tr>\n",
       "      <th>5</th>\n",
       "      <td>0.000000e+00</td>\n",
       "      <td>-0.000482</td>\n",
       "      <td>-0.001283</td>\n",
       "      <td>0.000000e+00</td>\n",
       "      <td>-0.001776</td>\n",
       "      <td>0.000228</td>\n",
       "      <td>-0.000564</td>\n",
       "      <td>0.001655</td>\n",
       "      <td>3.428072e-04</td>\n",
       "      <td>-0.000642</td>\n",
       "    </tr>\n",
       "    <tr>\n",
       "      <th>6</th>\n",
       "      <td>0.000000e+00</td>\n",
       "      <td>-0.000256</td>\n",
       "      <td>0.000243</td>\n",
       "      <td>0.000000e+00</td>\n",
       "      <td>-0.001985</td>\n",
       "      <td>-0.000138</td>\n",
       "      <td>0.000212</td>\n",
       "      <td>-0.000808</td>\n",
       "      <td>-6.327512e-04</td>\n",
       "      <td>-0.002418</td>\n",
       "    </tr>\n",
       "    <tr>\n",
       "      <th>7</th>\n",
       "      <td>0.000000e+00</td>\n",
       "      <td>-0.000047</td>\n",
       "      <td>0.000006</td>\n",
       "      <td>0.000000e+00</td>\n",
       "      <td>-0.000336</td>\n",
       "      <td>-0.000011</td>\n",
       "      <td>0.000029</td>\n",
       "      <td>-0.000074</td>\n",
       "      <td>-8.174554e-05</td>\n",
       "      <td>-0.000510</td>\n",
       "    </tr>\n",
       "    <tr>\n",
       "      <th>8</th>\n",
       "      <td>-0.000000e+00</td>\n",
       "      <td>0.000356</td>\n",
       "      <td>0.000181</td>\n",
       "      <td>0.000000e+00</td>\n",
       "      <td>-0.007555</td>\n",
       "      <td>0.000357</td>\n",
       "      <td>0.000926</td>\n",
       "      <td>0.000057</td>\n",
       "      <td>-3.500561e-04</td>\n",
       "      <td>-0.001050</td>\n",
       "    </tr>\n",
       "    <tr>\n",
       "      <th>9</th>\n",
       "      <td>-0.000000e+00</td>\n",
       "      <td>0.000145</td>\n",
       "      <td>-0.000017</td>\n",
       "      <td>-0.000000e+00</td>\n",
       "      <td>-0.000151</td>\n",
       "      <td>0.000161</td>\n",
       "      <td>-0.000021</td>\n",
       "      <td>0.000190</td>\n",
       "      <td>2.479415e-05</td>\n",
       "      <td>-0.000133</td>\n",
       "    </tr>\n",
       "    <tr>\n",
       "      <th>10</th>\n",
       "      <td>-0.000000e+00</td>\n",
       "      <td>0.000363</td>\n",
       "      <td>0.000395</td>\n",
       "      <td>0.000000e+00</td>\n",
       "      <td>-0.002034</td>\n",
       "      <td>0.000316</td>\n",
       "      <td>0.000285</td>\n",
       "      <td>-0.000294</td>\n",
       "      <td>-2.609587e-04</td>\n",
       "      <td>0.000019</td>\n",
       "    </tr>\n",
       "    <tr>\n",
       "      <th>11</th>\n",
       "      <td>-0.000000e+00</td>\n",
       "      <td>0.000165</td>\n",
       "      <td>0.000158</td>\n",
       "      <td>-0.000000e+00</td>\n",
       "      <td>-0.000423</td>\n",
       "      <td>0.000136</td>\n",
       "      <td>0.000051</td>\n",
       "      <td>-0.000097</td>\n",
       "      <td>-7.456705e-05</td>\n",
       "      <td>0.000092</td>\n",
       "    </tr>\n",
       "    <tr>\n",
       "      <th>12</th>\n",
       "      <td>-0.000000e+00</td>\n",
       "      <td>0.000350</td>\n",
       "      <td>0.000061</td>\n",
       "      <td>-0.000000e+00</td>\n",
       "      <td>-0.000043</td>\n",
       "      <td>0.000427</td>\n",
       "      <td>-0.000387</td>\n",
       "      <td>0.000252</td>\n",
       "      <td>1.136859e-04</td>\n",
       "      <td>-0.000162</td>\n",
       "    </tr>\n",
       "    <tr>\n",
       "      <th>13</th>\n",
       "      <td>0.000000e+00</td>\n",
       "      <td>0.000213</td>\n",
       "      <td>0.000106</td>\n",
       "      <td>0.000000e+00</td>\n",
       "      <td>0.000011</td>\n",
       "      <td>0.000192</td>\n",
       "      <td>-0.000055</td>\n",
       "      <td>0.000051</td>\n",
       "      <td>1.489139e-07</td>\n",
       "      <td>0.000333</td>\n",
       "    </tr>\n",
       "    <tr>\n",
       "      <th>14</th>\n",
       "      <td>0.000000e+00</td>\n",
       "      <td>-0.001340</td>\n",
       "      <td>-0.002411</td>\n",
       "      <td>0.000000e+00</td>\n",
       "      <td>-0.003097</td>\n",
       "      <td>-0.000384</td>\n",
       "      <td>-0.001743</td>\n",
       "      <td>0.002792</td>\n",
       "      <td>3.173192e-06</td>\n",
       "      <td>-0.008114</td>\n",
       "    </tr>\n",
       "    <tr>\n",
       "      <th>15</th>\n",
       "      <td>-0.000000e+00</td>\n",
       "      <td>-0.001284</td>\n",
       "      <td>-0.001609</td>\n",
       "      <td>-0.000000e+00</td>\n",
       "      <td>-0.002824</td>\n",
       "      <td>-0.000616</td>\n",
       "      <td>-0.001160</td>\n",
       "      <td>0.001372</td>\n",
       "      <td>4.312198e-04</td>\n",
       "      <td>-0.003624</td>\n",
       "    </tr>\n",
       "    <tr>\n",
       "      <th>16</th>\n",
       "      <td>0.000000e+00</td>\n",
       "      <td>-0.001117</td>\n",
       "      <td>-0.000249</td>\n",
       "      <td>-1.438084e-35</td>\n",
       "      <td>-0.002870</td>\n",
       "      <td>-0.001036</td>\n",
       "      <td>0.000352</td>\n",
       "      <td>-0.000829</td>\n",
       "      <td>-2.206459e-04</td>\n",
       "      <td>-0.004447</td>\n",
       "    </tr>\n",
       "    <tr>\n",
       "      <th>17</th>\n",
       "      <td>-0.000000e+00</td>\n",
       "      <td>-0.000840</td>\n",
       "      <td>-0.000138</td>\n",
       "      <td>0.000000e+00</td>\n",
       "      <td>-0.001773</td>\n",
       "      <td>-0.000662</td>\n",
       "      <td>0.000264</td>\n",
       "      <td>-0.000762</td>\n",
       "      <td>-3.594034e-04</td>\n",
       "      <td>-0.003147</td>\n",
       "    </tr>\n",
       "    <tr>\n",
       "      <th>18</th>\n",
       "      <td>0.000000e+00</td>\n",
       "      <td>-0.005154</td>\n",
       "      <td>-0.003773</td>\n",
       "      <td>1.091677e-03</td>\n",
       "      <td>-0.014754</td>\n",
       "      <td>-0.005388</td>\n",
       "      <td>-0.001477</td>\n",
       "      <td>0.001569</td>\n",
       "      <td>3.877481e-03</td>\n",
       "      <td>-0.011420</td>\n",
       "    </tr>\n",
       "    <tr>\n",
       "      <th>19</th>\n",
       "      <td>-0.000000e+00</td>\n",
       "      <td>0.005415</td>\n",
       "      <td>0.003553</td>\n",
       "      <td>-0.000000e+00</td>\n",
       "      <td>0.003359</td>\n",
       "      <td>0.005422</td>\n",
       "      <td>-0.000619</td>\n",
       "      <td>-0.000766</td>\n",
       "      <td>-1.648331e-03</td>\n",
       "      <td>0.005168</td>\n",
       "    </tr>\n",
       "    <tr>\n",
       "      <th>20</th>\n",
       "      <td>-0.000000e+00</td>\n",
       "      <td>0.000112</td>\n",
       "      <td>0.000064</td>\n",
       "      <td>-0.000000e+00</td>\n",
       "      <td>0.000018</td>\n",
       "      <td>0.000090</td>\n",
       "      <td>-0.000033</td>\n",
       "      <td>0.000010</td>\n",
       "      <td>-1.294325e-06</td>\n",
       "      <td>0.000061</td>\n",
       "    </tr>\n",
       "    <tr>\n",
       "      <th>21</th>\n",
       "      <td>0.000000e+00</td>\n",
       "      <td>-0.000348</td>\n",
       "      <td>-0.000131</td>\n",
       "      <td>-0.000000e+00</td>\n",
       "      <td>0.000759</td>\n",
       "      <td>-0.000562</td>\n",
       "      <td>0.000058</td>\n",
       "      <td>-0.000081</td>\n",
       "      <td>2.391493e-04</td>\n",
       "      <td>0.000005</td>\n",
       "    </tr>\n",
       "    <tr>\n",
       "      <th>22</th>\n",
       "      <td>0.000000e+00</td>\n",
       "      <td>-0.000376</td>\n",
       "      <td>-0.000127</td>\n",
       "      <td>0.000000e+00</td>\n",
       "      <td>0.000235</td>\n",
       "      <td>-0.000339</td>\n",
       "      <td>0.000200</td>\n",
       "      <td>-0.000156</td>\n",
       "      <td>-1.655500e-04</td>\n",
       "      <td>-0.000245</td>\n",
       "    </tr>\n",
       "    <tr>\n",
       "      <th>23</th>\n",
       "      <td>0.000000e+00</td>\n",
       "      <td>-0.007437</td>\n",
       "      <td>-0.008419</td>\n",
       "      <td>0.000000e+00</td>\n",
       "      <td>-0.008419</td>\n",
       "      <td>-0.005462</td>\n",
       "      <td>-0.004709</td>\n",
       "      <td>0.007010</td>\n",
       "      <td>4.251299e-03</td>\n",
       "      <td>-0.016557</td>\n",
       "    </tr>\n",
       "  </tbody>\n",
       "</table>\n",
       "</div>"
      ],
      "text/plain": [
       "               0         1         2             3         4         5  \\\n",
       "0   0.000000e+00  0.000000  0.000000 -0.000000e+00 -0.000000 -0.000000   \n",
       "1  -6.127770e-39 -0.003008 -0.003015  5.746723e-39 -0.027375 -0.002384   \n",
       "2  -0.000000e+00 -0.000638 -0.000799 -0.000000e+00 -0.003005 -0.000296   \n",
       "3  -0.000000e+00 -0.000067 -0.000166 -0.000000e+00  0.000270 -0.000060   \n",
       "4   0.000000e+00  0.000557  0.000605  0.000000e+00  0.002210  0.000450   \n",
       "5   0.000000e+00 -0.000482 -0.001283  0.000000e+00 -0.001776  0.000228   \n",
       "6   0.000000e+00 -0.000256  0.000243  0.000000e+00 -0.001985 -0.000138   \n",
       "7   0.000000e+00 -0.000047  0.000006  0.000000e+00 -0.000336 -0.000011   \n",
       "8  -0.000000e+00  0.000356  0.000181  0.000000e+00 -0.007555  0.000357   \n",
       "9  -0.000000e+00  0.000145 -0.000017 -0.000000e+00 -0.000151  0.000161   \n",
       "10 -0.000000e+00  0.000363  0.000395  0.000000e+00 -0.002034  0.000316   \n",
       "11 -0.000000e+00  0.000165  0.000158 -0.000000e+00 -0.000423  0.000136   \n",
       "12 -0.000000e+00  0.000350  0.000061 -0.000000e+00 -0.000043  0.000427   \n",
       "13  0.000000e+00  0.000213  0.000106  0.000000e+00  0.000011  0.000192   \n",
       "14  0.000000e+00 -0.001340 -0.002411  0.000000e+00 -0.003097 -0.000384   \n",
       "15 -0.000000e+00 -0.001284 -0.001609 -0.000000e+00 -0.002824 -0.000616   \n",
       "16  0.000000e+00 -0.001117 -0.000249 -1.438084e-35 -0.002870 -0.001036   \n",
       "17 -0.000000e+00 -0.000840 -0.000138  0.000000e+00 -0.001773 -0.000662   \n",
       "18  0.000000e+00 -0.005154 -0.003773  1.091677e-03 -0.014754 -0.005388   \n",
       "19 -0.000000e+00  0.005415  0.003553 -0.000000e+00  0.003359  0.005422   \n",
       "20 -0.000000e+00  0.000112  0.000064 -0.000000e+00  0.000018  0.000090   \n",
       "21  0.000000e+00 -0.000348 -0.000131 -0.000000e+00  0.000759 -0.000562   \n",
       "22  0.000000e+00 -0.000376 -0.000127  0.000000e+00  0.000235 -0.000339   \n",
       "23  0.000000e+00 -0.007437 -0.008419  0.000000e+00 -0.008419 -0.005462   \n",
       "\n",
       "           6         7             8         9  \n",
       "0   0.000000 -0.000000  0.000000e+00 -0.000000  \n",
       "1  -0.000399  0.002170  1.297350e-03 -0.001299  \n",
       "2   0.000056  0.000611  2.342940e-04 -0.002552  \n",
       "3  -0.000153  0.000251  1.365379e-04  0.000815  \n",
       "4   0.000254 -0.000472 -3.120043e-04  0.001122  \n",
       "5  -0.000564  0.001655  3.428072e-04 -0.000642  \n",
       "6   0.000212 -0.000808 -6.327512e-04 -0.002418  \n",
       "7   0.000029 -0.000074 -8.174554e-05 -0.000510  \n",
       "8   0.000926  0.000057 -3.500561e-04 -0.001050  \n",
       "9  -0.000021  0.000190  2.479415e-05 -0.000133  \n",
       "10  0.000285 -0.000294 -2.609587e-04  0.000019  \n",
       "11  0.000051 -0.000097 -7.456705e-05  0.000092  \n",
       "12 -0.000387  0.000252  1.136859e-04 -0.000162  \n",
       "13 -0.000055  0.000051  1.489139e-07  0.000333  \n",
       "14 -0.001743  0.002792  3.173192e-06 -0.008114  \n",
       "15 -0.001160  0.001372  4.312198e-04 -0.003624  \n",
       "16  0.000352 -0.000829 -2.206459e-04 -0.004447  \n",
       "17  0.000264 -0.000762 -3.594034e-04 -0.003147  \n",
       "18 -0.001477  0.001569  3.877481e-03 -0.011420  \n",
       "19 -0.000619 -0.000766 -1.648331e-03  0.005168  \n",
       "20 -0.000033  0.000010 -1.294325e-06  0.000061  \n",
       "21  0.000058 -0.000081  2.391493e-04  0.000005  \n",
       "22  0.000200 -0.000156 -1.655500e-04 -0.000245  \n",
       "23 -0.004709  0.007010  4.251299e-03 -0.016557  "
      ]
     },
     "execution_count": 187,
     "metadata": {},
     "output_type": "execute_result"
    }
   ],
   "source": [
    "pd.DataFrame(castle.pred_W0(X_DAG, y_DAG)[0]*np.expand_dims(X_test_scaled[X_test.index.get_loc(idx)],-1))"
   ]
  },
  {
   "cell_type": "code",
   "execution_count": 188,
   "metadata": {},
   "outputs": [
    {
     "data": {
      "text/html": [
       "<div>\n",
       "<style scoped>\n",
       "    .dataframe tbody tr th:only-of-type {\n",
       "        vertical-align: middle;\n",
       "    }\n",
       "\n",
       "    .dataframe tbody tr th {\n",
       "        vertical-align: top;\n",
       "    }\n",
       "\n",
       "    .dataframe thead th {\n",
       "        text-align: right;\n",
       "    }\n",
       "</style>\n",
       "<table border=\"1\" class=\"dataframe\">\n",
       "  <thead>\n",
       "    <tr style=\"text-align: right;\">\n",
       "      <th></th>\n",
       "      <th>0</th>\n",
       "    </tr>\n",
       "  </thead>\n",
       "  <tbody>\n",
       "    <tr>\n",
       "      <th>0</th>\n",
       "      <td>-0.067018</td>\n",
       "    </tr>\n",
       "    <tr>\n",
       "      <th>1</th>\n",
       "      <td>0.489335</td>\n",
       "    </tr>\n",
       "    <tr>\n",
       "      <th>2</th>\n",
       "      <td>0.576586</td>\n",
       "    </tr>\n",
       "    <tr>\n",
       "      <th>3</th>\n",
       "      <td>-0.186910</td>\n",
       "    </tr>\n",
       "    <tr>\n",
       "      <th>4</th>\n",
       "      <td>-0.032331</td>\n",
       "    </tr>\n",
       "    <tr>\n",
       "      <th>5</th>\n",
       "      <td>0.260914</td>\n",
       "    </tr>\n",
       "    <tr>\n",
       "      <th>6</th>\n",
       "      <td>0.287168</td>\n",
       "    </tr>\n",
       "    <tr>\n",
       "      <th>7</th>\n",
       "      <td>0.090178</td>\n",
       "    </tr>\n",
       "    <tr>\n",
       "      <th>8</th>\n",
       "      <td>0.166781</td>\n",
       "    </tr>\n",
       "    <tr>\n",
       "      <th>9</th>\n",
       "      <td>0.243935</td>\n",
       "    </tr>\n",
       "  </tbody>\n",
       "</table>\n",
       "</div>"
      ],
      "text/plain": [
       "          0\n",
       "0 -0.067018\n",
       "1  0.489335\n",
       "2  0.576586\n",
       "3 -0.186910\n",
       "4 -0.032331\n",
       "5  0.260914\n",
       "6  0.287168\n",
       "7  0.090178\n",
       "8  0.166781\n",
       "9  0.243935"
      ]
     },
     "execution_count": 188,
     "metadata": {},
     "output_type": "execute_result"
    }
   ],
   "source": [
    "pd.DataFrame(np.sum(castle.pred_W0(X_DAG, y_DAG)[0]*\n",
    "                    np.expand_dims(X_test_scaled[X_test.index.get_loc(idx)],-1)\n",
    "                    ,axis=0\n",
    "                   )+\n",
    "             castle.pred_W0(X_DAG, y_DAG)[1]\n",
    "            )"
   ]
  },
  {
   "cell_type": "code",
   "execution_count": 222,
   "metadata": {},
   "outputs": [
    {
     "data": {
      "text/plain": [
       "array([-0.06701823,  0.48933517,  0.57658559, -0.18690997, -0.03233091,  0.26091376,  0.28716767,  0.09017814,  0.16678087,  0.24393487])"
      ]
     },
     "execution_count": 222,
     "metadata": {},
     "output_type": "execute_result"
    }
   ],
   "source": [
    "# pd.DataFrame(\n",
    "o_0 = np.matmul(X_test_scaled[X_test.index.get_loc(idx)],castle.pred_W0(X_DAG, y_DAG)[0])+ castle.pred_W0(X_DAG, y_DAG)[1]\n",
    "o_0"
   ]
  },
  {
   "cell_type": "code",
   "execution_count": 223,
   "metadata": {},
   "outputs": [
    {
     "data": {
      "text/plain": [
       "array([0.        , 0.48933517, 0.57658559, 0.        , 0.        , 0.26091376, 0.28716767, 0.09017814, 0.16678087, 0.24393487])"
      ]
     },
     "execution_count": 223,
     "metadata": {},
     "output_type": "execute_result"
    }
   ],
   "source": [
    "np.maximum(o_0, 0, o_0)"
   ]
  },
  {
   "cell_type": "code",
   "execution_count": 225,
   "metadata": {},
   "outputs": [
    {
     "data": {
      "text/plain": [
       "array([-0.20496344,  0.96171019,  0.81930519,  0.67400853,  1.20627392, -1.41311879,  0.33510183, -0.25236285,  1.74878941,  0.33755456])"
      ]
     },
     "execution_count": 225,
     "metadata": {},
     "output_type": "execute_result"
    }
   ],
   "source": [
    "o_1 = np.matmul(np.maximum(o_0, 0, o_0),castle.pred_W1(X_DAG, y_DAG)[0])+castle.pred_W1(X_DAG, y_DAG)[1]\n",
    "o_1"
   ]
  },
  {
   "cell_type": "code",
   "execution_count": 226,
   "metadata": {},
   "outputs": [
    {
     "data": {
      "text/plain": [
       "1.6072144824288692"
      ]
     },
     "execution_count": 226,
     "metadata": {},
     "output_type": "execute_result"
    }
   ],
   "source": [
    "o_out = np.matmul(np.maximum(o_1, 0, o_1),np.array([a[0] for a in castle.pred_Wout(X_DAG, y_DAG)[0]])             \n",
    "               )+castle.pred_Wout(X_DAG, y_DAG)[1][0]\n",
    "o_out"
   ]
  },
  {
   "cell_type": "code",
   "execution_count": 227,
   "metadata": {},
   "outputs": [
    {
     "data": {
      "text/plain": [
       "0.8330242946957727"
      ]
     },
     "execution_count": 227,
     "metadata": {},
     "output_type": "execute_result"
    }
   ],
   "source": [
    "import math\n",
    "\n",
    "def sigmoid(x):\n",
    "  return 1 / (1 + math.exp(-x))\n",
    "\n",
    "sigmoid(np.sum(o_out))\n"
   ]
  },
  {
   "cell_type": "code",
   "execution_count": 207,
   "metadata": {},
   "outputs": [
    {
     "data": {
      "text/plain": [
       "array([0.83302426], dtype=float32)"
      ]
     },
     "execution_count": 207,
     "metadata": {},
     "output_type": "execute_result"
    }
   ],
   "source": [
    "castle.pred(X_test_scaled)[X_test.index.get_loc(idx)]"
   ]
  },
  {
   "cell_type": "code",
   "execution_count": null,
   "metadata": {},
   "outputs": [],
   "source": []
  }
 ],
 "metadata": {
  "kernelspec": {
   "display_name": "castlenv",
   "language": "python",
   "name": "castlenv"
  },
  "language_info": {
   "codemirror_mode": {
    "name": "ipython",
    "version": 3
   },
   "file_extension": ".py",
   "mimetype": "text/x-python",
   "name": "python",
   "nbconvert_exporter": "python",
   "pygments_lexer": "ipython3",
   "version": "3.6.9-final"
  }
 },
 "nbformat": 4,
 "nbformat_minor": 4
}