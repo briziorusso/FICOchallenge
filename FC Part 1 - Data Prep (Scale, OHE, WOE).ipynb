{
 "cells": [
  {
   "cell_type": "markdown",
   "metadata": {},
   "source": [
    "# FICO challenge dataset\n",
    "\n",
    "Dataset from FICO challenge downloadable here:\n",
    "\n",
    "\n",
    "2018 competition was won by Rudin et al and here's their model results\n",
    "http://dukedatasciencefico.cs.duke.edu/models/\n",
    "\n",
    "## 1: Data Prep and feature engineering\n",
    "- Normal Scaling of numeric variables (prep_option = 1)\n",
    "- Binning (following Rudin) and one hot encoding (prep_option = 2)\n",
    "- Binning and applying WOE, calculating WOE on Rudin's bins (prep_option = 3)\n",
    "- Binning and applying WOE, following Rudin (prep_option = 4)\n",
    "\n"
   ]
  },
  {
   "cell_type": "code",
   "execution_count": 1,
   "metadata": {},
   "outputs": [],
   "source": [
    "prep_option = 2\n",
    "save_d = True"
   ]
  },
  {
   "cell_type": "code",
   "execution_count": 2,
   "metadata": {
    "scrolled": true
   },
   "outputs": [],
   "source": [
    "import pandas as pd\n",
    "import numpy as np\n",
    "import os\n",
    "from tqdm import tqdm"
   ]
  },
  {
   "cell_type": "code",
   "execution_count": 3,
   "metadata": {},
   "outputs": [
    {
     "name": "stdout",
     "output_type": "stream",
     "text": [
      "C:\\Users\\brizio\\Documents\\PythonNB\\FICOchallenge\n"
     ]
    }
   ],
   "source": [
    "cwd = os.getcwd()\n",
    "print(cwd)\n",
    "os.chdir(cwd)"
   ]
  },
  {
   "cell_type": "code",
   "execution_count": 4,
   "metadata": {},
   "outputs": [],
   "source": [
    "RESULT_PATH = './results'\n",
    "\n",
    "if not os.path.exists(RESULT_PATH):\n",
    "        os.mkdir(RESULT_PATH)"
   ]
  },
  {
   "cell_type": "markdown",
   "metadata": {},
   "source": [
    "## Read in original dataset"
   ]
  },
  {
   "cell_type": "code",
   "execution_count": 5,
   "metadata": {},
   "outputs": [
    {
     "name": "stdout",
     "output_type": "stream",
     "text": [
      "(10459, 24)\n"
     ]
    },
    {
     "data": {
      "text/html": [
       "<div>\n",
       "<style scoped>\n",
       "    .dataframe tbody tr th:only-of-type {\n",
       "        vertical-align: middle;\n",
       "    }\n",
       "\n",
       "    .dataframe tbody tr th {\n",
       "        vertical-align: top;\n",
       "    }\n",
       "\n",
       "    .dataframe thead th {\n",
       "        text-align: right;\n",
       "    }\n",
       "</style>\n",
       "<table border=\"1\" class=\"dataframe\">\n",
       "  <thead>\n",
       "    <tr style=\"text-align: right;\">\n",
       "      <th></th>\n",
       "      <th>RiskPerformance</th>\n",
       "      <th>ExternalRiskEstimate</th>\n",
       "      <th>MSinceOldestTradeOpen</th>\n",
       "      <th>MSinceMostRecentTradeOpen</th>\n",
       "      <th>AverageMInFile</th>\n",
       "      <th>NumSatisfactoryTrades</th>\n",
       "      <th>NumTrades60Ever2DerogPubRec</th>\n",
       "      <th>NumTrades90Ever2DerogPubRec</th>\n",
       "      <th>PercentTradesNeverDelq</th>\n",
       "      <th>MSinceMostRecentDelq</th>\n",
       "      <th>...</th>\n",
       "      <th>PercentInstallTrades</th>\n",
       "      <th>MSinceMostRecentInqexcl7days</th>\n",
       "      <th>NumInqLast6M</th>\n",
       "      <th>NumInqLast6Mexcl7days</th>\n",
       "      <th>NetFractionRevolvingBurden</th>\n",
       "      <th>NetFractionInstallBurden</th>\n",
       "      <th>NumRevolvingTradesWBalance</th>\n",
       "      <th>NumInstallTradesWBalance</th>\n",
       "      <th>NumBank2NatlTradesWHighUtilization</th>\n",
       "      <th>PercentTradesWBalance</th>\n",
       "    </tr>\n",
       "  </thead>\n",
       "  <tbody>\n",
       "    <tr>\n",
       "      <th>0</th>\n",
       "      <td>Bad</td>\n",
       "      <td>55</td>\n",
       "      <td>144</td>\n",
       "      <td>4</td>\n",
       "      <td>84</td>\n",
       "      <td>20</td>\n",
       "      <td>3</td>\n",
       "      <td>0</td>\n",
       "      <td>83</td>\n",
       "      <td>2</td>\n",
       "      <td>...</td>\n",
       "      <td>43</td>\n",
       "      <td>0</td>\n",
       "      <td>0</td>\n",
       "      <td>0</td>\n",
       "      <td>33</td>\n",
       "      <td>-8</td>\n",
       "      <td>8</td>\n",
       "      <td>1</td>\n",
       "      <td>1</td>\n",
       "      <td>69</td>\n",
       "    </tr>\n",
       "    <tr>\n",
       "      <th>1</th>\n",
       "      <td>Bad</td>\n",
       "      <td>61</td>\n",
       "      <td>58</td>\n",
       "      <td>15</td>\n",
       "      <td>41</td>\n",
       "      <td>2</td>\n",
       "      <td>4</td>\n",
       "      <td>4</td>\n",
       "      <td>100</td>\n",
       "      <td>-7</td>\n",
       "      <td>...</td>\n",
       "      <td>67</td>\n",
       "      <td>0</td>\n",
       "      <td>0</td>\n",
       "      <td>0</td>\n",
       "      <td>0</td>\n",
       "      <td>-8</td>\n",
       "      <td>0</td>\n",
       "      <td>-8</td>\n",
       "      <td>-8</td>\n",
       "      <td>0</td>\n",
       "    </tr>\n",
       "    <tr>\n",
       "      <th>2</th>\n",
       "      <td>Bad</td>\n",
       "      <td>67</td>\n",
       "      <td>66</td>\n",
       "      <td>5</td>\n",
       "      <td>24</td>\n",
       "      <td>9</td>\n",
       "      <td>0</td>\n",
       "      <td>0</td>\n",
       "      <td>100</td>\n",
       "      <td>-7</td>\n",
       "      <td>...</td>\n",
       "      <td>44</td>\n",
       "      <td>0</td>\n",
       "      <td>4</td>\n",
       "      <td>4</td>\n",
       "      <td>53</td>\n",
       "      <td>66</td>\n",
       "      <td>4</td>\n",
       "      <td>2</td>\n",
       "      <td>1</td>\n",
       "      <td>86</td>\n",
       "    </tr>\n",
       "    <tr>\n",
       "      <th>3</th>\n",
       "      <td>Bad</td>\n",
       "      <td>66</td>\n",
       "      <td>169</td>\n",
       "      <td>1</td>\n",
       "      <td>73</td>\n",
       "      <td>28</td>\n",
       "      <td>1</td>\n",
       "      <td>1</td>\n",
       "      <td>93</td>\n",
       "      <td>76</td>\n",
       "      <td>...</td>\n",
       "      <td>57</td>\n",
       "      <td>0</td>\n",
       "      <td>5</td>\n",
       "      <td>4</td>\n",
       "      <td>72</td>\n",
       "      <td>83</td>\n",
       "      <td>6</td>\n",
       "      <td>4</td>\n",
       "      <td>3</td>\n",
       "      <td>91</td>\n",
       "    </tr>\n",
       "    <tr>\n",
       "      <th>4</th>\n",
       "      <td>Bad</td>\n",
       "      <td>81</td>\n",
       "      <td>333</td>\n",
       "      <td>27</td>\n",
       "      <td>132</td>\n",
       "      <td>12</td>\n",
       "      <td>0</td>\n",
       "      <td>0</td>\n",
       "      <td>100</td>\n",
       "      <td>-7</td>\n",
       "      <td>...</td>\n",
       "      <td>25</td>\n",
       "      <td>0</td>\n",
       "      <td>1</td>\n",
       "      <td>1</td>\n",
       "      <td>51</td>\n",
       "      <td>89</td>\n",
       "      <td>3</td>\n",
       "      <td>1</td>\n",
       "      <td>0</td>\n",
       "      <td>80</td>\n",
       "    </tr>\n",
       "  </tbody>\n",
       "</table>\n",
       "<p>5 rows × 24 columns</p>\n",
       "</div>"
      ],
      "text/plain": [
       "  RiskPerformance  ExternalRiskEstimate  MSinceOldestTradeOpen  \\\n",
       "0             Bad                    55                    144   \n",
       "1             Bad                    61                     58   \n",
       "2             Bad                    67                     66   \n",
       "3             Bad                    66                    169   \n",
       "4             Bad                    81                    333   \n",
       "\n",
       "   MSinceMostRecentTradeOpen  AverageMInFile  NumSatisfactoryTrades  \\\n",
       "0                          4              84                     20   \n",
       "1                         15              41                      2   \n",
       "2                          5              24                      9   \n",
       "3                          1              73                     28   \n",
       "4                         27             132                     12   \n",
       "\n",
       "   NumTrades60Ever2DerogPubRec  NumTrades90Ever2DerogPubRec  \\\n",
       "0                            3                            0   \n",
       "1                            4                            4   \n",
       "2                            0                            0   \n",
       "3                            1                            1   \n",
       "4                            0                            0   \n",
       "\n",
       "   PercentTradesNeverDelq  MSinceMostRecentDelq  ...  PercentInstallTrades  \\\n",
       "0                      83                     2  ...                    43   \n",
       "1                     100                    -7  ...                    67   \n",
       "2                     100                    -7  ...                    44   \n",
       "3                      93                    76  ...                    57   \n",
       "4                     100                    -7  ...                    25   \n",
       "\n",
       "   MSinceMostRecentInqexcl7days  NumInqLast6M  NumInqLast6Mexcl7days  \\\n",
       "0                             0             0                      0   \n",
       "1                             0             0                      0   \n",
       "2                             0             4                      4   \n",
       "3                             0             5                      4   \n",
       "4                             0             1                      1   \n",
       "\n",
       "   NetFractionRevolvingBurden  NetFractionInstallBurden  \\\n",
       "0                          33                        -8   \n",
       "1                           0                        -8   \n",
       "2                          53                        66   \n",
       "3                          72                        83   \n",
       "4                          51                        89   \n",
       "\n",
       "   NumRevolvingTradesWBalance  NumInstallTradesWBalance  \\\n",
       "0                           8                         1   \n",
       "1                           0                        -8   \n",
       "2                           4                         2   \n",
       "3                           6                         4   \n",
       "4                           3                         1   \n",
       "\n",
       "   NumBank2NatlTradesWHighUtilization  PercentTradesWBalance  \n",
       "0                                   1                     69  \n",
       "1                                  -8                      0  \n",
       "2                                   1                     86  \n",
       "3                                   3                     91  \n",
       "4                                   0                     80  \n",
       "\n",
       "[5 rows x 24 columns]"
      ]
     },
     "execution_count": 5,
     "metadata": {},
     "output_type": "execute_result"
    }
   ],
   "source": [
    "data = pd.read_csv(\"Data/heloc_dataset_v1.csv\")\n",
    "print(data.shape)\n",
    "data.head()"
   ]
  },
  {
   "cell_type": "code",
   "execution_count": 6,
   "metadata": {
    "scrolled": true
   },
   "outputs": [],
   "source": [
    "# import pandas_profiling\n",
    "# profile = pandas_profiling.ProfileReport(data, minimal=False)\n",
    "# profile"
   ]
  },
  {
   "cell_type": "code",
   "execution_count": 7,
   "metadata": {},
   "outputs": [
    {
     "data": {
      "text/plain": [
       "Bad     323\n",
       "Good    264\n",
       "Name: RiskPerformance, dtype: int64"
      ]
     },
     "execution_count": 7,
     "metadata": {},
     "output_type": "execute_result"
    }
   ],
   "source": [
    "dups = data.duplicated(subset=None, keep='first')\n",
    "data[dups]['RiskPerformance'].value_counts()"
   ]
  },
  {
   "cell_type": "markdown",
   "metadata": {},
   "source": [
    "Of the 588 duplicates (all -9 values, i.e. not found at bureaux) there's a 55% bad rate, these should be treated differently given that there's no info on them but left for later."
   ]
  },
  {
   "cell_type": "markdown",
   "metadata": {},
   "source": [
    "### Split X & y"
   ]
  },
  {
   "cell_type": "code",
   "execution_count": 8,
   "metadata": {},
   "outputs": [
    {
     "data": {
      "text/plain": [
       "Bad     5459\n",
       "Good    5000\n",
       "Name: RiskPerformance, dtype: int64"
      ]
     },
     "execution_count": 8,
     "metadata": {},
     "output_type": "execute_result"
    }
   ],
   "source": [
    "CLASS = 'RiskPerformance'\n",
    "\n",
    "# Split X and y\n",
    "X = data.drop(columns=[CLASS])\n",
    "y = data[CLASS]\n",
    "class_names = sorted(y.unique(),  reverse=True)\n",
    "\n",
    "y.value_counts()"
   ]
  },
  {
   "cell_type": "markdown",
   "metadata": {},
   "source": [
    "Encode y"
   ]
  },
  {
   "cell_type": "code",
   "execution_count": 9,
   "metadata": {},
   "outputs": [
    {
     "data": {
      "text/plain": [
       "array([[   0, 5000],\n",
       "       [   1, 5459]], dtype=int64)"
      ]
     },
     "execution_count": 9,
     "metadata": {},
     "output_type": "execute_result"
    }
   ],
   "source": [
    "y_onehot = pd.get_dummies(y)[['Bad']]\n",
    "np.array(np.unique(y_onehot, return_counts=True)).T"
   ]
  },
  {
   "cell_type": "markdown",
   "metadata": {},
   "source": [
    "### Save y"
   ]
  },
  {
   "cell_type": "code",
   "execution_count": 10,
   "metadata": {
    "scrolled": true
   },
   "outputs": [],
   "source": [
    "if prep_option == 1 and save_d == True:\n",
    "    # Save y data (to save column names etc.)\n",
    "    y.to_csv(\"./Data/y_data.csv\", index=False)\n",
    "    print('Y data saved')"
   ]
  },
  {
   "cell_type": "markdown",
   "metadata": {},
   "source": [
    "## Option 1: Scale X"
   ]
  },
  {
   "cell_type": "code",
   "execution_count": 11,
   "metadata": {},
   "outputs": [],
   "source": [
    "if prep_option == 1:\n",
    "    ## Scale the Training Data Matrix\n",
    "\n",
    "#     from sklearn.preprocessing import MinMaxScaler\n",
    "#     scaler = MinMaxScaler(feature_range=(-1, 1), copy=True)\n",
    "\n",
    "#     from sklearn.preprocessing import RobustScaler\n",
    "#     scaler = RobustScaler()\n",
    "\n",
    "    # Standard Scaler is best performing\n",
    "    from sklearn.preprocessing import StandardScaler\n",
    "    \n",
    "    scaler = StandardScaler()\n",
    "    scaler.fit(X.values)\n",
    "    X1 = pd.DataFrame(scaler.transform(X.values))\n",
    "    X1.columns = X.columns\n",
    "    X1"
   ]
  },
  {
   "cell_type": "markdown",
   "metadata": {},
   "source": [
    "### Save the transformed data"
   ]
  },
  {
   "cell_type": "code",
   "execution_count": 12,
   "metadata": {
    "scrolled": true
   },
   "outputs": [],
   "source": [
    "if prep_option == 1 and save_d == True:\n",
    "    # Save modified data (to save column names etc.)\n",
    "    X1.to_csv(\"./Data/Scaled_data.csv\", index=False)\n",
    "    print('Data saved')"
   ]
  },
  {
   "cell_type": "markdown",
   "metadata": {},
   "source": [
    "## Option 2: Bin X following the Chen, lin, Rudin segmentations"
   ]
  },
  {
   "cell_type": "markdown",
   "metadata": {},
   "source": [
    "Binning is necessary for both options 2,3 and 4"
   ]
  },
  {
   "cell_type": "code",
   "execution_count": 13,
   "metadata": {},
   "outputs": [
    {
     "name": "stdout",
     "output_type": "stream",
     "text": [
      "                                         0\n",
      "0                 ExternalRiskEstimate_bin\n",
      "1                MSinceOldestTradeOpen_bin\n",
      "2            MSinceMostRecentTradeOpen_bin\n",
      "3                       AverageMInFile_bin\n",
      "4                NumSatisfactoryTrades_bin\n",
      "5          NumTrades60Ever2DerogPubRec_bin\n",
      "6          NumTrades90Ever2DerogPubRec_bin\n",
      "7                       NumTotalTrades_bin\n",
      "8               NumTradesOpeninLast12M_bin\n",
      "9               PercentTradesNeverDelq_bin\n",
      "10                MSinceMostRecentDelq_bin\n",
      "11            MaxDelq2PublicRecLast12M_bin\n",
      "12                         MaxDelqEver_bin\n",
      "13                PercentInstallTrades_bin\n",
      "14            NetFractionInstallBurden_bin\n",
      "15            NumInstallTradesWBalance_bin\n",
      "16        MSinceMostRecentInqexcl7days_bin\n",
      "17                        NumInqLast6M_bin\n",
      "18               NumInqLast6Mexcl7days_bin\n",
      "19          NetFractionRevolvingBurden_bin\n",
      "20          NumRevolvingTradesWBalance_bin\n",
      "21  NumBank2NatlTradesWHighUtilization_bin\n",
      "22               PercentTradesWBalance_bin\n"
     ]
    }
   ],
   "source": [
    "if prep_option in [2,3,4]:\n",
    "    input_names = list(X.columns)\n",
    "    input_names_bin = [x + '_bin' for x in input_names]\n",
    "\n",
    "    X1 = pd.DataFrame()\n",
    "\n",
    "    # ExternalRiskEstimate\n",
    "    X1[input_names_bin[0]]=pd.cut(x=X[input_names[0]], \n",
    "                                          bins=[-float(\"inf\"),-9,-8,-7,63,70,75,80,float(\"inf\")]\n",
    "                                         )\n",
    "    X1[input_names_bin[0]].value_counts(sort=True)\n",
    "\n",
    "    # TradeOpenTime\n",
    "    X1[input_names_bin[1]]=pd.cut(x=X[input_names[1]], \n",
    "                                          bins=[-float(\"inf\"),-9,-8,-7,91,134,263,float(\"inf\")]\n",
    "                                         )\n",
    "    X1[input_names_bin[1]].value_counts(sort=True)\n",
    "\n",
    "\n",
    "    X1[input_names_bin[2]]=pd.cut(x=X[input_names[2]], \n",
    "                                          bins=[-float(\"inf\"),-9,-8,-7,19,float(\"inf\")]\n",
    "                                         )\n",
    "    X1[input_names_bin[2]].value_counts(sort=True)\n",
    "\n",
    "    X1[input_names_bin[3]]=pd.cut(x=X[input_names[3]], \n",
    "                                          bins=[-float(\"inf\"),-9,-8,-7,48,69,96,float(\"inf\")]\n",
    "                                         )\n",
    "    X1[input_names_bin[3]].value_counts(sort=True)\n",
    "\n",
    "    # NumSatisfactoryTrades\n",
    "    X1[input_names_bin[4]]=pd.cut(x=X[input_names[4]], \n",
    "                                          bins=[-float(\"inf\"),-9,-8,-7,2,5,12,21,float(\"inf\")]\n",
    "                                         )\n",
    "    X1[input_names_bin[4]].value_counts(sort=True)\n",
    "\n",
    "    # TradeFrequency\n",
    "    X1[input_names_bin[5]]=pd.cut(x=X[input_names[5]], \n",
    "                                          bins=[-float(\"inf\"),-9,-8,-7,1,2,11,12,float(\"inf\")]\n",
    "                                         )\n",
    "    X1[input_names_bin[5]].value_counts(sort=True)\n",
    "\n",
    "    X1[input_names_bin[6]]=pd.cut(x=X[input_names[6]], \n",
    "                                          bins=[-float(\"inf\"),-9,-8,-7,1,7,9,float(\"inf\")]\n",
    "                                         )\n",
    "    X1[input_names_bin[6]].value_counts(sort=True)\n",
    "\n",
    "    X1[input_names_bin[11]]=pd.cut(x=X[input_names[11]], \n",
    "                                          bins=[-float(\"inf\"),-9,-8,-7,0,9,16,27,float(\"inf\")]\n",
    "                                         )\n",
    "    X1[input_names_bin[11]].value_counts(sort=True)\n",
    "\n",
    "\n",
    "    X1[input_names_bin[12]]=pd.cut(x=X[input_names[12]], \n",
    "                                          bins=[-float(\"inf\"),-9,-8,-7,2,3,6,11,float(\"inf\")]\n",
    "                                         )\n",
    "    X1[input_names_bin[12]].value_counts(sort=True)\n",
    "\n",
    "    # Delinquency\n",
    "    X1[input_names_bin[7]]=pd.cut(x=X[input_names[7]], \n",
    "                                          bins=[-float(\"inf\"),-9,-8,-7,59,84,89,96,float(\"inf\")]\n",
    "                                         )\n",
    "    X1[input_names_bin[7]].value_counts(sort=True)\n",
    "\n",
    "    X1[input_names_bin[8]]=pd.cut(x=X[input_names[8]], \n",
    "                                          bins=[-float(\"inf\"),-9,-8,-7,17,32,47,float(\"inf\")]\n",
    "                                         )\n",
    "    X1[input_names_bin[8]].value_counts(sort=True)\n",
    "\n",
    "    X1[input_names_bin[9]]=pd.cut(x=X[input_names[9]], \n",
    "                                          bins=[-float(\"inf\"),-9,-8,-7,5,6,float(\"inf\")]\n",
    "                                         )\n",
    "    X1[input_names_bin[9]].value_counts(sort=True)\n",
    "\n",
    "    X1[input_names_bin[10]]=pd.cut(x=X[input_names[10]], \n",
    "                                          bins=[-float(\"inf\"),-9,-8,-7,2,float(\"inf\")]\n",
    "                                         )\n",
    "    X1[input_names_bin[10]].value_counts(sort=True)\n",
    "\n",
    "    # Installment\n",
    "    X1[input_names_bin[13]]=pd.cut(x=X[input_names[13]], \n",
    "                                          bins=[-float(\"inf\"),-9,-8,-7,35,46,57,84,float(\"inf\")]\n",
    "                                         )\n",
    "    X1[input_names_bin[13]].value_counts(sort=True)\n",
    "\n",
    "    X1[input_names_bin[18]]=pd.cut(x=X[input_names[18]], \n",
    "                                          bins=[-float(\"inf\"),-9,-8,-7,35,70,float(\"inf\")]\n",
    "                                         )\n",
    "    X1[input_names_bin[18]].value_counts(sort=True)\n",
    "\n",
    "    X1[input_names_bin[20]]=pd.cut(x=X[input_names[20]], \n",
    "                                          bins=[-float(\"inf\"),-9,-8,-7,2,3,11,13,float(\"inf\")]\n",
    "                                         )\n",
    "    X1[input_names_bin[20]].value_counts(sort=True)\n",
    "\n",
    "\n",
    "    #Inquiry\n",
    "    X1[input_names_bin[14]]=pd.cut(x=X[input_names[14]], \n",
    "                                          bins=[-float(\"inf\"),-9,-8,-7,0,2,8,22,float(\"inf\")]\n",
    "                                         )\n",
    "    X1[input_names_bin[14]].value_counts(sort=True)\n",
    "\n",
    "    X1[input_names_bin[15]]=pd.cut(x=X[input_names[15]], \n",
    "                                          bins=[-float(\"inf\"),-9,-8,-7,1,4,8,float(\"inf\")]\n",
    "                                         )\n",
    "    X1[input_names_bin[15]].value_counts(sort=True)\n",
    "\n",
    "    X1[input_names_bin[16]]=pd.cut(x=X[input_names[16]], \n",
    "                                          bins=[-float(\"inf\"),-9,-8,-7,2,float(\"inf\")]\n",
    "                                         )\n",
    "    X1[input_names_bin[16]].value_counts(sort=True)\n",
    "\n",
    "    # Revolving balance\n",
    "    X1[input_names_bin[17]]=pd.cut(x=X[input_names[17]], \n",
    "                                          bins=[-float(\"inf\"),-9,-8,-7,14,37,72,float(\"inf\")]\n",
    "                                         )\n",
    "    X1[input_names_bin[17]].value_counts(sort=True)\n",
    "\n",
    "    X1[input_names_bin[19]]=pd.cut(x=X[input_names[19]], \n",
    "                                          bins=[-float(\"inf\"),-9,-8,-7,3,4,7,11,float(\"inf\")]\n",
    "                                         )\n",
    "    X1[input_names_bin[19]].value_counts(sort=True)\n",
    "\n",
    "    # Utilisation\n",
    "    X1[input_names_bin[21]]=pd.cut(x=X[input_names[21]], \n",
    "                                          bins=[-float(\"inf\"),-9,-8,-7,1,2,3,5,float(\"inf\")]\n",
    "                                         )\n",
    "    X1[input_names_bin[21]].value_counts(sort=True)\n",
    "\n",
    "    # Trade with balance\n",
    "    X1[input_names_bin[22]]=pd.cut(x=X[input_names[22]], \n",
    "                                          bins=[-float(\"inf\"),-9,-8,-7,47,66,73,86,float(\"inf\")]\n",
    "                                         )\n",
    "    X1[input_names_bin[22]].value_counts(sort=True)\n",
    "    print(pd.DataFrame(X1.columns.values))"
   ]
  },
  {
   "cell_type": "code",
   "execution_count": 14,
   "metadata": {},
   "outputs": [
    {
     "name": "stdout",
     "output_type": "stream",
     "text": [
      "(-inf, -9.0]     598\n",
      "(-9.0, -8.0]       0\n",
      "(-8.0, -7.0]       0\n",
      "(-7.0, 63.0]    2178\n",
      "(63.0, 70.0]    2371\n",
      "(70.0, 75.0]    1618\n",
      "(75.0, 80.0]    1383\n",
      "(80.0, inf]     2311\n",
      "Name: ExternalRiskEstimate_bin, dtype: int64\n"
     ]
    },
    {
     "data": {
      "text/html": [
       "<div>\n",
       "<style scoped>\n",
       "    .dataframe tbody tr th:only-of-type {\n",
       "        vertical-align: middle;\n",
       "    }\n",
       "\n",
       "    .dataframe tbody tr th {\n",
       "        vertical-align: top;\n",
       "    }\n",
       "\n",
       "    .dataframe thead th {\n",
       "        text-align: right;\n",
       "    }\n",
       "</style>\n",
       "<table border=\"1\" class=\"dataframe\">\n",
       "  <thead>\n",
       "    <tr style=\"text-align: right;\">\n",
       "      <th></th>\n",
       "      <th>ExternalRiskEstimate_bin</th>\n",
       "      <th>MSinceOldestTradeOpen_bin</th>\n",
       "      <th>MSinceMostRecentTradeOpen_bin</th>\n",
       "      <th>AverageMInFile_bin</th>\n",
       "      <th>NumSatisfactoryTrades_bin</th>\n",
       "      <th>NumTrades60Ever2DerogPubRec_bin</th>\n",
       "      <th>NumTrades90Ever2DerogPubRec_bin</th>\n",
       "      <th>NumTotalTrades_bin</th>\n",
       "      <th>NumTradesOpeninLast12M_bin</th>\n",
       "      <th>PercentTradesNeverDelq_bin</th>\n",
       "      <th>...</th>\n",
       "      <th>PercentInstallTrades_bin</th>\n",
       "      <th>NetFractionInstallBurden_bin</th>\n",
       "      <th>NumInstallTradesWBalance_bin</th>\n",
       "      <th>MSinceMostRecentInqexcl7days_bin</th>\n",
       "      <th>NumInqLast6M_bin</th>\n",
       "      <th>NumInqLast6Mexcl7days_bin</th>\n",
       "      <th>NetFractionRevolvingBurden_bin</th>\n",
       "      <th>NumRevolvingTradesWBalance_bin</th>\n",
       "      <th>NumBank2NatlTradesWHighUtilization_bin</th>\n",
       "      <th>PercentTradesWBalance_bin</th>\n",
       "    </tr>\n",
       "  </thead>\n",
       "  <tbody>\n",
       "    <tr>\n",
       "      <th>0</th>\n",
       "      <td>(-7.0, 63.0]</td>\n",
       "      <td>(134.0, 263.0]</td>\n",
       "      <td>(-7.0, 19.0]</td>\n",
       "      <td>(69.0, 96.0]</td>\n",
       "      <td>(12.0, 21.0]</td>\n",
       "      <td>(2.0, 11.0]</td>\n",
       "      <td>(-7.0, 1.0]</td>\n",
       "      <td>(16.0, 27.0]</td>\n",
       "      <td>(-7.0, 2.0]</td>\n",
       "      <td>(59.0, 84.0]</td>\n",
       "      <td>...</td>\n",
       "      <td>(35.0, 46.0]</td>\n",
       "      <td>(-9.0, -8.0]</td>\n",
       "      <td>(-7.0, 2.0]</td>\n",
       "      <td>(-7.0, 0.0]</td>\n",
       "      <td>(-7.0, 1.0]</td>\n",
       "      <td>(-7.0, 2.0]</td>\n",
       "      <td>(14.0, 37.0]</td>\n",
       "      <td>(7.0, 11.0]</td>\n",
       "      <td>(-7.0, 1.0]</td>\n",
       "      <td>(66.0, 73.0]</td>\n",
       "    </tr>\n",
       "    <tr>\n",
       "      <th>1</th>\n",
       "      <td>(-7.0, 63.0]</td>\n",
       "      <td>(-7.0, 91.0]</td>\n",
       "      <td>(-7.0, 19.0]</td>\n",
       "      <td>(-7.0, 48.0]</td>\n",
       "      <td>(-7.0, 2.0]</td>\n",
       "      <td>(2.0, 11.0]</td>\n",
       "      <td>(1.0, 7.0]</td>\n",
       "      <td>(0.0, 9.0]</td>\n",
       "      <td>(-7.0, 2.0]</td>\n",
       "      <td>(96.0, inf]</td>\n",
       "      <td>...</td>\n",
       "      <td>(57.0, 84.0]</td>\n",
       "      <td>(-9.0, -8.0]</td>\n",
       "      <td>(-9.0, -8.0]</td>\n",
       "      <td>(-7.0, 0.0]</td>\n",
       "      <td>(-7.0, 1.0]</td>\n",
       "      <td>(-7.0, 2.0]</td>\n",
       "      <td>(-7.0, 14.0]</td>\n",
       "      <td>(-7.0, 3.0]</td>\n",
       "      <td>(-9.0, -8.0]</td>\n",
       "      <td>(-7.0, 47.0]</td>\n",
       "    </tr>\n",
       "    <tr>\n",
       "      <th>2</th>\n",
       "      <td>(63.0, 70.0]</td>\n",
       "      <td>(-7.0, 91.0]</td>\n",
       "      <td>(-7.0, 19.0]</td>\n",
       "      <td>(-7.0, 48.0]</td>\n",
       "      <td>(5.0, 12.0]</td>\n",
       "      <td>(-7.0, 1.0]</td>\n",
       "      <td>(-7.0, 1.0]</td>\n",
       "      <td>(0.0, 9.0]</td>\n",
       "      <td>(3.0, 6.0]</td>\n",
       "      <td>(96.0, inf]</td>\n",
       "      <td>...</td>\n",
       "      <td>(35.0, 46.0]</td>\n",
       "      <td>(35.0, 70.0]</td>\n",
       "      <td>(-7.0, 2.0]</td>\n",
       "      <td>(-7.0, 0.0]</td>\n",
       "      <td>(1.0, 4.0]</td>\n",
       "      <td>(2.0, inf]</td>\n",
       "      <td>(37.0, 72.0]</td>\n",
       "      <td>(3.0, 4.0]</td>\n",
       "      <td>(-7.0, 1.0]</td>\n",
       "      <td>(73.0, 86.0]</td>\n",
       "    </tr>\n",
       "    <tr>\n",
       "      <th>3</th>\n",
       "      <td>(63.0, 70.0]</td>\n",
       "      <td>(134.0, 263.0]</td>\n",
       "      <td>(-7.0, 19.0]</td>\n",
       "      <td>(69.0, 96.0]</td>\n",
       "      <td>(21.0, inf]</td>\n",
       "      <td>(-7.0, 1.0]</td>\n",
       "      <td>(-7.0, 1.0]</td>\n",
       "      <td>(27.0, inf]</td>\n",
       "      <td>(2.0, 3.0]</td>\n",
       "      <td>(89.0, 96.0]</td>\n",
       "      <td>...</td>\n",
       "      <td>(46.0, 57.0]</td>\n",
       "      <td>(70.0, inf]</td>\n",
       "      <td>(3.0, 11.0]</td>\n",
       "      <td>(-7.0, 0.0]</td>\n",
       "      <td>(4.0, 8.0]</td>\n",
       "      <td>(2.0, inf]</td>\n",
       "      <td>(37.0, 72.0]</td>\n",
       "      <td>(4.0, 7.0]</td>\n",
       "      <td>(2.0, 3.0]</td>\n",
       "      <td>(86.0, inf]</td>\n",
       "    </tr>\n",
       "    <tr>\n",
       "      <th>4</th>\n",
       "      <td>(80.0, inf]</td>\n",
       "      <td>(263.0, inf]</td>\n",
       "      <td>(19.0, inf]</td>\n",
       "      <td>(96.0, inf]</td>\n",
       "      <td>(5.0, 12.0]</td>\n",
       "      <td>(-7.0, 1.0]</td>\n",
       "      <td>(-7.0, 1.0]</td>\n",
       "      <td>(9.0, 16.0]</td>\n",
       "      <td>(-7.0, 2.0]</td>\n",
       "      <td>(96.0, inf]</td>\n",
       "      <td>...</td>\n",
       "      <td>(-7.0, 35.0]</td>\n",
       "      <td>(70.0, inf]</td>\n",
       "      <td>(-7.0, 2.0]</td>\n",
       "      <td>(-7.0, 0.0]</td>\n",
       "      <td>(-7.0, 1.0]</td>\n",
       "      <td>(-7.0, 2.0]</td>\n",
       "      <td>(37.0, 72.0]</td>\n",
       "      <td>(-7.0, 3.0]</td>\n",
       "      <td>(-7.0, 1.0]</td>\n",
       "      <td>(73.0, 86.0]</td>\n",
       "    </tr>\n",
       "  </tbody>\n",
       "</table>\n",
       "<p>5 rows × 23 columns</p>\n",
       "</div>"
      ],
      "text/plain": [
       "  ExternalRiskEstimate_bin MSinceOldestTradeOpen_bin  \\\n",
       "0             (-7.0, 63.0]            (134.0, 263.0]   \n",
       "1             (-7.0, 63.0]              (-7.0, 91.0]   \n",
       "2             (63.0, 70.0]              (-7.0, 91.0]   \n",
       "3             (63.0, 70.0]            (134.0, 263.0]   \n",
       "4              (80.0, inf]              (263.0, inf]   \n",
       "\n",
       "  MSinceMostRecentTradeOpen_bin AverageMInFile_bin NumSatisfactoryTrades_bin  \\\n",
       "0                  (-7.0, 19.0]       (69.0, 96.0]              (12.0, 21.0]   \n",
       "1                  (-7.0, 19.0]       (-7.0, 48.0]               (-7.0, 2.0]   \n",
       "2                  (-7.0, 19.0]       (-7.0, 48.0]               (5.0, 12.0]   \n",
       "3                  (-7.0, 19.0]       (69.0, 96.0]               (21.0, inf]   \n",
       "4                   (19.0, inf]        (96.0, inf]               (5.0, 12.0]   \n",
       "\n",
       "  NumTrades60Ever2DerogPubRec_bin NumTrades90Ever2DerogPubRec_bin  \\\n",
       "0                     (2.0, 11.0]                     (-7.0, 1.0]   \n",
       "1                     (2.0, 11.0]                      (1.0, 7.0]   \n",
       "2                     (-7.0, 1.0]                     (-7.0, 1.0]   \n",
       "3                     (-7.0, 1.0]                     (-7.0, 1.0]   \n",
       "4                     (-7.0, 1.0]                     (-7.0, 1.0]   \n",
       "\n",
       "  NumTotalTrades_bin NumTradesOpeninLast12M_bin PercentTradesNeverDelq_bin  \\\n",
       "0       (16.0, 27.0]                (-7.0, 2.0]               (59.0, 84.0]   \n",
       "1         (0.0, 9.0]                (-7.0, 2.0]                (96.0, inf]   \n",
       "2         (0.0, 9.0]                 (3.0, 6.0]                (96.0, inf]   \n",
       "3        (27.0, inf]                 (2.0, 3.0]               (89.0, 96.0]   \n",
       "4        (9.0, 16.0]                (-7.0, 2.0]                (96.0, inf]   \n",
       "\n",
       "   ... PercentInstallTrades_bin NetFractionInstallBurden_bin  \\\n",
       "0  ...             (35.0, 46.0]                 (-9.0, -8.0]   \n",
       "1  ...             (57.0, 84.0]                 (-9.0, -8.0]   \n",
       "2  ...             (35.0, 46.0]                 (35.0, 70.0]   \n",
       "3  ...             (46.0, 57.0]                  (70.0, inf]   \n",
       "4  ...             (-7.0, 35.0]                  (70.0, inf]   \n",
       "\n",
       "  NumInstallTradesWBalance_bin MSinceMostRecentInqexcl7days_bin  \\\n",
       "0                  (-7.0, 2.0]                      (-7.0, 0.0]   \n",
       "1                 (-9.0, -8.0]                      (-7.0, 0.0]   \n",
       "2                  (-7.0, 2.0]                      (-7.0, 0.0]   \n",
       "3                  (3.0, 11.0]                      (-7.0, 0.0]   \n",
       "4                  (-7.0, 2.0]                      (-7.0, 0.0]   \n",
       "\n",
       "  NumInqLast6M_bin NumInqLast6Mexcl7days_bin NetFractionRevolvingBurden_bin  \\\n",
       "0      (-7.0, 1.0]               (-7.0, 2.0]                   (14.0, 37.0]   \n",
       "1      (-7.0, 1.0]               (-7.0, 2.0]                   (-7.0, 14.0]   \n",
       "2       (1.0, 4.0]                (2.0, inf]                   (37.0, 72.0]   \n",
       "3       (4.0, 8.0]                (2.0, inf]                   (37.0, 72.0]   \n",
       "4      (-7.0, 1.0]               (-7.0, 2.0]                   (37.0, 72.0]   \n",
       "\n",
       "  NumRevolvingTradesWBalance_bin NumBank2NatlTradesWHighUtilization_bin  \\\n",
       "0                    (7.0, 11.0]                            (-7.0, 1.0]   \n",
       "1                    (-7.0, 3.0]                           (-9.0, -8.0]   \n",
       "2                     (3.0, 4.0]                            (-7.0, 1.0]   \n",
       "3                     (4.0, 7.0]                             (2.0, 3.0]   \n",
       "4                    (-7.0, 3.0]                            (-7.0, 1.0]   \n",
       "\n",
       "  PercentTradesWBalance_bin  \n",
       "0              (66.0, 73.0]  \n",
       "1              (-7.0, 47.0]  \n",
       "2              (73.0, 86.0]  \n",
       "3               (86.0, inf]  \n",
       "4              (73.0, 86.0]  \n",
       "\n",
       "[5 rows x 23 columns]"
      ]
     },
     "execution_count": 14,
     "metadata": {},
     "output_type": "execute_result"
    }
   ],
   "source": [
    "print(X1[X1.columns[0]].value_counts(sort=False))\n",
    "\n",
    "X1.head()"
   ]
  },
  {
   "cell_type": "markdown",
   "metadata": {},
   "source": [
    "#### Encode binned variables"
   ]
  },
  {
   "cell_type": "code",
   "execution_count": 25,
   "metadata": {},
   "outputs": [
    {
     "name": "stdout",
     "output_type": "stream",
     "text": [
      "(10459, 130)\n"
     ]
    }
   ],
   "source": [
    "# One-hot\n",
    "if prep_option == 2:\n",
    "    X_onehot = pd.get_dummies(X1)\n",
    "    \n",
    "    def drop_cardinality_1(df):\n",
    "            res = df\n",
    "            for col in df.columns:\n",
    "                    if len(df[col].unique()) == 1:\n",
    "                            res = res.drop(col,axis=1)\n",
    "            return res\n",
    "        \n",
    "    X_onehot = drop_cardinality_1(X_onehot)\n",
    "    \n",
    "    print(X_onehot.shape)"
   ]
  },
  {
   "cell_type": "markdown",
   "metadata": {},
   "source": [
    "#### Save the transformed data"
   ]
  },
  {
   "cell_type": "code",
   "execution_count": 26,
   "metadata": {},
   "outputs": [
    {
     "name": "stdout",
     "output_type": "stream",
     "text": [
      "Data saved\n"
     ]
    }
   ],
   "source": [
    "if prep_option == 2 and save_d == True:\n",
    "    os.chdir(cwd)\n",
    "    # Save modified data (to save column names etc.)\n",
    "    X_onehot.to_csv(\"./Data/Bin_Encoded_data_v2.csv\", index=False)\n",
    "    print('Data saved')\n",
    "#     y.to_csv(\"./Data/y_data.csv\", index=False)"
   ]
  },
  {
   "cell_type": "markdown",
   "metadata": {},
   "source": [
    "## Input WoE like in Rudin et al "
   ]
  },
  {
   "cell_type": "markdown",
   "metadata": {},
   "source": [
    "#### Option 3: calculate WOE from scratch on the given bins"
   ]
  },
  {
   "cell_type": "code",
   "execution_count": 17,
   "metadata": {},
   "outputs": [],
   "source": [
    "def WOE_calc(df, y_onehot):\n",
    "    \n",
    "    df2 = df.copy()\n",
    "    df2['Y'] = y_onehot\n",
    "    \n",
    "    WOE_df = pd.DataFrame()\n",
    "    for x in tqdm(df.columns.values):\n",
    "#         print(x)\n",
    "#         print(df2.groupby(x).count().Y.to_frame().reset_index())\n",
    "        d3 = df2.groupby(x).count().Y.to_frame().reset_index()\n",
    "        d3['EVENT'] = df2.groupby(x).sum().reset_index()['Y']\n",
    "        \n",
    "        d3.insert(loc=0, column='Feature', value=np.repeat(x,len(df2.groupby(x).count().Y))  )    \n",
    "        d3.columns = ['Feature', 'Bin', 'Count', 'Event']\n",
    "        \n",
    "        d3['Non_Event'] = d3['Count'] - d3['Event']\n",
    "        d3[\"Event_Rate\"] = d3['Event']/d3['Count']\n",
    "        d3[\"Non_Event_Rate\"] = d3['Non_Event']/d3['Count']\n",
    "\n",
    "        d3[\"DIST_EVENT\"] = d3['Event']/d3.groupby('Feature').sum()['Event'].to_numpy()\n",
    "        d3[\"DIST_NON_EVENT\"] = d3['Non_Event']/d3.groupby('Feature').sum()['Non_Event'].to_numpy()\n",
    "        \n",
    "        d3['Feat'] = d3['Feature'].astype(str) +\"_\"+d3['Bin'].astype(str) \n",
    "        \n",
    "        d3[\"WOE\"] = np.log(d3.DIST_EVENT/d3.DIST_NON_EVENT)\n",
    "        d3[\"IV\"] = (d3.DIST_EVENT-d3.DIST_NON_EVENT)*np.log(d3.DIST_EVENT/d3.DIST_NON_EVENT)\n",
    "\n",
    "#         print(d3)\n",
    "\n",
    "        WOE_df = WOE_df.append(d3)\n",
    "            \n",
    "    return WOE_df\n",
    "\n",
    "if prep_option == 3:\n",
    "    WOE_df = WOE_calc(X1, y_onehot)\n",
    "    WOE_df\n",
    "    "
   ]
  },
  {
   "cell_type": "code",
   "execution_count": 18,
   "metadata": {},
   "outputs": [],
   "source": [
    "## Save the bins and WOE calculated\n",
    "# WOE_df.to_csv(\"WOE_bins.csv\", index=False)"
   ]
  },
  {
   "cell_type": "markdown",
   "metadata": {},
   "source": [
    "#### Option 4: load Rudin's WOE from WOE_bins_Rud.csv"
   ]
  },
  {
   "cell_type": "code",
   "execution_count": 19,
   "metadata": {},
   "outputs": [],
   "source": [
    "if prep_option == 4:\n",
    "    csv = \"WOE_bins_Rud.csv\"\n",
    "    # csv = \"synth_nonlinear.csv\"\n",
    "    WOE_df = pd.read_csv(csv)\n",
    "    print(csv,\"loaded\")"
   ]
  },
  {
   "cell_type": "markdown",
   "metadata": {},
   "source": [
    "### Apply WOE to data"
   ]
  },
  {
   "cell_type": "code",
   "execution_count": 20,
   "metadata": {},
   "outputs": [],
   "source": [
    "def WOE_apply(df, woe_df, feat_var, bin_var, woe_var):\n",
    "    d5 = woe_df[[feat_var, bin_var,woe_var]]\n",
    "    d5 = d5.replace([np.inf], 1.).replace([-np.inf], -1.)\n",
    "    # var = 'NumTrades60Ever2DerogPubRec_bin'\n",
    "    transform_suffix = 'WOE'\n",
    "\n",
    "    for var in tqdm(X1.columns.values):\n",
    "\n",
    "    #     print(var)\n",
    "        small_df = d5[woe_df[feat_var] == var]\n",
    "        transform_dict = dict(zip(small_df[bin_var],small_df[woe_var]))\n",
    "        replace_cmd1 = ''\n",
    "    #     print(transform_dict)\n",
    "\n",
    "        for i in sorted(transform_dict.items()):\n",
    "    #         print(i)\n",
    "            replace_cmd1 = replace_cmd1 + str(i[1]) + str(' if str(x) == \"') + str(i[0]) + '\" else '\n",
    "        replace_cmd1 = replace_cmd1 + '0'\n",
    "    #     print(replace_cmd1)\n",
    "        if replace_cmd1 != '0':\n",
    "            try:\n",
    "    #             print(df2[var].astype(str).apply(lambda x: eval(replace_cmd1)))\n",
    "                df[var + '_' +transform_suffix] = df[var].astype(str).apply(lambda x: eval(replace_cmd1))\n",
    "            except:\n",
    "                'something wrong'\n",
    "    return df\n",
    "\n"
   ]
  },
  {
   "cell_type": "code",
   "execution_count": 21,
   "metadata": {},
   "outputs": [],
   "source": [
    "if prep_option == 3:\n",
    "    WOE_var = 'WOE'\n",
    "if prep_option == 4:\n",
    "    WOE_var = 'WOE_Rud'\n",
    "\n",
    "if prep_option in [3,4]:\n",
    "    df_woe = WOE_apply(X1, WOE_df, 'Feature', 'Bin', WOE_var)\n",
    "    df_woe = df_woe.drop([col for col in df_woe.columns if 'WOE' not in col],axis=1)\n",
    "    df_woe"
   ]
  },
  {
   "cell_type": "markdown",
   "metadata": {},
   "source": [
    "## Save the transformed data"
   ]
  },
  {
   "cell_type": "code",
   "execution_count": 22,
   "metadata": {
    "scrolled": true
   },
   "outputs": [],
   "source": [
    "os.chdir(cwd)\n",
    "if save_d == True and prep_option in [3,4]:\n",
    "    # Save modified data (to save column names etc.)\n",
    "        outcsv = \"./Data/{}_data.csv\".format(WOE_var, 'str')\n",
    "        df_woe.to_csv(outcsv, index=False)\n",
    "        print('Saved',outcsv)\n"
   ]
  }
 ],
 "metadata": {
  "kernelspec": {
   "display_name": "Python 3",
   "language": "python",
   "name": "python3"
  },
  "language_info": {
   "codemirror_mode": {
    "name": "ipython",
    "version": 3
   },
   "file_extension": ".py",
   "mimetype": "text/x-python",
   "name": "python",
   "nbconvert_exporter": "python",
   "pygments_lexer": "ipython3",
   "version": "3.7.4"
  }
 },
 "nbformat": 4,
 "nbformat_minor": 4
}
