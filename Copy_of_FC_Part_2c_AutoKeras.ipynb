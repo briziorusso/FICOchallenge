{
  "nbformat": 4,
  "nbformat_minor": 0,
  "metadata": {
    "kernelspec": {
      "display_name": "Python 3",
      "language": "python",
      "name": "python3"
    },
    "language_info": {
      "codemirror_mode": {
        "name": "ipython",
        "version": 3
      },
      "file_extension": ".py",
      "mimetype": "text/x-python",
      "name": "python",
      "nbconvert_exporter": "python",
      "pygments_lexer": "ipython3",
      "version": "3.7.4"
    },
    "colab": {
      "name": "Copy of FC Part 2c - AutoKeras.ipynb",
      "provenance": [],
      "collapsed_sections": [
        "nz0FMANINl7m"
      ],
      "toc_visible": true,
      "include_colab_link": true
    },
    "accelerator": "GPU"
  },
  "cells": [
    {
      "cell_type": "markdown",
      "metadata": {
        "id": "view-in-github",
        "colab_type": "text"
      },
      "source": [
        "<a href=\"https://colab.research.google.com/github/briziorusso/FICOchallenge/blob/main/Copy_of_FC_Part_2c_AutoKeras.ipynb\" target=\"_parent\"><img src=\"https://colab.research.google.com/assets/colab-badge.svg\" alt=\"Open In Colab\"/></a>"
      ]
    },
    {
      "cell_type": "markdown",
      "metadata": {
        "id": "US6fboHQNl7e"
      },
      "source": [
        "# 3: Build a neural network with AutoKeras"
      ]
    },
    {
      "cell_type": "code",
      "metadata": {
        "id": "AoKQk90wN-xt",
        "colab": {
          "base_uri": "https://localhost:8080/"
        },
        "outputId": "094650e3-287f-46c1-dfa9-e7602c914c91"
      },
      "source": [
        "from google.colab import drive\n",
        "drive.mount('/content/drive')"
      ],
      "execution_count": 2,
      "outputs": [
        {
          "output_type": "stream",
          "text": [
            "Mounted at /content/drive\n"
          ],
          "name": "stdout"
        }
      ]
    },
    {
      "cell_type": "code",
      "metadata": {
        "id": "VYqkSIiWToiS"
      },
      "source": [
        "!pip install autokeras"
      ],
      "execution_count": null,
      "outputs": []
    },
    {
      "cell_type": "code",
      "metadata": {
        "scrolled": true,
        "id": "LZnyQPPdNl7j",
        "colab": {
          "base_uri": "https://localhost:8080/"
        },
        "outputId": "444ce95e-3098-4d97-bfec-3ef63a3acf8d"
      },
      "source": [
        "import pickle\n",
        "import pandas as pd\n",
        "import numpy as np\n",
        "import tensorflow as tf\n",
        "import matplotlib.pyplot as plt\n",
        "import plotly.express as px\n",
        "import scipy.sparse\n",
        "import os\n",
        "\n",
        "# import keras\n",
        "import tensorflow.keras.backend as K\n",
        "from tensorflow.keras.models import Sequential, Model \n",
        "from keras.layers import Dense, Embedding, Conv1D, MaxPooling1D, GlobalMaxPool1D, Flatten, Input, concatenate, Dropout, Activation, BatchNormalization\n",
        "\n",
        "\n",
        "from sklearn.model_selection import cross_val_score, train_test_split\n",
        "from sklearn.preprocessing import MinMaxScaler\n",
        "from sklearn.metrics import accuracy_score, confusion_matrix\n",
        "\n",
        "print('Autokeras needs TF>=2')\n",
        "print('TF version:',tf.__version__)\n"
      ],
      "execution_count": 5,
      "outputs": [
        {
          "output_type": "stream",
          "text": [
            "Autokeras needs TF>=2\n",
            "TF version: 2.4.1\n"
          ],
          "name": "stdout"
        }
      ]
    },
    {
      "cell_type": "code",
      "metadata": {
        "colab": {
          "base_uri": "https://localhost:8080/"
        },
        "id": "7aoi29tUSHP_",
        "outputId": "8aaa597a-ae54-46d7-bc14-f090a250c1f8"
      },
      "source": [
        "%tensorflow_version 2.x\r\n",
        "import tensorflow as tf\r\n",
        "device_name = tf.test.gpu_device_name()\r\n",
        "if device_name != '/device:GPU:0':\r\n",
        "  raise SystemError('GPU device not found')\r\n",
        "print('Found GPU at: {}'.format(device_name))"
      ],
      "execution_count": 4,
      "outputs": [
        {
          "output_type": "stream",
          "text": [
            "Found GPU at: /device:GPU:0\n"
          ],
          "name": "stdout"
        }
      ]
    },
    {
      "cell_type": "code",
      "metadata": {
        "id": "bGxw0Th5Nl7k",
        "colab": {
          "base_uri": "https://localhost:8080/"
        },
        "outputId": "e32c3dbf-49d1-426e-9bdf-d10c2a20fa0b"
      },
      "source": [
        "cwd = os.getcwd()\n",
        "print(cwd)\n",
        "os.chdir(cwd)"
      ],
      "execution_count": 6,
      "outputs": [
        {
          "output_type": "stream",
          "text": [
            "/content\n"
          ],
          "name": "stdout"
        }
      ]
    },
    {
      "cell_type": "markdown",
      "metadata": {
        "id": "7ZhOE9J5Nl7l"
      },
      "source": [
        "## Load prepped data\n",
        "- Normal Scaling of numeric variables (prep_option = 1)\n",
        "- Binning (following Rudin) and one hot encoding (prep_option = 2)\n",
        "- Binning and applying WOE, calculating WOE on Rudin's bins (prep_option = 3)\n",
        "- Binning and applying WOE, following Rudin (prep_option = 4)"
      ]
    },
    {
      "cell_type": "code",
      "metadata": {
        "id": "E3Bgm-3cNl7l",
        "colab": {
          "base_uri": "https://localhost:8080/",
          "height": 341
        },
        "outputId": "f48f332f-6db8-4520-c991-843a69ed029f"
      },
      "source": [
        "data_path = \"/content/drive/MyDrive/Colab Notebooks/data/heloc_dataset_v1.csv\"\n",
        "# ori_path = \"Data/heloc_dataset_v1.csv\"\n",
        "\n",
        "CLASS = 'RiskPerformance' \n",
        "\n",
        "# data = pd.read_csv(ori_path)\n",
        "X1 = pd.read_csv(data_path)\n",
        "y = pd.read_csv(\"/content/drive/MyDrive/Colab Notebooks/data/y_data.csv\")\n",
        "\n",
        "print('Target: Bad (y=1)')\n",
        "class_names = sorted(y[CLASS].unique(),  reverse=True)\n",
        "print(y[CLASS].value_counts())\n",
        "y_onehot = pd.get_dummies(y[CLASS])[['Bad']]\n",
        "print(np.array(np.unique(y_onehot, return_counts=True)).T)\n",
        "\n",
        "print('X shape:',X1.shape)\n",
        "X1.head()"
      ],
      "execution_count": 6,
      "outputs": [
        {
          "output_type": "stream",
          "text": [
            "Target: Bad (y=1)\n",
            "Bad     5459\n",
            "Good    5000\n",
            "Name: RiskPerformance, dtype: int64\n",
            "[[   0 5000]\n",
            " [   1 5459]]\n",
            "X shape: (10459, 24)\n"
          ],
          "name": "stdout"
        },
        {
          "output_type": "execute_result",
          "data": {
            "text/html": [
              "<div>\n",
              "<style scoped>\n",
              "    .dataframe tbody tr th:only-of-type {\n",
              "        vertical-align: middle;\n",
              "    }\n",
              "\n",
              "    .dataframe tbody tr th {\n",
              "        vertical-align: top;\n",
              "    }\n",
              "\n",
              "    .dataframe thead th {\n",
              "        text-align: right;\n",
              "    }\n",
              "</style>\n",
              "<table border=\"1\" class=\"dataframe\">\n",
              "  <thead>\n",
              "    <tr style=\"text-align: right;\">\n",
              "      <th></th>\n",
              "      <th>RiskPerformance</th>\n",
              "      <th>ExternalRiskEstimate</th>\n",
              "      <th>MSinceOldestTradeOpen</th>\n",
              "      <th>MSinceMostRecentTradeOpen</th>\n",
              "      <th>AverageMInFile</th>\n",
              "      <th>NumSatisfactoryTrades</th>\n",
              "      <th>NumTrades60Ever2DerogPubRec</th>\n",
              "      <th>NumTrades90Ever2DerogPubRec</th>\n",
              "      <th>PercentTradesNeverDelq</th>\n",
              "      <th>MSinceMostRecentDelq</th>\n",
              "      <th>MaxDelq2PublicRecLast12M</th>\n",
              "      <th>MaxDelqEver</th>\n",
              "      <th>NumTotalTrades</th>\n",
              "      <th>NumTradesOpeninLast12M</th>\n",
              "      <th>PercentInstallTrades</th>\n",
              "      <th>MSinceMostRecentInqexcl7days</th>\n",
              "      <th>NumInqLast6M</th>\n",
              "      <th>NumInqLast6Mexcl7days</th>\n",
              "      <th>NetFractionRevolvingBurden</th>\n",
              "      <th>NetFractionInstallBurden</th>\n",
              "      <th>NumRevolvingTradesWBalance</th>\n",
              "      <th>NumInstallTradesWBalance</th>\n",
              "      <th>NumBank2NatlTradesWHighUtilization</th>\n",
              "      <th>PercentTradesWBalance</th>\n",
              "    </tr>\n",
              "  </thead>\n",
              "  <tbody>\n",
              "    <tr>\n",
              "      <th>0</th>\n",
              "      <td>Bad</td>\n",
              "      <td>55</td>\n",
              "      <td>144</td>\n",
              "      <td>4</td>\n",
              "      <td>84</td>\n",
              "      <td>20</td>\n",
              "      <td>3</td>\n",
              "      <td>0</td>\n",
              "      <td>83</td>\n",
              "      <td>2</td>\n",
              "      <td>3</td>\n",
              "      <td>5</td>\n",
              "      <td>23</td>\n",
              "      <td>1</td>\n",
              "      <td>43</td>\n",
              "      <td>0</td>\n",
              "      <td>0</td>\n",
              "      <td>0</td>\n",
              "      <td>33</td>\n",
              "      <td>-8</td>\n",
              "      <td>8</td>\n",
              "      <td>1</td>\n",
              "      <td>1</td>\n",
              "      <td>69</td>\n",
              "    </tr>\n",
              "    <tr>\n",
              "      <th>1</th>\n",
              "      <td>Bad</td>\n",
              "      <td>61</td>\n",
              "      <td>58</td>\n",
              "      <td>15</td>\n",
              "      <td>41</td>\n",
              "      <td>2</td>\n",
              "      <td>4</td>\n",
              "      <td>4</td>\n",
              "      <td>100</td>\n",
              "      <td>-7</td>\n",
              "      <td>0</td>\n",
              "      <td>8</td>\n",
              "      <td>7</td>\n",
              "      <td>0</td>\n",
              "      <td>67</td>\n",
              "      <td>0</td>\n",
              "      <td>0</td>\n",
              "      <td>0</td>\n",
              "      <td>0</td>\n",
              "      <td>-8</td>\n",
              "      <td>0</td>\n",
              "      <td>-8</td>\n",
              "      <td>-8</td>\n",
              "      <td>0</td>\n",
              "    </tr>\n",
              "    <tr>\n",
              "      <th>2</th>\n",
              "      <td>Bad</td>\n",
              "      <td>67</td>\n",
              "      <td>66</td>\n",
              "      <td>5</td>\n",
              "      <td>24</td>\n",
              "      <td>9</td>\n",
              "      <td>0</td>\n",
              "      <td>0</td>\n",
              "      <td>100</td>\n",
              "      <td>-7</td>\n",
              "      <td>7</td>\n",
              "      <td>8</td>\n",
              "      <td>9</td>\n",
              "      <td>4</td>\n",
              "      <td>44</td>\n",
              "      <td>0</td>\n",
              "      <td>4</td>\n",
              "      <td>4</td>\n",
              "      <td>53</td>\n",
              "      <td>66</td>\n",
              "      <td>4</td>\n",
              "      <td>2</td>\n",
              "      <td>1</td>\n",
              "      <td>86</td>\n",
              "    </tr>\n",
              "    <tr>\n",
              "      <th>3</th>\n",
              "      <td>Bad</td>\n",
              "      <td>66</td>\n",
              "      <td>169</td>\n",
              "      <td>1</td>\n",
              "      <td>73</td>\n",
              "      <td>28</td>\n",
              "      <td>1</td>\n",
              "      <td>1</td>\n",
              "      <td>93</td>\n",
              "      <td>76</td>\n",
              "      <td>6</td>\n",
              "      <td>6</td>\n",
              "      <td>30</td>\n",
              "      <td>3</td>\n",
              "      <td>57</td>\n",
              "      <td>0</td>\n",
              "      <td>5</td>\n",
              "      <td>4</td>\n",
              "      <td>72</td>\n",
              "      <td>83</td>\n",
              "      <td>6</td>\n",
              "      <td>4</td>\n",
              "      <td>3</td>\n",
              "      <td>91</td>\n",
              "    </tr>\n",
              "    <tr>\n",
              "      <th>4</th>\n",
              "      <td>Bad</td>\n",
              "      <td>81</td>\n",
              "      <td>333</td>\n",
              "      <td>27</td>\n",
              "      <td>132</td>\n",
              "      <td>12</td>\n",
              "      <td>0</td>\n",
              "      <td>0</td>\n",
              "      <td>100</td>\n",
              "      <td>-7</td>\n",
              "      <td>7</td>\n",
              "      <td>8</td>\n",
              "      <td>12</td>\n",
              "      <td>0</td>\n",
              "      <td>25</td>\n",
              "      <td>0</td>\n",
              "      <td>1</td>\n",
              "      <td>1</td>\n",
              "      <td>51</td>\n",
              "      <td>89</td>\n",
              "      <td>3</td>\n",
              "      <td>1</td>\n",
              "      <td>0</td>\n",
              "      <td>80</td>\n",
              "    </tr>\n",
              "  </tbody>\n",
              "</table>\n",
              "</div>"
            ],
            "text/plain": [
              "  RiskPerformance  ...  PercentTradesWBalance\n",
              "0             Bad  ...                     69\n",
              "1             Bad  ...                      0\n",
              "2             Bad  ...                     86\n",
              "3             Bad  ...                     91\n",
              "4             Bad  ...                     80\n",
              "\n",
              "[5 rows x 24 columns]"
            ]
          },
          "metadata": {
            "tags": []
          },
          "execution_count": 6
        }
      ]
    },
    {
      "cell_type": "markdown",
      "metadata": {
        "id": "8dODnDjnNl7n"
      },
      "source": [
        "### Original Dataset"
      ]
    },
    {
      "cell_type": "code",
      "metadata": {
        "scrolled": true,
        "id": "tMIhmobsNl7n",
        "colab": {
          "base_uri": "https://localhost:8080/"
        },
        "outputId": "0683c0d5-84f1-45c3-b122-38b1e05a7d5d"
      },
      "source": [
        "# basic data preparation\n",
        "from sklearn.preprocessing import LabelEncoder\n",
        "CLASS = 'RiskPerformance'\n",
        "\n",
        "# Split X and y\n",
        "X = X1.drop(columns=[CLASS])\n",
        "X = X.astype(float)\n",
        "y = LabelEncoder().fit_transform(y_onehot['Bad'].astype('int8'))\n",
        "\n",
        "X_onehot_train, X_onehot_test, y_onehot_train, y_onehot_test, = \\\n",
        "train_test_split(X, y, test_size = .25, random_state = 2020, shuffle = True)\n",
        "print(X_onehot_train.shape, X_onehot_test.shape, y_onehot_train.shape, y_onehot_test.shape)\n",
        "\n",
        "\n",
        "from autokeras import StructuredDataClassifier\n",
        "# define the search\n",
        "search = StructuredDataClassifier(max_trials=100)\n",
        "# perform the search\n",
        "search.fit(x=X_onehot_train, y=y_onehot_train, verbose=1)\n"
      ],
      "execution_count": 16,
      "outputs": [
        {
          "output_type": "stream",
          "text": [
            "Trial 27 Complete [00h 00m 40s]\n",
            "val_accuracy: 0.7090908885002136\n",
            "\n",
            "Best val_accuracy So Far: 0.7175324559211731\n",
            "Total elapsed time: 00h 17m 01s\n",
            "INFO:tensorflow:Oracle triggered exit\n",
            "Epoch 1/6\n",
            "246/246 [==============================] - 2s 4ms/step - loss: 0.6285 - accuracy: 0.6394\n",
            "Epoch 2/6\n",
            "246/246 [==============================] - 1s 4ms/step - loss: 0.5707 - accuracy: 0.7118\n",
            "Epoch 3/6\n",
            "246/246 [==============================] - 1s 5ms/step - loss: 0.5621 - accuracy: 0.7199\n",
            "Epoch 4/6\n",
            "246/246 [==============================] - 1s 5ms/step - loss: 0.5544 - accuracy: 0.7237\n",
            "Epoch 5/6\n",
            "246/246 [==============================] - 1s 5ms/step - loss: 0.5492 - accuracy: 0.7250\n",
            "Epoch 6/6\n",
            "246/246 [==============================] - 1s 4ms/step - loss: 0.5437 - accuracy: 0.7303\n",
            "INFO:tensorflow:Assets written to: ./structured_data_classifier/best_model/assets\n"
          ],
          "name": "stdout"
        }
      ]
    },
    {
      "cell_type": "code",
      "metadata": {
        "scrolled": true,
        "id": "VeoGXhTgNl7n",
        "colab": {
          "base_uri": "https://localhost:8080/"
        },
        "outputId": "07e85a8f-4d97-4c3b-fe44-e71b66ee0a24"
      },
      "source": [
        "search.evaluate(X_onehot_test, y_onehot_test, verbose=1);"
      ],
      "execution_count": 17,
      "outputs": [
        {
          "output_type": "stream",
          "text": [
            "WARNING:tensorflow:5 out of the last 5 calls to <function recreate_function.<locals>.restored_function_body at 0x7f391a6e9ae8> triggered tf.function retracing. Tracing is expensive and the excessive number of tracings could be due to (1) creating @tf.function repeatedly in a loop, (2) passing tensors with different shapes, (3) passing Python objects instead of tensors. For (1), please define your @tf.function outside of the loop. For (2), @tf.function has experimental_relax_shapes=True option that relaxes argument shapes that can avoid unnecessary retracing. For (3), please refer to https://www.tensorflow.org/guide/function#controlling_retracing and https://www.tensorflow.org/api_docs/python/tf/function for  more details.\n",
            "WARNING:tensorflow:6 out of the last 6 calls to <function recreate_function.<locals>.restored_function_body at 0x7f391a6b9378> triggered tf.function retracing. Tracing is expensive and the excessive number of tracings could be due to (1) creating @tf.function repeatedly in a loop, (2) passing tensors with different shapes, (3) passing Python objects instead of tensors. For (1), please define your @tf.function outside of the loop. For (2), @tf.function has experimental_relax_shapes=True option that relaxes argument shapes that can avoid unnecessary retracing. For (3), please refer to https://www.tensorflow.org/guide/function#controlling_retracing and https://www.tensorflow.org/api_docs/python/tf/function for  more details.\n",
            "WARNING:tensorflow:7 out of the last 7 calls to <function recreate_function.<locals>.restored_function_body at 0x7f391a698ea0> triggered tf.function retracing. Tracing is expensive and the excessive number of tracings could be due to (1) creating @tf.function repeatedly in a loop, (2) passing tensors with different shapes, (3) passing Python objects instead of tensors. For (1), please define your @tf.function outside of the loop. For (2), @tf.function has experimental_relax_shapes=True option that relaxes argument shapes that can avoid unnecessary retracing. For (3), please refer to https://www.tensorflow.org/guide/function#controlling_retracing and https://www.tensorflow.org/api_docs/python/tf/function for  more details.\n",
            "WARNING:tensorflow:8 out of the last 8 calls to <function recreate_function.<locals>.restored_function_body at 0x7f391a6dcd90> triggered tf.function retracing. Tracing is expensive and the excessive number of tracings could be due to (1) creating @tf.function repeatedly in a loop, (2) passing tensors with different shapes, (3) passing Python objects instead of tensors. For (1), please define your @tf.function outside of the loop. For (2), @tf.function has experimental_relax_shapes=True option that relaxes argument shapes that can avoid unnecessary retracing. For (3), please refer to https://www.tensorflow.org/guide/function#controlling_retracing and https://www.tensorflow.org/api_docs/python/tf/function for  more details.\n",
            "WARNING:tensorflow:9 out of the last 9 calls to <function recreate_function.<locals>.restored_function_body at 0x7f391a6dc378> triggered tf.function retracing. Tracing is expensive and the excessive number of tracings could be due to (1) creating @tf.function repeatedly in a loop, (2) passing tensors with different shapes, (3) passing Python objects instead of tensors. For (1), please define your @tf.function outside of the loop. For (2), @tf.function has experimental_relax_shapes=True option that relaxes argument shapes that can avoid unnecessary retracing. For (3), please refer to https://www.tensorflow.org/guide/function#controlling_retracing and https://www.tensorflow.org/api_docs/python/tf/function for  more details.\n",
            "WARNING:tensorflow:10 out of the last 10 calls to <function recreate_function.<locals>.restored_function_body at 0x7f391a67c510> triggered tf.function retracing. Tracing is expensive and the excessive number of tracings could be due to (1) creating @tf.function repeatedly in a loop, (2) passing tensors with different shapes, (3) passing Python objects instead of tensors. For (1), please define your @tf.function outside of the loop. For (2), @tf.function has experimental_relax_shapes=True option that relaxes argument shapes that can avoid unnecessary retracing. For (3), please refer to https://www.tensorflow.org/guide/function#controlling_retracing and https://www.tensorflow.org/api_docs/python/tf/function for  more details.\n",
            "WARNING:tensorflow:11 out of the last 11 calls to <function recreate_function.<locals>.restored_function_body at 0x7f391a648048> triggered tf.function retracing. Tracing is expensive and the excessive number of tracings could be due to (1) creating @tf.function repeatedly in a loop, (2) passing tensors with different shapes, (3) passing Python objects instead of tensors. For (1), please define your @tf.function outside of the loop. For (2), @tf.function has experimental_relax_shapes=True option that relaxes argument shapes that can avoid unnecessary retracing. For (3), please refer to https://www.tensorflow.org/guide/function#controlling_retracing and https://www.tensorflow.org/api_docs/python/tf/function for  more details.\n",
            "WARNING:tensorflow:11 out of the last 11 calls to <function recreate_function.<locals>.restored_function_body at 0x7f391a6e9c80> triggered tf.function retracing. Tracing is expensive and the excessive number of tracings could be due to (1) creating @tf.function repeatedly in a loop, (2) passing tensors with different shapes, (3) passing Python objects instead of tensors. For (1), please define your @tf.function outside of the loop. For (2), @tf.function has experimental_relax_shapes=True option that relaxes argument shapes that can avoid unnecessary retracing. For (3), please refer to https://www.tensorflow.org/guide/function#controlling_retracing and https://www.tensorflow.org/api_docs/python/tf/function for  more details.\n",
            "WARNING:tensorflow:11 out of the last 11 calls to <function recreate_function.<locals>.restored_function_body at 0x7f391a6cb488> triggered tf.function retracing. Tracing is expensive and the excessive number of tracings could be due to (1) creating @tf.function repeatedly in a loop, (2) passing tensors with different shapes, (3) passing Python objects instead of tensors. For (1), please define your @tf.function outside of the loop. For (2), @tf.function has experimental_relax_shapes=True option that relaxes argument shapes that can avoid unnecessary retracing. For (3), please refer to https://www.tensorflow.org/guide/function#controlling_retracing and https://www.tensorflow.org/api_docs/python/tf/function for  more details.\n",
            "WARNING:tensorflow:11 out of the last 11 calls to <function recreate_function.<locals>.restored_function_body at 0x7f391a6cbc80> triggered tf.function retracing. Tracing is expensive and the excessive number of tracings could be due to (1) creating @tf.function repeatedly in a loop, (2) passing tensors with different shapes, (3) passing Python objects instead of tensors. For (1), please define your @tf.function outside of the loop. For (2), @tf.function has experimental_relax_shapes=True option that relaxes argument shapes that can avoid unnecessary retracing. For (3), please refer to https://www.tensorflow.org/guide/function#controlling_retracing and https://www.tensorflow.org/api_docs/python/tf/function for  more details.\n",
            "WARNING:tensorflow:11 out of the last 11 calls to <function recreate_function.<locals>.restored_function_body at 0x7f391a6b9c80> triggered tf.function retracing. Tracing is expensive and the excessive number of tracings could be due to (1) creating @tf.function repeatedly in a loop, (2) passing tensors with different shapes, (3) passing Python objects instead of tensors. For (1), please define your @tf.function outside of the loop. For (2), @tf.function has experimental_relax_shapes=True option that relaxes argument shapes that can avoid unnecessary retracing. For (3), please refer to https://www.tensorflow.org/guide/function#controlling_retracing and https://www.tensorflow.org/api_docs/python/tf/function for  more details.\n",
            "WARNING:tensorflow:11 out of the last 11 calls to <function recreate_function.<locals>.restored_function_body at 0x7f391a67c7b8> triggered tf.function retracing. Tracing is expensive and the excessive number of tracings could be due to (1) creating @tf.function repeatedly in a loop, (2) passing tensors with different shapes, (3) passing Python objects instead of tensors. For (1), please define your @tf.function outside of the loop. For (2), @tf.function has experimental_relax_shapes=True option that relaxes argument shapes that can avoid unnecessary retracing. For (3), please refer to https://www.tensorflow.org/guide/function#controlling_retracing and https://www.tensorflow.org/api_docs/python/tf/function for  more details.\n",
            "WARNING:tensorflow:11 out of the last 11 calls to <function recreate_function.<locals>.restored_function_body at 0x7f391a6bfa60> triggered tf.function retracing. Tracing is expensive and the excessive number of tracings could be due to (1) creating @tf.function repeatedly in a loop, (2) passing tensors with different shapes, (3) passing Python objects instead of tensors. For (1), please define your @tf.function outside of the loop. For (2), @tf.function has experimental_relax_shapes=True option that relaxes argument shapes that can avoid unnecessary retracing. For (3), please refer to https://www.tensorflow.org/guide/function#controlling_retracing and https://www.tensorflow.org/api_docs/python/tf/function for  more details.\n",
            "WARNING:tensorflow:11 out of the last 11 calls to <function recreate_function.<locals>.restored_function_body at 0x7f391a6bf1e0> triggered tf.function retracing. Tracing is expensive and the excessive number of tracings could be due to (1) creating @tf.function repeatedly in a loop, (2) passing tensors with different shapes, (3) passing Python objects instead of tensors. For (1), please define your @tf.function outside of the loop. For (2), @tf.function has experimental_relax_shapes=True option that relaxes argument shapes that can avoid unnecessary retracing. For (3), please refer to https://www.tensorflow.org/guide/function#controlling_retracing and https://www.tensorflow.org/api_docs/python/tf/function for  more details.\n",
            "WARNING:tensorflow:11 out of the last 11 calls to <function recreate_function.<locals>.restored_function_body at 0x7f391a6dc8c8> triggered tf.function retracing. Tracing is expensive and the excessive number of tracings could be due to (1) creating @tf.function repeatedly in a loop, (2) passing tensors with different shapes, (3) passing Python objects instead of tensors. For (1), please define your @tf.function outside of the loop. For (2), @tf.function has experimental_relax_shapes=True option that relaxes argument shapes that can avoid unnecessary retracing. For (3), please refer to https://www.tensorflow.org/guide/function#controlling_retracing and https://www.tensorflow.org/api_docs/python/tf/function for  more details.\n",
            "WARNING:tensorflow:11 out of the last 11 calls to <function recreate_function.<locals>.restored_function_body at 0x7f391a648400> triggered tf.function retracing. Tracing is expensive and the excessive number of tracings could be due to (1) creating @tf.function repeatedly in a loop, (2) passing tensors with different shapes, (3) passing Python objects instead of tensors. For (1), please define your @tf.function outside of the loop. For (2), @tf.function has experimental_relax_shapes=True option that relaxes argument shapes that can avoid unnecessary retracing. For (3), please refer to https://www.tensorflow.org/guide/function#controlling_retracing and https://www.tensorflow.org/api_docs/python/tf/function for  more details.\n",
            "WARNING:tensorflow:11 out of the last 11 calls to <function recreate_function.<locals>.restored_function_body at 0x7f391a72fc80> triggered tf.function retracing. Tracing is expensive and the excessive number of tracings could be due to (1) creating @tf.function repeatedly in a loop, (2) passing tensors with different shapes, (3) passing Python objects instead of tensors. For (1), please define your @tf.function outside of the loop. For (2), @tf.function has experimental_relax_shapes=True option that relaxes argument shapes that can avoid unnecessary retracing. For (3), please refer to https://www.tensorflow.org/guide/function#controlling_retracing and https://www.tensorflow.org/api_docs/python/tf/function for  more details.\n",
            "WARNING:tensorflow:11 out of the last 11 calls to <function recreate_function.<locals>.restored_function_body at 0x7f391a71e400> triggered tf.function retracing. Tracing is expensive and the excessive number of tracings could be due to (1) creating @tf.function repeatedly in a loop, (2) passing tensors with different shapes, (3) passing Python objects instead of tensors. For (1), please define your @tf.function outside of the loop. For (2), @tf.function has experimental_relax_shapes=True option that relaxes argument shapes that can avoid unnecessary retracing. For (3), please refer to https://www.tensorflow.org/guide/function#controlling_retracing and https://www.tensorflow.org/api_docs/python/tf/function for  more details.\n",
            "82/82 [==============================] - 1s 4ms/step - loss: 0.5735 - accuracy: 0.7086\n"
          ],
          "name": "stdout"
        }
      ]
    },
    {
      "cell_type": "code",
      "metadata": {
        "scrolled": true,
        "id": "BZqFbCqANl7o",
        "colab": {
          "base_uri": "https://localhost:8080/"
        },
        "outputId": "15ac892e-5d3a-44b6-c4e4-2e76cc763d46"
      },
      "source": [
        "# get the best performing model\n",
        "model = search.export_model()\n",
        "# summarize the loaded model\n",
        "model.summary()"
      ],
      "execution_count": 18,
      "outputs": [
        {
          "output_type": "stream",
          "text": [
            "WARNING:tensorflow:11 out of the last 11 calls to <function recreate_function.<locals>.restored_function_body at 0x7f391952e488> triggered tf.function retracing. Tracing is expensive and the excessive number of tracings could be due to (1) creating @tf.function repeatedly in a loop, (2) passing tensors with different shapes, (3) passing Python objects instead of tensors. For (1), please define your @tf.function outside of the loop. For (2), @tf.function has experimental_relax_shapes=True option that relaxes argument shapes that can avoid unnecessary retracing. For (3), please refer to https://www.tensorflow.org/guide/function#controlling_retracing and https://www.tensorflow.org/api_docs/python/tf/function for  more details.\n",
            "WARNING:tensorflow:11 out of the last 11 calls to <function recreate_function.<locals>.restored_function_body at 0x7f3919533048> triggered tf.function retracing. Tracing is expensive and the excessive number of tracings could be due to (1) creating @tf.function repeatedly in a loop, (2) passing tensors with different shapes, (3) passing Python objects instead of tensors. For (1), please define your @tf.function outside of the loop. For (2), @tf.function has experimental_relax_shapes=True option that relaxes argument shapes that can avoid unnecessary retracing. For (3), please refer to https://www.tensorflow.org/guide/function#controlling_retracing and https://www.tensorflow.org/api_docs/python/tf/function for  more details.\n",
            "WARNING:tensorflow:11 out of the last 11 calls to <function recreate_function.<locals>.restored_function_body at 0x7f3919533e18> triggered tf.function retracing. Tracing is expensive and the excessive number of tracings could be due to (1) creating @tf.function repeatedly in a loop, (2) passing tensors with different shapes, (3) passing Python objects instead of tensors. For (1), please define your @tf.function outside of the loop. For (2), @tf.function has experimental_relax_shapes=True option that relaxes argument shapes that can avoid unnecessary retracing. For (3), please refer to https://www.tensorflow.org/guide/function#controlling_retracing and https://www.tensorflow.org/api_docs/python/tf/function for  more details.\n",
            "WARNING:tensorflow:11 out of the last 11 calls to <function recreate_function.<locals>.restored_function_body at 0x7f391952eea0> triggered tf.function retracing. Tracing is expensive and the excessive number of tracings could be due to (1) creating @tf.function repeatedly in a loop, (2) passing tensors with different shapes, (3) passing Python objects instead of tensors. For (1), please define your @tf.function outside of the loop. For (2), @tf.function has experimental_relax_shapes=True option that relaxes argument shapes that can avoid unnecessary retracing. For (3), please refer to https://www.tensorflow.org/guide/function#controlling_retracing and https://www.tensorflow.org/api_docs/python/tf/function for  more details.\n",
            "WARNING:tensorflow:11 out of the last 11 calls to <function recreate_function.<locals>.restored_function_body at 0x7f3919516d08> triggered tf.function retracing. Tracing is expensive and the excessive number of tracings could be due to (1) creating @tf.function repeatedly in a loop, (2) passing tensors with different shapes, (3) passing Python objects instead of tensors. For (1), please define your @tf.function outside of the loop. For (2), @tf.function has experimental_relax_shapes=True option that relaxes argument shapes that can avoid unnecessary retracing. For (3), please refer to https://www.tensorflow.org/guide/function#controlling_retracing and https://www.tensorflow.org/api_docs/python/tf/function for  more details.\n",
            "WARNING:tensorflow:11 out of the last 11 calls to <function recreate_function.<locals>.restored_function_body at 0x7f3919523840> triggered tf.function retracing. Tracing is expensive and the excessive number of tracings could be due to (1) creating @tf.function repeatedly in a loop, (2) passing tensors with different shapes, (3) passing Python objects instead of tensors. For (1), please define your @tf.function outside of the loop. For (2), @tf.function has experimental_relax_shapes=True option that relaxes argument shapes that can avoid unnecessary retracing. For (3), please refer to https://www.tensorflow.org/guide/function#controlling_retracing and https://www.tensorflow.org/api_docs/python/tf/function for  more details.\n",
            "WARNING:tensorflow:11 out of the last 11 calls to <function recreate_function.<locals>.restored_function_body at 0x7f39194dfe18> triggered tf.function retracing. Tracing is expensive and the excessive number of tracings could be due to (1) creating @tf.function repeatedly in a loop, (2) passing tensors with different shapes, (3) passing Python objects instead of tensors. For (1), please define your @tf.function outside of the loop. For (2), @tf.function has experimental_relax_shapes=True option that relaxes argument shapes that can avoid unnecessary retracing. For (3), please refer to https://www.tensorflow.org/guide/function#controlling_retracing and https://www.tensorflow.org/api_docs/python/tf/function for  more details.\n",
            "WARNING:tensorflow:11 out of the last 11 calls to <function recreate_function.<locals>.restored_function_body at 0x7f39194df2f0> triggered tf.function retracing. Tracing is expensive and the excessive number of tracings could be due to (1) creating @tf.function repeatedly in a loop, (2) passing tensors with different shapes, (3) passing Python objects instead of tensors. For (1), please define your @tf.function outside of the loop. For (2), @tf.function has experimental_relax_shapes=True option that relaxes argument shapes that can avoid unnecessary retracing. For (3), please refer to https://www.tensorflow.org/guide/function#controlling_retracing and https://www.tensorflow.org/api_docs/python/tf/function for  more details.\n",
            "WARNING:tensorflow:11 out of the last 11 calls to <function recreate_function.<locals>.restored_function_body at 0x7f391951b0d0> triggered tf.function retracing. Tracing is expensive and the excessive number of tracings could be due to (1) creating @tf.function repeatedly in a loop, (2) passing tensors with different shapes, (3) passing Python objects instead of tensors. For (1), please define your @tf.function outside of the loop. For (2), @tf.function has experimental_relax_shapes=True option that relaxes argument shapes that can avoid unnecessary retracing. For (3), please refer to https://www.tensorflow.org/guide/function#controlling_retracing and https://www.tensorflow.org/api_docs/python/tf/function for  more details.\n",
            "WARNING:tensorflow:11 out of the last 11 calls to <function recreate_function.<locals>.restored_function_body at 0x7f3919533488> triggered tf.function retracing. Tracing is expensive and the excessive number of tracings could be due to (1) creating @tf.function repeatedly in a loop, (2) passing tensors with different shapes, (3) passing Python objects instead of tensors. For (1), please define your @tf.function outside of the loop. For (2), @tf.function has experimental_relax_shapes=True option that relaxes argument shapes that can avoid unnecessary retracing. For (3), please refer to https://www.tensorflow.org/guide/function#controlling_retracing and https://www.tensorflow.org/api_docs/python/tf/function for  more details.\n",
            "WARNING:tensorflow:11 out of the last 11 calls to <function recreate_function.<locals>.restored_function_body at 0x7f39194c57b8> triggered tf.function retracing. Tracing is expensive and the excessive number of tracings could be due to (1) creating @tf.function repeatedly in a loop, (2) passing tensors with different shapes, (3) passing Python objects instead of tensors. For (1), please define your @tf.function outside of the loop. For (2), @tf.function has experimental_relax_shapes=True option that relaxes argument shapes that can avoid unnecessary retracing. For (3), please refer to https://www.tensorflow.org/guide/function#controlling_retracing and https://www.tensorflow.org/api_docs/python/tf/function for  more details.\n",
            "WARNING:tensorflow:11 out of the last 11 calls to <function recreate_function.<locals>.restored_function_body at 0x7f39194c5a60> triggered tf.function retracing. Tracing is expensive and the excessive number of tracings could be due to (1) creating @tf.function repeatedly in a loop, (2) passing tensors with different shapes, (3) passing Python objects instead of tensors. For (1), please define your @tf.function outside of the loop. For (2), @tf.function has experimental_relax_shapes=True option that relaxes argument shapes that can avoid unnecessary retracing. For (3), please refer to https://www.tensorflow.org/guide/function#controlling_retracing and https://www.tensorflow.org/api_docs/python/tf/function for  more details.\n",
            "WARNING:tensorflow:11 out of the last 11 calls to <function recreate_function.<locals>.restored_function_body at 0x7f391952ec80> triggered tf.function retracing. Tracing is expensive and the excessive number of tracings could be due to (1) creating @tf.function repeatedly in a loop, (2) passing tensors with different shapes, (3) passing Python objects instead of tensors. For (1), please define your @tf.function outside of the loop. For (2), @tf.function has experimental_relax_shapes=True option that relaxes argument shapes that can avoid unnecessary retracing. For (3), please refer to https://www.tensorflow.org/guide/function#controlling_retracing and https://www.tensorflow.org/api_docs/python/tf/function for  more details.\n",
            "WARNING:tensorflow:11 out of the last 11 calls to <function recreate_function.<locals>.restored_function_body at 0x7f39195168c8> triggered tf.function retracing. Tracing is expensive and the excessive number of tracings could be due to (1) creating @tf.function repeatedly in a loop, (2) passing tensors with different shapes, (3) passing Python objects instead of tensors. For (1), please define your @tf.function outside of the loop. For (2), @tf.function has experimental_relax_shapes=True option that relaxes argument shapes that can avoid unnecessary retracing. For (3), please refer to https://www.tensorflow.org/guide/function#controlling_retracing and https://www.tensorflow.org/api_docs/python/tf/function for  more details.\n",
            "WARNING:tensorflow:11 out of the last 11 calls to <function recreate_function.<locals>.restored_function_body at 0x7f39194e7510> triggered tf.function retracing. Tracing is expensive and the excessive number of tracings could be due to (1) creating @tf.function repeatedly in a loop, (2) passing tensors with different shapes, (3) passing Python objects instead of tensors. For (1), please define your @tf.function outside of the loop. For (2), @tf.function has experimental_relax_shapes=True option that relaxes argument shapes that can avoid unnecessary retracing. For (3), please refer to https://www.tensorflow.org/guide/function#controlling_retracing and https://www.tensorflow.org/api_docs/python/tf/function for  more details.\n",
            "WARNING:tensorflow:11 out of the last 11 calls to <function recreate_function.<locals>.restored_function_body at 0x7f39194feb70> triggered tf.function retracing. Tracing is expensive and the excessive number of tracings could be due to (1) creating @tf.function repeatedly in a loop, (2) passing tensors with different shapes, (3) passing Python objects instead of tensors. For (1), please define your @tf.function outside of the loop. For (2), @tf.function has experimental_relax_shapes=True option that relaxes argument shapes that can avoid unnecessary retracing. For (3), please refer to https://www.tensorflow.org/guide/function#controlling_retracing and https://www.tensorflow.org/api_docs/python/tf/function for  more details.\n",
            "WARNING:tensorflow:11 out of the last 11 calls to <function recreate_function.<locals>.restored_function_body at 0x7f39194e7840> triggered tf.function retracing. Tracing is expensive and the excessive number of tracings could be due to (1) creating @tf.function repeatedly in a loop, (2) passing tensors with different shapes, (3) passing Python objects instead of tensors. For (1), please define your @tf.function outside of the loop. For (2), @tf.function has experimental_relax_shapes=True option that relaxes argument shapes that can avoid unnecessary retracing. For (3), please refer to https://www.tensorflow.org/guide/function#controlling_retracing and https://www.tensorflow.org/api_docs/python/tf/function for  more details.\n",
            "WARNING:tensorflow:11 out of the last 11 calls to <function recreate_function.<locals>.restored_function_body at 0x7f39194c51e0> triggered tf.function retracing. Tracing is expensive and the excessive number of tracings could be due to (1) creating @tf.function repeatedly in a loop, (2) passing tensors with different shapes, (3) passing Python objects instead of tensors. For (1), please define your @tf.function outside of the loop. For (2), @tf.function has experimental_relax_shapes=True option that relaxes argument shapes that can avoid unnecessary retracing. For (3), please refer to https://www.tensorflow.org/guide/function#controlling_retracing and https://www.tensorflow.org/api_docs/python/tf/function for  more details.\n",
            "WARNING:tensorflow:11 out of the last 11 calls to <function recreate_function.<locals>.restored_function_body at 0x7f39195238c8> triggered tf.function retracing. Tracing is expensive and the excessive number of tracings could be due to (1) creating @tf.function repeatedly in a loop, (2) passing tensors with different shapes, (3) passing Python objects instead of tensors. For (1), please define your @tf.function outside of the loop. For (2), @tf.function has experimental_relax_shapes=True option that relaxes argument shapes that can avoid unnecessary retracing. For (3), please refer to https://www.tensorflow.org/guide/function#controlling_retracing and https://www.tensorflow.org/api_docs/python/tf/function for  more details.\n",
            "WARNING:tensorflow:11 out of the last 11 calls to <function recreate_function.<locals>.restored_function_body at 0x7f391951bae8> triggered tf.function retracing. Tracing is expensive and the excessive number of tracings could be due to (1) creating @tf.function repeatedly in a loop, (2) passing tensors with different shapes, (3) passing Python objects instead of tensors. For (1), please define your @tf.function outside of the loop. For (2), @tf.function has experimental_relax_shapes=True option that relaxes argument shapes that can avoid unnecessary retracing. For (3), please refer to https://www.tensorflow.org/guide/function#controlling_retracing and https://www.tensorflow.org/api_docs/python/tf/function for  more details.\n",
            "WARNING:tensorflow:11 out of the last 11 calls to <function recreate_function.<locals>.restored_function_body at 0x7f391951bc80> triggered tf.function retracing. Tracing is expensive and the excessive number of tracings could be due to (1) creating @tf.function repeatedly in a loop, (2) passing tensors with different shapes, (3) passing Python objects instead of tensors. For (1), please define your @tf.function outside of the loop. For (2), @tf.function has experimental_relax_shapes=True option that relaxes argument shapes that can avoid unnecessary retracing. For (3), please refer to https://www.tensorflow.org/guide/function#controlling_retracing and https://www.tensorflow.org/api_docs/python/tf/function for  more details.\n",
            "WARNING:tensorflow:11 out of the last 11 calls to <function recreate_function.<locals>.restored_function_body at 0x7f3919533620> triggered tf.function retracing. Tracing is expensive and the excessive number of tracings could be due to (1) creating @tf.function repeatedly in a loop, (2) passing tensors with different shapes, (3) passing Python objects instead of tensors. For (1), please define your @tf.function outside of the loop. For (2), @tf.function has experimental_relax_shapes=True option that relaxes argument shapes that can avoid unnecessary retracing. For (3), please refer to https://www.tensorflow.org/guide/function#controlling_retracing and https://www.tensorflow.org/api_docs/python/tf/function for  more details.\n",
            "Model: \"model\"\n",
            "_________________________________________________________________\n",
            "Layer (type)                 Output Shape              Param #   \n",
            "=================================================================\n",
            "input_1 (InputLayer)         [(None, 23)]              0         \n",
            "_________________________________________________________________\n",
            "multi_category_encoding (Mul (None, 23)                0         \n",
            "_________________________________________________________________\n",
            "normalization (Normalization (None, 23)                47        \n",
            "_________________________________________________________________\n",
            "dense (Dense)                (None, 32)                768       \n",
            "_________________________________________________________________\n",
            "re_lu (ReLU)                 (None, 32)                0         \n",
            "_________________________________________________________________\n",
            "dense_1 (Dense)              (None, 32)                1056      \n",
            "_________________________________________________________________\n",
            "re_lu_1 (ReLU)               (None, 32)                0         \n",
            "_________________________________________________________________\n",
            "dense_2 (Dense)              (None, 256)               8448      \n",
            "_________________________________________________________________\n",
            "re_lu_2 (ReLU)               (None, 256)               0         \n",
            "_________________________________________________________________\n",
            "dropout (Dropout)            (None, 256)               0         \n",
            "_________________________________________________________________\n",
            "dense_3 (Dense)              (None, 1)                 257       \n",
            "_________________________________________________________________\n",
            "classification_head_1 (Activ (None, 1)                 0         \n",
            "=================================================================\n",
            "Total params: 10,576\n",
            "Trainable params: 10,529\n",
            "Non-trainable params: 47\n",
            "_________________________________________________________________\n"
          ],
          "name": "stdout"
        }
      ]
    },
    {
      "cell_type": "code",
      "metadata": {
        "scrolled": true,
        "id": "0Rnq_mDKNl7o",
        "colab": {
          "base_uri": "https://localhost:8080/"
        },
        "outputId": "2a4637e4-cb86-4a45-df69-1d1049d1e030"
      },
      "source": [
        "# save the best performing model to file\n",
        "model.save('model_num_auto',save_format='tf')"
      ],
      "execution_count": 20,
      "outputs": [
        {
          "output_type": "stream",
          "text": [
            "INFO:tensorflow:Assets written to: model_num_auto/assets\n"
          ],
          "name": "stdout"
        }
      ]
    },
    {
      "cell_type": "code",
      "metadata": {
        "scrolled": true,
        "id": "-fNhSiWLNl7o",
        "colab": {
          "base_uri": "https://localhost:8080/"
        },
        "outputId": "fa70d930-aedb-4e7f-fea4-fdcf178b070e"
      },
      "source": [
        "# scores = model.evaluate(X_onehot_train.values, y_onehot_train)\n",
        "scores = model.evaluate(X_onehot_train, y_onehot_train, verbose=0)\n",
        "print(\"Training Set:\", \"\\n%s: %.2f%%\" % (model.metrics_names[1], scores[1]*100))\n",
        "\n",
        "# scores = model.evaluate(X_onehot_test.values, y_onehot_test)\n",
        "scores = model.evaluate(X_onehot_test, y_onehot_test, verbose = 0)\n",
        "print(\"Test Set:\", \"\\n%s: %.2f%%\" % (model.metrics_names[1], scores[1]*100))\n",
        "\n",
        "# confusion_matrix(y_onehot_test, model.predict_classes(X_onehot_test), sample_weight=None)"
      ],
      "execution_count": 21,
      "outputs": [
        {
          "output_type": "stream",
          "text": [
            "Training Set: \n",
            "accuracy: 73.33%\n",
            "Test Set: \n",
            "accuracy: 70.86%\n"
          ],
          "name": "stdout"
        }
      ]
    },
    {
      "cell_type": "markdown",
      "metadata": {
        "id": "nz0FMANINl7m"
      },
      "source": [
        "### One-hot encoded"
      ]
    },
    {
      "cell_type": "code",
      "metadata": {
        "scrolled": true,
        "id": "lkhgrTLoNl7m"
      },
      "source": [
        "# basic data preparation\n",
        "from sklearn.preprocessing import LabelEncoder\n",
        "X = X_onehot.astype('int8')\n",
        "y = LabelEncoder().fit_transform(y_onehot['Bad'].astype('int8'))\n",
        "\n",
        "X_onehot_train, X_onehot_test, y_onehot_train, y_onehot_test, = \\\n",
        "train_test_split(X, y, test_size = .25, random_state = 2020, shuffle = True)\n",
        "print(X_onehot_train.shape, X_onehot_test.shape, y_onehot_train.shape, y_onehot_test.shape)\n",
        "\n",
        "\n",
        "from autokeras import StructuredDataClassifier\n",
        "# define the search\n",
        "search = StructuredDataClassifier(max_trials=15)\n",
        "# perform the search\n",
        "search.fit(x=X_onehot_train, y=y_onehot_train, verbose=1)\n",
        "# evaluate the model\n",
        "# loss, acc = search.evaluate(X_onehot_test, y_onehot_test, verbose=1)"
      ],
      "execution_count": null,
      "outputs": []
    },
    {
      "cell_type": "code",
      "metadata": {
        "scrolled": true,
        "id": "bkkqSn-iNl7m"
      },
      "source": [
        "search.evaluate(X_onehot_test, y_onehot_test, verbose=0);"
      ],
      "execution_count": null,
      "outputs": []
    },
    {
      "cell_type": "code",
      "metadata": {
        "scrolled": true,
        "id": "j4y9cD-7Nl7m"
      },
      "source": [
        "# get the best performing model\n",
        "model = search.export_model()\n",
        "# summarize the loaded model\n",
        "model.summary()"
      ],
      "execution_count": null,
      "outputs": []
    },
    {
      "cell_type": "code",
      "metadata": {
        "scrolled": true,
        "id": "uQw247h4Nl7n"
      },
      "source": [
        "# save the best performing model to file\n",
        "model.save('model_auto.h5',save_format='tf')"
      ],
      "execution_count": null,
      "outputs": []
    },
    {
      "cell_type": "markdown",
      "metadata": {
        "id": "BBgmLWxRNl7o"
      },
      "source": [
        "### WoE variables"
      ]
    },
    {
      "cell_type": "code",
      "metadata": {
        "colab": {
          "base_uri": "https://localhost:8080/",
          "height": 341
        },
        "id": "-YAvoVAzZG3O",
        "outputId": "4a45c2fd-6ac3-4dc8-ab8d-32115b5e02aa"
      },
      "source": [
        "data_path = \"/content/drive/MyDrive/Colab Notebooks/data/WOE_Rud_data.csv\"\n",
        "# ori_path = \"Data/heloc_dataset_v1.csv\"\n",
        "\n",
        "CLASS = 'RiskPerformance' \n",
        "\n",
        "# data = pd.read_csv(ori_path)\n",
        "X1 = pd.read_csv(data_path)\n",
        "y = pd.read_csv(\"/content/drive/MyDrive/Colab Notebooks/data/y_data.csv\")\n",
        "\n",
        "print('Target: Bad (y=1)')\n",
        "class_names = sorted(y[CLASS].unique(),  reverse=True)\n",
        "print(y[CLASS].value_counts())\n",
        "y_onehot = pd.get_dummies(y[CLASS])[['Bad']]\n",
        "print(np.array(np.unique(y_onehot, return_counts=True)).T)\n",
        "\n",
        "print('X shape:',X1.shape)\n",
        "X1.head()"
      ],
      "execution_count": 7,
      "outputs": [
        {
          "output_type": "stream",
          "text": [
            "Target: Bad (y=1)\n",
            "Bad     5459\n",
            "Good    5000\n",
            "Name: RiskPerformance, dtype: int64\n",
            "[[   0 5000]\n",
            " [   1 5459]]\n",
            "X shape: (10459, 23)\n"
          ],
          "name": "stdout"
        },
        {
          "output_type": "execute_result",
          "data": {
            "text/html": [
              "<div>\n",
              "<style scoped>\n",
              "    .dataframe tbody tr th:only-of-type {\n",
              "        vertical-align: middle;\n",
              "    }\n",
              "\n",
              "    .dataframe tbody tr th {\n",
              "        vertical-align: top;\n",
              "    }\n",
              "\n",
              "    .dataframe thead th {\n",
              "        text-align: right;\n",
              "    }\n",
              "</style>\n",
              "<table border=\"1\" class=\"dataframe\">\n",
              "  <thead>\n",
              "    <tr style=\"text-align: right;\">\n",
              "      <th></th>\n",
              "      <th>ExternalRiskEstimate_bin_WOE</th>\n",
              "      <th>MSinceOldestTradeOpen_bin_WOE</th>\n",
              "      <th>MSinceMostRecentTradeOpen_bin_WOE</th>\n",
              "      <th>AverageMInFile_bin_WOE</th>\n",
              "      <th>NumSatisfactoryTrades_bin_WOE</th>\n",
              "      <th>NumTrades60Ever2DerogPubRec_bin_WOE</th>\n",
              "      <th>NumTrades90Ever2DerogPubRec_bin_WOE</th>\n",
              "      <th>NumTotalTrades_bin_WOE</th>\n",
              "      <th>NumTradesOpeninLast12M_bin_WOE</th>\n",
              "      <th>PercentTradesNeverDelq_bin_WOE</th>\n",
              "      <th>MSinceMostRecentDelq_bin_WOE</th>\n",
              "      <th>MaxDelq2PublicRecLast12M_bin_WOE</th>\n",
              "      <th>MaxDelqEver_bin_WOE</th>\n",
              "      <th>PercentInstallTrades_bin_WOE</th>\n",
              "      <th>NetFractionInstallBurden_bin_WOE</th>\n",
              "      <th>NumInstallTradesWBalance_bin_WOE</th>\n",
              "      <th>MSinceMostRecentInqexcl7days_bin_WOE</th>\n",
              "      <th>NumInqLast6M_bin_WOE</th>\n",
              "      <th>NumInqLast6Mexcl7days_bin_WOE</th>\n",
              "      <th>NetFractionRevolvingBurden_bin_WOE</th>\n",
              "      <th>NumRevolvingTradesWBalance_bin_WOE</th>\n",
              "      <th>NumBank2NatlTradesWHighUtilization_bin_WOE</th>\n",
              "      <th>PercentTradesWBalance_bin_WOE</th>\n",
              "    </tr>\n",
              "  </thead>\n",
              "  <tbody>\n",
              "    <tr>\n",
              "      <th>0</th>\n",
              "      <td>1.799</td>\n",
              "      <td>0.086</td>\n",
              "      <td>0.083</td>\n",
              "      <td>0.269</td>\n",
              "      <td>0.166</td>\n",
              "      <td>0.952</td>\n",
              "      <td>-0.021</td>\n",
              "      <td>-0.097</td>\n",
              "      <td>-0.021</td>\n",
              "      <td>1.012</td>\n",
              "      <td>-0.058</td>\n",
              "      <td>0.806</td>\n",
              "      <td>-0.147</td>\n",
              "      <td>-0.503</td>\n",
              "      <td>0.047</td>\n",
              "      <td>0.242</td>\n",
              "      <td>1.223</td>\n",
              "      <td>-0.047</td>\n",
              "      <td>-0.051</td>\n",
              "      <td>-0.088</td>\n",
              "      <td>0.034</td>\n",
              "      <td>-0.601</td>\n",
              "      <td>-0.130</td>\n",
              "    </tr>\n",
              "    <tr>\n",
              "      <th>1</th>\n",
              "      <td>1.799</td>\n",
              "      <td>0.549</td>\n",
              "      <td>0.083</td>\n",
              "      <td>1.238</td>\n",
              "      <td>1.999</td>\n",
              "      <td>0.952</td>\n",
              "      <td>-0.053</td>\n",
              "      <td>0.535</td>\n",
              "      <td>-0.021</td>\n",
              "      <td>-0.147</td>\n",
              "      <td>0.198</td>\n",
              "      <td>0.806</td>\n",
              "      <td>-0.147</td>\n",
              "      <td>0.161</td>\n",
              "      <td>0.047</td>\n",
              "      <td>0.256</td>\n",
              "      <td>1.223</td>\n",
              "      <td>-0.047</td>\n",
              "      <td>-0.051</td>\n",
              "      <td>-0.739</td>\n",
              "      <td>-0.188</td>\n",
              "      <td>0.601</td>\n",
              "      <td>-0.982</td>\n",
              "    </tr>\n",
              "    <tr>\n",
              "      <th>2</th>\n",
              "      <td>1.017</td>\n",
              "      <td>0.549</td>\n",
              "      <td>0.083</td>\n",
              "      <td>1.238</td>\n",
              "      <td>0.539</td>\n",
              "      <td>-0.021</td>\n",
              "      <td>-0.021</td>\n",
              "      <td>0.535</td>\n",
              "      <td>0.428</td>\n",
              "      <td>-0.147</td>\n",
              "      <td>0.198</td>\n",
              "      <td>-0.147</td>\n",
              "      <td>-0.147</td>\n",
              "      <td>-0.503</td>\n",
              "      <td>0.147</td>\n",
              "      <td>0.242</td>\n",
              "      <td>1.223</td>\n",
              "      <td>0.170</td>\n",
              "      <td>0.021</td>\n",
              "      <td>0.633</td>\n",
              "      <td>-0.263</td>\n",
              "      <td>-0.601</td>\n",
              "      <td>0.203</td>\n",
              "    </tr>\n",
              "    <tr>\n",
              "      <th>3</th>\n",
              "      <td>1.017</td>\n",
              "      <td>0.086</td>\n",
              "      <td>0.083</td>\n",
              "      <td>0.269</td>\n",
              "      <td>-0.086</td>\n",
              "      <td>-0.021</td>\n",
              "      <td>-0.021</td>\n",
              "      <td>-0.377</td>\n",
              "      <td>0.287</td>\n",
              "      <td>0.366</td>\n",
              "      <td>-0.482</td>\n",
              "      <td>0.408</td>\n",
              "      <td>-0.147</td>\n",
              "      <td>-0.145</td>\n",
              "      <td>0.363</td>\n",
              "      <td>0.313</td>\n",
              "      <td>1.223</td>\n",
              "      <td>0.471</td>\n",
              "      <td>0.021</td>\n",
              "      <td>0.633</td>\n",
              "      <td>-0.150</td>\n",
              "      <td>0.541</td>\n",
              "      <td>0.772</td>\n",
              "    </tr>\n",
              "    <tr>\n",
              "      <th>4</th>\n",
              "      <td>-1.094</td>\n",
              "      <td>-0.148</td>\n",
              "      <td>0.000</td>\n",
              "      <td>0.000</td>\n",
              "      <td>0.539</td>\n",
              "      <td>-0.021</td>\n",
              "      <td>-0.021</td>\n",
              "      <td>0.116</td>\n",
              "      <td>-0.021</td>\n",
              "      <td>-0.147</td>\n",
              "      <td>0.198</td>\n",
              "      <td>-0.147</td>\n",
              "      <td>-0.147</td>\n",
              "      <td>-0.620</td>\n",
              "      <td>0.363</td>\n",
              "      <td>0.242</td>\n",
              "      <td>1.223</td>\n",
              "      <td>-0.047</td>\n",
              "      <td>-0.051</td>\n",
              "      <td>0.633</td>\n",
              "      <td>-0.188</td>\n",
              "      <td>-0.601</td>\n",
              "      <td>0.203</td>\n",
              "    </tr>\n",
              "  </tbody>\n",
              "</table>\n",
              "</div>"
            ],
            "text/plain": [
              "   ExternalRiskEstimate_bin_WOE  ...  PercentTradesWBalance_bin_WOE\n",
              "0                         1.799  ...                         -0.130\n",
              "1                         1.799  ...                         -0.982\n",
              "2                         1.017  ...                          0.203\n",
              "3                         1.017  ...                          0.772\n",
              "4                        -1.094  ...                          0.203\n",
              "\n",
              "[5 rows x 23 columns]"
            ]
          },
          "metadata": {
            "tags": []
          },
          "execution_count": 7
        }
      ]
    },
    {
      "cell_type": "code",
      "metadata": {
        "scrolled": true,
        "id": "t4RKC2XGNl7o",
        "colab": {
          "base_uri": "https://localhost:8080/"
        },
        "outputId": "f0fe8a09-df98-49d7-e669-5075eaca4f8e"
      },
      "source": [
        "# basic data preparation\n",
        "from sklearn.preprocessing import LabelEncoder\n",
        "from tensorflow.keras import preprocessing\n",
        "X = X1.astype('float32')\n",
        "y = LabelEncoder().fit_transform(y_onehot['Bad'].astype('int8'))\n",
        "\n",
        "X_onehot_train, X_onehot_test, y_onehot_train, y_onehot_test, = \\\n",
        "train_test_split(X, y, test_size = .25, random_state = 2020, shuffle = True)\n",
        "print(X_onehot_train.shape, X_onehot_test.shape, y_onehot_train.shape, y_onehot_test.shape)\n",
        "\n",
        "\n",
        "from autokeras import StructuredDataClassifier\n",
        "# define the search\n",
        "search = StructuredDataClassifier(max_trials=100,project_name=\"AKWOEdata\",)\n",
        "# perform the search\n",
        "search.fit(x=X_onehot_train, y=y_onehot_train, verbose=1)\n",
        "# evaluate the model\n",
        "# loss, acc = search.evaluate(X_onehot_test, y_onehot_test, verbose=1)"
      ],
      "execution_count": null,
      "outputs": [
        {
          "output_type": "stream",
          "text": [
            "Trial 1 Complete [00h 00m 21s]\n",
            "val_accuracy: 0.7136363387107849\n",
            "\n",
            "Best val_accuracy So Far: 0.7136363387107849\n",
            "Total elapsed time: 00h 00m 21s\n",
            "\n",
            "Search: Running Trial #2\n",
            "\n",
            "Hyperparameter    |Value             |Best Value So Far \n",
            "structured_data...|True              |True              \n",
            "structured_data...|False             |False             \n",
            "structured_data...|2                 |2                 \n",
            "structured_data...|32                |32                \n",
            "structured_data...|0                 |0                 \n",
            "structured_data...|32                |32                \n",
            "classification_...|0                 |0                 \n",
            "optimizer         |sgd               |adam              \n",
            "learning_rate     |0.001             |0.001             \n",
            "\n",
            "Epoch 1/1000\n",
            "197/197 [==============================] - 2s 7ms/step - loss: 0.6834 - accuracy: 0.5710 - val_loss: 0.6830 - val_accuracy: 0.5870\n",
            "Epoch 2/1000\n",
            "197/197 [==============================] - 1s 6ms/step - loss: 0.6764 - accuracy: 0.5807 - val_loss: 0.6759 - val_accuracy: 0.6006\n",
            "Epoch 3/1000\n",
            "197/197 [==============================] - 1s 6ms/step - loss: 0.6702 - accuracy: 0.5956 - val_loss: 0.6696 - val_accuracy: 0.6078\n",
            "Epoch 4/1000\n",
            "197/197 [==============================] - 1s 6ms/step - loss: 0.6646 - accuracy: 0.6178 - val_loss: 0.6640 - val_accuracy: 0.6188\n",
            "Epoch 5/1000\n",
            "197/197 [==============================] - 1s 6ms/step - loss: 0.6595 - accuracy: 0.6282 - val_loss: 0.6587 - val_accuracy: 0.6351\n",
            "Epoch 6/1000\n",
            "197/197 [==============================] - 1s 6ms/step - loss: 0.6546 - accuracy: 0.6412 - val_loss: 0.6537 - val_accuracy: 0.6494\n",
            "Epoch 7/1000\n",
            "197/197 [==============================] - 1s 6ms/step - loss: 0.6500 - accuracy: 0.6535 - val_loss: 0.6488 - val_accuracy: 0.6578\n",
            "Epoch 8/1000\n",
            "197/197 [==============================] - 1s 6ms/step - loss: 0.6456 - accuracy: 0.6592 - val_loss: 0.6442 - val_accuracy: 0.6597\n",
            "Epoch 9/1000\n",
            "197/197 [==============================] - 1s 6ms/step - loss: 0.6413 - accuracy: 0.6657 - val_loss: 0.6398 - val_accuracy: 0.6662\n",
            "Epoch 10/1000\n",
            "197/197 [==============================] - 1s 6ms/step - loss: 0.6372 - accuracy: 0.6723 - val_loss: 0.6356 - val_accuracy: 0.6688\n",
            "Epoch 11/1000\n",
            "197/197 [==============================] - 1s 6ms/step - loss: 0.6332 - accuracy: 0.6764 - val_loss: 0.6315 - val_accuracy: 0.6753\n",
            "Epoch 12/1000\n",
            "197/197 [==============================] - 1s 6ms/step - loss: 0.6294 - accuracy: 0.6820 - val_loss: 0.6276 - val_accuracy: 0.6792\n",
            "Epoch 13/1000\n",
            "197/197 [==============================] - 1s 6ms/step - loss: 0.6257 - accuracy: 0.6840 - val_loss: 0.6239 - val_accuracy: 0.6786\n",
            "Epoch 14/1000\n",
            "197/197 [==============================] - 1s 6ms/step - loss: 0.6223 - accuracy: 0.6848 - val_loss: 0.6204 - val_accuracy: 0.6825\n",
            "Epoch 15/1000\n",
            "197/197 [==============================] - 1s 6ms/step - loss: 0.6190 - accuracy: 0.6877 - val_loss: 0.6170 - val_accuracy: 0.6818\n",
            "Epoch 16/1000\n",
            "197/197 [==============================] - 1s 6ms/step - loss: 0.6158 - accuracy: 0.6900 - val_loss: 0.6138 - val_accuracy: 0.6792\n",
            "Epoch 17/1000\n",
            "197/197 [==============================] - 1s 6ms/step - loss: 0.6128 - accuracy: 0.6905 - val_loss: 0.6108 - val_accuracy: 0.6786\n",
            "Epoch 18/1000\n",
            "197/197 [==============================] - 1s 6ms/step - loss: 0.6100 - accuracy: 0.6925 - val_loss: 0.6079 - val_accuracy: 0.6799\n",
            "Epoch 19/1000\n",
            "197/197 [==============================] - 1s 6ms/step - loss: 0.6073 - accuracy: 0.6939 - val_loss: 0.6053 - val_accuracy: 0.6818\n",
            "Epoch 20/1000\n",
            "197/197 [==============================] - 1s 6ms/step - loss: 0.6048 - accuracy: 0.6951 - val_loss: 0.6028 - val_accuracy: 0.6838\n",
            "Epoch 21/1000\n",
            "197/197 [==============================] - 1s 6ms/step - loss: 0.6024 - accuracy: 0.6962 - val_loss: 0.6004 - val_accuracy: 0.6844\n",
            "Epoch 22/1000\n",
            "197/197 [==============================] - 1s 6ms/step - loss: 0.6001 - accuracy: 0.6949 - val_loss: 0.5982 - val_accuracy: 0.6870\n",
            "Epoch 23/1000\n",
            "197/197 [==============================] - 1s 6ms/step - loss: 0.5980 - accuracy: 0.6973 - val_loss: 0.5962 - val_accuracy: 0.6857\n",
            "Epoch 24/1000\n",
            "197/197 [==============================] - 1s 6ms/step - loss: 0.5960 - accuracy: 0.7003 - val_loss: 0.5943 - val_accuracy: 0.6890\n",
            "Epoch 25/1000\n",
            "197/197 [==============================] - 1s 6ms/step - loss: 0.5942 - accuracy: 0.7002 - val_loss: 0.5926 - val_accuracy: 0.6890\n",
            "Epoch 26/1000\n",
            "197/197 [==============================] - 1s 6ms/step - loss: 0.5925 - accuracy: 0.7008 - val_loss: 0.5910 - val_accuracy: 0.6903\n",
            "Epoch 27/1000\n",
            "197/197 [==============================] - 1s 6ms/step - loss: 0.5908 - accuracy: 0.7023 - val_loss: 0.5895 - val_accuracy: 0.6890\n",
            "Epoch 28/1000\n",
            "197/197 [==============================] - 1s 6ms/step - loss: 0.5893 - accuracy: 0.7026 - val_loss: 0.5881 - val_accuracy: 0.6909\n",
            "Epoch 29/1000\n",
            "197/197 [==============================] - 1s 6ms/step - loss: 0.5879 - accuracy: 0.7030 - val_loss: 0.5868 - val_accuracy: 0.6922\n",
            "Epoch 30/1000\n",
            "197/197 [==============================] - 1s 6ms/step - loss: 0.5866 - accuracy: 0.7037 - val_loss: 0.5856 - val_accuracy: 0.6929\n",
            "Epoch 31/1000\n",
            "197/197 [==============================] - 1s 6ms/step - loss: 0.5853 - accuracy: 0.7041 - val_loss: 0.5845 - val_accuracy: 0.6929\n",
            "Epoch 32/1000\n",
            "197/197 [==============================] - 1s 6ms/step - loss: 0.5842 - accuracy: 0.7054 - val_loss: 0.5835 - val_accuracy: 0.6929\n",
            "Epoch 33/1000\n",
            "197/197 [==============================] - 1s 6ms/step - loss: 0.5831 - accuracy: 0.7073 - val_loss: 0.5826 - val_accuracy: 0.6935\n",
            "Epoch 34/1000\n",
            "197/197 [==============================] - 1s 6ms/step - loss: 0.5821 - accuracy: 0.7069 - val_loss: 0.5817 - val_accuracy: 0.6942\n",
            "Epoch 35/1000\n",
            "197/197 [==============================] - 1s 6ms/step - loss: 0.5811 - accuracy: 0.7074 - val_loss: 0.5809 - val_accuracy: 0.6961\n",
            "Epoch 36/1000\n",
            "197/197 [==============================] - 1s 6ms/step - loss: 0.5802 - accuracy: 0.7078 - val_loss: 0.5802 - val_accuracy: 0.6968\n",
            "Epoch 37/1000\n",
            "197/197 [==============================] - 1s 6ms/step - loss: 0.5794 - accuracy: 0.7085 - val_loss: 0.5795 - val_accuracy: 0.6968\n",
            "Epoch 38/1000\n",
            "197/197 [==============================] - 1s 6ms/step - loss: 0.5786 - accuracy: 0.7089 - val_loss: 0.5788 - val_accuracy: 0.6961\n",
            "Epoch 39/1000\n",
            "197/197 [==============================] - 1s 6ms/step - loss: 0.5779 - accuracy: 0.7089 - val_loss: 0.5782 - val_accuracy: 0.6961\n",
            "Epoch 40/1000\n",
            "197/197 [==============================] - 1s 6ms/step - loss: 0.5772 - accuracy: 0.7086 - val_loss: 0.5776 - val_accuracy: 0.6961\n",
            "Epoch 41/1000\n",
            "197/197 [==============================] - 1s 6ms/step - loss: 0.5765 - accuracy: 0.7094 - val_loss: 0.5771 - val_accuracy: 0.6974\n",
            "Epoch 42/1000\n",
            "197/197 [==============================] - 1s 6ms/step - loss: 0.5759 - accuracy: 0.7103 - val_loss: 0.5766 - val_accuracy: 0.6987\n",
            "Epoch 43/1000\n",
            "197/197 [==============================] - 1s 6ms/step - loss: 0.5753 - accuracy: 0.7104 - val_loss: 0.5761 - val_accuracy: 0.6994\n",
            "Epoch 44/1000\n",
            "197/197 [==============================] - 1s 6ms/step - loss: 0.5747 - accuracy: 0.7104 - val_loss: 0.5757 - val_accuracy: 0.6994\n",
            "Epoch 45/1000\n",
            "197/197 [==============================] - 1s 6ms/step - loss: 0.5742 - accuracy: 0.7105 - val_loss: 0.5753 - val_accuracy: 0.6987\n",
            "Epoch 46/1000\n",
            "197/197 [==============================] - 1s 6ms/step - loss: 0.5737 - accuracy: 0.7114 - val_loss: 0.5749 - val_accuracy: 0.6974\n",
            "Epoch 47/1000\n",
            "197/197 [==============================] - 1s 6ms/step - loss: 0.5732 - accuracy: 0.7109 - val_loss: 0.5746 - val_accuracy: 0.6981\n",
            "Epoch 48/1000\n",
            "197/197 [==============================] - 1s 6ms/step - loss: 0.5727 - accuracy: 0.7111 - val_loss: 0.5742 - val_accuracy: 0.6974\n",
            "Epoch 49/1000\n",
            "197/197 [==============================] - 1s 6ms/step - loss: 0.5723 - accuracy: 0.7117 - val_loss: 0.5739 - val_accuracy: 0.6981\n",
            "Epoch 50/1000\n",
            "197/197 [==============================] - 1s 6ms/step - loss: 0.5718 - accuracy: 0.7121 - val_loss: 0.5736 - val_accuracy: 0.6987\n",
            "Epoch 51/1000\n",
            "197/197 [==============================] - 1s 6ms/step - loss: 0.5714 - accuracy: 0.7120 - val_loss: 0.5733 - val_accuracy: 0.6981\n",
            "Epoch 52/1000\n",
            "197/197 [==============================] - 1s 6ms/step - loss: 0.5710 - accuracy: 0.7124 - val_loss: 0.5730 - val_accuracy: 0.6974\n",
            "Epoch 53/1000\n",
            "197/197 [==============================] - 1s 6ms/step - loss: 0.5706 - accuracy: 0.7131 - val_loss: 0.5727 - val_accuracy: 0.6987\n",
            "Epoch 54/1000\n",
            "197/197 [==============================] - 1s 6ms/step - loss: 0.5702 - accuracy: 0.7138 - val_loss: 0.5725 - val_accuracy: 0.6994\n",
            "Epoch 55/1000\n",
            "197/197 [==============================] - 1s 6ms/step - loss: 0.5699 - accuracy: 0.7143 - val_loss: 0.5722 - val_accuracy: 0.6974\n",
            "Epoch 56/1000\n",
            "197/197 [==============================] - 1s 6ms/step - loss: 0.5695 - accuracy: 0.7133 - val_loss: 0.5720 - val_accuracy: 0.6981\n",
            "Epoch 57/1000\n",
            "197/197 [==============================] - 1s 6ms/step - loss: 0.5692 - accuracy: 0.7134 - val_loss: 0.5718 - val_accuracy: 0.6981\n",
            "Epoch 58/1000\n",
            "197/197 [==============================] - 1s 6ms/step - loss: 0.5689 - accuracy: 0.7138 - val_loss: 0.5715 - val_accuracy: 0.6981\n",
            "Epoch 59/1000\n",
            "197/197 [==============================] - 1s 6ms/step - loss: 0.5685 - accuracy: 0.7141 - val_loss: 0.5713 - val_accuracy: 0.6994\n",
            "Epoch 60/1000\n",
            "197/197 [==============================] - 1s 6ms/step - loss: 0.5682 - accuracy: 0.7144 - val_loss: 0.5711 - val_accuracy: 0.7000\n",
            "Epoch 61/1000\n",
            "197/197 [==============================] - 1s 6ms/step - loss: 0.5679 - accuracy: 0.7139 - val_loss: 0.5709 - val_accuracy: 0.7000\n",
            "Epoch 62/1000\n",
            "197/197 [==============================] - 1s 6ms/step - loss: 0.5676 - accuracy: 0.7136 - val_loss: 0.5708 - val_accuracy: 0.7006\n",
            "Epoch 63/1000\n",
            "197/197 [==============================] - 1s 6ms/step - loss: 0.5674 - accuracy: 0.7134 - val_loss: 0.5706 - val_accuracy: 0.7006\n",
            "Epoch 64/1000\n",
            "197/197 [==============================] - 1s 6ms/step - loss: 0.5671 - accuracy: 0.7138 - val_loss: 0.5704 - val_accuracy: 0.7013\n",
            "Epoch 65/1000\n",
            "197/197 [==============================] - 1s 6ms/step - loss: 0.5668 - accuracy: 0.7135 - val_loss: 0.5702 - val_accuracy: 0.7019\n",
            "Epoch 66/1000\n",
            "197/197 [==============================] - 1s 6ms/step - loss: 0.5665 - accuracy: 0.7134 - val_loss: 0.5701 - val_accuracy: 0.7013\n",
            "Epoch 67/1000\n",
            "197/197 [==============================] - 1s 6ms/step - loss: 0.5663 - accuracy: 0.7144 - val_loss: 0.5699 - val_accuracy: 0.7013\n",
            "Epoch 68/1000\n",
            "197/197 [==============================] - 1s 6ms/step - loss: 0.5660 - accuracy: 0.7148 - val_loss: 0.5698 - val_accuracy: 0.7019\n",
            "Epoch 69/1000\n",
            "197/197 [==============================] - 1s 6ms/step - loss: 0.5658 - accuracy: 0.7148 - val_loss: 0.5696 - val_accuracy: 0.7013\n",
            "Epoch 70/1000\n",
            "197/197 [==============================] - 1s 6ms/step - loss: 0.5656 - accuracy: 0.7148 - val_loss: 0.5695 - val_accuracy: 0.7019\n",
            "Epoch 71/1000\n",
            "197/197 [==============================] - 1s 6ms/step - loss: 0.5653 - accuracy: 0.7158 - val_loss: 0.5694 - val_accuracy: 0.7019\n",
            "Epoch 72/1000\n",
            "197/197 [==============================] - 1s 6ms/step - loss: 0.5651 - accuracy: 0.7156 - val_loss: 0.5692 - val_accuracy: 0.7019\n",
            "Epoch 73/1000\n",
            "197/197 [==============================] - 1s 6ms/step - loss: 0.5649 - accuracy: 0.7153 - val_loss: 0.5691 - val_accuracy: 0.7039\n",
            "Epoch 74/1000\n",
            "197/197 [==============================] - 1s 6ms/step - loss: 0.5647 - accuracy: 0.7152 - val_loss: 0.5690 - val_accuracy: 0.7039\n",
            "Epoch 75/1000\n",
            "197/197 [==============================] - 1s 6ms/step - loss: 0.5645 - accuracy: 0.7153 - val_loss: 0.5689 - val_accuracy: 0.7039\n",
            "Epoch 76/1000\n",
            "197/197 [==============================] - 1s 6ms/step - loss: 0.5643 - accuracy: 0.7156 - val_loss: 0.5688 - val_accuracy: 0.7039\n",
            "Epoch 77/1000\n",
            "197/197 [==============================] - 1s 6ms/step - loss: 0.5640 - accuracy: 0.7166 - val_loss: 0.5687 - val_accuracy: 0.7032\n",
            "Epoch 78/1000\n",
            "197/197 [==============================] - 1s 6ms/step - loss: 0.5638 - accuracy: 0.7169 - val_loss: 0.5686 - val_accuracy: 0.7039\n",
            "Epoch 79/1000\n",
            "197/197 [==============================] - 1s 6ms/step - loss: 0.5636 - accuracy: 0.7168 - val_loss: 0.5684 - val_accuracy: 0.7039\n",
            "Epoch 80/1000\n",
            "197/197 [==============================] - 1s 6ms/step - loss: 0.5634 - accuracy: 0.7175 - val_loss: 0.5683 - val_accuracy: 0.7032\n",
            "Epoch 81/1000\n",
            "197/197 [==============================] - 1s 6ms/step - loss: 0.5632 - accuracy: 0.7178 - val_loss: 0.5682 - val_accuracy: 0.7032\n",
            "Epoch 82/1000\n",
            "197/197 [==============================] - 1s 6ms/step - loss: 0.5631 - accuracy: 0.7180 - val_loss: 0.5682 - val_accuracy: 0.7032\n",
            "Epoch 83/1000\n",
            "197/197 [==============================] - 1s 6ms/step - loss: 0.5629 - accuracy: 0.7188 - val_loss: 0.5681 - val_accuracy: 0.7039\n",
            "Epoch 84/1000\n",
            "197/197 [==============================] - 1s 6ms/step - loss: 0.5627 - accuracy: 0.7188 - val_loss: 0.5680 - val_accuracy: 0.7032\n",
            "Epoch 85/1000\n",
            "197/197 [==============================] - 1s 6ms/step - loss: 0.5625 - accuracy: 0.7190 - val_loss: 0.5679 - val_accuracy: 0.7032\n",
            "Epoch 86/1000\n",
            "197/197 [==============================] - 1s 6ms/step - loss: 0.5623 - accuracy: 0.7190 - val_loss: 0.5678 - val_accuracy: 0.7032\n",
            "Epoch 87/1000\n",
            "197/197 [==============================] - 1s 6ms/step - loss: 0.5622 - accuracy: 0.7193 - val_loss: 0.5677 - val_accuracy: 0.7039\n",
            "Epoch 88/1000\n",
            "197/197 [==============================] - 1s 6ms/step - loss: 0.5620 - accuracy: 0.7197 - val_loss: 0.5677 - val_accuracy: 0.7026\n",
            "Epoch 89/1000\n",
            "197/197 [==============================] - 1s 6ms/step - loss: 0.5618 - accuracy: 0.7198 - val_loss: 0.5676 - val_accuracy: 0.7026\n",
            "Epoch 90/1000\n",
            "197/197 [==============================] - 1s 6ms/step - loss: 0.5617 - accuracy: 0.7197 - val_loss: 0.5675 - val_accuracy: 0.7026\n",
            "Epoch 91/1000\n",
            "197/197 [==============================] - 1s 6ms/step - loss: 0.5615 - accuracy: 0.7195 - val_loss: 0.5674 - val_accuracy: 0.7026\n",
            "Epoch 92/1000\n",
            "197/197 [==============================] - 1s 6ms/step - loss: 0.5614 - accuracy: 0.7198 - val_loss: 0.5674 - val_accuracy: 0.7026\n",
            "Epoch 93/1000\n",
            "197/197 [==============================] - 1s 6ms/step - loss: 0.5612 - accuracy: 0.7199 - val_loss: 0.5673 - val_accuracy: 0.7039\n",
            "Epoch 94/1000\n",
            "197/197 [==============================] - 1s 6ms/step - loss: 0.5610 - accuracy: 0.7201 - val_loss: 0.5672 - val_accuracy: 0.7039\n",
            "Epoch 95/1000\n",
            "197/197 [==============================] - 1s 6ms/step - loss: 0.5609 - accuracy: 0.7201 - val_loss: 0.5672 - val_accuracy: 0.7032\n",
            "Epoch 96/1000\n",
            "197/197 [==============================] - 1s 6ms/step - loss: 0.5607 - accuracy: 0.7200 - val_loss: 0.5671 - val_accuracy: 0.7039\n",
            "Epoch 97/1000\n",
            "197/197 [==============================] - 1s 6ms/step - loss: 0.5606 - accuracy: 0.7197 - val_loss: 0.5670 - val_accuracy: 0.7045\n",
            "Epoch 98/1000\n",
            "197/197 [==============================] - 1s 6ms/step - loss: 0.5605 - accuracy: 0.7188 - val_loss: 0.5670 - val_accuracy: 0.7039\n",
            "Epoch 99/1000\n",
            "197/197 [==============================] - 1s 6ms/step - loss: 0.5603 - accuracy: 0.7180 - val_loss: 0.5669 - val_accuracy: 0.7032\n",
            "Epoch 100/1000\n",
            "197/197 [==============================] - 1s 6ms/step - loss: 0.5602 - accuracy: 0.7180 - val_loss: 0.5668 - val_accuracy: 0.7045\n",
            "Epoch 101/1000\n",
            "197/197 [==============================] - 1s 6ms/step - loss: 0.5600 - accuracy: 0.7186 - val_loss: 0.5668 - val_accuracy: 0.7065\n",
            "Epoch 102/1000\n",
            "197/197 [==============================] - 1s 6ms/step - loss: 0.5599 - accuracy: 0.7191 - val_loss: 0.5667 - val_accuracy: 0.7058\n",
            "Epoch 103/1000\n",
            "197/197 [==============================] - 1s 6ms/step - loss: 0.5597 - accuracy: 0.7197 - val_loss: 0.5667 - val_accuracy: 0.7058\n",
            "Epoch 104/1000\n",
            "197/197 [==============================] - 1s 6ms/step - loss: 0.5596 - accuracy: 0.7196 - val_loss: 0.5666 - val_accuracy: 0.7052\n",
            "Epoch 105/1000\n",
            "197/197 [==============================] - 1s 6ms/step - loss: 0.5595 - accuracy: 0.7198 - val_loss: 0.5666 - val_accuracy: 0.7052\n",
            "Epoch 106/1000\n",
            "197/197 [==============================] - 1s 6ms/step - loss: 0.5593 - accuracy: 0.7200 - val_loss: 0.5665 - val_accuracy: 0.7052\n",
            "Epoch 107/1000\n",
            "197/197 [==============================] - 1s 6ms/step - loss: 0.5592 - accuracy: 0.7199 - val_loss: 0.5665 - val_accuracy: 0.7052\n",
            "Epoch 108/1000\n",
            "197/197 [==============================] - 1s 6ms/step - loss: 0.5591 - accuracy: 0.7199 - val_loss: 0.5664 - val_accuracy: 0.7052\n",
            "Epoch 109/1000\n",
            "197/197 [==============================] - 1s 6ms/step - loss: 0.5590 - accuracy: 0.7199 - val_loss: 0.5664 - val_accuracy: 0.7052\n",
            "Epoch 110/1000\n",
            "197/197 [==============================] - 1s 6ms/step - loss: 0.5588 - accuracy: 0.7197 - val_loss: 0.5663 - val_accuracy: 0.7058\n",
            "Epoch 111/1000\n",
            "197/197 [==============================] - 1s 6ms/step - loss: 0.5587 - accuracy: 0.7192 - val_loss: 0.5663 - val_accuracy: 0.7058\n",
            "Epoch 112/1000\n",
            "197/197 [==============================] - 1s 6ms/step - loss: 0.5586 - accuracy: 0.7192 - val_loss: 0.5662 - val_accuracy: 0.7058\n",
            "Epoch 113/1000\n",
            "197/197 [==============================] - 1s 6ms/step - loss: 0.5585 - accuracy: 0.7186 - val_loss: 0.5662 - val_accuracy: 0.7058\n",
            "Epoch 114/1000\n",
            "197/197 [==============================] - 1s 6ms/step - loss: 0.5583 - accuracy: 0.7186 - val_loss: 0.5661 - val_accuracy: 0.7058\n",
            "Epoch 115/1000\n",
            "197/197 [==============================] - 1s 6ms/step - loss: 0.5582 - accuracy: 0.7186 - val_loss: 0.5661 - val_accuracy: 0.7058\n",
            "Epoch 116/1000\n",
            "197/197 [==============================] - 1s 6ms/step - loss: 0.5581 - accuracy: 0.7194 - val_loss: 0.5660 - val_accuracy: 0.7045\n",
            "Epoch 117/1000\n",
            "197/197 [==============================] - 1s 6ms/step - loss: 0.5580 - accuracy: 0.7194 - val_loss: 0.5660 - val_accuracy: 0.7045\n",
            "Epoch 118/1000\n",
            "197/197 [==============================] - 1s 6ms/step - loss: 0.5579 - accuracy: 0.7196 - val_loss: 0.5660 - val_accuracy: 0.7052\n",
            "Epoch 119/1000\n",
            "197/197 [==============================] - 1s 6ms/step - loss: 0.5578 - accuracy: 0.7196 - val_loss: 0.5659 - val_accuracy: 0.7052\n",
            "Epoch 120/1000\n",
            "197/197 [==============================] - 1s 6ms/step - loss: 0.5576 - accuracy: 0.7199 - val_loss: 0.5659 - val_accuracy: 0.7052\n",
            "Epoch 121/1000\n",
            "197/197 [==============================] - 1s 6ms/step - loss: 0.5575 - accuracy: 0.7199 - val_loss: 0.5658 - val_accuracy: 0.7058\n",
            "Epoch 122/1000\n",
            "197/197 [==============================] - 1s 6ms/step - loss: 0.5574 - accuracy: 0.7200 - val_loss: 0.5658 - val_accuracy: 0.7065\n",
            "Epoch 123/1000\n",
            "197/197 [==============================] - 1s 6ms/step - loss: 0.5573 - accuracy: 0.7202 - val_loss: 0.5658 - val_accuracy: 0.7065\n",
            "Epoch 124/1000\n",
            "197/197 [==============================] - 1s 6ms/step - loss: 0.5572 - accuracy: 0.7200 - val_loss: 0.5657 - val_accuracy: 0.7058\n",
            "Epoch 125/1000\n",
            "197/197 [==============================] - 1s 6ms/step - loss: 0.5571 - accuracy: 0.7201 - val_loss: 0.5657 - val_accuracy: 0.7058\n",
            "Epoch 126/1000\n",
            "197/197 [==============================] - 1s 6ms/step - loss: 0.5570 - accuracy: 0.7201 - val_loss: 0.5656 - val_accuracy: 0.7058\n",
            "Epoch 127/1000\n",
            "197/197 [==============================] - 1s 6ms/step - loss: 0.5569 - accuracy: 0.7201 - val_loss: 0.5656 - val_accuracy: 0.7058\n",
            "Epoch 128/1000\n",
            "197/197 [==============================] - 1s 6ms/step - loss: 0.5568 - accuracy: 0.7204 - val_loss: 0.5656 - val_accuracy: 0.7058\n",
            "Epoch 129/1000\n",
            "197/197 [==============================] - 1s 6ms/step - loss: 0.5567 - accuracy: 0.7205 - val_loss: 0.5655 - val_accuracy: 0.7052\n",
            "Epoch 130/1000\n",
            "197/197 [==============================] - 1s 6ms/step - loss: 0.5566 - accuracy: 0.7205 - val_loss: 0.5655 - val_accuracy: 0.7052\n",
            "Epoch 131/1000\n",
            "197/197 [==============================] - 1s 6ms/step - loss: 0.5565 - accuracy: 0.7205 - val_loss: 0.5655 - val_accuracy: 0.7052\n",
            "Epoch 132/1000\n",
            "197/197 [==============================] - 1s 6ms/step - loss: 0.5564 - accuracy: 0.7194 - val_loss: 0.5654 - val_accuracy: 0.7045\n",
            "Epoch 133/1000\n",
            "197/197 [==============================] - 1s 6ms/step - loss: 0.5563 - accuracy: 0.7196 - val_loss: 0.5654 - val_accuracy: 0.7045\n",
            "Epoch 134/1000\n",
            "197/197 [==============================] - 1s 6ms/step - loss: 0.5562 - accuracy: 0.7195 - val_loss: 0.5654 - val_accuracy: 0.7045\n",
            "Epoch 135/1000\n",
            "197/197 [==============================] - 1s 7ms/step - loss: 0.5561 - accuracy: 0.7194 - val_loss: 0.5654 - val_accuracy: 0.7039\n",
            "Epoch 136/1000\n",
            "197/197 [==============================] - 1s 6ms/step - loss: 0.5560 - accuracy: 0.7191 - val_loss: 0.5653 - val_accuracy: 0.7039\n",
            "Epoch 137/1000\n",
            "197/197 [==============================] - 1s 6ms/step - loss: 0.5559 - accuracy: 0.7191 - val_loss: 0.5653 - val_accuracy: 0.7039\n",
            "Epoch 138/1000\n",
            "197/197 [==============================] - 1s 6ms/step - loss: 0.5558 - accuracy: 0.7197 - val_loss: 0.5653 - val_accuracy: 0.7039\n",
            "Epoch 139/1000\n",
            "197/197 [==============================] - 1s 6ms/step - loss: 0.5557 - accuracy: 0.7198 - val_loss: 0.5652 - val_accuracy: 0.7039\n",
            "Epoch 140/1000\n",
            "197/197 [==============================] - 1s 6ms/step - loss: 0.5556 - accuracy: 0.7198 - val_loss: 0.5652 - val_accuracy: 0.7039\n",
            "Epoch 141/1000\n",
            "197/197 [==============================] - 1s 6ms/step - loss: 0.5555 - accuracy: 0.7203 - val_loss: 0.5652 - val_accuracy: 0.7045\n",
            "Epoch 142/1000\n",
            "197/197 [==============================] - 1s 6ms/step - loss: 0.5554 - accuracy: 0.7205 - val_loss: 0.5652 - val_accuracy: 0.7045\n",
            "Epoch 143/1000\n",
            "197/197 [==============================] - 1s 6ms/step - loss: 0.5553 - accuracy: 0.7207 - val_loss: 0.5651 - val_accuracy: 0.7052\n",
            "Epoch 144/1000\n",
            "197/197 [==============================] - 1s 6ms/step - loss: 0.5552 - accuracy: 0.7211 - val_loss: 0.5651 - val_accuracy: 0.7052\n",
            "Epoch 145/1000\n",
            "197/197 [==============================] - 1s 6ms/step - loss: 0.5551 - accuracy: 0.7212 - val_loss: 0.5651 - val_accuracy: 0.7045\n",
            "Epoch 146/1000\n",
            "197/197 [==============================] - 1s 6ms/step - loss: 0.5550 - accuracy: 0.7216 - val_loss: 0.5651 - val_accuracy: 0.7052\n",
            "Epoch 147/1000\n",
            "197/197 [==============================] - 1s 6ms/step - loss: 0.5550 - accuracy: 0.7217 - val_loss: 0.5650 - val_accuracy: 0.7052\n",
            "Epoch 148/1000\n",
            "197/197 [==============================] - 1s 6ms/step - loss: 0.5549 - accuracy: 0.7217 - val_loss: 0.5650 - val_accuracy: 0.7052\n",
            "Epoch 149/1000\n",
            "197/197 [==============================] - 1s 6ms/step - loss: 0.5548 - accuracy: 0.7225 - val_loss: 0.5650 - val_accuracy: 0.7052\n",
            "Epoch 150/1000\n",
            "197/197 [==============================] - 1s 6ms/step - loss: 0.5547 - accuracy: 0.7223 - val_loss: 0.5649 - val_accuracy: 0.7052\n",
            "Epoch 151/1000\n",
            "197/197 [==============================] - 1s 6ms/step - loss: 0.5546 - accuracy: 0.7224 - val_loss: 0.5649 - val_accuracy: 0.7052\n",
            "Epoch 152/1000\n",
            "197/197 [==============================] - 1s 6ms/step - loss: 0.5545 - accuracy: 0.7225 - val_loss: 0.5649 - val_accuracy: 0.7052\n",
            "Epoch 153/1000\n",
            "197/197 [==============================] - 1s 6ms/step - loss: 0.5544 - accuracy: 0.7227 - val_loss: 0.5649 - val_accuracy: 0.7058\n",
            "Epoch 154/1000\n",
            "197/197 [==============================] - 1s 6ms/step - loss: 0.5543 - accuracy: 0.7226 - val_loss: 0.5649 - val_accuracy: 0.7058\n",
            "Epoch 155/1000\n",
            "197/197 [==============================] - 1s 6ms/step - loss: 0.5543 - accuracy: 0.7227 - val_loss: 0.5648 - val_accuracy: 0.7058\n",
            "Epoch 156/1000\n",
            "197/197 [==============================] - 1s 6ms/step - loss: 0.5542 - accuracy: 0.7227 - val_loss: 0.5648 - val_accuracy: 0.7058\n",
            "Epoch 157/1000\n",
            " 46/197 [======>.......................] - ETA: 0s - loss: 0.5620 - accuracy: 0.7162"
          ],
          "name": "stdout"
        }
      ]
    },
    {
      "cell_type": "code",
      "metadata": {
        "scrolled": true,
        "id": "4p3sX3NWNl7p",
        "outputId": "f823bcf5-1157-44be-a72b-bd4338a2f0d3"
      },
      "source": [
        "search.evaluate(X_onehot_test, y_onehot_test, verbose=1);"
      ],
      "execution_count": null,
      "outputs": [
        {
          "output_type": "stream",
          "text": [
            "WARNING:tensorflow:11 out of the last 11 calls to <function recreate_function.<locals>.restored_function_body at 0x000001A37924ED38> triggered tf.function retracing. Tracing is expensive and the excessive number of tracings could be due to (1) creating @tf.function repeatedly in a loop, (2) passing tensors with different shapes, (3) passing Python objects instead of tensors. For (1), please define your @tf.function outside of the loop. For (2), @tf.function has experimental_relax_shapes=True option that relaxes argument shapes that can avoid unnecessary retracing. For (3), please refer to https://www.tensorflow.org/guide/function#controlling_retracing and https://www.tensorflow.org/api_docs/python/tf/function for  more details.\n",
            "WARNING:tensorflow:11 out of the last 11 calls to <function recreate_function.<locals>.restored_function_body at 0x000001A3713E9D38> triggered tf.function retracing. Tracing is expensive and the excessive number of tracings could be due to (1) creating @tf.function repeatedly in a loop, (2) passing tensors with different shapes, (3) passing Python objects instead of tensors. For (1), please define your @tf.function outside of the loop. For (2), @tf.function has experimental_relax_shapes=True option that relaxes argument shapes that can avoid unnecessary retracing. For (3), please refer to https://www.tensorflow.org/guide/function#controlling_retracing and https://www.tensorflow.org/api_docs/python/tf/function for  more details.\n",
            "WARNING:tensorflow:11 out of the last 11 calls to <function recreate_function.<locals>.restored_function_body at 0x000001A3713D94C8> triggered tf.function retracing. Tracing is expensive and the excessive number of tracings could be due to (1) creating @tf.function repeatedly in a loop, (2) passing tensors with different shapes, (3) passing Python objects instead of tensors. For (1), please define your @tf.function outside of the loop. For (2), @tf.function has experimental_relax_shapes=True option that relaxes argument shapes that can avoid unnecessary retracing. For (3), please refer to https://www.tensorflow.org/guide/function#controlling_retracing and https://www.tensorflow.org/api_docs/python/tf/function for  more details.\n",
            "WARNING:tensorflow:11 out of the last 11 calls to <function recreate_function.<locals>.restored_function_body at 0x000001A37D811708> triggered tf.function retracing. Tracing is expensive and the excessive number of tracings could be due to (1) creating @tf.function repeatedly in a loop, (2) passing tensors with different shapes, (3) passing Python objects instead of tensors. For (1), please define your @tf.function outside of the loop. For (2), @tf.function has experimental_relax_shapes=True option that relaxes argument shapes that can avoid unnecessary retracing. For (3), please refer to https://www.tensorflow.org/guide/function#controlling_retracing and https://www.tensorflow.org/api_docs/python/tf/function for  more details.\n",
            "WARNING:tensorflow:11 out of the last 11 calls to <function recreate_function.<locals>.restored_function_body at 0x000001A3713E1708> triggered tf.function retracing. Tracing is expensive and the excessive number of tracings could be due to (1) creating @tf.function repeatedly in a loop, (2) passing tensors with different shapes, (3) passing Python objects instead of tensors. For (1), please define your @tf.function outside of the loop. For (2), @tf.function has experimental_relax_shapes=True option that relaxes argument shapes that can avoid unnecessary retracing. For (3), please refer to https://www.tensorflow.org/guide/function#controlling_retracing and https://www.tensorflow.org/api_docs/python/tf/function for  more details.\n",
            "WARNING:tensorflow:11 out of the last 11 calls to <function recreate_function.<locals>.restored_function_body at 0x000001A3734878B8> triggered tf.function retracing. Tracing is expensive and the excessive number of tracings could be due to (1) creating @tf.function repeatedly in a loop, (2) passing tensors with different shapes, (3) passing Python objects instead of tensors. For (1), please define your @tf.function outside of the loop. For (2), @tf.function has experimental_relax_shapes=True option that relaxes argument shapes that can avoid unnecessary retracing. For (3), please refer to https://www.tensorflow.org/guide/function#controlling_retracing and https://www.tensorflow.org/api_docs/python/tf/function for  more details.\n",
            "WARNING:tensorflow:11 out of the last 11 calls to <function recreate_function.<locals>.restored_function_body at 0x000001A3713FB048> triggered tf.function retracing. Tracing is expensive and the excessive number of tracings could be due to (1) creating @tf.function repeatedly in a loop, (2) passing tensors with different shapes, (3) passing Python objects instead of tensors. For (1), please define your @tf.function outside of the loop. For (2), @tf.function has experimental_relax_shapes=True option that relaxes argument shapes that can avoid unnecessary retracing. For (3), please refer to https://www.tensorflow.org/guide/function#controlling_retracing and https://www.tensorflow.org/api_docs/python/tf/function for  more details.\n",
            "WARNING:tensorflow:11 out of the last 11 calls to <function recreate_function.<locals>.restored_function_body at 0x000001A37D811A68> triggered tf.function retracing. Tracing is expensive and the excessive number of tracings could be due to (1) creating @tf.function repeatedly in a loop, (2) passing tensors with different shapes, (3) passing Python objects instead of tensors. For (1), please define your @tf.function outside of the loop. For (2), @tf.function has experimental_relax_shapes=True option that relaxes argument shapes that can avoid unnecessary retracing. For (3), please refer to https://www.tensorflow.org/guide/function#controlling_retracing and https://www.tensorflow.org/api_docs/python/tf/function for  more details.\n",
            "WARNING:tensorflow:11 out of the last 11 calls to <function recreate_function.<locals>.restored_function_body at 0x000001A37D811318> triggered tf.function retracing. Tracing is expensive and the excessive number of tracings could be due to (1) creating @tf.function repeatedly in a loop, (2) passing tensors with different shapes, (3) passing Python objects instead of tensors. For (1), please define your @tf.function outside of the loop. For (2), @tf.function has experimental_relax_shapes=True option that relaxes argument shapes that can avoid unnecessary retracing. For (3), please refer to https://www.tensorflow.org/guide/function#controlling_retracing and https://www.tensorflow.org/api_docs/python/tf/function for  more details.\n",
            "WARNING:tensorflow:11 out of the last 11 calls to <function recreate_function.<locals>.restored_function_body at 0x000001A3713EB678> triggered tf.function retracing. Tracing is expensive and the excessive number of tracings could be due to (1) creating @tf.function repeatedly in a loop, (2) passing tensors with different shapes, (3) passing Python objects instead of tensors. For (1), please define your @tf.function outside of the loop. For (2), @tf.function has experimental_relax_shapes=True option that relaxes argument shapes that can avoid unnecessary retracing. For (3), please refer to https://www.tensorflow.org/guide/function#controlling_retracing and https://www.tensorflow.org/api_docs/python/tf/function for  more details.\n",
            "WARNING:tensorflow:11 out of the last 11 calls to <function recreate_function.<locals>.restored_function_body at 0x000001A3713E9EE8> triggered tf.function retracing. Tracing is expensive and the excessive number of tracings could be due to (1) creating @tf.function repeatedly in a loop, (2) passing tensors with different shapes, (3) passing Python objects instead of tensors. For (1), please define your @tf.function outside of the loop. For (2), @tf.function has experimental_relax_shapes=True option that relaxes argument shapes that can avoid unnecessary retracing. For (3), please refer to https://www.tensorflow.org/guide/function#controlling_retracing and https://www.tensorflow.org/api_docs/python/tf/function for  more details.\n",
            "WARNING:tensorflow:11 out of the last 11 calls to <function recreate_function.<locals>.restored_function_body at 0x000001A3713D9DC8> triggered tf.function retracing. Tracing is expensive and the excessive number of tracings could be due to (1) creating @tf.function repeatedly in a loop, (2) passing tensors with different shapes, (3) passing Python objects instead of tensors. For (1), please define your @tf.function outside of the loop. For (2), @tf.function has experimental_relax_shapes=True option that relaxes argument shapes that can avoid unnecessary retracing. For (3), please refer to https://www.tensorflow.org/guide/function#controlling_retracing and https://www.tensorflow.org/api_docs/python/tf/function for  more details.\n",
            "WARNING:tensorflow:11 out of the last 11 calls to <function recreate_function.<locals>.restored_function_body at 0x000001A375BE85E8> triggered tf.function retracing. Tracing is expensive and the excessive number of tracings could be due to (1) creating @tf.function repeatedly in a loop, (2) passing tensors with different shapes, (3) passing Python objects instead of tensors. For (1), please define your @tf.function outside of the loop. For (2), @tf.function has experimental_relax_shapes=True option that relaxes argument shapes that can avoid unnecessary retracing. For (3), please refer to https://www.tensorflow.org/guide/function#controlling_retracing and https://www.tensorflow.org/api_docs/python/tf/function for  more details.\n",
            "WARNING:tensorflow:11 out of the last 11 calls to <function recreate_function.<locals>.restored_function_body at 0x000001A3713E9DC8> triggered tf.function retracing. Tracing is expensive and the excessive number of tracings could be due to (1) creating @tf.function repeatedly in a loop, (2) passing tensors with different shapes, (3) passing Python objects instead of tensors. For (1), please define your @tf.function outside of the loop. For (2), @tf.function has experimental_relax_shapes=True option that relaxes argument shapes that can avoid unnecessary retracing. For (3), please refer to https://www.tensorflow.org/guide/function#controlling_retracing and https://www.tensorflow.org/api_docs/python/tf/function for  more details.\n",
            "WARNING:tensorflow:11 out of the last 11 calls to <function recreate_function.<locals>.restored_function_body at 0x000001A3713EBA68> triggered tf.function retracing. Tracing is expensive and the excessive number of tracings could be due to (1) creating @tf.function repeatedly in a loop, (2) passing tensors with different shapes, (3) passing Python objects instead of tensors. For (1), please define your @tf.function outside of the loop. For (2), @tf.function has experimental_relax_shapes=True option that relaxes argument shapes that can avoid unnecessary retracing. For (3), please refer to https://www.tensorflow.org/guide/function#controlling_retracing and https://www.tensorflow.org/api_docs/python/tf/function for  more details.\n",
            "WARNING:tensorflow:11 out of the last 11 calls to <function recreate_function.<locals>.restored_function_body at 0x000001A37D829318> triggered tf.function retracing. Tracing is expensive and the excessive number of tracings could be due to (1) creating @tf.function repeatedly in a loop, (2) passing tensors with different shapes, (3) passing Python objects instead of tensors. For (1), please define your @tf.function outside of the loop. For (2), @tf.function has experimental_relax_shapes=True option that relaxes argument shapes that can avoid unnecessary retracing. For (3), please refer to https://www.tensorflow.org/guide/function#controlling_retracing and https://www.tensorflow.org/api_docs/python/tf/function for  more details.\n",
            "WARNING:tensorflow:11 out of the last 11 calls to <function recreate_function.<locals>.restored_function_body at 0x000001A375BE8A68> triggered tf.function retracing. Tracing is expensive and the excessive number of tracings could be due to (1) creating @tf.function repeatedly in a loop, (2) passing tensors with different shapes, (3) passing Python objects instead of tensors. For (1), please define your @tf.function outside of the loop. For (2), @tf.function has experimental_relax_shapes=True option that relaxes argument shapes that can avoid unnecessary retracing. For (3), please refer to https://www.tensorflow.org/guide/function#controlling_retracing and https://www.tensorflow.org/api_docs/python/tf/function for  more details.\n",
            "WARNING:tensorflow:11 out of the last 11 calls to <function recreate_function.<locals>.restored_function_body at 0x000001A375BE84C8> triggered tf.function retracing. Tracing is expensive and the excessive number of tracings could be due to (1) creating @tf.function repeatedly in a loop, (2) passing tensors with different shapes, (3) passing Python objects instead of tensors. For (1), please define your @tf.function outside of the loop. For (2), @tf.function has experimental_relax_shapes=True option that relaxes argument shapes that can avoid unnecessary retracing. For (3), please refer to https://www.tensorflow.org/guide/function#controlling_retracing and https://www.tensorflow.org/api_docs/python/tf/function for  more details.\n",
            "WARNING:tensorflow:11 out of the last 11 calls to <function recreate_function.<locals>.restored_function_body at 0x000001A37D829DC8> triggered tf.function retracing. Tracing is expensive and the excessive number of tracings could be due to (1) creating @tf.function repeatedly in a loop, (2) passing tensors with different shapes, (3) passing Python objects instead of tensors. For (1), please define your @tf.function outside of the loop. For (2), @tf.function has experimental_relax_shapes=True option that relaxes argument shapes that can avoid unnecessary retracing. For (3), please refer to https://www.tensorflow.org/guide/function#controlling_retracing and https://www.tensorflow.org/api_docs/python/tf/function for  more details.\n",
            "WARNING:tensorflow:11 out of the last 11 calls to <function recreate_function.<locals>.restored_function_body at 0x000001A373487F78> triggered tf.function retracing. Tracing is expensive and the excessive number of tracings could be due to (1) creating @tf.function repeatedly in a loop, (2) passing tensors with different shapes, (3) passing Python objects instead of tensors. For (1), please define your @tf.function outside of the loop. For (2), @tf.function has experimental_relax_shapes=True option that relaxes argument shapes that can avoid unnecessary retracing. For (3), please refer to https://www.tensorflow.org/guide/function#controlling_retracing and https://www.tensorflow.org/api_docs/python/tf/function for  more details.\n",
            "WARNING:tensorflow:11 out of the last 11 calls to <function recreate_function.<locals>.restored_function_body at 0x000001A375BF8318> triggered tf.function retracing. Tracing is expensive and the excessive number of tracings could be due to (1) creating @tf.function repeatedly in a loop, (2) passing tensors with different shapes, (3) passing Python objects instead of tensors. For (1), please define your @tf.function outside of the loop. For (2), @tf.function has experimental_relax_shapes=True option that relaxes argument shapes that can avoid unnecessary retracing. For (3), please refer to https://www.tensorflow.org/guide/function#controlling_retracing and https://www.tensorflow.org/api_docs/python/tf/function for  more details.\n",
            "WARNING:tensorflow:11 out of the last 11 calls to <function recreate_function.<locals>.restored_function_body at 0x000001A3713D9E58> triggered tf.function retracing. Tracing is expensive and the excessive number of tracings could be due to (1) creating @tf.function repeatedly in a loop, (2) passing tensors with different shapes, (3) passing Python objects instead of tensors. For (1), please define your @tf.function outside of the loop. For (2), @tf.function has experimental_relax_shapes=True option that relaxes argument shapes that can avoid unnecessary retracing. For (3), please refer to https://www.tensorflow.org/guide/function#controlling_retracing and https://www.tensorflow.org/api_docs/python/tf/function for  more details.\n",
            "WARNING:tensorflow:11 out of the last 11 calls to <function recreate_function.<locals>.restored_function_body at 0x000001A37924EC18> triggered tf.function retracing. Tracing is expensive and the excessive number of tracings could be due to (1) creating @tf.function repeatedly in a loop, (2) passing tensors with different shapes, (3) passing Python objects instead of tensors. For (1), please define your @tf.function outside of the loop. For (2), @tf.function has experimental_relax_shapes=True option that relaxes argument shapes that can avoid unnecessary retracing. For (3), please refer to https://www.tensorflow.org/guide/function#controlling_retracing and https://www.tensorflow.org/api_docs/python/tf/function for  more details.\n",
            "82/82 [==============================] - 0s 1ms/step - loss: 0.5710 - accuracy: 0.7059\n"
          ],
          "name": "stdout"
        }
      ]
    },
    {
      "cell_type": "code",
      "metadata": {
        "scrolled": true,
        "id": "6qlhmdWuNl7p",
        "outputId": "f3ad3496-dc20-49c6-c267-a743843f26f6"
      },
      "source": [
        "# get the best performing model\n",
        "model = search.export_model()\n",
        "# summarize the loaded model\n",
        "model.summary()"
      ],
      "execution_count": null,
      "outputs": [
        {
          "output_type": "stream",
          "text": [
            "WARNING:tensorflow:11 out of the last 11 calls to <function recreate_function.<locals>.restored_function_body at 0x000001A3031E7D38> triggered tf.function retracing. Tracing is expensive and the excessive number of tracings could be due to (1) creating @tf.function repeatedly in a loop, (2) passing tensors with different shapes, (3) passing Python objects instead of tensors. For (1), please define your @tf.function outside of the loop. For (2), @tf.function has experimental_relax_shapes=True option that relaxes argument shapes that can avoid unnecessary retracing. For (3), please refer to https://www.tensorflow.org/guide/function#controlling_retracing and https://www.tensorflow.org/api_docs/python/tf/function for  more details.\n",
            "WARNING:tensorflow:11 out of the last 11 calls to <function recreate_function.<locals>.restored_function_body at 0x000001A3031F0048> triggered tf.function retracing. Tracing is expensive and the excessive number of tracings could be due to (1) creating @tf.function repeatedly in a loop, (2) passing tensors with different shapes, (3) passing Python objects instead of tensors. For (1), please define your @tf.function outside of the loop. For (2), @tf.function has experimental_relax_shapes=True option that relaxes argument shapes that can avoid unnecessary retracing. For (3), please refer to https://www.tensorflow.org/guide/function#controlling_retracing and https://www.tensorflow.org/api_docs/python/tf/function for  more details.\n",
            "WARNING:tensorflow:11 out of the last 11 calls to <function recreate_function.<locals>.restored_function_body at 0x000001A3031FE4C8> triggered tf.function retracing. Tracing is expensive and the excessive number of tracings could be due to (1) creating @tf.function repeatedly in a loop, (2) passing tensors with different shapes, (3) passing Python objects instead of tensors. For (1), please define your @tf.function outside of the loop. For (2), @tf.function has experimental_relax_shapes=True option that relaxes argument shapes that can avoid unnecessary retracing. For (3), please refer to https://www.tensorflow.org/guide/function#controlling_retracing and https://www.tensorflow.org/api_docs/python/tf/function for  more details.\n",
            "WARNING:tensorflow:11 out of the last 11 calls to <function recreate_function.<locals>.restored_function_body at 0x000001A3031C7C18> triggered tf.function retracing. Tracing is expensive and the excessive number of tracings could be due to (1) creating @tf.function repeatedly in a loop, (2) passing tensors with different shapes, (3) passing Python objects instead of tensors. For (1), please define your @tf.function outside of the loop. For (2), @tf.function has experimental_relax_shapes=True option that relaxes argument shapes that can avoid unnecessary retracing. For (3), please refer to https://www.tensorflow.org/guide/function#controlling_retracing and https://www.tensorflow.org/api_docs/python/tf/function for  more details.\n",
            "WARNING:tensorflow:11 out of the last 11 calls to <function recreate_function.<locals>.restored_function_body at 0x000001A3031BC708> triggered tf.function retracing. Tracing is expensive and the excessive number of tracings could be due to (1) creating @tf.function repeatedly in a loop, (2) passing tensors with different shapes, (3) passing Python objects instead of tensors. For (1), please define your @tf.function outside of the loop. For (2), @tf.function has experimental_relax_shapes=True option that relaxes argument shapes that can avoid unnecessary retracing. For (3), please refer to https://www.tensorflow.org/guide/function#controlling_retracing and https://www.tensorflow.org/api_docs/python/tf/function for  more details.\n",
            "WARNING:tensorflow:11 out of the last 11 calls to <function recreate_function.<locals>.restored_function_body at 0x000001A3031F5708> triggered tf.function retracing. Tracing is expensive and the excessive number of tracings could be due to (1) creating @tf.function repeatedly in a loop, (2) passing tensors with different shapes, (3) passing Python objects instead of tensors. For (1), please define your @tf.function outside of the loop. For (2), @tf.function has experimental_relax_shapes=True option that relaxes argument shapes that can avoid unnecessary retracing. For (3), please refer to https://www.tensorflow.org/guide/function#controlling_retracing and https://www.tensorflow.org/api_docs/python/tf/function for  more details.\n",
            "WARNING:tensorflow:11 out of the last 11 calls to <function recreate_function.<locals>.restored_function_body at 0x000001A3031FA318> triggered tf.function retracing. Tracing is expensive and the excessive number of tracings could be due to (1) creating @tf.function repeatedly in a loop, (2) passing tensors with different shapes, (3) passing Python objects instead of tensors. For (1), please define your @tf.function outside of the loop. For (2), @tf.function has experimental_relax_shapes=True option that relaxes argument shapes that can avoid unnecessary retracing. For (3), please refer to https://www.tensorflow.org/guide/function#controlling_retracing and https://www.tensorflow.org/api_docs/python/tf/function for  more details.\n",
            "WARNING:tensorflow:11 out of the last 11 calls to <function recreate_function.<locals>.restored_function_body at 0x000001A30320CC18> triggered tf.function retracing. Tracing is expensive and the excessive number of tracings could be due to (1) creating @tf.function repeatedly in a loop, (2) passing tensors with different shapes, (3) passing Python objects instead of tensors. For (1), please define your @tf.function outside of the loop. For (2), @tf.function has experimental_relax_shapes=True option that relaxes argument shapes that can avoid unnecessary retracing. For (3), please refer to https://www.tensorflow.org/guide/function#controlling_retracing and https://www.tensorflow.org/api_docs/python/tf/function for  more details.\n",
            "WARNING:tensorflow:11 out of the last 11 calls to <function recreate_function.<locals>.restored_function_body at 0x000001A3031FE798> triggered tf.function retracing. Tracing is expensive and the excessive number of tracings could be due to (1) creating @tf.function repeatedly in a loop, (2) passing tensors with different shapes, (3) passing Python objects instead of tensors. For (1), please define your @tf.function outside of the loop. For (2), @tf.function has experimental_relax_shapes=True option that relaxes argument shapes that can avoid unnecessary retracing. For (3), please refer to https://www.tensorflow.org/guide/function#controlling_retracing and https://www.tensorflow.org/api_docs/python/tf/function for  more details.\n",
            "WARNING:tensorflow:11 out of the last 11 calls to <function recreate_function.<locals>.restored_function_body at 0x000001A3031E71F8> triggered tf.function retracing. Tracing is expensive and the excessive number of tracings could be due to (1) creating @tf.function repeatedly in a loop, (2) passing tensors with different shapes, (3) passing Python objects instead of tensors. For (1), please define your @tf.function outside of the loop. For (2), @tf.function has experimental_relax_shapes=True option that relaxes argument shapes that can avoid unnecessary retracing. For (3), please refer to https://www.tensorflow.org/guide/function#controlling_retracing and https://www.tensorflow.org/api_docs/python/tf/function for  more details.\n",
            "WARNING:tensorflow:11 out of the last 11 calls to <function recreate_function.<locals>.restored_function_body at 0x000001A3031F0798> triggered tf.function retracing. Tracing is expensive and the excessive number of tracings could be due to (1) creating @tf.function repeatedly in a loop, (2) passing tensors with different shapes, (3) passing Python objects instead of tensors. For (1), please define your @tf.function outside of the loop. For (2), @tf.function has experimental_relax_shapes=True option that relaxes argument shapes that can avoid unnecessary retracing. For (3), please refer to https://www.tensorflow.org/guide/function#controlling_retracing and https://www.tensorflow.org/api_docs/python/tf/function for  more details.\n",
            "WARNING:tensorflow:11 out of the last 11 calls to <function recreate_function.<locals>.restored_function_body at 0x000001A30321A318> triggered tf.function retracing. Tracing is expensive and the excessive number of tracings could be due to (1) creating @tf.function repeatedly in a loop, (2) passing tensors with different shapes, (3) passing Python objects instead of tensors. For (1), please define your @tf.function outside of the loop. For (2), @tf.function has experimental_relax_shapes=True option that relaxes argument shapes that can avoid unnecessary retracing. For (3), please refer to https://www.tensorflow.org/guide/function#controlling_retracing and https://www.tensorflow.org/api_docs/python/tf/function for  more details.\n",
            "WARNING:tensorflow:11 out of the last 11 calls to <function recreate_function.<locals>.restored_function_body at 0x000001A3031C74C8> triggered tf.function retracing. Tracing is expensive and the excessive number of tracings could be due to (1) creating @tf.function repeatedly in a loop, (2) passing tensors with different shapes, (3) passing Python objects instead of tensors. For (1), please define your @tf.function outside of the loop. For (2), @tf.function has experimental_relax_shapes=True option that relaxes argument shapes that can avoid unnecessary retracing. For (3), please refer to https://www.tensorflow.org/guide/function#controlling_retracing and https://www.tensorflow.org/api_docs/python/tf/function for  more details.\n",
            "WARNING:tensorflow:11 out of the last 11 calls to <function recreate_function.<locals>.restored_function_body at 0x000001A3031BCC18> triggered tf.function retracing. Tracing is expensive and the excessive number of tracings could be due to (1) creating @tf.function repeatedly in a loop, (2) passing tensors with different shapes, (3) passing Python objects instead of tensors. For (1), please define your @tf.function outside of the loop. For (2), @tf.function has experimental_relax_shapes=True option that relaxes argument shapes that can avoid unnecessary retracing. For (3), please refer to https://www.tensorflow.org/guide/function#controlling_retracing and https://www.tensorflow.org/api_docs/python/tf/function for  more details.\n",
            "WARNING:tensorflow:11 out of the last 11 calls to <function recreate_function.<locals>.restored_function_body at 0x000001A3031FECA8> triggered tf.function retracing. Tracing is expensive and the excessive number of tracings could be due to (1) creating @tf.function repeatedly in a loop, (2) passing tensors with different shapes, (3) passing Python objects instead of tensors. For (1), please define your @tf.function outside of the loop. For (2), @tf.function has experimental_relax_shapes=True option that relaxes argument shapes that can avoid unnecessary retracing. For (3), please refer to https://www.tensorflow.org/guide/function#controlling_retracing and https://www.tensorflow.org/api_docs/python/tf/function for  more details.\n",
            "WARNING:tensorflow:11 out of the last 11 calls to <function recreate_function.<locals>.restored_function_body at 0x000001A30321A8B8> triggered tf.function retracing. Tracing is expensive and the excessive number of tracings could be due to (1) creating @tf.function repeatedly in a loop, (2) passing tensors with different shapes, (3) passing Python objects instead of tensors. For (1), please define your @tf.function outside of the loop. For (2), @tf.function has experimental_relax_shapes=True option that relaxes argument shapes that can avoid unnecessary retracing. For (3), please refer to https://www.tensorflow.org/guide/function#controlling_retracing and https://www.tensorflow.org/api_docs/python/tf/function for  more details.\n",
            "WARNING:tensorflow:11 out of the last 11 calls to <function recreate_function.<locals>.restored_function_body at 0x000001A303233C18> triggered tf.function retracing. Tracing is expensive and the excessive number of tracings could be due to (1) creating @tf.function repeatedly in a loop, (2) passing tensors with different shapes, (3) passing Python objects instead of tensors. For (1), please define your @tf.function outside of the loop. For (2), @tf.function has experimental_relax_shapes=True option that relaxes argument shapes that can avoid unnecessary retracing. For (3), please refer to https://www.tensorflow.org/guide/function#controlling_retracing and https://www.tensorflow.org/api_docs/python/tf/function for  more details.\n",
            "WARNING:tensorflow:11 out of the last 11 calls to <function recreate_function.<locals>.restored_function_body at 0x000001A3032331F8> triggered tf.function retracing. Tracing is expensive and the excessive number of tracings could be due to (1) creating @tf.function repeatedly in a loop, (2) passing tensors with different shapes, (3) passing Python objects instead of tensors. For (1), please define your @tf.function outside of the loop. For (2), @tf.function has experimental_relax_shapes=True option that relaxes argument shapes that can avoid unnecessary retracing. For (3), please refer to https://www.tensorflow.org/guide/function#controlling_retracing and https://www.tensorflow.org/api_docs/python/tf/function for  more details.\n",
            "WARNING:tensorflow:11 out of the last 11 calls to <function recreate_function.<locals>.restored_function_body at 0x000001A3031F0678> triggered tf.function retracing. Tracing is expensive and the excessive number of tracings could be due to (1) creating @tf.function repeatedly in a loop, (2) passing tensors with different shapes, (3) passing Python objects instead of tensors. For (1), please define your @tf.function outside of the loop. For (2), @tf.function has experimental_relax_shapes=True option that relaxes argument shapes that can avoid unnecessary retracing. For (3), please refer to https://www.tensorflow.org/guide/function#controlling_retracing and https://www.tensorflow.org/api_docs/python/tf/function for  more details.\n",
            "WARNING:tensorflow:11 out of the last 11 calls to <function recreate_function.<locals>.restored_function_body at 0x000001A30321A9D8> triggered tf.function retracing. Tracing is expensive and the excessive number of tracings could be due to (1) creating @tf.function repeatedly in a loop, (2) passing tensors with different shapes, (3) passing Python objects instead of tensors. For (1), please define your @tf.function outside of the loop. For (2), @tf.function has experimental_relax_shapes=True option that relaxes argument shapes that can avoid unnecessary retracing. For (3), please refer to https://www.tensorflow.org/guide/function#controlling_retracing and https://www.tensorflow.org/api_docs/python/tf/function for  more details.\n",
            "WARNING:tensorflow:11 out of the last 11 calls to <function recreate_function.<locals>.restored_function_body at 0x000001A3031E7168> triggered tf.function retracing. Tracing is expensive and the excessive number of tracings could be due to (1) creating @tf.function repeatedly in a loop, (2) passing tensors with different shapes, (3) passing Python objects instead of tensors. For (1), please define your @tf.function outside of the loop. For (2), @tf.function has experimental_relax_shapes=True option that relaxes argument shapes that can avoid unnecessary retracing. For (3), please refer to https://www.tensorflow.org/guide/function#controlling_retracing and https://www.tensorflow.org/api_docs/python/tf/function for  more details.\n",
            "WARNING:tensorflow:11 out of the last 11 calls to <function recreate_function.<locals>.restored_function_body at 0x000001A3031E78B8> triggered tf.function retracing. Tracing is expensive and the excessive number of tracings could be due to (1) creating @tf.function repeatedly in a loop, (2) passing tensors with different shapes, (3) passing Python objects instead of tensors. For (1), please define your @tf.function outside of the loop. For (2), @tf.function has experimental_relax_shapes=True option that relaxes argument shapes that can avoid unnecessary retracing. For (3), please refer to https://www.tensorflow.org/guide/function#controlling_retracing and https://www.tensorflow.org/api_docs/python/tf/function for  more details.\n",
            "WARNING:tensorflow:11 out of the last 11 calls to <function recreate_function.<locals>.restored_function_body at 0x000001A30321A828> triggered tf.function retracing. Tracing is expensive and the excessive number of tracings could be due to (1) creating @tf.function repeatedly in a loop, (2) passing tensors with different shapes, (3) passing Python objects instead of tensors. For (1), please define your @tf.function outside of the loop. For (2), @tf.function has experimental_relax_shapes=True option that relaxes argument shapes that can avoid unnecessary retracing. For (3), please refer to https://www.tensorflow.org/guide/function#controlling_retracing and https://www.tensorflow.org/api_docs/python/tf/function for  more details.\n",
            "Model: \"model\"\n",
            "_________________________________________________________________\n",
            "Layer (type)                 Output Shape              Param #   \n",
            "=================================================================\n",
            "input_1 (InputLayer)         [(None, 23)]              0         \n",
            "_________________________________________________________________\n",
            "multi_category_encoding (Mul (None, 23)                0         \n",
            "_________________________________________________________________\n",
            "normalization (Normalization (None, 23)                47        \n",
            "_________________________________________________________________\n",
            "dense (Dense)                (None, 256)               6144      \n",
            "_________________________________________________________________\n",
            "re_lu (ReLU)                 (None, 256)               0         \n",
            "_________________________________________________________________\n",
            "dropout (Dropout)            (None, 256)               0         \n",
            "_________________________________________________________________\n",
            "dense_1 (Dense)              (None, 32)                8224      \n",
            "_________________________________________________________________\n",
            "re_lu_1 (ReLU)               (None, 32)                0         \n",
            "_________________________________________________________________\n",
            "dropout_1 (Dropout)          (None, 32)                0         \n",
            "_________________________________________________________________\n",
            "dropout_2 (Dropout)          (None, 32)                0         \n",
            "_________________________________________________________________\n",
            "dense_2 (Dense)              (None, 1)                 33        \n",
            "_________________________________________________________________\n",
            "classification_head_1 (Activ (None, 1)                 0         \n",
            "=================================================================\n",
            "Total params: 14,448\n",
            "Trainable params: 14,401\n",
            "Non-trainable params: 47\n",
            "_________________________________________________________________\n"
          ],
          "name": "stdout"
        }
      ]
    },
    {
      "cell_type": "code",
      "metadata": {
        "scrolled": true,
        "id": "zCGEvD14Nl7p",
        "outputId": "184cc709-3041-4ca4-cdea-a6924b3d2244"
      },
      "source": [
        "# save the best performing model to file\n",
        "model.save('model_WOE_auto',save_format='tf')"
      ],
      "execution_count": null,
      "outputs": [
        {
          "output_type": "stream",
          "text": [
            "INFO:tensorflow:Assets written to: model_WOE_auto\\assets\n"
          ],
          "name": "stdout"
        }
      ]
    },
    {
      "cell_type": "code",
      "metadata": {
        "scrolled": true,
        "id": "NZCaXEKzNl7p",
        "outputId": "3df05974-c277-4824-abd9-e347e5e7f1c8"
      },
      "source": [
        "# scores = model.evaluate(X_onehot_train.values, y_onehot_train)\n",
        "scores = model.evaluate(X_onehot_train, y_onehot_train, verbose=0)\n",
        "print(\"Training Set:\", \"\\n%s: %.2f%%\" % (model.metrics_names[1], scores[1]*100))\n",
        "\n",
        "# scores = model.evaluate(X_onehot_test.values, y_onehot_test)\n",
        "scores = model.evaluate(X_onehot_test, y_onehot_test, verbose = 0)\n",
        "print(\"Test Set:\", \"\\n%s: %.2f%%\" % (model.metrics_names[1], scores[1]*100))\n",
        "\n",
        "# confusion_matrix(y_onehot_test, model.predict_classes(X_onehot_test), sample_weight=None)"
      ],
      "execution_count": null,
      "outputs": [
        {
          "output_type": "stream",
          "text": [
            "Training Set: \n",
            "accuracy: 73.36%\n",
            "Test Set: \n",
            "accuracy: 70.59%\n"
          ],
          "name": "stdout"
        }
      ]
    }
  ]
}